{
 "cells": [
  {
   "cell_type": "markdown",
   "metadata": {},
   "source": [
    "# Project Details:\n",
    "\n",
    "* Title: Reboot: Box-Plots for Education\n",
    "* Team Members: **Ayesha Bhimdiwala**, Janaki Khatiwada, Sunanda Unni"
   ]
  },
  {
   "cell_type": "markdown",
   "metadata": {},
   "source": [
    "# Introduction\n",
    "\n",
    "The **Reboot: Box-Plots for Education** is a data science challenge sponsored by the Education Resource Strategies (ERS). It is an on-going competition which will end in February. \n",
    "\n",
    "In this project, we plan to solve a **multi-class-multi-label classification problem** with the goal of attaching canonical labels to the freeform text in budget line items. These labels let ERS understand how schools are spending money and tailor their strategy recommendations to improve outcomes for students, teachers, and administrators.\n",
    "\n",
    "\n"
   ]
  },
  {
   "cell_type": "markdown",
   "metadata": {},
   "source": [
    "##  Project Problem\n",
    "\n",
    "Predict the probability that a certain label from each target category is attached to a budget line item."
   ]
  },
  {
   "cell_type": "markdown",
   "metadata": {},
   "source": [
    "## Data  Description\n",
    "\n",
    "Train data set, \"train.csv\" has 25 features. Out of these, 2 are numerical and rest are categorical. Also out of 25, 9 are target features.\n",
    "\n",
    "Following are the features that will be used for building model and predicting probabilities.\n",
    "\n",
    "  *  FTE float - If an employee, the percentage of full-time that the employee works.\n",
    "  *  Facility_or_Department - If expenditure is tied to a department/facility, that department/facility.\n",
    "  *  Function_Description - A description of the function the expenditure was serving.\n",
    "  *  Fund_Description - A description of the source of the funds.\n",
    "  *  Job_Title_Description - If this is an employee, a description of that employee's job title.\n",
    "  *  Location_Description - A description of where the funds were spent.\n",
    "  *  Object_Description - A description of what the funds were used for.\n",
    "  *  Position_Extra - Any extra information about the position that we have.\n",
    "  *  Program_Description - A description of the program that the funds were used for.\n",
    "  *  SubFund_Description - More detail on Fund_Description\n",
    "  *  Sub_Object_Description - More detail on Object_Description\n",
    "  *  Text_1 - Any additional text supplied by the district.\n",
    "  *  Text_2 - Any additional text supplied by the district.\n",
    "  *  Text_3 - Any additional text supplied by the district.\n",
    "  *  Text_4 - Any additional text supplied by the district.\n",
    "  *  Total float - The total cost of the expenditure.\n",
    "\n",
    "And these are target features we have to predict probability for labeling each row.\n",
    "\n",
    "  *  Function\n",
    "  *  Object_Type\n",
    "  *  Operating_Status\n",
    "  *  Position_Type\n",
    "  *  Pre-K\n",
    "  *  Reporting\n",
    "  *  Sharing\n",
    "  *  Student_type\n",
    "  *  Use\n"
   ]
  },
  {
   "cell_type": "markdown",
   "metadata": {},
   "source": [
    "# ETL Phase"
   ]
  },
  {
   "cell_type": "markdown",
   "metadata": {},
   "source": [
    "## Prepare the notebook"
   ]
  },
  {
   "cell_type": "code",
   "execution_count": 1,
   "metadata": {
    "ExecuteTime": {
     "end_time": "2018-12-12T06:21:46.746612Z",
     "start_time": "2018-12-12T06:21:46.729946Z"
    }
   },
   "outputs": [],
   "source": [
    "import matplotlib.pyplot as plt\n",
    "import numpy as np\n",
    "import os\n",
    "import pandas as pd\n",
    "import sys\n",
    "import seaborn as sns\n",
    "import warnings\n",
    "warnings.simplefilter('ignore')\n",
    "\n",
    "from collections import Counter\n",
    "from scipy import sparse, stats\n",
    "from sklearn import preprocessing as prep\n",
    "\n",
    "from sklearn.base import BaseEstimator, TransformerMixin\n",
    "from sklearn.model_selection import train_test_split, GridSearchCV, ShuffleSplit, StratifiedKFold\n",
    "from sklearn.multioutput import MultiOutputClassifier\n",
    "from sklearn.feature_extraction import text\n",
    "from sklearn.feature_extraction.text import CountVectorizer\n",
    "from sklearn.feature_extraction.text import TfidfTransformer\n",
    "\n",
    "from sklearn.pipeline import FeatureUnion, Pipeline\n",
    "from sklearn.preprocessing import Imputer, LabelEncoder, MinMaxScaler, OneHotEncoder\n",
    "from sklearn.utils import check_array\n",
    "from time import time\n",
    "\n",
    "from sklearn.svm import LinearSVC\n",
    "from sklearn.linear_model import SGDClassifier\n",
    "from sklearn.ensemble import RandomForestClassifier\n",
    "\n",
    "#from fancyimpute import MICE\n",
    "from statsmodels.imputation.mice import MICEData as md\n",
    "%matplotlib inline   "
   ]
  },
  {
   "cell_type": "code",
   "execution_count": 2,
   "metadata": {
    "ExecuteTime": {
     "end_time": "2018-12-12T05:17:53.890456Z",
     "start_time": "2018-12-12T05:17:52.373617Z"
    }
   },
   "outputs": [
    {
     "name": "stdout",
     "output_type": "stream",
     "text": [
      "[nltk_data] Downloading package stopwords to /root/nltk_data...\n",
      "[nltk_data]   Unzipping corpora/stopwords.zip.\n"
     ]
    }
   ],
   "source": [
    "from sklearn.model_selection import train_test_split\n",
    "from sklearn.feature_extraction.text import TfidfVectorizer\n",
    "from sklearn.naive_bayes import MultinomialNB\n",
    "from sklearn.metrics import accuracy_score\n",
    "from sklearn.multiclass import OneVsRestClassifier\n",
    "\n",
    "import nltk\n",
    "nltk.download('stopwords')\n",
    "from nltk.corpus import stopwords\n",
    "stop_words = set(stopwords.words('english'))\n",
    "from sklearn.svm import LinearSVC\n",
    "from sklearn.linear_model import LogisticRegression\n",
    "from sklearn.pipeline import Pipeline\n",
    "import seaborn as sns\n",
    "\n",
    "import time"
   ]
  },
  {
   "cell_type": "code",
   "execution_count": 3,
   "metadata": {
    "ExecuteTime": {
     "end_time": "2018-12-12T05:18:09.849979Z",
     "start_time": "2018-12-12T05:18:09.845714Z"
    }
   },
   "outputs": [],
   "source": [
    "from MICE import MiceImputer\n",
    "import re\n",
    "from sklearn import preprocessing"
   ]
  },
  {
   "cell_type": "code",
   "execution_count": 4,
   "metadata": {
    "ExecuteTime": {
     "end_time": "2018-12-12T05:18:10.841464Z",
     "start_time": "2018-12-12T05:18:10.707020Z"
    }
   },
   "outputs": [
    {
     "name": "stdout",
     "output_type": "stream",
     "text": [
      "-rwxrwxrwx 1 1000 1000 124760056 Nov 10 22:05 \u001b[0m\u001b[01;32mdata/education_reboot/TrainingData.csv\u001b[0m*\r\n"
     ]
    }
   ],
   "source": [
    "%ls -l data/education_reboot/TrainingData.csv"
   ]
  },
  {
   "cell_type": "code",
   "execution_count": 5,
   "metadata": {
    "ExecuteTime": {
     "end_time": "2018-12-12T05:18:11.869279Z",
     "start_time": "2018-12-12T05:18:11.858663Z"
    }
   },
   "outputs": [
    {
     "data": {
      "text/plain": [
       "'data/education_reboot'"
      ]
     },
     "execution_count": 5,
     "metadata": {},
     "output_type": "execute_result"
    }
   ],
   "source": [
    "path = os.path.join('data','education_reboot') #make sure you have the same path in your parent directory\n",
    "path"
   ]
  },
  {
   "cell_type": "markdown",
   "metadata": {},
   "source": [
    "### Load the data"
   ]
  },
  {
   "cell_type": "code",
   "execution_count": 6,
   "metadata": {
    "ExecuteTime": {
     "end_time": "2018-12-12T05:18:15.068239Z",
     "start_time": "2018-12-12T05:18:15.064495Z"
    }
   },
   "outputs": [],
   "source": [
    "def load_data(datapath,data):\n",
    "    csv_path = os.path.join(datapath,data)\n",
    "    df = pd.read_csv(csv_path)\n",
    "    #df = pd.read_csv(csv_path,index_col=0)\n",
    "    \n",
    "  #  print(df.info())\n",
    "  #  display(df.head())\n",
    "  #  print()\n",
    "    return df"
   ]
  },
  {
   "cell_type": "code",
   "execution_count": 7,
   "metadata": {
    "ExecuteTime": {
     "end_time": "2018-12-12T05:18:17.844588Z",
     "start_time": "2018-12-12T05:18:15.575470Z"
    },
    "scrolled": true
   },
   "outputs": [],
   "source": [
    "train = load_data(path,\"TrainingData.csv\")\n",
    "train['index'] = train['Unnamed: 0']"
   ]
  },
  {
   "cell_type": "code",
   "execution_count": 9,
   "metadata": {
    "ExecuteTime": {
     "end_time": "2018-12-12T05:18:18.059782Z",
     "start_time": "2018-12-12T05:18:17.846382Z"
    }
   },
   "outputs": [
    {
     "data": {
      "text/html": [
       "<div>\n",
       "<style scoped>\n",
       "    .dataframe tbody tr th:only-of-type {\n",
       "        vertical-align: middle;\n",
       "    }\n",
       "\n",
       "    .dataframe tbody tr th {\n",
       "        vertical-align: top;\n",
       "    }\n",
       "\n",
       "    .dataframe thead th {\n",
       "        text-align: right;\n",
       "    }\n",
       "</style>\n",
       "<table border=\"1\" class=\"dataframe\">\n",
       "  <thead>\n",
       "    <tr style=\"text-align: right;\">\n",
       "      <th></th>\n",
       "      <th>Function</th>\n",
       "      <th>Use</th>\n",
       "      <th>Sharing</th>\n",
       "      <th>Reporting</th>\n",
       "      <th>Student_Type</th>\n",
       "      <th>Position_Type</th>\n",
       "      <th>Object_Type</th>\n",
       "      <th>Pre_K</th>\n",
       "      <th>Operating_Status</th>\n",
       "      <th>Object_Description</th>\n",
       "      <th>...</th>\n",
       "      <th>Location_Description</th>\n",
       "      <th>FTE</th>\n",
       "      <th>Function_Description</th>\n",
       "      <th>Facility_or_Department</th>\n",
       "      <th>Position_Extra</th>\n",
       "      <th>Total</th>\n",
       "      <th>Program_Description</th>\n",
       "      <th>Fund_Description</th>\n",
       "      <th>Text_1</th>\n",
       "      <th>index</th>\n",
       "    </tr>\n",
       "  </thead>\n",
       "  <tbody>\n",
       "    <tr>\n",
       "      <th>0</th>\n",
       "      <td>Teacher Compensation</td>\n",
       "      <td>Instruction</td>\n",
       "      <td>School Reported</td>\n",
       "      <td>School</td>\n",
       "      <td>NO_LABEL</td>\n",
       "      <td>Teacher</td>\n",
       "      <td>NO_LABEL</td>\n",
       "      <td>NO_LABEL</td>\n",
       "      <td>PreK-12 Operating</td>\n",
       "      <td>NaN</td>\n",
       "      <td>...</td>\n",
       "      <td>NaN</td>\n",
       "      <td>1.0</td>\n",
       "      <td>NaN</td>\n",
       "      <td>NaN</td>\n",
       "      <td>KINDERGARTEN</td>\n",
       "      <td>50471.810</td>\n",
       "      <td>KINDERGARTEN</td>\n",
       "      <td>General Fund</td>\n",
       "      <td>NaN</td>\n",
       "      <td>134338</td>\n",
       "    </tr>\n",
       "    <tr>\n",
       "      <th>1</th>\n",
       "      <td>NO_LABEL</td>\n",
       "      <td>NO_LABEL</td>\n",
       "      <td>NO_LABEL</td>\n",
       "      <td>NO_LABEL</td>\n",
       "      <td>NO_LABEL</td>\n",
       "      <td>NO_LABEL</td>\n",
       "      <td>NO_LABEL</td>\n",
       "      <td>NO_LABEL</td>\n",
       "      <td>Non-Operating</td>\n",
       "      <td>CONTRACTOR SERVICES</td>\n",
       "      <td>...</td>\n",
       "      <td>NaN</td>\n",
       "      <td>NaN</td>\n",
       "      <td>RGN  GOB</td>\n",
       "      <td>NaN</td>\n",
       "      <td>UNDESIGNATED</td>\n",
       "      <td>3477.860</td>\n",
       "      <td>BUILDING IMPROVEMENT SERVICES</td>\n",
       "      <td>NaN</td>\n",
       "      <td>BUILDING IMPROVEMENT SERVICES</td>\n",
       "      <td>206341</td>\n",
       "    </tr>\n",
       "    <tr>\n",
       "      <th>2</th>\n",
       "      <td>Teacher Compensation</td>\n",
       "      <td>Instruction</td>\n",
       "      <td>School Reported</td>\n",
       "      <td>School</td>\n",
       "      <td>Unspecified</td>\n",
       "      <td>Teacher</td>\n",
       "      <td>Base Salary/Compensation</td>\n",
       "      <td>Non PreK</td>\n",
       "      <td>PreK-12 Operating</td>\n",
       "      <td>Personal Services - Teachers</td>\n",
       "      <td>...</td>\n",
       "      <td>NaN</td>\n",
       "      <td>1.0</td>\n",
       "      <td>NaN</td>\n",
       "      <td>NaN</td>\n",
       "      <td>TEACHER</td>\n",
       "      <td>62237.130</td>\n",
       "      <td>Instruction - Regular</td>\n",
       "      <td>General Purpose School</td>\n",
       "      <td>NaN</td>\n",
       "      <td>326408</td>\n",
       "    </tr>\n",
       "    <tr>\n",
       "      <th>3</th>\n",
       "      <td>Substitute Compensation</td>\n",
       "      <td>Instruction</td>\n",
       "      <td>School Reported</td>\n",
       "      <td>School</td>\n",
       "      <td>Unspecified</td>\n",
       "      <td>Substitute</td>\n",
       "      <td>Benefits</td>\n",
       "      <td>NO_LABEL</td>\n",
       "      <td>PreK-12 Operating</td>\n",
       "      <td>EMPLOYEE BENEFITS</td>\n",
       "      <td>...</td>\n",
       "      <td>NaN</td>\n",
       "      <td>NaN</td>\n",
       "      <td>UNALLOC BUDGETS/SCHOOLS</td>\n",
       "      <td>NaN</td>\n",
       "      <td>PROFESSIONAL-INSTRUCTIONAL</td>\n",
       "      <td>22.300</td>\n",
       "      <td>GENERAL MIDDLE/JUNIOR HIGH SCH</td>\n",
       "      <td>NaN</td>\n",
       "      <td>REGULAR INSTRUCTION</td>\n",
       "      <td>364634</td>\n",
       "    </tr>\n",
       "    <tr>\n",
       "      <th>4</th>\n",
       "      <td>Substitute Compensation</td>\n",
       "      <td>Instruction</td>\n",
       "      <td>School Reported</td>\n",
       "      <td>School</td>\n",
       "      <td>Unspecified</td>\n",
       "      <td>Teacher</td>\n",
       "      <td>Substitute Compensation</td>\n",
       "      <td>NO_LABEL</td>\n",
       "      <td>PreK-12 Operating</td>\n",
       "      <td>TEACHER COVERAGE FOR TEACHER</td>\n",
       "      <td>...</td>\n",
       "      <td>NaN</td>\n",
       "      <td>NaN</td>\n",
       "      <td>NON-PROJECT</td>\n",
       "      <td>NaN</td>\n",
       "      <td>PROFESSIONAL-INSTRUCTIONAL</td>\n",
       "      <td>54.166</td>\n",
       "      <td>GENERAL HIGH SCHOOL EDUCATION</td>\n",
       "      <td>NaN</td>\n",
       "      <td>REGULAR INSTRUCTION</td>\n",
       "      <td>47683</td>\n",
       "    </tr>\n",
       "  </tbody>\n",
       "</table>\n",
       "<p>5 rows × 26 columns</p>\n",
       "</div>"
      ],
      "text/plain": [
       "                  Function          Use          Sharing Reporting  \\\n",
       "0     Teacher Compensation  Instruction  School Reported    School   \n",
       "1                 NO_LABEL     NO_LABEL         NO_LABEL  NO_LABEL   \n",
       "2     Teacher Compensation  Instruction  School Reported    School   \n",
       "3  Substitute Compensation  Instruction  School Reported    School   \n",
       "4  Substitute Compensation  Instruction  School Reported    School   \n",
       "\n",
       "  Student_Type Position_Type               Object_Type     Pre_K  \\\n",
       "0     NO_LABEL       Teacher                  NO_LABEL  NO_LABEL   \n",
       "1     NO_LABEL      NO_LABEL                  NO_LABEL  NO_LABEL   \n",
       "2  Unspecified       Teacher  Base Salary/Compensation  Non PreK   \n",
       "3  Unspecified    Substitute                  Benefits  NO_LABEL   \n",
       "4  Unspecified       Teacher   Substitute Compensation  NO_LABEL   \n",
       "\n",
       "    Operating_Status            Object_Description   ...    \\\n",
       "0  PreK-12 Operating                           NaN   ...     \n",
       "1      Non-Operating           CONTRACTOR SERVICES   ...     \n",
       "2  PreK-12 Operating  Personal Services - Teachers   ...     \n",
       "3  PreK-12 Operating             EMPLOYEE BENEFITS   ...     \n",
       "4  PreK-12 Operating  TEACHER COVERAGE FOR TEACHER   ...     \n",
       "\n",
       "  Location_Description  FTE     Function_Description Facility_or_Department  \\\n",
       "0                  NaN  1.0                      NaN                    NaN   \n",
       "1                  NaN  NaN                 RGN  GOB                    NaN   \n",
       "2                  NaN  1.0                      NaN                    NaN   \n",
       "3                  NaN  NaN  UNALLOC BUDGETS/SCHOOLS                    NaN   \n",
       "4                  NaN  NaN              NON-PROJECT                    NaN   \n",
       "\n",
       "               Position_Extra      Total             Program_Description  \\\n",
       "0               KINDERGARTEN   50471.810                    KINDERGARTEN   \n",
       "1                UNDESIGNATED   3477.860   BUILDING IMPROVEMENT SERVICES   \n",
       "2                     TEACHER  62237.130           Instruction - Regular   \n",
       "3  PROFESSIONAL-INSTRUCTIONAL     22.300  GENERAL MIDDLE/JUNIOR HIGH SCH   \n",
       "4  PROFESSIONAL-INSTRUCTIONAL     54.166   GENERAL HIGH SCHOOL EDUCATION   \n",
       "\n",
       "         Fund_Description                         Text_1   index  \n",
       "0            General Fund                            NaN  134338  \n",
       "1                     NaN  BUILDING IMPROVEMENT SERVICES  206341  \n",
       "2  General Purpose School                            NaN  326408  \n",
       "3                     NaN            REGULAR INSTRUCTION  364634  \n",
       "4                     NaN            REGULAR INSTRUCTION   47683  \n",
       "\n",
       "[5 rows x 26 columns]"
      ]
     },
     "execution_count": 9,
     "metadata": {},
     "output_type": "execute_result"
    }
   ],
   "source": [
    "train = train.drop('Unnamed: 0', axis = 1)\n",
    "train.head()"
   ]
  },
  {
   "cell_type": "code",
   "execution_count": 10,
   "metadata": {
    "ExecuteTime": {
     "end_time": "2018-12-12T05:18:18.180842Z",
     "start_time": "2018-12-12T05:18:18.063387Z"
    }
   },
   "outputs": [
    {
     "data": {
      "text/plain": [
       "(400277, 26)"
      ]
     },
     "execution_count": 10,
     "metadata": {},
     "output_type": "execute_result"
    }
   ],
   "source": [
    "train = train.drop_duplicates('index')\n",
    "train.shape"
   ]
  },
  {
   "cell_type": "markdown",
   "metadata": {},
   "source": [
    "Looking at the column names i.e. our features, we see there are **Two** numeric features, FTE and TOTAL.\n",
    "\n",
    "* FTE stands for full-time equivalent(0-100%). To elaborate, if a budget item is associated to an employee, then we have a value between 0 and 1. It tells us the percentage of full-time that the employee works. A value of 1 means the employee works full-time. A value close to 0 means the employee is working either part-time or on contract basis.\n",
    "\n",
    "* TOTAL stands for the total cost of the expenditure. It tells us how much the budget item costs.\n",
    "\n"
   ]
  },
  {
   "cell_type": "markdown",
   "metadata": {},
   "source": [
    "## Exploratory Data Analysis\n",
    "**Let's explore numeric variables further:**"
   ]
  },
  {
   "cell_type": "code",
   "execution_count": 9,
   "metadata": {
    "ExecuteTime": {
     "end_time": "2018-12-11T08:26:37.243719Z",
     "start_time": "2018-12-11T08:26:36.928327Z"
    },
    "scrolled": true
   },
   "outputs": [
    {
     "data": {
      "text/html": [
       "<div>\n",
       "<style scoped>\n",
       "    .dataframe tbody tr th:only-of-type {\n",
       "        vertical-align: middle;\n",
       "    }\n",
       "\n",
       "    .dataframe tbody tr th {\n",
       "        vertical-align: top;\n",
       "    }\n",
       "\n",
       "    .dataframe thead th {\n",
       "        text-align: right;\n",
       "    }\n",
       "</style>\n",
       "<table border=\"1\" class=\"dataframe\">\n",
       "  <thead>\n",
       "    <tr style=\"text-align: right;\">\n",
       "      <th></th>\n",
       "      <th>FTE</th>\n",
       "      <th>Total</th>\n",
       "      <th>index</th>\n",
       "    </tr>\n",
       "  </thead>\n",
       "  <tbody>\n",
       "    <tr>\n",
       "      <th>count</th>\n",
       "      <td>126071.000000</td>\n",
       "      <td>3.957220e+05</td>\n",
       "      <td>400277.000000</td>\n",
       "    </tr>\n",
       "    <tr>\n",
       "      <th>mean</th>\n",
       "      <td>0.426794</td>\n",
       "      <td>1.310586e+04</td>\n",
       "      <td>225186.018537</td>\n",
       "    </tr>\n",
       "    <tr>\n",
       "      <th>std</th>\n",
       "      <td>0.573576</td>\n",
       "      <td>3.682254e+05</td>\n",
       "      <td>130025.142718</td>\n",
       "    </tr>\n",
       "    <tr>\n",
       "      <th>min</th>\n",
       "      <td>-0.087551</td>\n",
       "      <td>-8.746631e+07</td>\n",
       "      <td>2.000000</td>\n",
       "    </tr>\n",
       "    <tr>\n",
       "      <th>25%</th>\n",
       "      <td>0.000792</td>\n",
       "      <td>7.379770e+01</td>\n",
       "      <td>112601.000000</td>\n",
       "    </tr>\n",
       "    <tr>\n",
       "      <th>50%</th>\n",
       "      <td>0.130927</td>\n",
       "      <td>4.612300e+02</td>\n",
       "      <td>225243.000000</td>\n",
       "    </tr>\n",
       "    <tr>\n",
       "      <th>75%</th>\n",
       "      <td>1.000000</td>\n",
       "      <td>3.652662e+03</td>\n",
       "      <td>337722.000000</td>\n",
       "    </tr>\n",
       "    <tr>\n",
       "      <th>max</th>\n",
       "      <td>46.800000</td>\n",
       "      <td>1.297000e+08</td>\n",
       "      <td>450340.000000</td>\n",
       "    </tr>\n",
       "  </tbody>\n",
       "</table>\n",
       "</div>"
      ],
      "text/plain": [
       "                 FTE         Total          index\n",
       "count  126071.000000  3.957220e+05  400277.000000\n",
       "mean        0.426794  1.310586e+04  225186.018537\n",
       "std         0.573576  3.682254e+05  130025.142718\n",
       "min        -0.087551 -8.746631e+07       2.000000\n",
       "25%         0.000792  7.379770e+01  112601.000000\n",
       "50%         0.130927  4.612300e+02  225243.000000\n",
       "75%         1.000000  3.652662e+03  337722.000000\n",
       "max        46.800000  1.297000e+08  450340.000000"
      ]
     },
     "execution_count": 9,
     "metadata": {},
     "output_type": "execute_result"
    }
   ],
   "source": [
    "train.describe()"
   ]
  },
  {
   "cell_type": "markdown",
   "metadata": {},
   "source": [
    "We see there are some negative values in the the numeric features. We would have to impute such missing or incorrect values as we cannot have a negative value associated with the percentage of full-time that the employee works or total cost of the expenditure."
   ]
  },
  {
   "cell_type": "code",
   "execution_count": 10,
   "metadata": {
    "ExecuteTime": {
     "end_time": "2018-12-11T08:26:46.874148Z",
     "start_time": "2018-12-11T08:26:45.918051Z"
    }
   },
   "outputs": [
    {
     "data": {
      "image/png": "[encoded data removed]",
      "text/plain": [
       "<Figure size 432x288 with 1 Axes>"
      ]
     },
     "metadata": {},
     "output_type": "display_data"
    }
   ],
   "source": [
    "plt.hist(train['FTE'].dropna(),range=[-0.1,1])\n",
    "plt.title('Distribution of %full-time \\n employee works')\n",
    "plt.xlabel('% of full-time')\n",
    "plt.ylabel('num employees')\n",
    "plt.show()"
   ]
  },
  {
   "cell_type": "markdown",
   "metadata": {},
   "source": [
    "From the above plot, we can see that our budgets data favors part-time and contract-based employees as we have more contract employees than full-time employees. \n",
    "\n",
    "We have 50k records with negative FTE. Ideally it shouldn’t be negative. This shows that a lot of positions are getting changed and thus resulting in **negative** values. Our strategy would be to normalizing it to 0.\n",
    "\n",
    "We can assume that contract-based employees are hired for a short-term purpose and that is why they need certain items more frequent than full-time employees who would have such items easily accessible. (NEED to INFER something!)"
   ]
  },
  {
   "cell_type": "markdown",
   "metadata": {},
   "source": [
    "### Distribution of Categorical Features\n",
    "\n",
    "Since this data set primarily consists of categorical features, it is very important to look at their distribution. The table below show unique values, count of features, top feature and frequency of top subcategory under each category."
   ]
  },
  {
   "cell_type": "code",
   "execution_count": 11,
   "metadata": {
    "ExecuteTime": {
     "end_time": "2018-12-11T08:26:55.243659Z",
     "start_time": "2018-12-11T08:26:52.714402Z"
    }
   },
   "outputs": [
    {
     "data": {
      "text/html": [
       "<div>\n",
       "<style scoped>\n",
       "    .dataframe tbody tr th:only-of-type {\n",
       "        vertical-align: middle;\n",
       "    }\n",
       "\n",
       "    .dataframe tbody tr th {\n",
       "        vertical-align: top;\n",
       "    }\n",
       "\n",
       "    .dataframe thead th {\n",
       "        text-align: right;\n",
       "    }\n",
       "</style>\n",
       "<table border=\"1\" class=\"dataframe\">\n",
       "  <thead>\n",
       "    <tr style=\"text-align: right;\">\n",
       "      <th></th>\n",
       "      <th>Function</th>\n",
       "      <th>Use</th>\n",
       "      <th>Sharing</th>\n",
       "      <th>Reporting</th>\n",
       "      <th>Student_Type</th>\n",
       "      <th>Position_Type</th>\n",
       "      <th>Object_Type</th>\n",
       "      <th>Pre_K</th>\n",
       "      <th>Operating_Status</th>\n",
       "      <th>Object_Description</th>\n",
       "      <th>...</th>\n",
       "      <th>Text_3</th>\n",
       "      <th>Text_4</th>\n",
       "      <th>Sub_Object_Description</th>\n",
       "      <th>Location_Description</th>\n",
       "      <th>Function_Description</th>\n",
       "      <th>Facility_or_Department</th>\n",
       "      <th>Position_Extra</th>\n",
       "      <th>Program_Description</th>\n",
       "      <th>Fund_Description</th>\n",
       "      <th>Text_1</th>\n",
       "    </tr>\n",
       "  </thead>\n",
       "  <tbody>\n",
       "    <tr>\n",
       "      <th>count</th>\n",
       "      <td>400277</td>\n",
       "      <td>400277</td>\n",
       "      <td>400277</td>\n",
       "      <td>400277</td>\n",
       "      <td>400277</td>\n",
       "      <td>400277</td>\n",
       "      <td>400277</td>\n",
       "      <td>400277</td>\n",
       "      <td>400277</td>\n",
       "      <td>375493</td>\n",
       "      <td>...</td>\n",
       "      <td>109152</td>\n",
       "      <td>53746</td>\n",
       "      <td>91603</td>\n",
       "      <td>162054</td>\n",
       "      <td>342195</td>\n",
       "      <td>53886</td>\n",
       "      <td>264764</td>\n",
       "      <td>304660</td>\n",
       "      <td>202877</td>\n",
       "      <td>292285</td>\n",
       "    </tr>\n",
       "    <tr>\n",
       "      <th>unique</th>\n",
       "      <td>37</td>\n",
       "      <td>8</td>\n",
       "      <td>5</td>\n",
       "      <td>3</td>\n",
       "      <td>9</td>\n",
       "      <td>25</td>\n",
       "      <td>11</td>\n",
       "      <td>3</td>\n",
       "      <td>3</td>\n",
       "      <td>602</td>\n",
       "      <td>...</td>\n",
       "      <td>34</td>\n",
       "      <td>244</td>\n",
       "      <td>182</td>\n",
       "      <td>354</td>\n",
       "      <td>687</td>\n",
       "      <td>179</td>\n",
       "      <td>580</td>\n",
       "      <td>421</td>\n",
       "      <td>141</td>\n",
       "      <td>1423</td>\n",
       "    </tr>\n",
       "    <tr>\n",
       "      <th>top</th>\n",
       "      <td>Teacher Compensation</td>\n",
       "      <td>Instruction</td>\n",
       "      <td>School Reported</td>\n",
       "      <td>School</td>\n",
       "      <td>Unspecified</td>\n",
       "      <td>Teacher</td>\n",
       "      <td>Base Salary/Compensation</td>\n",
       "      <td>NO_LABEL</td>\n",
       "      <td>PreK-12 Operating</td>\n",
       "      <td>EMPLOYEE BENEFITS</td>\n",
       "      <td>...</td>\n",
       "      <td>Regular</td>\n",
       "      <td>Regular Instruction</td>\n",
       "      <td>Extra Duty Pay/Overtime For Support Personnel</td>\n",
       "      <td>School</td>\n",
       "      <td>NON-PROJECT</td>\n",
       "      <td>All Campus Payroll</td>\n",
       "      <td>PROFESSIONAL-INSTRUCTIONAL</td>\n",
       "      <td>GENERAL ELEMENTARY EDUCATION</td>\n",
       "      <td>General Operating Fund</td>\n",
       "      <td>REGULAR INSTRUCTION</td>\n",
       "    </tr>\n",
       "    <tr>\n",
       "      <th>freq</th>\n",
       "      <td>86354</td>\n",
       "      <td>203608</td>\n",
       "      <td>254433</td>\n",
       "      <td>257258</td>\n",
       "      <td>223026</td>\n",
       "      <td>102788</td>\n",
       "      <td>97670</td>\n",
       "      <td>306425</td>\n",
       "      <td>343578</td>\n",
       "      <td>47495</td>\n",
       "      <td>...</td>\n",
       "      <td>94462</td>\n",
       "      <td>10762</td>\n",
       "      <td>9159</td>\n",
       "      <td>65524</td>\n",
       "      <td>76890</td>\n",
       "      <td>17697</td>\n",
       "      <td>92136</td>\n",
       "      <td>32829</td>\n",
       "      <td>33467</td>\n",
       "      <td>64896</td>\n",
       "    </tr>\n",
       "  </tbody>\n",
       "</table>\n",
       "<p>4 rows × 23 columns</p>\n",
       "</div>"
      ],
      "text/plain": [
       "                    Function          Use          Sharing Reporting  \\\n",
       "count                 400277       400277           400277    400277   \n",
       "unique                    37            8                5         3   \n",
       "top     Teacher Compensation  Instruction  School Reported    School   \n",
       "freq                   86354       203608           254433    257258   \n",
       "\n",
       "       Student_Type Position_Type               Object_Type     Pre_K  \\\n",
       "count        400277        400277                    400277    400277   \n",
       "unique            9            25                        11         3   \n",
       "top     Unspecified       Teacher  Base Salary/Compensation  NO_LABEL   \n",
       "freq         223026        102788                     97670    306425   \n",
       "\n",
       "         Operating_Status Object_Description         ...            Text_3  \\\n",
       "count              400277             375493         ...            109152   \n",
       "unique                  3                602         ...                34   \n",
       "top     PreK-12 Operating  EMPLOYEE BENEFITS         ...           Regular   \n",
       "freq               343578              47495         ...             94462   \n",
       "\n",
       "                     Text_4                         Sub_Object_Description  \\\n",
       "count                 53746                                          91603   \n",
       "unique                  244                                            182   \n",
       "top     Regular Instruction  Extra Duty Pay/Overtime For Support Personnel   \n",
       "freq                  10762                                           9159   \n",
       "\n",
       "       Location_Description Function_Description Facility_or_Department  \\\n",
       "count                162054               342195                  53886   \n",
       "unique                  354                  687                    179   \n",
       "top                 School           NON-PROJECT     All Campus Payroll   \n",
       "freq                  65524                76890                  17697   \n",
       "\n",
       "                    Position_Extra           Program_Description  \\\n",
       "count                       264764                        304660   \n",
       "unique                         580                           421   \n",
       "top     PROFESSIONAL-INSTRUCTIONAL  GENERAL ELEMENTARY EDUCATION   \n",
       "freq                         92136                         32829   \n",
       "\n",
       "              Fund_Description               Text_1  \n",
       "count                   202877               292285  \n",
       "unique                     141                 1423  \n",
       "top     General Operating Fund  REGULAR INSTRUCTION  \n",
       "freq                     33467                64896  \n",
       "\n",
       "[4 rows x 23 columns]"
      ]
     },
     "execution_count": 11,
     "metadata": {},
     "output_type": "execute_result"
    }
   ],
   "source": [
    "train.describe(include=['O'])"
   ]
  },
  {
   "cell_type": "markdown",
   "metadata": {},
   "source": [
    " Let us look at null values under each category"
   ]
  },
  {
   "cell_type": "code",
   "execution_count": 12,
   "metadata": {
    "ExecuteTime": {
     "end_time": "2018-12-11T08:27:36.769162Z",
     "start_time": "2018-12-11T08:27:35.877532Z"
    }
   },
   "outputs": [
    {
     "name": "stdout",
     "output_type": "stream",
     "text": [
      "Function                       0\n",
      "Use                            0\n",
      "Sharing                        0\n",
      "Reporting                      0\n",
      "Student_Type                   0\n",
      "Position_Type                  0\n",
      "Object_Type                    0\n",
      "Pre_K                          0\n",
      "Operating_Status               0\n",
      "Object_Description         24784\n",
      "Text_2                    312060\n",
      "SubFund_Description        93422\n",
      "Job_Title_Description     107534\n",
      "Text_3                    291125\n",
      "Text_4                    346531\n",
      "Sub_Object_Description    308674\n",
      "Location_Description      238223\n",
      "FTE                       274206\n",
      "Function_Description       58082\n",
      "Facility_or_Department    346391\n",
      "Position_Extra            135513\n",
      "Total                       4555\n",
      "Program_Description        95617\n",
      "Fund_Description          197400\n",
      "Text_1                    107992\n",
      "index                          0\n",
      "dtype: int64\n"
     ]
    }
   ],
   "source": [
    "print(train.isnull().sum())"
   ]
  },
  {
   "cell_type": "markdown",
   "metadata": {
    "ExecuteTime": {
     "end_time": "2018-11-07T22:08:50.044335Z",
     "start_time": "2018-11-07T22:08:50.038746Z"
    }
   },
   "source": [
    "Converting our Categorical columns datatype from object to categorical, as this will help in the future for pipeline"
   ]
  },
  {
   "cell_type": "code",
   "execution_count": 11,
   "metadata": {
    "ExecuteTime": {
     "end_time": "2018-12-11T18:22:34.820167Z",
     "start_time": "2018-12-11T18:22:34.810166Z"
    }
   },
   "outputs": [],
   "source": [
    "### post numerical pipeline changes need to check if we can remove these variables, \n",
    "### used 3 cells below\n",
    "\n",
    "cat_list = ['Function','Use','Sharing','Reporting','Student_Type','Position_Type','Object_Type',\n",
    "              'Pre_K','Operating_Status']"
   ]
  },
  {
   "cell_type": "code",
   "execution_count": 14,
   "metadata": {
    "ExecuteTime": {
     "end_time": "2018-12-11T08:27:47.106629Z",
     "start_time": "2018-12-11T08:27:47.096603Z"
    }
   },
   "outputs": [],
   "source": [
    "# cat_lab = lambda x: x.astype('category')\n",
    "\n",
    "# train[cat_list] = train[cat_list].apply(cat_lab,axis=0)\n",
    "\n",
    "# print(train.dtypes)"
   ]
  },
  {
   "cell_type": "code",
   "execution_count": 15,
   "metadata": {
    "ExecuteTime": {
     "end_time": "2018-12-11T08:29:06.204407Z",
     "start_time": "2018-12-11T08:29:06.184355Z"
    }
   },
   "outputs": [
    {
     "data": {
      "text/plain": [
       "8e-06"
      ]
     },
     "execution_count": 15,
     "metadata": {},
     "output_type": "execute_result"
    }
   ],
   "source": [
    "np.round(np.sum(train['Total'] < 0)/np.sum(train['Total']),6)"
   ]
  },
  {
   "cell_type": "markdown",
   "metadata": {},
   "source": [
    "So, we see that we have a small percent of negative budgets. Look’s good for now. Later we will impute them."
   ]
  },
  {
   "cell_type": "markdown",
   "metadata": {},
   "source": [
    "**Let's see the sub-categories of our target classes**"
   ]
  },
  {
   "cell_type": "code",
   "execution_count": 16,
   "metadata": {
    "ExecuteTime": {
     "end_time": "2018-12-11T08:29:57.088059Z",
     "start_time": "2018-12-11T08:29:56.369095Z"
    }
   },
   "outputs": [
    {
     "data": {
      "image/png": "[encoded data removed]",
      "text/plain": [
       "<Figure size 432x288 with 1 Axes>"
      ]
     },
     "metadata": {},
     "output_type": "display_data"
    }
   ],
   "source": [
    "import matplotlib.pyplot as plt\n",
    "\n",
    "uni_labels = train[cat_list].apply(pd.Series.nunique)\n",
    "\n",
    "uni_labels.plot(kind='bar')\n",
    "\n",
    "plt.xlabel('Labels')\n",
    "plt.ylabel('Number of unique values')\n",
    "plt.title('Number of sub-categories for each target class')\n",
    "\n",
    "plt.show()"
   ]
  },
  {
   "cell_type": "markdown",
   "metadata": {},
   "source": [
    "From the above plot, we see that Function and Position_Type have the highest number of sub-categories while the lowest number of sub-categories are 3 in Operating_Status, Pre_K, and Reporting."
   ]
  },
  {
   "cell_type": "code",
   "execution_count": 2,
   "metadata": {
    "ExecuteTime": {
     "end_time": "2019-01-16T04:49:29.884307Z",
     "start_time": "2019-01-16T04:49:29.881301Z"
    }
   },
   "outputs": [],
   "source": [
    "# Let's see if missing Total can be computed based on Job_Title_Description\n",
    "#average_total =train[['Total', 'Job_Title_Description']].groupby(['Job_Title_Description'], as_index = True).mean().sort_values(by = 'Total')"
   ]
  },
  {
   "cell_type": "markdown",
   "metadata": {},
   "source": [
    "Let us further explore how the Budget is distributed among different target class"
   ]
  },
  {
   "cell_type": "code",
   "execution_count": 18,
   "metadata": {
    "ExecuteTime": {
     "end_time": "2018-12-11T08:32:03.026723Z",
     "start_time": "2018-12-11T08:32:02.664241Z"
    }
   },
   "outputs": [
    {
     "data": {
      "text/plain": [
       "<function matplotlib.pyplot.show>"
      ]
     },
     "execution_count": 18,
     "metadata": {},
     "output_type": "execute_result"
    },
    {
     "data": {
      "image/png": "[encoded data removed]",
      "text/plain": [
       "<Figure size 720x576 with 1 Axes>"
      ]
     },
     "metadata": {},
     "output_type": "display_data"
    }
   ],
   "source": [
    "average_total=train[['Total', 'Operating_Status']].groupby(['Operating_Status'], as_index = True).mean().sort_values(by = 'Total')\n",
    "average_total.plot.bar(figsize = (10,8))\n",
    "plt.title('Distribution of Total along Operating_Status')\n",
    "plt.ylabel('Budget Spent')\n",
    "plt.show"
   ]
  },
  {
   "cell_type": "markdown",
   "metadata": {},
   "source": [
    "From the above plot we can see that our Budget is highly skewed to the Operating, Not PreK-12 sub-category compared to the rest of the sub-categories."
   ]
  },
  {
   "cell_type": "code",
   "execution_count": 19,
   "metadata": {
    "ExecuteTime": {
     "end_time": "2018-12-11T08:34:00.072678Z",
     "start_time": "2018-12-11T08:33:59.433730Z"
    }
   },
   "outputs": [
    {
     "data": {
      "text/plain": [
       "<function matplotlib.pyplot.show>"
      ]
     },
     "execution_count": 19,
     "metadata": {},
     "output_type": "execute_result"
    },
    {
     "data": {
      "image/png": "[encoded data removed]",
      "text/plain": [
       "<Figure size 720x576 with 1 Axes>"
      ]
     },
     "metadata": {},
     "output_type": "display_data"
    }
   ],
   "source": [
    "average_total=train[['Total', 'Object_Type']].groupby(['Object_Type'], as_index = True).mean().sort_values(by = 'Total')\n",
    "average_total.plot.bar(figsize = (10,8))\n",
    "plt.title('Distribution of Budget along Object_Type')\n",
    "plt.ylabel('Total')\n",
    "plt.show"
   ]
  },
  {
   "cell_type": "code",
   "execution_count": 20,
   "metadata": {
    "ExecuteTime": {
     "end_time": "2018-12-11T08:34:05.301552Z",
     "start_time": "2018-12-11T08:34:04.287013Z"
    }
   },
   "outputs": [
    {
     "data": {
      "text/plain": [
       "<function matplotlib.pyplot.show>"
      ]
     },
     "execution_count": 20,
     "metadata": {},
     "output_type": "execute_result"
    },
    {
     "data": {
      "image/png": "[encoded data removed]",
      "text/plain": [
       "<Figure size 720x576 with 1 Axes>"
      ]
     },
     "metadata": {},
     "output_type": "display_data"
    }
   ],
   "source": [
    "ave_total_func=train[['Total', 'Function']].groupby(['Function'], as_index = True).mean().sort_values(by = 'Total')\n",
    "ave_total_func.plot.bar(figsize= (10,8))\n",
    "plt.title('Distribution of Budget along Function')\n",
    "plt.ylabel('Total')\n",
    "plt.show"
   ]
  },
  {
   "cell_type": "markdown",
   "metadata": {},
   "source": [
    "From the above plot, we can see that most of the school budget is spent on the Insurance, Development & Fundraising, Utilities, and Legal activities. Among these, Utilities is the only one that may directly affect the student learning experience. We can see that curriculum development, extended time and tutoring have the least budget spent. \n",
    "ERS (our host), really needs to focus on guiding its financial partners to understand their budget spent. We say so, as our host wants to improve student and teacher outcomes as well. "
   ]
  },
  {
   "cell_type": "markdown",
   "metadata": {},
   "source": [
    "# Preparing the Code for ML algorithm"
   ]
  },
  {
   "cell_type": "markdown",
   "metadata": {},
   "source": [
    "## Supporting Classes"
   ]
  },
  {
   "cell_type": "markdown",
   "metadata": {},
   "source": [
    "### Multitrain test split\n"
   ]
  },
  {
   "cell_type": "markdown",
   "metadata": {},
   "source": [
    "Since we are dealing with a multilabel, multiclass situation, we are going to split our training data set in a multi-stratified way. By that we mean we want to make sure all of our sub-categories are present in train and test set. \n",
    "If we don't use this custom train-test-split, we may run into issues where our train data has never seen some of the sub-categories and we know that this cannot be the case because we are performing supervised learning."
   ]
  },
  {
   "cell_type": "code",
   "execution_count": 2,
   "metadata": {
    "ExecuteTime": {
     "end_time": "2018-12-13T04:49:09.499264Z",
     "start_time": "2018-12-13T04:49:08.796171Z"
    }
   },
   "outputs": [],
   "source": [
    "#source: https://github.com/drivendataorg/box-plots-sklearn/blob/master/src/data/multilabel.py\n",
    "from warnings import warn\n",
    "\n",
    "import numpy as np\n",
    "import pandas as pd\n",
    "\n",
    "def multilabel_sample(y, size=1000, min_count=5, seed=None):\n",
    "    \"\"\" Takes a matrix of binary labels `y` and returns\n",
    "        the indices for a sample of size `size` if\n",
    "        `size` > 1 or `size` * len(y) if size =< 1.\n",
    "        The sample is guaranteed to have > `min_count` of\n",
    "        each label.\n",
    "    \"\"\"\n",
    "    try:\n",
    "        if (np.unique(y).astype(int) != np.array([0, 1])).any():\n",
    "            raise ValueError()\n",
    "    except (TypeError, ValueError):\n",
    "        raise ValueError('multilabel_sample only works with binary indicator matrices')\n",
    "\n",
    "    if (y.sum(axis=0) < min_count).any():\n",
    "        raise ValueError('Some classes do not have enough examples. Change min_count if necessary.')\n",
    "\n",
    "    if size <= 1:\n",
    "        size = np.floor(y.shape[0] * size)\n",
    "\n",
    "    if y.shape[1] * min_count > size:\n",
    "        msg = \"Size less than number of columns * min_count, returning {} items instead of {}.\"\n",
    "        warn(msg.format(y.shape[1] * min_count, size))\n",
    "        size = y.shape[1] * min_count\n",
    "\n",
    "    rng = np.random.RandomState(seed if seed is not None else np.random.randint(1))\n",
    "\n",
    "    if isinstance(y, pd.DataFrame):\n",
    "        choices = y.index\n",
    "        y = y.values\n",
    "    else:\n",
    "        choices = np.arange(y.shape[0])\n",
    "\n",
    "    sample_idxs = np.array([], dtype=choices.dtype)\n",
    "\n",
    "    # first, guarantee > min_count of each label\n",
    "    for j in range(y.shape[1]):\n",
    "        label_choices = choices[y[:, j] == 1]\n",
    "        label_idxs_sampled = rng.choice(label_choices, size=min_count, replace=False)\n",
    "        sample_idxs = np.concatenate([label_idxs_sampled, sample_idxs])\n",
    "\n",
    "    sample_idxs = np.unique(sample_idxs)\n",
    "\n",
    "    # now that we have at least min_count of each, we can just random sample\n",
    "    sample_count = int(size - sample_idxs.shape[0])\n",
    "\n",
    "    # get sample_count indices from remaining choices\n",
    "    remaining_choices = np.setdiff1d(choices, sample_idxs)\n",
    "    remaining_sampled = rng.choice(remaining_choices,\n",
    "                                   size=sample_count,\n",
    "                                   replace=False)\n",
    "\n",
    "    return np.concatenate([sample_idxs, remaining_sampled])\n",
    "\n",
    "\n",
    "def multilabel_sample_dataframe(df, labels, size, min_count=5, seed=None):\n",
    "    \"\"\" Takes a dataframe `df` and returns a sample of size `size` where all\n",
    "        classes in the binary matrix `labels` are represented at\n",
    "        least `min_count` times.\n",
    "    \"\"\"\n",
    "    idxs = multilabel_sample(labels, size=size, min_count=min_count, seed=seed)\n",
    "    return df.loc[idxs]\n",
    "\n",
    "\n",
    "def multilabel_train_test_split(X, Y, size, min_count=5, seed=None):\n",
    "    \"\"\" Takes a features matrix `X` and a label matrix `Y` and\n",
    "        returns (X_train, X_test, Y_train, Y_test) where all\n",
    "        classes in Y are represented at least `min_count` times.\n",
    "    \"\"\"\n",
    "    index = Y.index if isinstance(Y, pd.DataFrame) else np.arange(Y.shape[0])\n",
    "\n",
    "    test_set_idxs = multilabel_sample(Y, size=size, min_count=min_count, seed=seed)\n",
    "    train_set_idxs = np.setdiff1d(index, test_set_idxs)\n",
    "\n",
    "    test_set_mask = index.isin(test_set_idxs)\n",
    "    train_set_mask = ~test_set_mask\n",
    "\n",
    "    return (X[train_set_mask], X[test_set_mask], Y[train_set_mask], Y[test_set_mask])\n"
   ]
  },
  {
   "cell_type": "markdown",
   "metadata": {
    "ExecuteTime": {
     "end_time": "2018-12-06T23:26:25.488178Z",
     "start_time": "2018-12-06T23:26:24.956209Z"
    }
   },
   "source": [
    "### DataFrameSelector class"
   ]
  },
  {
   "cell_type": "code",
   "execution_count": 13,
   "metadata": {
    "ExecuteTime": {
     "end_time": "2018-12-12T05:18:30.741526Z",
     "start_time": "2018-12-12T05:18:30.735851Z"
    }
   },
   "outputs": [],
   "source": [
    "class DataFrameSelector(BaseEstimator, TransformerMixin):\n",
    "    def __init__(self, attribute_names):\n",
    "        self.attribute_names = attribute_names\n",
    "    def fit(self, X, y=None):\n",
    "        return self\n",
    "    def transform(self, X):\n",
    "        return X[self.attribute_names].values "
   ]
  },
  {
   "cell_type": "markdown",
   "metadata": {},
   "source": [
    "### Numerical to Categorical class"
   ]
  },
  {
   "cell_type": "markdown",
   "metadata": {},
   "source": [
    "### Evaluate micro and macro scores"
   ]
  },
  {
   "cell_type": "code",
   "execution_count": 14,
   "metadata": {
    "ExecuteTime": {
     "end_time": "2018-12-12T05:18:34.069103Z",
     "start_time": "2018-12-12T05:18:34.060450Z"
    }
   },
   "outputs": [],
   "source": [
    "# Call Evaluate with parameters\n",
    "# test_labels :True value\n",
    "# predictions :Predicted value\n",
    "# Returns: 6 values : micro precision, micro recall, micro f1, macro precision, macro recall, macro f1\n",
    "from sklearn.metrics import f1_score, precision_score, recall_score\n",
    "#Multi-labels per example evaluation\n",
    "def evaluate(test_labels, predictions):\n",
    "    precision = np.round(precision_score(test_labels, predictions, average='micro'),3)\n",
    "    recall = np.round(recall_score(test_labels, predictions, average='micro'),3)\n",
    "    f1 = np.round(f1_score(test_labels, predictions, average='micro'),3)\n",
    "    print(\"Micro-average quality numbers\")\n",
    "    print(\"Precision: {:.3f}, Recall: {:.3f}, F1-measure: {:.3f}\".format(precision, recall, f1))\n",
    "\n",
    "    macro_precision = np.round(precision_score(test_labels, predictions, average='macro'),3)\n",
    "    macro_recall = np.round(recall_score(test_labels, predictions, average='macro'),3)\n",
    "    macro_f1 = np.round(f1_score(test_labels, predictions, average='macro'),3)\n",
    "\n",
    "    print(\"Macro-average quality numbers\")\n",
    "    print(\"Precision: {:.3f}, Recall: {:.3f}, F1-measure: {:.3f}\".format(macro_precision, macro_recall, macro_f1))\n",
    "    \n",
    "    return precision, recall, f1, macro_precision, macro_recall, macro_f1\n",
    "    \n"
   ]
  },
  {
   "cell_type": "markdown",
   "metadata": {},
   "source": [
    "### write_predict_tocsv - Creating Submission csv file"
   ]
  },
  {
   "cell_type": "code",
   "execution_count": 15,
   "metadata": {
    "ExecuteTime": {
     "end_time": "2018-12-12T05:18:37.278285Z",
     "start_time": "2018-12-12T05:18:37.274046Z"
    }
   },
   "outputs": [],
   "source": [
    "# This function converts prediction probability ndarray to a csv file\n",
    "def write_predict_tocsv(predict_array, csvfilename, columnname_list, index_array):\n",
    "    np_pred = np.array(predict_array)\n",
    "    np_pred_t = np_pred.T[1]\n",
    "    df = pd.DataFrame(np_pred_t, columns=columnname_list, index=index_array)    \n",
    "    df.to_csv(csvfilename)\n",
    "    \n",
    "    "
   ]
  },
  {
   "cell_type": "markdown",
   "metadata": {},
   "source": [
    "## Target feature Pipeline"
   ]
  },
  {
   "cell_type": "markdown",
   "metadata": {},
   "source": [
    "Our target feature should be as 104 categories to make predictions"
   ]
  },
  {
   "cell_type": "code",
   "execution_count": 16,
   "metadata": {
    "ExecuteTime": {
     "end_time": "2018-12-12T05:18:40.256008Z",
     "start_time": "2018-12-12T05:18:40.250867Z"
    },
    "scrolled": true
   },
   "outputs": [],
   "source": [
    "class TargetExpander(BaseEstimator, TransformerMixin):\n",
    "    def __init__(self, cat_list): \n",
    "        self.cat_list = cat_list\n",
    "        \n",
    "    def fit(self, X, y=None):\n",
    "        return self  # nothing else to do\n",
    "    \n",
    "    def transform(self, X):\n",
    "        self.X = pd.DataFrame(X, columns=self.cat_list,dtype=object)\n",
    "        self.X = pd.get_dummies(self.X[cat_list])\n",
    "        \n",
    "        #return np.array(self.X.values)\n",
    "        return self.X"
   ]
  },
  {
   "cell_type": "code",
   "execution_count": 17,
   "metadata": {
    "ExecuteTime": {
     "end_time": "2018-12-12T05:18:41.001945Z",
     "start_time": "2018-12-12T05:18:40.963432Z"
    },
    "scrolled": false
   },
   "outputs": [
    {
     "data": {
      "text/plain": [
       "Pipeline(memory=None,\n",
       "     steps=[('selector', DataFrameSelector(attribute_names=['Function', 'Use', 'Sharing', 'Reporting', 'Student_Type', 'Position_Type', 'Object_Type', 'Pre_K', 'Operating_Status'])), ('expand', TargetExpander(cat_list=['Function', 'Use', 'Sharing', 'Reporting', 'Student_Type', 'Position_Type', 'Object_Type', 'Pre_K', 'Operating_Status']))])"
      ]
     },
     "execution_count": 17,
     "metadata": {},
     "output_type": "execute_result"
    }
   ],
   "source": [
    "# use full pipeline above to build full pipeline with predictor\n",
    "cat_list = ['Function','Use','Sharing','Reporting','Student_Type','Position_Type','Object_Type',\n",
    "              'Pre_K','Operating_Status']\n",
    "target_pipeline =  Pipeline([\n",
    "        ('selector', DataFrameSelector(cat_list)),\n",
    "        ('expand', TargetExpander(cat_list))\n",
    "    ])\n",
    "\n",
    "target_pipeline.fit(train)"
   ]
  },
  {
   "cell_type": "markdown",
   "metadata": {},
   "source": [
    "* target_104_data is the target features, our 'y'."
   ]
  },
  {
   "cell_type": "code",
   "execution_count": 18,
   "metadata": {
    "ExecuteTime": {
     "end_time": "2018-12-12T05:18:44.776972Z",
     "start_time": "2018-12-12T05:18:44.353344Z"
    },
    "scrolled": true
   },
   "outputs": [
    {
     "data": {
      "text/html": [
       "<div>\n",
       "<style scoped>\n",
       "    .dataframe tbody tr th:only-of-type {\n",
       "        vertical-align: middle;\n",
       "    }\n",
       "\n",
       "    .dataframe tbody tr th {\n",
       "        vertical-align: top;\n",
       "    }\n",
       "\n",
       "    .dataframe thead th {\n",
       "        text-align: right;\n",
       "    }\n",
       "</style>\n",
       "<table border=\"1\" class=\"dataframe\">\n",
       "  <thead>\n",
       "    <tr style=\"text-align: right;\">\n",
       "      <th></th>\n",
       "      <th>Function_Aides Compensation</th>\n",
       "      <th>Function_Career &amp; Academic Counseling</th>\n",
       "      <th>Function_Communications</th>\n",
       "      <th>Function_Curriculum Development</th>\n",
       "      <th>Function_Data Processing &amp; Information Services</th>\n",
       "      <th>Function_Development &amp; Fundraising</th>\n",
       "      <th>Function_Enrichment</th>\n",
       "      <th>Function_Extended Time &amp; Tutoring</th>\n",
       "      <th>Function_Facilities &amp; Maintenance</th>\n",
       "      <th>Function_Facilities Planning</th>\n",
       "      <th>...</th>\n",
       "      <th>Object_Type_Rent/Utilities</th>\n",
       "      <th>Object_Type_Substitute Compensation</th>\n",
       "      <th>Object_Type_Supplies/Materials</th>\n",
       "      <th>Object_Type_Travel &amp; Conferences</th>\n",
       "      <th>Pre_K_NO_LABEL</th>\n",
       "      <th>Pre_K_Non PreK</th>\n",
       "      <th>Pre_K_PreK</th>\n",
       "      <th>Operating_Status_Non-Operating</th>\n",
       "      <th>Operating_Status_Operating, Not PreK-12</th>\n",
       "      <th>Operating_Status_PreK-12 Operating</th>\n",
       "    </tr>\n",
       "  </thead>\n",
       "  <tbody>\n",
       "    <tr>\n",
       "      <th>0</th>\n",
       "      <td>0</td>\n",
       "      <td>0</td>\n",
       "      <td>0</td>\n",
       "      <td>0</td>\n",
       "      <td>0</td>\n",
       "      <td>0</td>\n",
       "      <td>0</td>\n",
       "      <td>0</td>\n",
       "      <td>0</td>\n",
       "      <td>0</td>\n",
       "      <td>...</td>\n",
       "      <td>0</td>\n",
       "      <td>0</td>\n",
       "      <td>0</td>\n",
       "      <td>0</td>\n",
       "      <td>1</td>\n",
       "      <td>0</td>\n",
       "      <td>0</td>\n",
       "      <td>0</td>\n",
       "      <td>0</td>\n",
       "      <td>1</td>\n",
       "    </tr>\n",
       "    <tr>\n",
       "      <th>1</th>\n",
       "      <td>0</td>\n",
       "      <td>0</td>\n",
       "      <td>0</td>\n",
       "      <td>0</td>\n",
       "      <td>0</td>\n",
       "      <td>0</td>\n",
       "      <td>0</td>\n",
       "      <td>0</td>\n",
       "      <td>0</td>\n",
       "      <td>0</td>\n",
       "      <td>...</td>\n",
       "      <td>0</td>\n",
       "      <td>0</td>\n",
       "      <td>0</td>\n",
       "      <td>0</td>\n",
       "      <td>1</td>\n",
       "      <td>0</td>\n",
       "      <td>0</td>\n",
       "      <td>1</td>\n",
       "      <td>0</td>\n",
       "      <td>0</td>\n",
       "    </tr>\n",
       "    <tr>\n",
       "      <th>2</th>\n",
       "      <td>0</td>\n",
       "      <td>0</td>\n",
       "      <td>0</td>\n",
       "      <td>0</td>\n",
       "      <td>0</td>\n",
       "      <td>0</td>\n",
       "      <td>0</td>\n",
       "      <td>0</td>\n",
       "      <td>0</td>\n",
       "      <td>0</td>\n",
       "      <td>...</td>\n",
       "      <td>0</td>\n",
       "      <td>0</td>\n",
       "      <td>0</td>\n",
       "      <td>0</td>\n",
       "      <td>0</td>\n",
       "      <td>1</td>\n",
       "      <td>0</td>\n",
       "      <td>0</td>\n",
       "      <td>0</td>\n",
       "      <td>1</td>\n",
       "    </tr>\n",
       "    <tr>\n",
       "      <th>3</th>\n",
       "      <td>0</td>\n",
       "      <td>0</td>\n",
       "      <td>0</td>\n",
       "      <td>0</td>\n",
       "      <td>0</td>\n",
       "      <td>0</td>\n",
       "      <td>0</td>\n",
       "      <td>0</td>\n",
       "      <td>0</td>\n",
       "      <td>0</td>\n",
       "      <td>...</td>\n",
       "      <td>0</td>\n",
       "      <td>0</td>\n",
       "      <td>0</td>\n",
       "      <td>0</td>\n",
       "      <td>1</td>\n",
       "      <td>0</td>\n",
       "      <td>0</td>\n",
       "      <td>0</td>\n",
       "      <td>0</td>\n",
       "      <td>1</td>\n",
       "    </tr>\n",
       "    <tr>\n",
       "      <th>4</th>\n",
       "      <td>0</td>\n",
       "      <td>0</td>\n",
       "      <td>0</td>\n",
       "      <td>0</td>\n",
       "      <td>0</td>\n",
       "      <td>0</td>\n",
       "      <td>0</td>\n",
       "      <td>0</td>\n",
       "      <td>0</td>\n",
       "      <td>0</td>\n",
       "      <td>...</td>\n",
       "      <td>0</td>\n",
       "      <td>1</td>\n",
       "      <td>0</td>\n",
       "      <td>0</td>\n",
       "      <td>1</td>\n",
       "      <td>0</td>\n",
       "      <td>0</td>\n",
       "      <td>0</td>\n",
       "      <td>0</td>\n",
       "      <td>1</td>\n",
       "    </tr>\n",
       "  </tbody>\n",
       "</table>\n",
       "<p>5 rows × 104 columns</p>\n",
       "</div>"
      ],
      "text/plain": [
       "   Function_Aides Compensation  Function_Career & Academic Counseling  \\\n",
       "0                            0                                      0   \n",
       "1                            0                                      0   \n",
       "2                            0                                      0   \n",
       "3                            0                                      0   \n",
       "4                            0                                      0   \n",
       "\n",
       "   Function_Communications  Function_Curriculum Development  \\\n",
       "0                        0                                0   \n",
       "1                        0                                0   \n",
       "2                        0                                0   \n",
       "3                        0                                0   \n",
       "4                        0                                0   \n",
       "\n",
       "   Function_Data Processing & Information Services  \\\n",
       "0                                                0   \n",
       "1                                                0   \n",
       "2                                                0   \n",
       "3                                                0   \n",
       "4                                                0   \n",
       "\n",
       "   Function_Development & Fundraising  Function_Enrichment  \\\n",
       "0                                   0                    0   \n",
       "1                                   0                    0   \n",
       "2                                   0                    0   \n",
       "3                                   0                    0   \n",
       "4                                   0                    0   \n",
       "\n",
       "   Function_Extended Time & Tutoring  Function_Facilities & Maintenance  \\\n",
       "0                                  0                                  0   \n",
       "1                                  0                                  0   \n",
       "2                                  0                                  0   \n",
       "3                                  0                                  0   \n",
       "4                                  0                                  0   \n",
       "\n",
       "   Function_Facilities Planning                 ...                  \\\n",
       "0                             0                 ...                   \n",
       "1                             0                 ...                   \n",
       "2                             0                 ...                   \n",
       "3                             0                 ...                   \n",
       "4                             0                 ...                   \n",
       "\n",
       "   Object_Type_Rent/Utilities  Object_Type_Substitute Compensation  \\\n",
       "0                           0                                    0   \n",
       "1                           0                                    0   \n",
       "2                           0                                    0   \n",
       "3                           0                                    0   \n",
       "4                           0                                    1   \n",
       "\n",
       "   Object_Type_Supplies/Materials  Object_Type_Travel & Conferences  \\\n",
       "0                               0                                 0   \n",
       "1                               0                                 0   \n",
       "2                               0                                 0   \n",
       "3                               0                                 0   \n",
       "4                               0                                 0   \n",
       "\n",
       "   Pre_K_NO_LABEL  Pre_K_Non PreK  Pre_K_PreK  Operating_Status_Non-Operating  \\\n",
       "0               1               0           0                               0   \n",
       "1               1               0           0                               1   \n",
       "2               0               1           0                               0   \n",
       "3               1               0           0                               0   \n",
       "4               1               0           0                               0   \n",
       "\n",
       "   Operating_Status_Operating, Not PreK-12  Operating_Status_PreK-12 Operating  \n",
       "0                                        0                                   1  \n",
       "1                                        0                                   0  \n",
       "2                                        0                                   1  \n",
       "3                                        0                                   1  \n",
       "4                                        0                                   1  \n",
       "\n",
       "[5 rows x 104 columns]"
      ]
     },
     "execution_count": 18,
     "metadata": {},
     "output_type": "execute_result"
    }
   ],
   "source": [
    "target_104_data = target_pipeline.transform(train)\n",
    "target_104_data.head()"
   ]
  },
  {
   "cell_type": "markdown",
   "metadata": {},
   "source": [
    "# Splitting the data"
   ]
  },
  {
   "cell_type": "markdown",
   "metadata": {},
   "source": [
    "https://www.researchgate.net/post/Should_Indepenent_variables_be_more_than_the_dependent_variables\n"
   ]
  },
  {
   "cell_type": "code",
   "execution_count": 19,
   "metadata": {
    "ExecuteTime": {
     "end_time": "2018-12-12T05:20:28.260273Z",
     "start_time": "2018-12-12T05:20:26.649736Z"
    },
    "scrolled": true
   },
   "outputs": [],
   "source": [
    "X_train, X_other, y_train, y_other = multilabel_train_test_split(train,target_104_data,\n",
    "                                                               size=np.floor(len(target_104_data)* 0.5)\n",
    "                                                                 ,seed=143,\n",
    "                                                                min_count=10)"
   ]
  },
  {
   "cell_type": "code",
   "execution_count": 20,
   "metadata": {
    "ExecuteTime": {
     "end_time": "2018-12-12T05:20:29.122017Z",
     "start_time": "2018-12-12T05:20:28.262338Z"
    }
   },
   "outputs": [],
   "source": [
    "X_test, X_validate, y_test, y_validate = multilabel_train_test_split(X_other,y_other,\n",
    "                                                               size=np.floor(len(y_other)* 0.5),\n",
    "                                                            seed=143,\n",
    "                                                                min_count=10)"
   ]
  },
  {
   "cell_type": "code",
   "execution_count": 21,
   "metadata": {
    "ExecuteTime": {
     "end_time": "2018-12-12T05:20:29.128260Z",
     "start_time": "2018-12-12T05:20:29.123804Z"
    }
   },
   "outputs": [
    {
     "name": "stdout",
     "output_type": "stream",
     "text": [
      "(200139, 26)\n",
      "(100069, 26)\n",
      "(100069, 26)\n"
     ]
    }
   ],
   "source": [
    "print(X_train.shape)\n",
    "print(X_test.shape)\n",
    "print(X_validate.shape)"
   ]
  },
  {
   "cell_type": "markdown",
   "metadata": {},
   "source": [
    "#  Numerical Pipeline using MICE"
   ]
  },
  {
   "cell_type": "markdown",
   "metadata": {},
   "source": [
    "* To handle the null values in the numeric data, we had created a customized imputer function that was imputing the missing FTE and Total (Budget spent) based on sub-categories in our training set.\n",
    "* On some research, we found a code that is inspired by SKlearn statsmodel library, [MICE module](http://www.statsmodels.org/dev/imputation.html#).\n",
    "* [MICE.py](https://github.com/jeweinberg/Pandas-MICE) that we will implement in Phase 2 of our Final project."
   ]
  },
  {
   "cell_type": "markdown",
   "metadata": {},
   "source": [
    "MICE stands for Multiple Imputation with Chained Equations. We know that FTE and Total Budget are document specific, i.e. a full-time employee and a higher paid employee would not have the same role, designation, operation status, etc as a part-time employee hired on a contract basis. We cannot impute them by taking a mean or median of the entire dataset. Hence, we need a special imputation method that can use as much information as possible from the other features (independent variables) to impute depending on each document (employee) feature. "
   ]
  },
  {
   "cell_type": "markdown",
   "metadata": {},
   "source": [
    "## Wrapper for Imputation"
   ]
  },
  {
   "cell_type": "markdown",
   "metadata": {},
   "source": [
    "* Imputation using MICE and Scaled using MinMax"
   ]
  },
  {
   "cell_type": "code",
   "execution_count": 22,
   "metadata": {
    "ExecuteTime": {
     "end_time": "2018-12-12T05:46:52.461302Z",
     "start_time": "2018-12-12T05:46:52.451857Z"
    }
   },
   "outputs": [],
   "source": [
    "class SelfImputer(BaseEstimator, TransformerMixin):\n",
    "    def __init__(self, imputed_attrib_names, attrib_names, datatype, seed_strategy='most_frequent'):\n",
    "        ## seed_strategy : strategy for imputation, set to 'most_frequent' as default\n",
    "        ## imputed_attrib_name : columns which should be picked from the imputed data, here 'FTE' & 'TOTAL'. \n",
    "        ##                           Rest will be used for imputation however we should return the df \n",
    "        ##                               with only imputed_attrib_name columns changed\n",
    "        \n",
    "        self.imputed_attrib_names = imputed_attrib_names\n",
    "        self.attrib_names = attrib_names\n",
    "        self.seed_strategy = seed_strategy\n",
    "        self.datatype = datatype\n",
    "        ##self.attrib_names.append('index')\n",
    "    def fit(self, X, y=None):\n",
    "        return self\n",
    "    def transform(self, X):\n",
    "        # Create a copy of the input df to work with\n",
    "        self.X = pd.DataFrame(X, columns=self.attrib_names, dtype=object)\n",
    "        self.X.FTE = self.X.FTE.astype(float)\n",
    "        self.X.Total = self.X.Total.astype(float)\n",
    "        self.X['index'] = pd.to_numeric(self.X['index'])\n",
    "    \n",
    "        \n",
    "        #print(self.X.info())\n",
    "        #temporary df- need not remove if no time\n",
    "        self.X_imp = self.X.copy()\n",
    "        \n",
    "        mice_imp = MiceImputer(seed_strategy=self.seed_strategy)\n",
    "        le = preprocessing.LabelEncoder()\n",
    "        for column_name in self.X_imp.columns:\n",
    "            if self.X_imp[column_name].dtype == object:\n",
    "              #  removing characters other than alphabets\n",
    "                temp = self.X_imp[column_name].astype(str).map(lambda x: re.sub(r'\\W+', '', x))        \n",
    "                self.X_imp[column_name] = le.fit_transform(temp)\n",
    "            else:\n",
    "                pass\n",
    "        #print(self.X_imp.info())\n",
    "        #fit the model for imputation\n",
    "        # transform the copy of input df and imput missing \n",
    "        miced_data_in = mice_imp.fit(self.X_imp).transform(self.X_imp)\n",
    "        miced_data_np = MinMaxScaler().fit_transform(miced_data_in[['FTE','Total']])\n",
    "        miced_data = pd.DataFrame(miced_data_np,columns=['FTE','Total'])\n",
    "        miced_data['index'] = miced_data_in['index']\n",
    "        ## Reconstructing the input df with only the imputed_attrib_names columns changed\n",
    "        \n",
    "        self.X = self.X.drop(columns=self.imputed_attrib_names)#['FTE','Total'])  # drop 'FTE' and 'Total'\n",
    "       # print(self.X.info())\n",
    "        \n",
    "        self.imputed_attrib_names.append('index') # need to extract 'FTE', 'Total' and 'index' columns from imputed data\n",
    "        miced_data_subset = miced_data[self.imputed_attrib_names]#['FTE','Total','index']]\n",
    "        #print (miced_data_subset.info())\n",
    "        self.X = pd.merge(self.X,miced_data_subset,how='outer', on='index')\n",
    "        #print(self.X.head())\n",
    "        return miced_data_subset \n",
    "    "
   ]
  },
  {
   "cell_type": "markdown",
   "metadata": {},
   "source": [
    "\n",
    "## Create pipeline for MICE imputation"
   ]
  },
  {
   "cell_type": "code",
   "execution_count": 23,
   "metadata": {
    "ExecuteTime": {
     "end_time": "2018-12-12T05:45:47.543741Z",
     "start_time": "2018-12-12T05:45:47.537789Z"
    }
   },
   "outputs": [],
   "source": [
    "num_attribs = ['Object_Description','Text_2','SubFund_Description','Job_Title_Description',\n",
    "                      'Text_3','Text_4','Sub_Object_Description','Location_Description','FTE',\n",
    "                      'Function_Description','Facility_or_Department','Position_Extra','Total',\n",
    "                      'Program_Description','Fund_Description','Text_1','index']\n",
    "num_impute_attribs = ['FTE','Total']\n",
    "datatype = np.dtype([('Object_Description',object),('Text_2',object),('SubFund_Description',object),('Job_Title_Description',object),('Text_3',object),('Text_4',object),('Sub_Object_Description',object),('Location_Description',object),('FTE',float),('Function_Description',object),('Facility_or_Department',object),('Position_Extra',object),('Total',float),('Program_Description',object),('Fund_Description',object),('Text_1',object),('index',int)])\n",
    "\n",
    "num_impute_pipeline =  Pipeline([\n",
    "        ('selector', DataFrameSelector(num_attribs)),\n",
    "        ('imputer', SelfImputer(num_impute_attribs,num_attribs,datatype,seed_strategy=\"most_frequent\"))\n",
    "     ])\n"
   ]
  },
  {
   "cell_type": "markdown",
   "metadata": {},
   "source": [
    "## Test Numerical Imputer pipeline"
   ]
  },
  {
   "cell_type": "code",
   "execution_count": 24,
   "metadata": {
    "ExecuteTime": {
     "end_time": "2018-12-12T05:45:48.757407Z",
     "start_time": "2018-12-12T05:45:48.555210Z"
    }
   },
   "outputs": [
    {
     "data": {
      "text/plain": [
       "Pipeline(memory=None,\n",
       "     steps=[('selector', DataFrameSelector(attribute_names=['Object_Description', 'Text_2', 'SubFund_Description', 'Job_Title_Description', 'Text_3', 'Text_4', 'Sub_Object_Description', 'Location_Description', 'FTE', 'Function_Description', 'Facility_or_Department', 'Position_Extra', 'Total', 'Program_De...), ('index', '<i8')]),\n",
       "      imputed_attrib_names=['FTE', 'Total'], seed_strategy='most_frequent'))])"
      ]
     },
     "execution_count": 24,
     "metadata": {},
     "output_type": "execute_result"
    }
   ],
   "source": [
    "num_impute_pipeline.fit(X_train)"
   ]
  },
  {
   "cell_type": "code",
   "execution_count": 25,
   "metadata": {
    "ExecuteTime": {
     "end_time": "2018-12-12T05:45:58.253104Z",
     "start_time": "2018-12-12T05:45:49.562987Z"
    }
   },
   "outputs": [],
   "source": [
    "train_num_imp = num_impute_pipeline.transform(X_train)"
   ]
  },
  {
   "cell_type": "code",
   "execution_count": 26,
   "metadata": {
    "ExecuteTime": {
     "end_time": "2018-12-12T05:20:53.749179Z",
     "start_time": "2018-12-12T05:20:53.746306Z"
    }
   },
   "outputs": [],
   "source": [
    "# run only if column index not unique\n",
    "#X_test = X_test.drop_duplicates('index') "
   ]
  },
  {
   "cell_type": "code",
   "execution_count": 26,
   "metadata": {
    "ExecuteTime": {
     "end_time": "2018-12-12T05:46:15.168138Z",
     "start_time": "2018-12-12T05:46:10.492114Z"
    }
   },
   "outputs": [],
   "source": [
    "num_attribs = ['Object_Description','Text_2','SubFund_Description','Job_Title_Description',\n",
    "                      'Text_3','Text_4','Sub_Object_Description','Location_Description','FTE',\n",
    "                      'Function_Description','Facility_or_Department','Position_Extra','Total',\n",
    "                      'Program_Description','Fund_Description','Text_1','index']\n",
    "num_impute_attribs = ['FTE','Total']\n",
    "datatype = np.dtype([('Object_Description',object),('Text_2',object),('SubFund_Description',object),('Job_Title_Description',object),('Text_3',object),('Text_4',object),('Sub_Object_Description',object),('Location_Description',object),('FTE',float),('Function_Description',object),('Facility_or_Department',object),('Position_Extra',object),('Total',float),('Program_Description',object),('Fund_Description',object),('Text_1',object),('index',int)])\n",
    "\n",
    "num_impute_pipeline2 =  Pipeline([\n",
    "        ('selector', DataFrameSelector(num_attribs)),\n",
    "        ('imputer', SelfImputer(num_impute_attribs,num_attribs,datatype,seed_strategy=\"most_frequent\"))\n",
    "    ])\n",
    "\n",
    "num_impute_pipeline2.fit(X_test)\n",
    "test_num_imp = num_impute_pipeline2.transform(X_test)\n"
   ]
  },
  {
   "cell_type": "code",
   "execution_count": 27,
   "metadata": {
    "ExecuteTime": {
     "end_time": "2018-12-12T05:46:15.182586Z",
     "start_time": "2018-12-12T05:46:15.169946Z"
    }
   },
   "outputs": [
    {
     "data": {
      "text/html": [
       "<div>\n",
       "<style scoped>\n",
       "    .dataframe tbody tr th:only-of-type {\n",
       "        vertical-align: middle;\n",
       "    }\n",
       "\n",
       "    .dataframe tbody tr th {\n",
       "        vertical-align: top;\n",
       "    }\n",
       "\n",
       "    .dataframe thead th {\n",
       "        text-align: right;\n",
       "    }\n",
       "</style>\n",
       "<table border=\"1\" class=\"dataframe\">\n",
       "  <thead>\n",
       "    <tr style=\"text-align: right;\">\n",
       "      <th></th>\n",
       "      <th>FTE</th>\n",
       "      <th>Total</th>\n",
       "      <th>index</th>\n",
       "    </tr>\n",
       "  </thead>\n",
       "  <tbody>\n",
       "    <tr>\n",
       "      <th>0</th>\n",
       "      <td>0.036516</td>\n",
       "      <td>0.646563</td>\n",
       "      <td>134338</td>\n",
       "    </tr>\n",
       "    <tr>\n",
       "      <th>1</th>\n",
       "      <td>0.011385</td>\n",
       "      <td>0.646191</td>\n",
       "      <td>364634</td>\n",
       "    </tr>\n",
       "    <tr>\n",
       "      <th>2</th>\n",
       "      <td>0.018327</td>\n",
       "      <td>0.646205</td>\n",
       "      <td>417668</td>\n",
       "    </tr>\n",
       "    <tr>\n",
       "      <th>3</th>\n",
       "      <td>0.012095</td>\n",
       "      <td>0.646192</td>\n",
       "      <td>275539</td>\n",
       "    </tr>\n",
       "    <tr>\n",
       "      <th>4</th>\n",
       "      <td>0.027874</td>\n",
       "      <td>0.646190</td>\n",
       "      <td>330504</td>\n",
       "    </tr>\n",
       "  </tbody>\n",
       "</table>\n",
       "</div>"
      ],
      "text/plain": [
       "        FTE     Total   index\n",
       "0  0.036516  0.646563  134338\n",
       "1  0.011385  0.646191  364634\n",
       "2  0.018327  0.646205  417668\n",
       "3  0.012095  0.646192  275539\n",
       "4  0.027874  0.646190  330504"
      ]
     },
     "execution_count": 27,
     "metadata": {},
     "output_type": "execute_result"
    }
   ],
   "source": [
    "train_num_imp.head()"
   ]
  },
  {
   "cell_type": "markdown",
   "metadata": {},
   "source": [
    "# Categorical pipeline"
   ]
  },
  {
   "cell_type": "markdown",
   "metadata": {},
   "source": [
    "Create the additional column \"All\" joining all the Categorical columns "
   ]
  },
  {
   "cell_type": "markdown",
   "metadata": {},
   "source": [
    "## CategoricalImputer class for feature engineering"
   ]
  },
  {
   "cell_type": "code",
   "execution_count": 28,
   "metadata": {
    "ExecuteTime": {
     "end_time": "2018-12-12T05:47:21.209003Z",
     "start_time": "2018-12-12T05:47:21.202545Z"
    }
   },
   "outputs": [],
   "source": [
    "from sklearn.base import BaseEstimator, TransformerMixin\n",
    "from sklearn.utils import check_array\n",
    "from sklearn.preprocessing import LabelEncoder\n",
    "from scipy import sparse\n",
    "\n",
    "class CategoricalImputer(BaseEstimator, TransformerMixin):\n",
    "    \n",
    "    def __init__(self,cat_attribs):\n",
    "        self.cat_attribs = cat_attribs\n",
    "        return None\n",
    "    \n",
    "    def fit(self, X, y=None):\n",
    "        return self\n",
    "    \n",
    "    def transform(self, X, y=None):\n",
    "        self.X = pd.DataFrame(X, columns=self.cat_attribs, dtype=object)\n",
    "        self.X = self.X.apply(lambda x: x.str.strip() if x.dtype == \"object\" else x)\n",
    "        self.X['index'] = pd.to_numeric(self.X['index'])\n",
    "        #temporary df - not to remove unless we have time to test\n",
    "        #self.X_tmp = self.X.copy()\n",
    "        \n",
    "        All = self.X[self.X.drop(columns=['index']).columns].apply(lambda row: ' '.join(row.values.astype(str)), axis=1)\n",
    "        print(All.sort_index().head())\n",
    "        \n",
    "        self.X[\"All\"] = All\n",
    "        self.X = self.X[[\"All\", \"index\"]]\n",
    "        \n",
    "        return self.X\n",
    "        \n",
    "        "
   ]
  },
  {
   "cell_type": "markdown",
   "metadata": {},
   "source": [
    "## Creating the Categorical Pipeline"
   ]
  },
  {
   "cell_type": "code",
   "execution_count": 29,
   "metadata": {
    "ExecuteTime": {
     "end_time": "2018-12-12T05:47:23.568486Z",
     "start_time": "2018-12-12T05:47:23.564385Z"
    },
    "scrolled": true
   },
   "outputs": [],
   "source": [
    "from sklearn.feature_extraction.text import TfidfVectorizer\n",
    "cat_attribs = ['Object_Description','Text_2','SubFund_Description','Job_Title_Description',\n",
    "                      'Text_3','Text_4','Sub_Object_Description','Location_Description',#'FTE',\n",
    "                      'Function_Description','Facility_or_Department','Position_Extra',#'Total',\n",
    "                      'Program_Description','Fund_Description','Text_1','index'] \n",
    "cat_pipeline = Pipeline([\n",
    "            ('selector',DataFrameSelector(cat_attribs)),\n",
    "            ('imputer', CategoricalImputer(cat_attribs))\n",
    "            \n",
    "            ]\n",
    "            )"
   ]
  },
  {
   "cell_type": "markdown",
   "metadata": {},
   "source": [
    "### test CategoricalImputer"
   ]
  },
  {
   "cell_type": "code",
   "execution_count": 30,
   "metadata": {
    "ExecuteTime": {
     "end_time": "2018-12-12T05:47:26.964138Z",
     "start_time": "2018-12-12T05:47:26.762201Z"
    }
   },
   "outputs": [
    {
     "data": {
      "text/plain": [
       "Pipeline(memory=None,\n",
       "     steps=[('selector', DataFrameSelector(attribute_names=['Object_Description', 'Text_2', 'SubFund_Description', 'Job_Title_Description', 'Text_3', 'Text_4', 'Sub_Object_Description', 'Location_Description', 'Function_Description', 'Facility_or_Department', 'Position_Extra', 'Program_Description', 'Fun...y_or_Department', 'Position_Extra', 'Program_Description', 'Fund_Description', 'Text_1', 'index']))])"
      ]
     },
     "execution_count": 30,
     "metadata": {},
     "output_type": "execute_result"
    }
   ],
   "source": [
    "cat_pipeline.fit(X_train)"
   ]
  },
  {
   "cell_type": "code",
   "execution_count": 31,
   "metadata": {
    "ExecuteTime": {
     "end_time": "2018-12-12T05:47:33.187436Z",
     "start_time": "2018-12-12T05:47:28.226372Z"
    },
    "scrolled": false
   },
   "outputs": [
    {
     "name": "stdout",
     "output_type": "stream",
     "text": [
      "0    nan nan nan Teacher-Elementary nan nan nan nan...\n",
      "1    EMPLOYEE BENEFITS TEACHER SUBS GENERAL FUND Te...\n",
      "2    EDUCATIONAL SPECIAL EDUCATION INSTRUCTION LOCA...\n",
      "3    EMPLOYEE BENEFITS nan GENERAL FUND Teacher, El...\n",
      "4    SUPPLIES nan PRIMARY GRADES PROGRAM nan nan na...\n",
      "dtype: object\n"
     ]
    }
   ],
   "source": [
    "train_imp = cat_pipeline.transform(X_train)"
   ]
  },
  {
   "cell_type": "code",
   "execution_count": 32,
   "metadata": {
    "ExecuteTime": {
     "end_time": "2018-12-12T05:47:36.870100Z",
     "start_time": "2018-12-12T05:47:36.865656Z"
    }
   },
   "outputs": [
    {
     "data": {
      "text/plain": [
       "(200139, 2)"
      ]
     },
     "execution_count": 32,
     "metadata": {},
     "output_type": "execute_result"
    }
   ],
   "source": [
    "train_imp.shape"
   ]
  },
  {
   "cell_type": "code",
   "execution_count": 33,
   "metadata": {
    "ExecuteTime": {
     "end_time": "2018-12-12T05:47:42.967907Z",
     "start_time": "2018-12-12T05:47:40.613552Z"
    },
    "scrolled": false
   },
   "outputs": [
    {
     "name": "stdout",
     "output_type": "stream",
     "text": [
      "0    CONTRACTOR SERVICES BOND EXPENDITURES BUILDING...\n",
      "1    Personal Services - Teachers nan nan TCHER 2ND...\n",
      "2    EMPLOYEE BENEFITS nan GENERAL FUND Sub Manager...\n",
      "3    EQUIPMENT * nan Support Services - Administrat...\n",
      "4    Non-Certificated Travel Reimbursement nan Supp...\n",
      "dtype: object\n"
     ]
    }
   ],
   "source": [
    "test_imp = cat_pipeline.transform(X_test)"
   ]
  },
  {
   "cell_type": "code",
   "execution_count": 34,
   "metadata": {
    "ExecuteTime": {
     "end_time": "2018-12-12T05:47:46.307822Z",
     "start_time": "2018-12-12T05:47:46.300824Z"
    }
   },
   "outputs": [
    {
     "data": {
      "text/plain": [
       "(100069, 2)"
      ]
     },
     "execution_count": 34,
     "metadata": {},
     "output_type": "execute_result"
    }
   ],
   "source": [
    "test_imp.shape"
   ]
  },
  {
   "cell_type": "markdown",
   "metadata": {},
   "source": [
    "### Vectorize the \"All\" column"
   ]
  },
  {
   "cell_type": "code",
   "execution_count": 35,
   "metadata": {
    "ExecuteTime": {
     "end_time": "2018-12-12T05:48:08.258259Z",
     "start_time": "2018-12-12T05:48:03.906893Z"
    }
   },
   "outputs": [],
   "source": [
    "my_stop_words = text.ENGLISH_STOP_WORDS.union([\"nan\", \"n/a\"])\n",
    "#vect = TfidfVectorizer(sublinear_tf=True, max_df=0.5, analyzer='word', stop_words='english')\n",
    "vect = TfidfVectorizer(sublinear_tf=True, max_df=1, analyzer='word', stop_words=my_stop_words)\n",
    "X = vect.fit_transform(train_imp[\"All\"])"
   ]
  },
  {
   "cell_type": "code",
   "execution_count": 36,
   "metadata": {
    "ExecuteTime": {
     "end_time": "2018-12-12T05:48:16.868504Z",
     "start_time": "2018-12-12T05:48:14.546464Z"
    }
   },
   "outputs": [],
   "source": [
    "X_test = vect.transform(test_imp[\"All\"]) #transforming test based on train fitted method"
   ]
  },
  {
   "cell_type": "code",
   "execution_count": 37,
   "metadata": {
    "ExecuteTime": {
     "end_time": "2018-12-12T05:48:19.823879Z",
     "start_time": "2018-12-12T05:48:19.818085Z"
    }
   },
   "outputs": [
    {
     "data": {
      "text/plain": [
       "array([1.        , 1.        , 1.        , 1.        , 1.        ,\n",
       "       1.        , 1.        , 1.        , 0.70710678, 0.70710678])"
      ]
     },
     "execution_count": 37,
     "metadata": {},
     "output_type": "execute_result"
    }
   ],
   "source": [
    "X.data[:10]"
   ]
  },
  {
   "cell_type": "code",
   "execution_count": 38,
   "metadata": {
    "ExecuteTime": {
     "end_time": "2018-12-12T05:48:23.238518Z",
     "start_time": "2018-12-12T05:48:21.726701Z"
    }
   },
   "outputs": [
    {
     "data": {
      "text/plain": [
       "(200139, 496)"
      ]
     },
     "execution_count": 38,
     "metadata": {},
     "output_type": "execute_result"
    }
   ],
   "source": [
    "# for train\n",
    "cat_tok = pd.SparseDataFrame(X, columns=vect.get_feature_names(), default_fill_value=0)\n",
    "cat_tok.shape"
   ]
  },
  {
   "cell_type": "code",
   "execution_count": 39,
   "metadata": {
    "ExecuteTime": {
     "end_time": "2018-12-12T05:48:25.387299Z",
     "start_time": "2018-12-12T05:48:24.276459Z"
    }
   },
   "outputs": [
    {
     "data": {
      "text/plain": [
       "(100069, 496)"
      ]
     },
     "execution_count": 39,
     "metadata": {},
     "output_type": "execute_result"
    }
   ],
   "source": [
    "# for test\n",
    "cat_tok_test = pd.SparseDataFrame(X_test, columns=vect.get_feature_names(), default_fill_value=0)\n",
    "cat_tok_test.shape"
   ]
  },
  {
   "cell_type": "code",
   "execution_count": 40,
   "metadata": {
    "ExecuteTime": {
     "end_time": "2018-12-12T05:48:34.633860Z",
     "start_time": "2018-12-12T05:48:34.382460Z"
    }
   },
   "outputs": [
    {
     "name": "stdout",
     "output_type": "stream",
     "text": [
      "<class 'pandas.core.sparse.frame.SparseDataFrame'>\n",
      "RangeIndex: 200139 entries, 0 to 200138\n",
      "Columns: 496 entries, 60 to zoo\n",
      "dtypes: float64(496)\n",
      "memory usage: 4.0 KB\n"
     ]
    }
   ],
   "source": [
    "cat_tok.info()"
   ]
  },
  {
   "cell_type": "code",
   "execution_count": 63,
   "metadata": {
    "ExecuteTime": {
     "end_time": "2018-12-12T05:48:39.843502Z",
     "start_time": "2018-12-12T05:48:38.513739Z"
    }
   },
   "outputs": [
    {
     "data": {
      "text/html": [
       "<div>\n",
       "<style scoped>\n",
       "    .dataframe tbody tr th:only-of-type {\n",
       "        vertical-align: middle;\n",
       "    }\n",
       "\n",
       "    .dataframe tbody tr th {\n",
       "        vertical-align: top;\n",
       "    }\n",
       "\n",
       "    .dataframe thead th {\n",
       "        text-align: right;\n",
       "    }\n",
       "</style>\n",
       "<table border=\"1\" class=\"dataframe\">\n",
       "  <thead>\n",
       "    <tr style=\"text-align: right;\">\n",
       "      <th></th>\n",
       "      <th>60</th>\n",
       "      <th>70hr</th>\n",
       "      <th>80hs</th>\n",
       "      <th>acadmey</th>\n",
       "      <th>accident</th>\n",
       "      <th>accompanists</th>\n",
       "      <th>achiev</th>\n",
       "      <th>actually</th>\n",
       "      <th>adapted</th>\n",
       "      <th>addtn</th>\n",
       "      <th>...</th>\n",
       "      <th>wf</th>\n",
       "      <th>williams</th>\n",
       "      <th>worke</th>\n",
       "      <th>works</th>\n",
       "      <th>workstudy</th>\n",
       "      <th>wrkr</th>\n",
       "      <th>xerox</th>\n",
       "      <th>xmas</th>\n",
       "      <th>zone</th>\n",
       "      <th>zoo</th>\n",
       "    </tr>\n",
       "  </thead>\n",
       "  <tbody>\n",
       "    <tr>\n",
       "      <th>0</th>\n",
       "      <td>0.0</td>\n",
       "      <td>0.0</td>\n",
       "      <td>0.0</td>\n",
       "      <td>0.0</td>\n",
       "      <td>0.0</td>\n",
       "      <td>0.0</td>\n",
       "      <td>0.0</td>\n",
       "      <td>0.0</td>\n",
       "      <td>0.0</td>\n",
       "      <td>0.0</td>\n",
       "      <td>...</td>\n",
       "      <td>0.0</td>\n",
       "      <td>0.0</td>\n",
       "      <td>0.0</td>\n",
       "      <td>0.0</td>\n",
       "      <td>0.0</td>\n",
       "      <td>0.0</td>\n",
       "      <td>0.0</td>\n",
       "      <td>0.0</td>\n",
       "      <td>0.0</td>\n",
       "      <td>0.0</td>\n",
       "    </tr>\n",
       "    <tr>\n",
       "      <th>1</th>\n",
       "      <td>0.0</td>\n",
       "      <td>0.0</td>\n",
       "      <td>0.0</td>\n",
       "      <td>0.0</td>\n",
       "      <td>0.0</td>\n",
       "      <td>0.0</td>\n",
       "      <td>0.0</td>\n",
       "      <td>0.0</td>\n",
       "      <td>0.0</td>\n",
       "      <td>0.0</td>\n",
       "      <td>...</td>\n",
       "      <td>0.0</td>\n",
       "      <td>0.0</td>\n",
       "      <td>0.0</td>\n",
       "      <td>0.0</td>\n",
       "      <td>0.0</td>\n",
       "      <td>0.0</td>\n",
       "      <td>0.0</td>\n",
       "      <td>0.0</td>\n",
       "      <td>0.0</td>\n",
       "      <td>0.0</td>\n",
       "    </tr>\n",
       "    <tr>\n",
       "      <th>2</th>\n",
       "      <td>0.0</td>\n",
       "      <td>0.0</td>\n",
       "      <td>0.0</td>\n",
       "      <td>0.0</td>\n",
       "      <td>0.0</td>\n",
       "      <td>0.0</td>\n",
       "      <td>0.0</td>\n",
       "      <td>0.0</td>\n",
       "      <td>0.0</td>\n",
       "      <td>0.0</td>\n",
       "      <td>...</td>\n",
       "      <td>0.0</td>\n",
       "      <td>0.0</td>\n",
       "      <td>0.0</td>\n",
       "      <td>0.0</td>\n",
       "      <td>0.0</td>\n",
       "      <td>0.0</td>\n",
       "      <td>0.0</td>\n",
       "      <td>0.0</td>\n",
       "      <td>0.0</td>\n",
       "      <td>0.0</td>\n",
       "    </tr>\n",
       "    <tr>\n",
       "      <th>3</th>\n",
       "      <td>0.0</td>\n",
       "      <td>0.0</td>\n",
       "      <td>0.0</td>\n",
       "      <td>0.0</td>\n",
       "      <td>0.0</td>\n",
       "      <td>0.0</td>\n",
       "      <td>0.0</td>\n",
       "      <td>0.0</td>\n",
       "      <td>0.0</td>\n",
       "      <td>0.0</td>\n",
       "      <td>...</td>\n",
       "      <td>0.0</td>\n",
       "      <td>0.0</td>\n",
       "      <td>0.0</td>\n",
       "      <td>0.0</td>\n",
       "      <td>0.0</td>\n",
       "      <td>0.0</td>\n",
       "      <td>0.0</td>\n",
       "      <td>0.0</td>\n",
       "      <td>0.0</td>\n",
       "      <td>0.0</td>\n",
       "    </tr>\n",
       "    <tr>\n",
       "      <th>4</th>\n",
       "      <td>0.0</td>\n",
       "      <td>0.0</td>\n",
       "      <td>0.0</td>\n",
       "      <td>0.0</td>\n",
       "      <td>0.0</td>\n",
       "      <td>0.0</td>\n",
       "      <td>0.0</td>\n",
       "      <td>0.0</td>\n",
       "      <td>0.0</td>\n",
       "      <td>0.0</td>\n",
       "      <td>...</td>\n",
       "      <td>0.0</td>\n",
       "      <td>0.0</td>\n",
       "      <td>0.0</td>\n",
       "      <td>0.0</td>\n",
       "      <td>0.0</td>\n",
       "      <td>0.0</td>\n",
       "      <td>0.0</td>\n",
       "      <td>0.0</td>\n",
       "      <td>0.0</td>\n",
       "      <td>0.0</td>\n",
       "    </tr>\n",
       "  </tbody>\n",
       "</table>\n",
       "<p>5 rows × 496 columns</p>\n",
       "</div>"
      ],
      "text/plain": [
       "    60  70hr  80hs  acadmey  accident  accompanists  achiev  actually  \\\n",
       "0  0.0   0.0   0.0      0.0       0.0           0.0     0.0       0.0   \n",
       "1  0.0   0.0   0.0      0.0       0.0           0.0     0.0       0.0   \n",
       "2  0.0   0.0   0.0      0.0       0.0           0.0     0.0       0.0   \n",
       "3  0.0   0.0   0.0      0.0       0.0           0.0     0.0       0.0   \n",
       "4  0.0   0.0   0.0      0.0       0.0           0.0     0.0       0.0   \n",
       "\n",
       "   adapted  addtn ...    wf  williams  worke  works  workstudy  wrkr  xerox  \\\n",
       "0      0.0    0.0 ...   0.0       0.0    0.0    0.0        0.0   0.0    0.0   \n",
       "1      0.0    0.0 ...   0.0       0.0    0.0    0.0        0.0   0.0    0.0   \n",
       "2      0.0    0.0 ...   0.0       0.0    0.0    0.0        0.0   0.0    0.0   \n",
       "3      0.0    0.0 ...   0.0       0.0    0.0    0.0        0.0   0.0    0.0   \n",
       "4      0.0    0.0 ...   0.0       0.0    0.0    0.0        0.0   0.0    0.0   \n",
       "\n",
       "   xmas  zone  zoo  \n",
       "0   0.0   0.0  0.0  \n",
       "1   0.0   0.0  0.0  \n",
       "2   0.0   0.0  0.0  \n",
       "3   0.0   0.0  0.0  \n",
       "4   0.0   0.0  0.0  \n",
       "\n",
       "[5 rows x 496 columns]"
      ]
     },
     "execution_count": 63,
     "metadata": {},
     "output_type": "execute_result"
    }
   ],
   "source": [
    "cat_tok.head()"
   ]
  },
  {
   "cell_type": "code",
   "execution_count": 64,
   "metadata": {
    "ExecuteTime": {
     "end_time": "2018-12-12T05:48:52.285214Z",
     "start_time": "2018-12-12T05:48:52.247886Z"
    }
   },
   "outputs": [
    {
     "name": "stdout",
     "output_type": "stream",
     "text": [
      "<class 'pandas.core.sparse.frame.SparseDataFrame'>\n",
      "RangeIndex: 200139 entries, 0 to 200138\n",
      "Columns: 496 entries, 60 to zoo\n",
      "dtypes: float64(496)\n",
      "memory usage: 4.0 KB\n"
     ]
    }
   ],
   "source": [
    "#cat_tok = cat_tok.drop_duplicates(['index'])\n",
    "#cat_tok.shape\n",
    "cat_tok.info()"
   ]
  },
  {
   "cell_type": "code",
   "execution_count": 41,
   "metadata": {
    "ExecuteTime": {
     "end_time": "2018-12-12T05:48:57.130038Z",
     "start_time": "2018-12-12T05:48:57.124555Z"
    }
   },
   "outputs": [
    {
     "data": {
      "text/plain": [
       "True"
      ]
     },
     "execution_count": 41,
     "metadata": {},
     "output_type": "execute_result"
    }
   ],
   "source": [
    "'accompanists' in cat_tok.keys() # checking for a key"
   ]
  },
  {
   "cell_type": "markdown",
   "metadata": {},
   "source": [
    "# Merge Numerical and Categorical Pipeline by merging"
   ]
  },
  {
   "cell_type": "markdown",
   "metadata": {},
   "source": [
    "## Train merge"
   ]
  },
  {
   "cell_type": "code",
   "execution_count": 42,
   "metadata": {
    "ExecuteTime": {
     "end_time": "2018-12-12T05:49:30.638395Z",
     "start_time": "2018-12-12T05:49:30.381941Z"
    },
    "scrolled": true
   },
   "outputs": [
    {
     "data": {
      "text/plain": [
       "(200139, 499)"
      ]
     },
     "execution_count": 42,
     "metadata": {},
     "output_type": "execute_result"
    }
   ],
   "source": [
    "prepared_data = pd.concat([train_num_imp, cat_tok], axis=1, join_axes=[cat_tok.index])\n",
    "prepared_data.shape"
   ]
  },
  {
   "cell_type": "code",
   "execution_count": 43,
   "metadata": {
    "ExecuteTime": {
     "end_time": "2018-12-12T05:49:34.529259Z",
     "start_time": "2018-12-12T05:49:33.383535Z"
    },
    "scrolled": false
   },
   "outputs": [
    {
     "data": {
      "text/html": [
       "<div>\n",
       "<style scoped>\n",
       "    .dataframe tbody tr th:only-of-type {\n",
       "        vertical-align: middle;\n",
       "    }\n",
       "\n",
       "    .dataframe tbody tr th {\n",
       "        vertical-align: top;\n",
       "    }\n",
       "\n",
       "    .dataframe thead th {\n",
       "        text-align: right;\n",
       "    }\n",
       "</style>\n",
       "<table border=\"1\" class=\"dataframe\">\n",
       "  <thead>\n",
       "    <tr style=\"text-align: right;\">\n",
       "      <th></th>\n",
       "      <th>FTE</th>\n",
       "      <th>Total</th>\n",
       "      <th>index</th>\n",
       "      <th>60</th>\n",
       "      <th>70hr</th>\n",
       "      <th>80hs</th>\n",
       "      <th>acadmey</th>\n",
       "      <th>accident</th>\n",
       "      <th>accompanists</th>\n",
       "      <th>achiev</th>\n",
       "      <th>...</th>\n",
       "      <th>wf</th>\n",
       "      <th>williams</th>\n",
       "      <th>worke</th>\n",
       "      <th>works</th>\n",
       "      <th>workstudy</th>\n",
       "      <th>wrkr</th>\n",
       "      <th>xerox</th>\n",
       "      <th>xmas</th>\n",
       "      <th>zone</th>\n",
       "      <th>zoo</th>\n",
       "    </tr>\n",
       "  </thead>\n",
       "  <tbody>\n",
       "    <tr>\n",
       "      <th>0</th>\n",
       "      <td>0.036516</td>\n",
       "      <td>0.646563</td>\n",
       "      <td>134338</td>\n",
       "      <td>0.0</td>\n",
       "      <td>0.0</td>\n",
       "      <td>0.0</td>\n",
       "      <td>0.0</td>\n",
       "      <td>0.0</td>\n",
       "      <td>0.0</td>\n",
       "      <td>0.0</td>\n",
       "      <td>...</td>\n",
       "      <td>0.0</td>\n",
       "      <td>0.0</td>\n",
       "      <td>0.0</td>\n",
       "      <td>0.0</td>\n",
       "      <td>0.0</td>\n",
       "      <td>0.0</td>\n",
       "      <td>0.0</td>\n",
       "      <td>0.0</td>\n",
       "      <td>0.0</td>\n",
       "      <td>0.0</td>\n",
       "    </tr>\n",
       "    <tr>\n",
       "      <th>1</th>\n",
       "      <td>0.011385</td>\n",
       "      <td>0.646191</td>\n",
       "      <td>364634</td>\n",
       "      <td>0.0</td>\n",
       "      <td>0.0</td>\n",
       "      <td>0.0</td>\n",
       "      <td>0.0</td>\n",
       "      <td>0.0</td>\n",
       "      <td>0.0</td>\n",
       "      <td>0.0</td>\n",
       "      <td>...</td>\n",
       "      <td>0.0</td>\n",
       "      <td>0.0</td>\n",
       "      <td>0.0</td>\n",
       "      <td>0.0</td>\n",
       "      <td>0.0</td>\n",
       "      <td>0.0</td>\n",
       "      <td>0.0</td>\n",
       "      <td>0.0</td>\n",
       "      <td>0.0</td>\n",
       "      <td>0.0</td>\n",
       "    </tr>\n",
       "    <tr>\n",
       "      <th>2</th>\n",
       "      <td>0.018327</td>\n",
       "      <td>0.646205</td>\n",
       "      <td>417668</td>\n",
       "      <td>0.0</td>\n",
       "      <td>0.0</td>\n",
       "      <td>0.0</td>\n",
       "      <td>0.0</td>\n",
       "      <td>0.0</td>\n",
       "      <td>0.0</td>\n",
       "      <td>0.0</td>\n",
       "      <td>...</td>\n",
       "      <td>0.0</td>\n",
       "      <td>0.0</td>\n",
       "      <td>0.0</td>\n",
       "      <td>0.0</td>\n",
       "      <td>0.0</td>\n",
       "      <td>0.0</td>\n",
       "      <td>0.0</td>\n",
       "      <td>0.0</td>\n",
       "      <td>0.0</td>\n",
       "      <td>0.0</td>\n",
       "    </tr>\n",
       "    <tr>\n",
       "      <th>3</th>\n",
       "      <td>0.012095</td>\n",
       "      <td>0.646192</td>\n",
       "      <td>275539</td>\n",
       "      <td>0.0</td>\n",
       "      <td>0.0</td>\n",
       "      <td>0.0</td>\n",
       "      <td>0.0</td>\n",
       "      <td>0.0</td>\n",
       "      <td>0.0</td>\n",
       "      <td>0.0</td>\n",
       "      <td>...</td>\n",
       "      <td>0.0</td>\n",
       "      <td>0.0</td>\n",
       "      <td>0.0</td>\n",
       "      <td>0.0</td>\n",
       "      <td>0.0</td>\n",
       "      <td>0.0</td>\n",
       "      <td>0.0</td>\n",
       "      <td>0.0</td>\n",
       "      <td>0.0</td>\n",
       "      <td>0.0</td>\n",
       "    </tr>\n",
       "    <tr>\n",
       "      <th>4</th>\n",
       "      <td>0.027874</td>\n",
       "      <td>0.646190</td>\n",
       "      <td>330504</td>\n",
       "      <td>0.0</td>\n",
       "      <td>0.0</td>\n",
       "      <td>0.0</td>\n",
       "      <td>0.0</td>\n",
       "      <td>0.0</td>\n",
       "      <td>0.0</td>\n",
       "      <td>0.0</td>\n",
       "      <td>...</td>\n",
       "      <td>0.0</td>\n",
       "      <td>0.0</td>\n",
       "      <td>0.0</td>\n",
       "      <td>0.0</td>\n",
       "      <td>0.0</td>\n",
       "      <td>0.0</td>\n",
       "      <td>0.0</td>\n",
       "      <td>0.0</td>\n",
       "      <td>0.0</td>\n",
       "      <td>0.0</td>\n",
       "    </tr>\n",
       "  </tbody>\n",
       "</table>\n",
       "<p>5 rows × 499 columns</p>\n",
       "</div>"
      ],
      "text/plain": [
       "        FTE     Total   index   60  70hr  80hs  acadmey  accident  \\\n",
       "0  0.036516  0.646563  134338  0.0   0.0   0.0      0.0       0.0   \n",
       "1  0.011385  0.646191  364634  0.0   0.0   0.0      0.0       0.0   \n",
       "2  0.018327  0.646205  417668  0.0   0.0   0.0      0.0       0.0   \n",
       "3  0.012095  0.646192  275539  0.0   0.0   0.0      0.0       0.0   \n",
       "4  0.027874  0.646190  330504  0.0   0.0   0.0      0.0       0.0   \n",
       "\n",
       "   accompanists  achiev ...    wf  williams  worke  works  workstudy  wrkr  \\\n",
       "0           0.0     0.0 ...   0.0       0.0    0.0    0.0        0.0   0.0   \n",
       "1           0.0     0.0 ...   0.0       0.0    0.0    0.0        0.0   0.0   \n",
       "2           0.0     0.0 ...   0.0       0.0    0.0    0.0        0.0   0.0   \n",
       "3           0.0     0.0 ...   0.0       0.0    0.0    0.0        0.0   0.0   \n",
       "4           0.0     0.0 ...   0.0       0.0    0.0    0.0        0.0   0.0   \n",
       "\n",
       "   xerox  xmas  zone  zoo  \n",
       "0    0.0   0.0   0.0  0.0  \n",
       "1    0.0   0.0   0.0  0.0  \n",
       "2    0.0   0.0   0.0  0.0  \n",
       "3    0.0   0.0   0.0  0.0  \n",
       "4    0.0   0.0   0.0  0.0  \n",
       "\n",
       "[5 rows x 499 columns]"
      ]
     },
     "execution_count": 43,
     "metadata": {},
     "output_type": "execute_result"
    }
   ],
   "source": [
    "prepared_data.head()"
   ]
  },
  {
   "cell_type": "markdown",
   "metadata": {},
   "source": [
    "## Test merge"
   ]
  },
  {
   "cell_type": "code",
   "execution_count": 44,
   "metadata": {
    "ExecuteTime": {
     "end_time": "2018-12-12T05:49:40.422805Z",
     "start_time": "2018-12-12T05:49:40.273734Z"
    }
   },
   "outputs": [
    {
     "data": {
      "text/plain": [
       "(100069, 499)"
      ]
     },
     "execution_count": 44,
     "metadata": {},
     "output_type": "execute_result"
    }
   ],
   "source": [
    "prepared_test_data = pd.concat([test_num_imp, cat_tok_test], axis=1, join_axes=[cat_tok_test.index])\n",
    "prepared_test_data.shape"
   ]
  },
  {
   "cell_type": "markdown",
   "metadata": {},
   "source": [
    "https://www.researchgate.net/post/Should_Indepenent_variables_be_more_than_the_dependent_variables\n"
   ]
  },
  {
   "cell_type": "markdown",
   "metadata": {},
   "source": [
    "# Feature Importances"
   ]
  },
  {
   "cell_type": "markdown",
   "metadata": {},
   "source": [
    "Now we will look at feature importance for each of our features. For this we are using RandomForestClassifier from sklearn.ensemble. For this purpose, we are using unsplitted data set with independent features and also unsplitted labels."
   ]
  },
  {
   "attachments": {
    "image.png": {
     "image/png": "[encoded data removed]"
    }
   },
   "cell_type": "markdown",
   "metadata": {},
   "source": [
    "![image.png](attachment:image.png)"
   ]
  },
  {
   "cell_type": "markdown",
   "metadata": {},
   "source": [
    "Looking at the output of feature imporatnces and also barplot we can see that Job_Description has the highest coefficient( 0.244), followed by Location_Description, Object_description, Fund_description, Program_Description and so on. Facility or Department is the least important feature of all. "
   ]
  },
  {
   "cell_type": "markdown",
   "metadata": {},
   "source": [
    "# Classification Model"
   ]
  },
  {
   "cell_type": "markdown",
   "metadata": {},
   "source": [
    "https://stackoverflow.com/questions/26018543/gridsearch-for-multi-label-classification-in-scikit-learn <br>\n",
    "http://lpis.csd.auth.gr/publications/sechidis-ecmlpkdd-2011.pdf\n"
   ]
  },
  {
   "cell_type": "markdown",
   "metadata": {},
   "source": [
    "## Logging the Result"
   ]
  },
  {
   "cell_type": "code",
   "execution_count": 51,
   "metadata": {
    "ExecuteTime": {
     "end_time": "2018-12-11T18:30:36.834082Z",
     "start_time": "2018-12-11T18:30:36.806730Z"
    }
   },
   "outputs": [],
   "source": [
    "results = pd.DataFrame(columns=[\"Model\", \"Parameters\",  \"Micro Precision\", \"Micro Recall\",\"Micro F1 Score\",\"Macro Precision\", \"Macro Recall\",\"Macro F1 Score\",\"Runtime\"])"
   ]
  },
  {
   "cell_type": "markdown",
   "metadata": {},
   "source": [
    "## MultiClass MultiLabel Classification Models"
   ]
  },
  {
   "cell_type": "markdown",
   "metadata": {},
   "source": [
    "### MultiOutput Linear SVC"
   ]
  },
  {
   "cell_type": "markdown",
   "metadata": {},
   "source": [
    "<b>\n",
    "    Linear Kernel SVM for classification is implemented in sklearn via the class LinearSVC\n",
    "    \n",
    "    OneVsAll: train K classifiers: a binary classifier for each class, with the samples of that class as positive samples and all other samples as negatives. For prediciton choose the class whose classifier outputs the largest value.\n",
    " </b>"
   ]
  },
  {
   "cell_type": "code",
   "execution_count": 45,
   "metadata": {
    "ExecuteTime": {
     "end_time": "2018-12-11T12:23:23.166774Z",
     "start_time": "2018-12-11T12:23:22.988284Z"
    }
   },
   "outputs": [],
   "source": [
    "from sklearn.multioutput import MultiOutputClassifier\n",
    "\n",
    "start = time.time()\n",
    "\n",
    "\n",
    "from sklearn.svm import LinearSVC\n",
    "svc_classifier = Pipeline([\n",
    "  #  ('tfidf', TfidfVectorizer(sublinear_tf=True, max_df=0.5, analyzer='word', stop_words='english')),\n",
    "  #  ('clf', MultiOutputClassifier(LinearSVC()))\n",
    "     ('clf', MultiOutputClassifier(LinearSVC()))\n",
    "    \n",
    "    ])\n",
    "\n",
    "runtime = time.time()- start"
   ]
  },
  {
   "cell_type": "code",
   "execution_count": 46,
   "metadata": {},
   "outputs": [
    {
     "data": {
      "text/plain": [
       "(200139, 104)"
      ]
     },
     "execution_count": 46,
     "metadata": {},
     "output_type": "execute_result"
    }
   ],
   "source": [
    "prepared_data.shape\n",
    "y_train.shape"
   ]
  },
  {
   "cell_type": "code",
   "execution_count": 47,
   "metadata": {
    "ExecuteTime": {
     "end_time": "2018-12-11T12:54:48.249397Z",
     "start_time": "2018-12-11T12:23:35.539874Z"
    },
    "scrolled": true
   },
   "outputs": [
    {
     "data": {
      "text/plain": [
       "Pipeline(memory=None,\n",
       "     steps=[('clf', MultiOutputClassifier(estimator=LinearSVC(C=1.0, class_weight=None, dual=True, fit_intercept=True,\n",
       "     intercept_scaling=1, loss='squared_hinge', max_iter=1000,\n",
       "     multi_class='ovr', penalty='l2', random_state=None, tol=0.0001,\n",
       "     verbose=0),\n",
       "           n_jobs=1))])"
      ]
     },
     "execution_count": 47,
     "metadata": {},
     "output_type": "execute_result"
    }
   ],
   "source": [
    "svc_classifier.fit(prepared_data, y_train)"
   ]
  },
  {
   "cell_type": "code",
   "execution_count": 48,
   "metadata": {
    "ExecuteTime": {
     "end_time": "2018-12-11T13:18:05.915320Z",
     "start_time": "2018-12-11T13:17:47.763276Z"
    }
   },
   "outputs": [],
   "source": [
    "predicted = svc_classifier.predict(prepared_test_data)"
   ]
  },
  {
   "cell_type": "code",
   "execution_count": 49,
   "metadata": {
    "ExecuteTime": {
     "end_time": "2018-12-11T13:18:22.325300Z",
     "start_time": "2018-12-11T13:18:13.168335Z"
    }
   },
   "outputs": [
    {
     "name": "stdout",
     "output_type": "stream",
     "text": [
      "Micro-average quality numbers\n",
      "Precision: 0.249, Recall: 0.218, F1-measure: 0.232\n",
      "Macro-average quality numbers\n",
      "Precision: 0.033, Recall: 0.073, F1-measure: 0.027\n"
     ]
    }
   ],
   "source": [
    "precision, recall,f1, macro_precision, macro_recall, macro_f1 = evaluate(y_test, predicted)"
   ]
  },
  {
   "cell_type": "code",
   "execution_count": 53,
   "metadata": {
    "ExecuteTime": {
     "end_time": "2018-12-11T13:18:34.895828Z",
     "start_time": "2018-12-11T13:18:33.800547Z"
    }
   },
   "outputs": [],
   "source": [
    "results.loc[len(results)] = [\"MultiOutputClassifier(LinearSVC)\", \"C=1.0,penalty=l2,dual=True\",precision, recall,f1, macro_precision, macro_recall, macro_f1, np.round(runtime,4)]\n"
   ]
  },
  {
   "cell_type": "code",
   "execution_count": 54,
   "metadata": {
    "ExecuteTime": {
     "end_time": "2018-12-11T13:18:39.489213Z",
     "start_time": "2018-12-11T13:18:38.944247Z"
    },
    "scrolled": true
   },
   "outputs": [
    {
     "data": {
      "text/html": [
       "<div>\n",
       "<style scoped>\n",
       "    .dataframe tbody tr th:only-of-type {\n",
       "        vertical-align: middle;\n",
       "    }\n",
       "\n",
       "    .dataframe tbody tr th {\n",
       "        vertical-align: top;\n",
       "    }\n",
       "\n",
       "    .dataframe thead th {\n",
       "        text-align: right;\n",
       "    }\n",
       "</style>\n",
       "<table border=\"1\" class=\"dataframe\">\n",
       "  <thead>\n",
       "    <tr style=\"text-align: right;\">\n",
       "      <th></th>\n",
       "      <th>Model</th>\n",
       "      <th>Parameters</th>\n",
       "      <th>Micro Precision</th>\n",
       "      <th>Micro Recall</th>\n",
       "      <th>Micro F1 Score</th>\n",
       "      <th>Macro Precision</th>\n",
       "      <th>Macro Recall</th>\n",
       "      <th>Macro F1 Score</th>\n",
       "      <th>Runtime</th>\n",
       "    </tr>\n",
       "  </thead>\n",
       "  <tbody>\n",
       "    <tr>\n",
       "      <th>0</th>\n",
       "      <td>MultiOutputClassifier(LinearSVC)</td>\n",
       "      <td>C=1.0,penalty=l2,dual=True</td>\n",
       "      <td>0.249</td>\n",
       "      <td>0.218</td>\n",
       "      <td>0.232</td>\n",
       "      <td>0.033</td>\n",
       "      <td>0.073</td>\n",
       "      <td>0.027</td>\n",
       "      <td>0.0004</td>\n",
       "    </tr>\n",
       "    <tr>\n",
       "      <th>1</th>\n",
       "      <td>MultiOutputClassifier(LinearSVC)</td>\n",
       "      <td>C=1.0,penalty=l2,dual=True</td>\n",
       "      <td>0.249</td>\n",
       "      <td>0.218</td>\n",
       "      <td>0.232</td>\n",
       "      <td>0.033</td>\n",
       "      <td>0.073</td>\n",
       "      <td>0.027</td>\n",
       "      <td>0.0004</td>\n",
       "    </tr>\n",
       "  </tbody>\n",
       "</table>\n",
       "</div>"
      ],
      "text/plain": [
       "                              Model                  Parameters  \\\n",
       "0  MultiOutputClassifier(LinearSVC)  C=1.0,penalty=l2,dual=True   \n",
       "1  MultiOutputClassifier(LinearSVC)  C=1.0,penalty=l2,dual=True   \n",
       "\n",
       "   Micro Precision  Micro Recall  Micro F1 Score  Macro Precision  \\\n",
       "0            0.249         0.218           0.232            0.033   \n",
       "1            0.249         0.218           0.232            0.033   \n",
       "\n",
       "   Macro Recall  Macro F1 Score  Runtime  \n",
       "0         0.073           0.027   0.0004  \n",
       "1         0.073           0.027   0.0004  "
      ]
     },
     "execution_count": 54,
     "metadata": {},
     "output_type": "execute_result"
    }
   ],
   "source": [
    "results"
   ]
  },
  {
   "cell_type": "markdown",
   "metadata": {},
   "source": [
    "* The model has performed.."
   ]
  },
  {
   "cell_type": "markdown",
   "metadata": {},
   "source": [
    "### MultiOutput with RandomForest Classifier"
   ]
  },
  {
   "cell_type": "code",
   "execution_count": 88,
   "metadata": {
    "ExecuteTime": {
     "end_time": "2018-12-11T10:41:40.939189Z",
     "start_time": "2018-12-11T10:41:40.278674Z"
    },
    "scrolled": true
   },
   "outputs": [],
   "source": [
    "from sklearn.multioutput import MultiOutputClassifier\n",
    "from sklearn.ensemble import RandomForestClassifier\n",
    "forest = RandomForestClassifier(n_estimators=100, random_state=1)\n",
    "multi_target_forest = MultiOutputClassifier(forest, n_jobs=-1)"
   ]
  },
  {
   "cell_type": "code",
   "execution_count": 89,
   "metadata": {
    "ExecuteTime": {
     "end_time": "2018-12-11T11:48:03.873517Z",
     "start_time": "2018-12-11T10:41:48.685946Z"
    }
   },
   "outputs": [],
   "source": [
    "fit_model = multi_target_forest.fit(prepared_data, y_train)"
   ]
  },
  {
   "cell_type": "code",
   "execution_count": 135,
   "metadata": {
    "ExecuteTime": {
     "end_time": "2018-12-11T16:04:11.598889Z",
     "start_time": "2018-12-11T15:39:13.871787Z"
    }
   },
   "outputs": [
    {
     "data": {
      "text/plain": [
       "['MO_randomForest.pkl']"
      ]
     },
     "execution_count": 135,
     "metadata": {},
     "output_type": "execute_result"
    }
   ],
   "source": [
    "from sklearn.externals import joblib\n",
    "joblib.dump(fit_model, 'MO_randomForest.pkl') "
   ]
  },
  {
   "cell_type": "code",
   "execution_count": null,
   "metadata": {},
   "outputs": [],
   "source": [
    " # in future\n",
    "    #clf = joblib.load('filename.pkl') "
   ]
  },
  {
   "cell_type": "code",
   "execution_count": 83,
   "metadata": {
    "ExecuteTime": {
     "end_time": "2018-12-11T00:40:03.264509Z",
     "start_time": "2018-12-11T00:31:58.975967Z"
    }
   },
   "outputs": [],
   "source": [
    "MO_randomForest_pred = fit_model.predict_proba(prepared_test_data)"
   ]
  },
  {
   "cell_type": "code",
   "execution_count": null,
   "metadata": {},
   "outputs": [],
   "source": [
    "write_predict_tocsv(MO_randomForest_pred, 'ran_for_sub.csv', target_104_data.columns, \n",
    "                    index=prepared_test_data.index)"
   ]
  },
  {
   "cell_type": "code",
   "execution_count": 194,
   "metadata": {
    "ExecuteTime": {
     "end_time": "2018-12-11T03:44:50.929505Z",
     "start_time": "2018-12-11T03:44:50.920778Z"
    }
   },
   "outputs": [
    {
     "name": "stdout",
     "output_type": "stream",
     "text": [
      "84058.0\n",
      "4167.25\n"
     ]
    },
    {
     "data": {
      "text/plain": [
       "array([1., 0.])"
      ]
     },
     "execution_count": 194,
     "metadata": {},
     "output_type": "execute_result"
    }
   ],
   "source": [
    "# print(np.sum(MO_randomForest_pred[:][1][:]))\n",
    "# for i in MO_randomForest_pred[:1]:\n",
    "#     print(np.ndarray.sum(i[:,1]))\n",
    "# #print(sum)\n",
    "# np_pred[:][1][1]"
   ]
  },
  {
   "cell_type": "code",
   "execution_count": 186,
   "metadata": {
    "ExecuteTime": {
     "end_time": "2018-12-11T03:43:18.492342Z",
     "start_time": "2018-12-11T03:43:18.394997Z"
    }
   },
   "outputs": [
    {
     "data": {
      "text/plain": [
       "3"
      ]
     },
     "execution_count": 186,
     "metadata": {},
     "output_type": "execute_result"
    }
   ],
   "source": [
    "np_pred = np.array(MO_randomForest_pred)\n",
    "np_pred.data.ndim"
   ]
  },
  {
   "cell_type": "code",
   "execution_count": 201,
   "metadata": {
    "ExecuteTime": {
     "end_time": "2018-12-11T03:45:55.859824Z",
     "start_time": "2018-12-11T03:45:55.852869Z"
    }
   },
   "outputs": [
    {
     "data": {
      "text/plain": [
       "0.0"
      ]
     },
     "execution_count": 201,
     "metadata": {},
     "output_type": "execute_result"
    }
   ],
   "source": [
    "np_pred[0][0][1]"
   ]
  },
  {
   "cell_type": "code",
   "execution_count": 213,
   "metadata": {
    "ExecuteTime": {
     "end_time": "2018-12-11T03:51:32.552004Z",
     "start_time": "2018-12-11T03:51:32.548637Z"
    }
   },
   "outputs": [],
   "source": [
    "np_pred_t = np_pred.T[1]"
   ]
  },
  {
   "cell_type": "code",
   "execution_count": null,
   "metadata": {},
   "outputs": [],
   "source": [
    "## write predict to write csv function for submission\n",
    "# para1 : nd_arr_pred \n",
    "# para2: csv file name"
   ]
  },
  {
   "cell_type": "code",
   "execution_count": 219,
   "metadata": {
    "ExecuteTime": {
     "end_time": "2018-12-11T03:55:57.261796Z",
     "start_time": "2018-12-11T03:55:57.257395Z"
    }
   },
   "outputs": [
    {
     "data": {
      "text/plain": [
       "numpy.ndarray"
      ]
     },
     "execution_count": 219,
     "metadata": {},
     "output_type": "execute_result"
    }
   ],
   "source": [
    "type(np_pred_t)"
   ]
  },
  {
   "cell_type": "code",
   "execution_count": 222,
   "metadata": {
    "ExecuteTime": {
     "end_time": "2018-12-11T04:00:45.737855Z",
     "start_time": "2018-12-11T04:00:39.996548Z"
    }
   },
   "outputs": [],
   "source": [
    "df = pd.DataFrame(np_pred_t)\n",
    "df.to_csv(\"submission.csv\",header=target_104_data.columns)"
   ]
  },
  {
   "cell_type": "code",
   "execution_count": 91,
   "metadata": {
    "ExecuteTime": {
     "end_time": "2018-12-10T19:15:03.367482Z",
     "start_time": "2018-12-10T19:15:03.289344Z"
    },
    "scrolled": false
   },
   "outputs": [
    {
     "data": {
      "text/html": [
       "<div>\n",
       "<style scoped>\n",
       "    .dataframe tbody tr th:only-of-type {\n",
       "        vertical-align: middle;\n",
       "    }\n",
       "\n",
       "    .dataframe tbody tr th {\n",
       "        vertical-align: top;\n",
       "    }\n",
       "\n",
       "    .dataframe thead th {\n",
       "        text-align: right;\n",
       "    }\n",
       "</style>\n",
       "<table border=\"1\" class=\"dataframe\">\n",
       "  <thead>\n",
       "    <tr style=\"text-align: right;\">\n",
       "      <th></th>\n",
       "      <th>Model</th>\n",
       "      <th>Hyper parameter tuning</th>\n",
       "      <th>Micro Precision</th>\n",
       "      <th>Micro Recall</th>\n",
       "      <th>Micro F1 Score</th>\n",
       "      <th>Macro Precision</th>\n",
       "      <th>Macro Recall</th>\n",
       "      <th>Macro F1 Score</th>\n",
       "      <th>Runtime</th>\n",
       "    </tr>\n",
       "  </thead>\n",
       "  <tbody>\n",
       "    <tr>\n",
       "      <th>0</th>\n",
       "      <td>MultiOutputClassifier - SGD(Log Loss)</td>\n",
       "      <td>alpha=0.0001,penalty=l2</td>\n",
       "      <td>0.4241</td>\n",
       "      <td>0.4596</td>\n",
       "      <td>0.4411</td>\n",
       "      <td>0.0969</td>\n",
       "      <td>0.0931</td>\n",
       "      <td>0.0594</td>\n",
       "      <td>7.08s</td>\n",
       "    </tr>\n",
       "  </tbody>\n",
       "</table>\n",
       "</div>"
      ],
      "text/plain": [
       "                                   Model   Hyper parameter tuning  \\\n",
       "0  MultiOutputClassifier - SGD(Log Loss)  alpha=0.0001,penalty=l2   \n",
       "\n",
       "   Micro Precision  Micro Recall  Micro F1 Score  Macro Precision  \\\n",
       "0           0.4241        0.4596          0.4411           0.0969   \n",
       "\n",
       "   Macro Recall  Macro F1 Score Runtime  \n",
       "0        0.0931          0.0594   7.08s  "
      ]
     },
     "execution_count": 91,
     "metadata": {},
     "output_type": "execute_result"
    }
   ],
   "source": [
    "results.loc[len(results)] = [\"MultiOutputClassifier(RandomForest)\", \"alpha=0.0001,penalty=l2\",precision, recall,f1, macro_precision, macro_recall, macro_f1, np.round(runtime,4)]"
   ]
  },
  {
   "cell_type": "markdown",
   "metadata": {},
   "source": [
    "### MultiOutputClassifier - SGD Classifier"
   ]
  },
  {
   "cell_type": "code",
   "execution_count": 55,
   "metadata": {
    "ExecuteTime": {
     "end_time": "2018-12-10T18:54:19.142506Z",
     "start_time": "2018-12-10T18:54:19.123866Z"
    }
   },
   "outputs": [],
   "source": [
    "from sklearn.multioutput import MultiOutputClassifier\n",
    "from sklearn.linear_model import SGDClassifier \n",
    "from sklearn.svm import LinearSVC\n",
    "sgd_clf = Pipeline([\n",
    "  #  ('tfidf', TfidfVectorizer(sublinear_tf=True, max_df=0.5, analyzer='word', stop_words='english')),\n",
    "  #  ('clf', MultiOutputClassifier(LinearSVC()))\n",
    "    ('clf', MultiOutputClassifier(SGDClassifier(loss='log')))\n",
    "])"
   ]
  },
  {
   "cell_type": "code",
   "execution_count": 57,
   "metadata": {
    "ExecuteTime": {
     "end_time": "2018-12-10T18:57:00.852878Z",
     "start_time": "2018-12-10T18:54:23.843833Z"
    },
    "scrolled": true
   },
   "outputs": [],
   "source": [
    "start = time.time()\n",
    "sgd_clf.fit(prepared_data, y_train)\n",
    "\n",
    "runtime = time.time() - start\n",
    "sgd_predicted = sgd_clf.predict(prepared_test_data)"
   ]
  },
  {
   "cell_type": "code",
   "execution_count": null,
   "metadata": {},
   "outputs": [],
   "source": []
  },
  {
   "cell_type": "code",
   "execution_count": 59,
   "metadata": {
    "ExecuteTime": {
     "end_time": "2018-12-10T19:00:23.052460Z",
     "start_time": "2018-12-10T19:00:15.973518Z"
    }
   },
   "outputs": [
    {
     "name": "stdout",
     "output_type": "stream",
     "text": [
      "Micro-average quality numbers\n",
      "Precision: 0.350, Recall: 0.506, F1-measure: 0.414\n",
      "Macro-average quality numbers\n",
      "Precision: 0.044, Recall: 0.125, F1-measure: 0.058\n"
     ]
    },
    {
     "data": {
      "text/html": [
       "<div>\n",
       "<style scoped>\n",
       "    .dataframe tbody tr th:only-of-type {\n",
       "        vertical-align: middle;\n",
       "    }\n",
       "\n",
       "    .dataframe tbody tr th {\n",
       "        vertical-align: top;\n",
       "    }\n",
       "\n",
       "    .dataframe thead th {\n",
       "        text-align: right;\n",
       "    }\n",
       "</style>\n",
       "<table border=\"1\" class=\"dataframe\">\n",
       "  <thead>\n",
       "    <tr style=\"text-align: right;\">\n",
       "      <th></th>\n",
       "      <th>Model</th>\n",
       "      <th>Parameters</th>\n",
       "      <th>Micro Precision</th>\n",
       "      <th>Micro Recall</th>\n",
       "      <th>Micro F1 Score</th>\n",
       "      <th>Macro Precision</th>\n",
       "      <th>Macro Recall</th>\n",
       "      <th>Macro F1 Score</th>\n",
       "      <th>Runtime</th>\n",
       "    </tr>\n",
       "  </thead>\n",
       "  <tbody>\n",
       "    <tr>\n",
       "      <th>0</th>\n",
       "      <td>MultiOutputClassifier(LinearSVC)</td>\n",
       "      <td>C=1.0,penalty=l2,dual=True</td>\n",
       "      <td>0.249</td>\n",
       "      <td>0.218</td>\n",
       "      <td>0.232</td>\n",
       "      <td>0.033</td>\n",
       "      <td>0.073</td>\n",
       "      <td>0.027</td>\n",
       "      <td>0.0004</td>\n",
       "    </tr>\n",
       "    <tr>\n",
       "      <th>1</th>\n",
       "      <td>MultiOutputClassifier(LinearSVC)</td>\n",
       "      <td>C=1.0,penalty=l2,dual=True</td>\n",
       "      <td>0.249</td>\n",
       "      <td>0.218</td>\n",
       "      <td>0.232</td>\n",
       "      <td>0.033</td>\n",
       "      <td>0.073</td>\n",
       "      <td>0.027</td>\n",
       "      <td>0.0004</td>\n",
       "    </tr>\n",
       "    <tr>\n",
       "      <th>2</th>\n",
       "      <td>MultiOutputClassifier (SGD)</td>\n",
       "      <td>alpha=0.0001,penalty=l2</td>\n",
       "      <td>0.350</td>\n",
       "      <td>0.506</td>\n",
       "      <td>0.414</td>\n",
       "      <td>0.044</td>\n",
       "      <td>0.125</td>\n",
       "      <td>0.058</td>\n",
       "      <td>298.7522</td>\n",
       "    </tr>\n",
       "  </tbody>\n",
       "</table>\n",
       "</div>"
      ],
      "text/plain": [
       "                              Model                  Parameters  \\\n",
       "0  MultiOutputClassifier(LinearSVC)  C=1.0,penalty=l2,dual=True   \n",
       "1  MultiOutputClassifier(LinearSVC)  C=1.0,penalty=l2,dual=True   \n",
       "2       MultiOutputClassifier (SGD)     alpha=0.0001,penalty=l2   \n",
       "\n",
       "   Micro Precision  Micro Recall  Micro F1 Score  Macro Precision  \\\n",
       "0            0.249         0.218           0.232            0.033   \n",
       "1            0.249         0.218           0.232            0.033   \n",
       "2            0.350         0.506           0.414            0.044   \n",
       "\n",
       "   Macro Recall  Macro F1 Score   Runtime  \n",
       "0         0.073           0.027    0.0004  \n",
       "1         0.073           0.027    0.0004  \n",
       "2         0.125           0.058  298.7522  "
      ]
     },
     "execution_count": 59,
     "metadata": {},
     "output_type": "execute_result"
    }
   ],
   "source": [
    "# predicted = classifier.predict(X_test)\n",
    "\n",
    "precision, recall,f1, macro_precision, macro_recall, macro_f1 = evaluate(y_test, sgd_predicted)\n",
    "results.loc[len(results)] = [\"MultiOutputClassifier (SGD)\", \"alpha=0.0001,penalty=l2\",precision, recall,f1, macro_precision, macro_recall, macro_f1, np.round(runtime,4)]\n",
    "results"
   ]
  },
  {
   "cell_type": "code",
   "execution_count": null,
   "metadata": {},
   "outputs": [],
   "source": [
    "## we need it as a baseline accuracy for t-test\n",
    "baseline_modelscores = cross_val_score(classifier, x_train, y_train, cv=3)\n",
    "logit_score_train = baseline_modelscores.mean()\n",
    "train_time = np.round(time() - start, 4)"
   ]
  },
  {
   "cell_type": "code",
   "execution_count": 91,
   "metadata": {
    "ExecuteTime": {
     "end_time": "2018-12-10T19:15:03.367482Z",
     "start_time": "2018-12-10T19:15:03.289344Z"
    },
    "scrolled": true
   },
   "outputs": [
    {
     "data": {
      "text/html": [
       "<div>\n",
       "<style scoped>\n",
       "    .dataframe tbody tr th:only-of-type {\n",
       "        vertical-align: middle;\n",
       "    }\n",
       "\n",
       "    .dataframe tbody tr th {\n",
       "        vertical-align: top;\n",
       "    }\n",
       "\n",
       "    .dataframe thead th {\n",
       "        text-align: right;\n",
       "    }\n",
       "</style>\n",
       "<table border=\"1\" class=\"dataframe\">\n",
       "  <thead>\n",
       "    <tr style=\"text-align: right;\">\n",
       "      <th></th>\n",
       "      <th>Model</th>\n",
       "      <th>Hyper parameter tuning</th>\n",
       "      <th>Micro Precision</th>\n",
       "      <th>Micro Recall</th>\n",
       "      <th>Micro F1 Score</th>\n",
       "      <th>Macro Precision</th>\n",
       "      <th>Macro Recall</th>\n",
       "      <th>Macro F1 Score</th>\n",
       "      <th>Runtime</th>\n",
       "    </tr>\n",
       "  </thead>\n",
       "  <tbody>\n",
       "    <tr>\n",
       "      <th>0</th>\n",
       "      <td>MultiOutputClassifier - SGD(Log Loss)</td>\n",
       "      <td>alpha=0.0001,penalty=l2</td>\n",
       "      <td>0.4241</td>\n",
       "      <td>0.4596</td>\n",
       "      <td>0.4411</td>\n",
       "      <td>0.0969</td>\n",
       "      <td>0.0931</td>\n",
       "      <td>0.0594</td>\n",
       "      <td>7.08s</td>\n",
       "    </tr>\n",
       "  </tbody>\n",
       "</table>\n",
       "</div>"
      ],
      "text/plain": [
       "                                   Model   Hyper parameter tuning  \\\n",
       "0  MultiOutputClassifier - SGD(Log Loss)  alpha=0.0001,penalty=l2   \n",
       "\n",
       "   Micro Precision  Micro Recall  Micro F1 Score  Macro Precision  \\\n",
       "0           0.4241        0.4596          0.4411           0.0969   \n",
       "\n",
       "   Macro Recall  Macro F1 Score Runtime  \n",
       "0        0.0931          0.0594   7.08s  "
      ]
     },
     "execution_count": 91,
     "metadata": {},
     "output_type": "execute_result"
    }
   ],
   "source": [
    "#results.loc[len(results)] = [\"MultiOutputClassifier SGD(Log Loss)\", \"alpha=0.0001,penalty=l2\",precision, recall,f1, macro_precision, macro_recall, macro_f1, np.round(runtime,4)]\n",
    "#results"
   ]
  },
  {
   "cell_type": "code",
   "execution_count": 135,
   "metadata": {
    "ExecuteTime": {
     "end_time": "2018-12-12T06:42:44.362404Z",
     "start_time": "2018-12-12T06:42:44.359730Z"
    },
    "scrolled": true
   },
   "outputs": [],
   "source": [
    "#predicted[:5]"
   ]
  },
  {
   "cell_type": "code",
   "execution_count": null,
   "metadata": {},
   "outputs": [],
   "source": []
  },
  {
   "cell_type": "code",
   "execution_count": 200,
   "metadata": {
    "ExecuteTime": {
     "end_time": "2018-12-01T14:45:46.796011Z",
     "start_time": "2018-12-01T14:32:09.800439Z"
    },
    "scrolled": true
   },
   "outputs": [
    {
     "name": "stdout",
     "output_type": "stream",
     "text": [
      "Category Function : Test accuracy is 0.95\n",
      "Category Use : Test accuracy is 0.96\n",
      "Category Sharing : Test accuracy is 0.96\n",
      "Category Reporting : Test accuracy is 0.97\n",
      "Category Student_Type : Test accuracy is 0.97\n",
      "Category Position_Type : Test accuracy is 0.97\n",
      "Category Object_Type : Test accuracy is 0.98\n",
      "Category Pre_K : Test accuracy is 0.99\n",
      "Category Operating_Status : Test accuracy is 0.98\n"
     ]
    }
   ],
   "source": [
    "for category in cat_list:\n",
    "    LR_pipeline.fit(df_train['all'], df_train[category])\n",
    "    prediction = LR_pipeline.predict(df_val['all'])\n",
    "    print('Category {} : Test accuracy is {}'.format(category, np.round(accuracy_score(df_val[category], prediction),2)))"
   ]
  },
  {
   "cell_type": "markdown",
   "metadata": {},
   "source": [
    "###  MultiOutput Classifier Logistic Regression "
   ]
  },
  {
   "cell_type": "code",
   "execution_count": 62,
   "metadata": {
    "ExecuteTime": {
     "end_time": "2018-12-11T18:39:55.876027Z",
     "start_time": "2018-12-11T18:37:24.805264Z"
    }
   },
   "outputs": [],
   "source": [
    "## logistic regression as Baseline model\n",
    "from sklearn.multioutput import MultiOutputClassifier\n",
    "from sklearn.linear_model import LogisticRegression\n",
    "start = time.time()\n",
    "\n",
    "logreg_clf = MultiOutputClassifier(LogisticRegression())\n",
    "\n",
    "\n",
    "runtime = np.round(time.time()- start,4)"
   ]
  },
  {
   "cell_type": "code",
   "execution_count": 63,
   "metadata": {},
   "outputs": [
    {
     "data": {
      "text/plain": [
       "MultiOutputClassifier(estimator=LogisticRegression(C=1.0, class_weight=None, dual=False, fit_intercept=True,\n",
       "          intercept_scaling=1, max_iter=100, multi_class='ovr', n_jobs=1,\n",
       "          penalty='l2', random_state=None, solver='liblinear', tol=0.0001,\n",
       "          verbose=0, warm_start=False),\n",
       "           n_jobs=1)"
      ]
     },
     "execution_count": 63,
     "metadata": {},
     "output_type": "execute_result"
    }
   ],
   "source": [
    "logreg_clf.fit(prepared_data, y_train)"
   ]
  },
  {
   "cell_type": "code",
   "execution_count": 61,
   "metadata": {
    "ExecuteTime": {
     "end_time": "2018-12-11T18:40:10.427287Z",
     "start_time": "2018-12-11T18:40:03.105575Z"
    }
   },
   "outputs": [],
   "source": [
    "logreg_predicted = logreg_clf.predict(prepared_test_data)\n",
    "\n",
    "\n"
   ]
  },
  {
   "cell_type": "code",
   "execution_count": 64,
   "metadata": {
    "ExecuteTime": {
     "end_time": "2018-12-11T18:40:48.730579Z",
     "start_time": "2018-12-11T18:40:37.396344Z"
    }
   },
   "outputs": [
    {
     "name": "stdout",
     "output_type": "stream",
     "text": [
      "Micro-average quality numbers\n",
      "Precision: 0.661, Recall: 0.441, F1-measure: 0.529\n",
      "Macro-average quality numbers\n",
      "Precision: 0.038, Recall: 0.058, F1-measure: 0.046\n"
     ]
    },
    {
     "data": {
      "text/html": [
       "<div>\n",
       "<style scoped>\n",
       "    .dataframe tbody tr th:only-of-type {\n",
       "        vertical-align: middle;\n",
       "    }\n",
       "\n",
       "    .dataframe tbody tr th {\n",
       "        vertical-align: top;\n",
       "    }\n",
       "\n",
       "    .dataframe thead th {\n",
       "        text-align: right;\n",
       "    }\n",
       "</style>\n",
       "<table border=\"1\" class=\"dataframe\">\n",
       "  <thead>\n",
       "    <tr style=\"text-align: right;\">\n",
       "      <th></th>\n",
       "      <th>Model</th>\n",
       "      <th>Parameters</th>\n",
       "      <th>Micro Precision</th>\n",
       "      <th>Micro Recall</th>\n",
       "      <th>Micro F1 Score</th>\n",
       "      <th>Macro Precision</th>\n",
       "      <th>Macro Recall</th>\n",
       "      <th>Macro F1 Score</th>\n",
       "      <th>Runtime</th>\n",
       "    </tr>\n",
       "  </thead>\n",
       "  <tbody>\n",
       "    <tr>\n",
       "      <th>0</th>\n",
       "      <td>MultiOutputClassifier(LinearSVC)</td>\n",
       "      <td>C=1.0,penalty=l2,dual=True</td>\n",
       "      <td>0.249</td>\n",
       "      <td>0.218</td>\n",
       "      <td>0.232</td>\n",
       "      <td>0.033</td>\n",
       "      <td>0.073</td>\n",
       "      <td>0.027</td>\n",
       "      <td>0.0004</td>\n",
       "    </tr>\n",
       "    <tr>\n",
       "      <th>1</th>\n",
       "      <td>MultiOutputClassifier(LinearSVC)</td>\n",
       "      <td>C=1.0,penalty=l2,dual=True</td>\n",
       "      <td>0.249</td>\n",
       "      <td>0.218</td>\n",
       "      <td>0.232</td>\n",
       "      <td>0.033</td>\n",
       "      <td>0.073</td>\n",
       "      <td>0.027</td>\n",
       "      <td>0.0004</td>\n",
       "    </tr>\n",
       "    <tr>\n",
       "      <th>2</th>\n",
       "      <td>MultiOutputClassifier (SGD)</td>\n",
       "      <td>alpha=0.0001,penalty=l2</td>\n",
       "      <td>0.350</td>\n",
       "      <td>0.506</td>\n",
       "      <td>0.414</td>\n",
       "      <td>0.044</td>\n",
       "      <td>0.125</td>\n",
       "      <td>0.058</td>\n",
       "      <td>298.7522</td>\n",
       "    </tr>\n",
       "    <tr>\n",
       "      <th>3</th>\n",
       "      <td>MultiOutputClassifier (Logistic Reg)</td>\n",
       "      <td>C=1.0',penalty=l2, dual=False</td>\n",
       "      <td>0.661</td>\n",
       "      <td>0.441</td>\n",
       "      <td>0.529</td>\n",
       "      <td>0.038</td>\n",
       "      <td>0.058</td>\n",
       "      <td>0.046</td>\n",
       "      <td>0.0031</td>\n",
       "    </tr>\n",
       "  </tbody>\n",
       "</table>\n",
       "</div>"
      ],
      "text/plain": [
       "                                  Model                     Parameters  \\\n",
       "0      MultiOutputClassifier(LinearSVC)     C=1.0,penalty=l2,dual=True   \n",
       "1      MultiOutputClassifier(LinearSVC)     C=1.0,penalty=l2,dual=True   \n",
       "2           MultiOutputClassifier (SGD)        alpha=0.0001,penalty=l2   \n",
       "3  MultiOutputClassifier (Logistic Reg)  C=1.0',penalty=l2, dual=False   \n",
       "\n",
       "   Micro Precision  Micro Recall  Micro F1 Score  Macro Precision  \\\n",
       "0            0.249         0.218           0.232            0.033   \n",
       "1            0.249         0.218           0.232            0.033   \n",
       "2            0.350         0.506           0.414            0.044   \n",
       "3            0.661         0.441           0.529            0.038   \n",
       "\n",
       "   Macro Recall  Macro F1 Score   Runtime  \n",
       "0         0.073           0.027    0.0004  \n",
       "1         0.073           0.027    0.0004  \n",
       "2         0.125           0.058  298.7522  \n",
       "3         0.058           0.046    0.0031  "
      ]
     },
     "execution_count": 64,
     "metadata": {},
     "output_type": "execute_result"
    }
   ],
   "source": [
    "precision, recall,f1, macro_precision, macro_recall, macro_f1 = evaluate(y_test, logreg_predicted)\n",
    "results.loc[len(results)] = [\"MultiOutputClassifier (Logistic Reg)\", \"C=1.0',penalty=l2, dual=False\",precision, recall,f1, macro_precision, macro_recall, macro_f1, np.round(runtime,4)]\n",
    "results"
   ]
  },
  {
   "cell_type": "code",
   "execution_count": 65,
   "metadata": {},
   "outputs": [],
   "source": [
    "logreg_probabs = logreg_clf.predict_proba(prepared_test_data)"
   ]
  },
  {
   "cell_type": "code",
   "execution_count": 68,
   "metadata": {},
   "outputs": [],
   "source": [
    "write_predict_tocsv(logreg_probabs, \"logregProbabs.csv\", target_104_data.columns, prepared_test_data['index'])"
   ]
  },
  {
   "cell_type": "code",
   "execution_count": 66,
   "metadata": {},
   "outputs": [
    {
     "data": {
      "text/plain": [
       "0    229958\n",
       "1    417668\n",
       "2     84272\n",
       "3     64760\n",
       "4    169914\n",
       "Name: index, dtype: int64"
      ]
     },
     "execution_count": 66,
     "metadata": {},
     "output_type": "execute_result"
    }
   ],
   "source": [
    "prepared_test_data['index'][:5]"
   ]
  },
  {
   "cell_type": "markdown",
   "metadata": {},
   "source": [
    "### MultiOutputClassifier with estimator Multinomial Naive Bayes"
   ]
  },
  {
   "cell_type": "code",
   "execution_count": 67,
   "metadata": {},
   "outputs": [],
   "source": [
    "from sklearn.multioutput import MultiOutputClassifier\n",
    "from sklearn.naive_bayes import MultinomialNB\n",
    "\n",
    "start = time.time()\n",
    "\n",
    "mnb_clf = MultiOutputClassifier(MultinomialNB())\n",
    "\n",
    "\n",
    "runtime = time.time()- start"
   ]
  },
  {
   "cell_type": "code",
   "execution_count": 68,
   "metadata": {},
   "outputs": [
    {
     "data": {
      "text/plain": [
       "MultiOutputClassifier(estimator=MultinomialNB(alpha=1.0, class_prior=None, fit_prior=True),\n",
       "           n_jobs=1)"
      ]
     },
     "execution_count": 68,
     "metadata": {},
     "output_type": "execute_result"
    }
   ],
   "source": [
    "mnb_clf.fit(prepared_data, y_train)"
   ]
  },
  {
   "cell_type": "code",
   "execution_count": 69,
   "metadata": {},
   "outputs": [],
   "source": [
    "mnb_predicted = mnb_clf.predict(prepared_test_data)"
   ]
  },
  {
   "cell_type": "code",
   "execution_count": 72,
   "metadata": {},
   "outputs": [
    {
     "name": "stdout",
     "output_type": "stream",
     "text": [
      "Micro-average quality numbers\n",
      "Precision: 0.659, Recall: 0.442, F1-measure: 0.529\n",
      "Macro-average quality numbers\n",
      "Precision: 0.185, Recall: 0.060, F1-measure: 0.050\n"
     ]
    },
    {
     "data": {
      "text/html": [
       "<div>\n",
       "<style scoped>\n",
       "    .dataframe tbody tr th:only-of-type {\n",
       "        vertical-align: middle;\n",
       "    }\n",
       "\n",
       "    .dataframe tbody tr th {\n",
       "        vertical-align: top;\n",
       "    }\n",
       "\n",
       "    .dataframe thead th {\n",
       "        text-align: right;\n",
       "    }\n",
       "</style>\n",
       "<table border=\"1\" class=\"dataframe\">\n",
       "  <thead>\n",
       "    <tr style=\"text-align: right;\">\n",
       "      <th></th>\n",
       "      <th>Model</th>\n",
       "      <th>Parameters</th>\n",
       "      <th>Micro Precision</th>\n",
       "      <th>Micro Recall</th>\n",
       "      <th>Micro F1 Score</th>\n",
       "      <th>Macro Precision</th>\n",
       "      <th>Macro Recall</th>\n",
       "      <th>Macro F1 Score</th>\n",
       "      <th>Runtime</th>\n",
       "    </tr>\n",
       "  </thead>\n",
       "  <tbody>\n",
       "    <tr>\n",
       "      <th>0</th>\n",
       "      <td>MultiOutputClassifier(LinearSVC)</td>\n",
       "      <td>C=1.0,penalty=l2,dual=True</td>\n",
       "      <td>0.249</td>\n",
       "      <td>0.218</td>\n",
       "      <td>0.232</td>\n",
       "      <td>0.033</td>\n",
       "      <td>0.073</td>\n",
       "      <td>0.027</td>\n",
       "      <td>0.0004</td>\n",
       "    </tr>\n",
       "    <tr>\n",
       "      <th>1</th>\n",
       "      <td>MultiOutputClassifier(LinearSVC)</td>\n",
       "      <td>C=1.0,penalty=l2,dual=True</td>\n",
       "      <td>0.249</td>\n",
       "      <td>0.218</td>\n",
       "      <td>0.232</td>\n",
       "      <td>0.033</td>\n",
       "      <td>0.073</td>\n",
       "      <td>0.027</td>\n",
       "      <td>0.0004</td>\n",
       "    </tr>\n",
       "    <tr>\n",
       "      <th>2</th>\n",
       "      <td>MultiOutputClassifier (SGD)</td>\n",
       "      <td>alpha=0.0001,penalty=l2</td>\n",
       "      <td>0.350</td>\n",
       "      <td>0.506</td>\n",
       "      <td>0.414</td>\n",
       "      <td>0.044</td>\n",
       "      <td>0.125</td>\n",
       "      <td>0.058</td>\n",
       "      <td>298.7522</td>\n",
       "    </tr>\n",
       "    <tr>\n",
       "      <th>3</th>\n",
       "      <td>MultiOutputClassifier (Logistic Reg)</td>\n",
       "      <td>C=1.0',penalty=l2, dual=False</td>\n",
       "      <td>0.661</td>\n",
       "      <td>0.441</td>\n",
       "      <td>0.529</td>\n",
       "      <td>0.038</td>\n",
       "      <td>0.058</td>\n",
       "      <td>0.046</td>\n",
       "      <td>0.0031</td>\n",
       "    </tr>\n",
       "    <tr>\n",
       "      <th>4</th>\n",
       "      <td>MultiOutputClassifier (MNB)</td>\n",
       "      <td>alpha=1.0,class_prior=None, fit_prior=none</td>\n",
       "      <td>0.661</td>\n",
       "      <td>0.441</td>\n",
       "      <td>0.529</td>\n",
       "      <td>0.038</td>\n",
       "      <td>0.058</td>\n",
       "      <td>0.046</td>\n",
       "      <td>0.0001</td>\n",
       "    </tr>\n",
       "    <tr>\n",
       "      <th>5</th>\n",
       "      <td>MultiOutputClassifier (MNB)</td>\n",
       "      <td>alpha=1.0,class_prior=None, fit_prior=none</td>\n",
       "      <td>0.659</td>\n",
       "      <td>0.442</td>\n",
       "      <td>0.529</td>\n",
       "      <td>0.185</td>\n",
       "      <td>0.060</td>\n",
       "      <td>0.050</td>\n",
       "      <td>0.0001</td>\n",
       "    </tr>\n",
       "  </tbody>\n",
       "</table>\n",
       "</div>"
      ],
      "text/plain": [
       "                                  Model  \\\n",
       "0      MultiOutputClassifier(LinearSVC)   \n",
       "1      MultiOutputClassifier(LinearSVC)   \n",
       "2           MultiOutputClassifier (SGD)   \n",
       "3  MultiOutputClassifier (Logistic Reg)   \n",
       "4           MultiOutputClassifier (MNB)   \n",
       "5           MultiOutputClassifier (MNB)   \n",
       "\n",
       "                                   Parameters  Micro Precision  Micro Recall  \\\n",
       "0                  C=1.0,penalty=l2,dual=True            0.249         0.218   \n",
       "1                  C=1.0,penalty=l2,dual=True            0.249         0.218   \n",
       "2                     alpha=0.0001,penalty=l2            0.350         0.506   \n",
       "3               C=1.0',penalty=l2, dual=False            0.661         0.441   \n",
       "4  alpha=1.0,class_prior=None, fit_prior=none            0.661         0.441   \n",
       "5  alpha=1.0,class_prior=None, fit_prior=none            0.659         0.442   \n",
       "\n",
       "   Micro F1 Score  Macro Precision  Macro Recall  Macro F1 Score   Runtime  \n",
       "0           0.232            0.033         0.073           0.027    0.0004  \n",
       "1           0.232            0.033         0.073           0.027    0.0004  \n",
       "2           0.414            0.044         0.125           0.058  298.7522  \n",
       "3           0.529            0.038         0.058           0.046    0.0031  \n",
       "4           0.529            0.038         0.058           0.046    0.0001  \n",
       "5           0.529            0.185         0.060           0.050    0.0001  "
      ]
     },
     "execution_count": 72,
     "metadata": {},
     "output_type": "execute_result"
    }
   ],
   "source": [
    "precision, recall,f1, macro_precision, macro_recall, macro_f1 = evaluate(y_test, mnb_predicted)\n",
    "results.loc[len(results)] = [\"MultiOutputClassifier (MNB)\", \"alpha=1.0,class_prior=None, fit_prior=none\",precision, recall,f1, macro_precision, macro_recall, macro_f1, np.round(runtime,4)]\n",
    "results"
   ]
  },
  {
   "cell_type": "code",
   "execution_count": 76,
   "metadata": {
    "ExecuteTime": {
     "end_time": "2018-12-11T19:09:42.060325Z",
     "start_time": "2018-12-11T19:09:40.091169Z"
    }
   },
   "outputs": [
    {
     "data": {
      "text/html": [
       "<div>\n",
       "<style scoped>\n",
       "    .dataframe tbody tr th:only-of-type {\n",
       "        vertical-align: middle;\n",
       "    }\n",
       "\n",
       "    .dataframe tbody tr th {\n",
       "        vertical-align: top;\n",
       "    }\n",
       "\n",
       "    .dataframe thead th {\n",
       "        text-align: right;\n",
       "    }\n",
       "</style>\n",
       "<table border=\"1\" class=\"dataframe\">\n",
       "  <thead>\n",
       "    <tr style=\"text-align: right;\">\n",
       "      <th></th>\n",
       "      <th>Model</th>\n",
       "      <th>Parameters</th>\n",
       "      <th>Micro Precision</th>\n",
       "      <th>Micro Recall</th>\n",
       "      <th>Micro F1 Score</th>\n",
       "      <th>Macro Precision</th>\n",
       "      <th>Macro Recall</th>\n",
       "      <th>Macro F1 Score</th>\n",
       "      <th>Runtime</th>\n",
       "    </tr>\n",
       "  </thead>\n",
       "  <tbody>\n",
       "    <tr>\n",
       "      <th>0</th>\n",
       "      <td>MultiOutputClassifier(LinearSVC)</td>\n",
       "      <td>C=1.0,penalty=l2,dual=True</td>\n",
       "      <td>0.249</td>\n",
       "      <td>0.218</td>\n",
       "      <td>0.232</td>\n",
       "      <td>0.033</td>\n",
       "      <td>0.073</td>\n",
       "      <td>0.027</td>\n",
       "      <td>0.0004</td>\n",
       "    </tr>\n",
       "    <tr>\n",
       "      <th>1</th>\n",
       "      <td>MultiOutputClassifier(LinearSVC)</td>\n",
       "      <td>C=1.0,penalty=l2,dual=True</td>\n",
       "      <td>0.249</td>\n",
       "      <td>0.218</td>\n",
       "      <td>0.232</td>\n",
       "      <td>0.033</td>\n",
       "      <td>0.073</td>\n",
       "      <td>0.027</td>\n",
       "      <td>0.0004</td>\n",
       "    </tr>\n",
       "    <tr>\n",
       "      <th>2</th>\n",
       "      <td>MultiOutputClassifier (SGD)</td>\n",
       "      <td>alpha=0.0001,penalty=l2</td>\n",
       "      <td>0.350</td>\n",
       "      <td>0.506</td>\n",
       "      <td>0.414</td>\n",
       "      <td>0.044</td>\n",
       "      <td>0.125</td>\n",
       "      <td>0.058</td>\n",
       "      <td>298.7522</td>\n",
       "    </tr>\n",
       "    <tr>\n",
       "      <th>3</th>\n",
       "      <td>MultiOutputClassifier (Logistic Reg)</td>\n",
       "      <td>C=1.0',penalty=l2, dual=False</td>\n",
       "      <td>0.661</td>\n",
       "      <td>0.441</td>\n",
       "      <td>0.529</td>\n",
       "      <td>0.038</td>\n",
       "      <td>0.058</td>\n",
       "      <td>0.046</td>\n",
       "      <td>0.0031</td>\n",
       "    </tr>\n",
       "    <tr>\n",
       "      <th>5</th>\n",
       "      <td>MultiOutputClassifier (MNB)</td>\n",
       "      <td>alpha=1.0,class_prior=None, fit_prior=none</td>\n",
       "      <td>0.659</td>\n",
       "      <td>0.442</td>\n",
       "      <td>0.529</td>\n",
       "      <td>0.185</td>\n",
       "      <td>0.060</td>\n",
       "      <td>0.050</td>\n",
       "      <td>0.0001</td>\n",
       "    </tr>\n",
       "  </tbody>\n",
       "</table>\n",
       "</div>"
      ],
      "text/plain": [
       "                                  Model  \\\n",
       "0      MultiOutputClassifier(LinearSVC)   \n",
       "1      MultiOutputClassifier(LinearSVC)   \n",
       "2           MultiOutputClassifier (SGD)   \n",
       "3  MultiOutputClassifier (Logistic Reg)   \n",
       "5           MultiOutputClassifier (MNB)   \n",
       "\n",
       "                                   Parameters  Micro Precision  Micro Recall  \\\n",
       "0                  C=1.0,penalty=l2,dual=True            0.249         0.218   \n",
       "1                  C=1.0,penalty=l2,dual=True            0.249         0.218   \n",
       "2                     alpha=0.0001,penalty=l2            0.350         0.506   \n",
       "3               C=1.0',penalty=l2, dual=False            0.661         0.441   \n",
       "5  alpha=1.0,class_prior=None, fit_prior=none            0.659         0.442   \n",
       "\n",
       "   Micro F1 Score  Macro Precision  Macro Recall  Macro F1 Score   Runtime  \n",
       "0           0.232            0.033         0.073           0.027    0.0004  \n",
       "1           0.232            0.033         0.073           0.027    0.0004  \n",
       "2           0.414            0.044         0.125           0.058  298.7522  \n",
       "3           0.529            0.038         0.058           0.046    0.0031  \n",
       "5           0.529            0.185         0.060           0.050    0.0001  "
      ]
     },
     "execution_count": 76,
     "metadata": {},
     "output_type": "execute_result"
    }
   ],
   "source": [
    "new_result =results.drop(4,axis =0)\n",
    "new_result\n"
   ]
  },
  {
   "cell_type": "code",
   "execution_count": null,
   "metadata": {},
   "outputs": [],
   "source": [
    "## checkcross cvalidate score, observed and predicted\n",
    "clf.score(X_test_transformed, y_test)\n"
   ]
  },
  {
   "cell_type": "markdown",
   "metadata": {},
   "source": [
    "# Grid Search - Hyperparamter Tuning "
   ]
  },
  {
   "cell_type": "code",
   "execution_count": null,
   "metadata": {},
   "outputs": [],
   "source": [
    "## GridSearch resutls\n",
    "gs_results = pd.DataFrame(columns =['Model', 'Best Parameters', 'Accuracy'])"
   ]
  },
  {
   "cell_type": "markdown",
   "metadata": {},
   "source": [
    "### GridSearch For MultiOutClassifier(SGDClassifier) for Best Parameters"
   ]
  },
  {
   "cell_type": "code",
   "execution_count": 77,
   "metadata": {
    "ExecuteTime": {
     "end_time": "2018-12-11T22:23:23.900596Z",
     "start_time": "2018-12-11T21:36:39.052337Z"
    }
   },
   "outputs": [
    {
     "data": {
      "text/plain": [
       "GridSearchCV(cv=2, error_score='raise',\n",
       "       estimator=MultiOutputClassifier(estimator=SGDClassifier(alpha=0.0001, average=False, class_weight=None, epsilon=0.1,\n",
       "       eta0=0.0, fit_intercept=True, l1_ratio=0.15,\n",
       "       learning_rate='optimal', loss='hinge', max_iter=None, n_iter=None,\n",
       "       n_jobs=1, penalty='l2', power_t=0.5, random_state=None,\n",
       "       shuffle=True, tol=None, verbose=0, warm_start=False),\n",
       "           n_jobs=1),\n",
       "       fit_params=None, iid=True, n_jobs=-1,\n",
       "       param_grid={'estimator__loss': ('log', 'hinge'), 'estimator__penalty': ('l1', 'l2'), 'estimator__alpha': (0.001, 0.001, 0.1)},\n",
       "       pre_dispatch='2*n_jobs', refit=True, return_train_score='warn',\n",
       "       scoring='accuracy', verbose=0)"
      ]
     },
     "execution_count": 77,
     "metadata": {},
     "output_type": "execute_result"
    }
   ],
   "source": [
    "## This works, i was just checking, i stopped the kernel\n",
    "\n",
    "clf = MultiOutputClassifier(SGDClassifier())\n",
    "param_grid = {\n",
    "            'estimator__alpha': (0.001,0.001, 0.1,),        ## access parameters for the estimator inside\n",
    "            'estimator__penalty': ('l1','l2'),  ## the MultioutputClassifier step by using\n",
    "            'estimator__loss': ('log', 'hinge')        \n",
    "        }\n",
    "\n",
    "gs_model = GridSearchCV(clf, param_grid, cv =2,scoring = 'accuracy', n_jobs=-1)\n",
    "gs_model.fit(prepared_data, y_train)"
   ]
  },
  {
   "cell_type": "code",
   "execution_count": 81,
   "metadata": {},
   "outputs": [
    {
     "data": {
      "text/plain": [
       "{'estimator__alpha': 0.001,\n",
       " 'estimator__loss': 'log',\n",
       " 'estimator__penalty': 'l1'}"
      ]
     },
     "execution_count": 81,
     "metadata": {},
     "output_type": "execute_result"
    }
   ],
   "source": [
    "gs_model.best_params_"
   ]
  },
  {
   "cell_type": "code",
   "execution_count": 82,
   "metadata": {},
   "outputs": [
    {
     "data": {
      "text/plain": [
       "MultiOutputClassifier(estimator=SGDClassifier(alpha=0.001, average=False, class_weight=None, epsilon=0.1,\n",
       "       eta0=0.0, fit_intercept=True, l1_ratio=0.15,\n",
       "       learning_rate='optimal', loss='log', max_iter=None, n_iter=None,\n",
       "       n_jobs=1, penalty='l1', power_t=0.5, random_state=None,\n",
       "       shuffle=True, tol=None, verbose=0, warm_start=False),\n",
       "           n_jobs=1)"
      ]
     },
     "execution_count": 82,
     "metadata": {},
     "output_type": "execute_result"
    }
   ],
   "source": [
    "gs_model.best_estimator_"
   ]
  },
  {
   "cell_type": "code",
   "execution_count": null,
   "metadata": {},
   "outputs": [],
   "source": [
    "gs_model.best_estimator.predict(prepared_test_data)\n"
   ]
  },
  {
   "cell_type": "markdown",
   "metadata": {},
   "source": [
    "## Grid search LinearSVc"
   ]
  },
  {
   "cell_type": "code",
   "execution_count": null,
   "metadata": {
    "ExecuteTime": {
     "end_time": "2018-12-12T01:19:56.130574Z",
     "start_time": "2018-12-11T22:55:00.513874Z"
    }
   },
   "outputs": [],
   "source": [
    "\n",
    "clf_svc = MultiOutputClassifier(LinearSVC())\n",
    "param_grid = {\n",
    "            'estimator__max_iter': (100, 200, 600),     \n",
    "            'estimator__loss': ('squared_hinge', 'hinge'),\n",
    "            'estimator__C': (1, 0.1, 0.01),        \n",
    "        }\n",
    "\n",
    "gs_svcmodel = GridSearchCV(clf_svc, param_grid, cv =2, scoring = 'accuracy', n_jobs=-1)\n",
    "gs_svcmodel.fit(prepared_data, y_train)"
   ]
  },
  {
   "cell_type": "markdown",
   "metadata": {},
   "source": [
    "## Grid Search for MultiOutputClassifier(MultinomialNB) "
   ]
  },
  {
   "cell_type": "code",
   "execution_count": 80,
   "metadata": {
    "ExecuteTime": {
     "end_time": "2018-12-12T01:45:08.916302Z",
     "start_time": "2018-12-12T01:45:06.353818Z"
    }
   },
   "outputs": [
    {
     "data": {
      "text/plain": [
       "GridSearchCV(cv=2, error_score='raise',\n",
       "       estimator=MultiOutputClassifier(estimator=MultinomialNB(alpha=1.0, class_prior=None, fit_prior=True),\n",
       "           n_jobs=1),\n",
       "       fit_params=None, iid=True, n_jobs=-1,\n",
       "       param_grid={'estimator__fit_prior': ('True', 'False'), 'estimator__alpha': [0.0001, 0.001, 0.1, 1.0]},\n",
       "       pre_dispatch='2*n_jobs', refit=True, return_train_score='warn',\n",
       "       scoring='accuracy', verbose=0)"
      ]
     },
     "execution_count": 80,
     "metadata": {},
     "output_type": "execute_result"
    }
   ],
   "source": [
    "## Grid search for RandomForest Classifier\n",
    "from sklearn.naive_bayes import MultinomialNB\n",
    "\n",
    "clf_MNB = MultiOutputClassifier(MultinomialNB())\n",
    "param_grid = {\n",
    "            'estimator__alpha': [0.0001, 0.001, 0.1, 1.0],\n",
    "            'estimator__fit_prior': ('True', 'False'),\n",
    "            #'estimator__class_prior': ('True'),        \n",
    "                                   \n",
    "        }\n",
    "\n",
    "gs_MNBmodel = GridSearchCV(clf_MNB, param_grid, cv =2,scoring = 'accuracy', n_jobs=-1)\n",
    "gs_MNBmodel.fit(prepared_data, y_train)"
   ]
  },
  {
   "cell_type": "code",
   "execution_count": 89,
   "metadata": {},
   "outputs": [
    {
     "data": {
      "text/plain": [
       "{'estimator__alpha': 0.0001, 'estimator__fit_prior': 'True'}"
      ]
     },
     "execution_count": 89,
     "metadata": {},
     "output_type": "execute_result"
    }
   ],
   "source": [
    "gs_MNBmodel.best_params_"
   ]
  },
  {
   "cell_type": "code",
   "execution_count": 90,
   "metadata": {},
   "outputs": [
    {
     "data": {
      "text/plain": [
       "MultiOutputClassifier(estimator=MultinomialNB(alpha=0.0001, class_prior=None, fit_prior='True'),\n",
       "           n_jobs=1)"
      ]
     },
     "execution_count": 90,
     "metadata": {},
     "output_type": "execute_result"
    }
   ],
   "source": [
    "gs_MNBmodel.best_estimator_"
   ]
  },
  {
   "cell_type": "code",
   "execution_count": 103,
   "metadata": {},
   "outputs": [],
   "source": [
    "gsMNB_predict = gs_MNBmodel.predict(prepared_test_data)"
   ]
  },
  {
   "cell_type": "markdown",
   "metadata": {},
   "source": [
    "## GridSearch for MultiOutputClassifier(LogisticRegression)"
   ]
  },
  {
   "cell_type": "code",
   "execution_count": 93,
   "metadata": {
    "ExecuteTime": {
     "start_time": "2018-12-12T01:58:37.053Z"
    }
   },
   "outputs": [
    {
     "data": {
      "text/plain": [
       "GridSearchCV(cv=2, error_score='raise',\n",
       "       estimator=MultiOutputClassifier(estimator=LogisticRegression(C=1.0, class_weight=None, dual=False, fit_intercept=True,\n",
       "          intercept_scaling=1, max_iter=100, multi_class='ovr', n_jobs=1,\n",
       "          penalty='l2', random_state=None, solver='liblinear', tol=0.0001,\n",
       "          verbose=0, warm_start=False),\n",
       "           n_jobs=1),\n",
       "       fit_params=None, iid=True, n_jobs=-1,\n",
       "       param_grid={'estimator__C': (1.0, 10.0), 'estimator__penalty': ('l1', 'l2')},\n",
       "       pre_dispatch='2*n_jobs', refit=True, return_train_score='warn',\n",
       "       scoring='accuracy', verbose=0)"
      ]
     },
     "execution_count": 93,
     "metadata": {},
     "output_type": "execute_result"
    }
   ],
   "source": [
    "## Grid search for Logistic Regression with MultiOutputClassifier\n",
    "\n",
    "gs_lr = MultiOutputClassifier(LogisticRegression())\n",
    "param_grid = {\n",
    "            'estimator__penalty': ('l1', 'l2'),\n",
    "            'estimator__C': (1.0, 10.0 ),                   \n",
    "                                   \n",
    "        }\n",
    "\n",
    "gs_lr = GridSearchCV(gs_lr, param_grid, cv =2,scoring = 'accuracy', n_jobs=-1)\n",
    "gs_lr.fit(prepared_data, y_train)"
   ]
  },
  {
   "cell_type": "code",
   "execution_count": 96,
   "metadata": {},
   "outputs": [
    {
     "data": {
      "text/plain": [
       "{'estimator__C': 1.0, 'estimator__penalty': 'l1'}"
      ]
     },
     "execution_count": 96,
     "metadata": {},
     "output_type": "execute_result"
    }
   ],
   "source": [
    "gs_lr.best_params_"
   ]
  },
  {
   "cell_type": "code",
   "execution_count": 97,
   "metadata": {},
   "outputs": [
    {
     "data": {
      "text/plain": [
       "MultiOutputClassifier(estimator=LogisticRegression(C=1.0, class_weight=None, dual=False, fit_intercept=True,\n",
       "          intercept_scaling=1, max_iter=100, multi_class='ovr', n_jobs=1,\n",
       "          penalty='l1', random_state=None, solver='liblinear', tol=0.0001,\n",
       "          verbose=0, warm_start=False),\n",
       "           n_jobs=1)"
      ]
     },
     "execution_count": 97,
     "metadata": {},
     "output_type": "execute_result"
    }
   ],
   "source": [
    "gs_lr.best_estimator_"
   ]
  },
  {
   "cell_type": "code",
   "execution_count": 101,
   "metadata": {},
   "outputs": [],
   "source": [
    "gslr_predicts=gs_lr.predict(prepared_test_data)"
   ]
  },
  {
   "cell_type": "markdown",
   "metadata": {},
   "source": [
    "# Significance Testing"
   ]
  },
  {
   "cell_type": "code",
   "execution_count": 113,
   "metadata": {},
   "outputs": [],
   "source": [
    "\n",
    "#Control system is a MultiNB\n",
    "\n",
    "# Control Multinomial Naive Bayes\n",
    "control = accuracy_score(y_test, gsMNB_predict )\n",
    "\n",
    "#Treatment system - Logistic Regression\n",
    "treatment = accuracy_score( y_test,gslr_predicts)\n",
    "\n",
    "#paired t-test; two-tailed p-value (aka two-sided)\n",
    "(t_score, p_value) = stats.ttest_rel(control, treatment)"
   ]
  },
  {
   "cell_type": "code",
   "execution_count": 1,
   "metadata": {
    "ExecuteTime": {
     "end_time": "2018-12-13T04:39:06.891806Z",
     "start_time": "2018-12-13T04:39:06.886663Z"
    }
   },
   "outputs": [],
   "source": [
    "print(\"The p-value is %0.5f for a t-score of %0.5f.\" %(p_value, t_score))\n",
    "#\"The p-value is 0.00019 for a t-score of -4.28218.\" \n",
    "if pvalue > 0.05/2:  #Two sided \n",
    "    print('There is no significant difference between the two machine learning pipelines (Accept H0)')\n",
    "else:\n",
    "    print('The two machine learning pipelines are different (reject H0) \\n(t_score, p_value) = (%.2f, %.5f)'%(t_score, p_value) )\n",
    "    if t_score < 0.0:\n",
    "        print('Machine learning pipeline A is better than B')\n",
    "    else:\n",
    "        print('Machine learning pipeline B is better than A')"
   ]
  },
  {
   "cell_type": "markdown",
   "metadata": {},
   "source": [
    "* We need to work on Significance testing by running more experiments"
   ]
  },
  {
   "cell_type": "code",
   "execution_count": 110,
   "metadata": {},
   "outputs": [
    {
     "data": {
      "text/plain": [
       "(100069, 104)"
      ]
     },
     "execution_count": 110,
     "metadata": {},
     "output_type": "execute_result"
    }
   ],
   "source": [
    "y_test.shape"
   ]
  },
  {
   "cell_type": "code",
   "execution_count": 112,
   "metadata": {},
   "outputs": [
    {
     "data": {
      "text/plain": [
       "(100069, 104)"
      ]
     },
     "execution_count": 112,
     "metadata": {},
     "output_type": "execute_result"
    }
   ],
   "source": [
    "gslr_predicts.shape"
   ]
  },
  {
   "cell_type": "markdown",
   "metadata": {},
   "source": [
    "# Test data for Submission"
   ]
  },
  {
   "cell_type": "markdown",
   "metadata": {},
   "source": [
    "Since we have two imputation pipelines, we will impute our testing data on those pipelines before passing it for predictions"
   ]
  },
  {
   "cell_type": "markdown",
   "metadata": {},
   "source": [
    "## Load the full test data"
   ]
  },
  {
   "cell_type": "code",
   "execution_count": 36,
   "metadata": {
    "ExecuteTime": {
     "end_time": "2018-12-13T00:52:37.224851Z",
     "start_time": "2018-12-13T00:52:37.026299Z"
    },
    "scrolled": true
   },
   "outputs": [],
   "source": [
    "dd_test = load_data(path,\"TestData.csv\")\n",
    "dd_test['index'] = dd_test['Unnamed: 0']"
   ]
  },
  {
   "cell_type": "code",
   "execution_count": 37,
   "metadata": {
    "ExecuteTime": {
     "end_time": "2018-12-13T00:52:37.979063Z",
     "start_time": "2018-12-13T00:52:37.952332Z"
    }
   },
   "outputs": [
    {
     "data": {
      "text/html": [
       "<div>\n",
       "<style scoped>\n",
       "    .dataframe tbody tr th:only-of-type {\n",
       "        vertical-align: middle;\n",
       "    }\n",
       "\n",
       "    .dataframe tbody tr th {\n",
       "        vertical-align: top;\n",
       "    }\n",
       "\n",
       "    .dataframe thead th {\n",
       "        text-align: right;\n",
       "    }\n",
       "</style>\n",
       "<table border=\"1\" class=\"dataframe\">\n",
       "  <thead>\n",
       "    <tr style=\"text-align: right;\">\n",
       "      <th></th>\n",
       "      <th>Object_Description</th>\n",
       "      <th>Program_Description</th>\n",
       "      <th>SubFund_Description</th>\n",
       "      <th>Job_Title_Description</th>\n",
       "      <th>Facility_or_Department</th>\n",
       "      <th>Sub_Object_Description</th>\n",
       "      <th>Location_Description</th>\n",
       "      <th>FTE</th>\n",
       "      <th>Function_Description</th>\n",
       "      <th>Position_Extra</th>\n",
       "      <th>Text_4</th>\n",
       "      <th>Total</th>\n",
       "      <th>Text_2</th>\n",
       "      <th>Text_3</th>\n",
       "      <th>Fund_Description</th>\n",
       "      <th>Text_1</th>\n",
       "      <th>index</th>\n",
       "    </tr>\n",
       "  </thead>\n",
       "  <tbody>\n",
       "    <tr>\n",
       "      <th>0</th>\n",
       "      <td>Student Meals/Room/Other</td>\n",
       "      <td>Basic Educational Services</td>\n",
       "      <td>NaN</td>\n",
       "      <td>NaN</td>\n",
       "      <td>NaN</td>\n",
       "      <td>Line Item that is paid with Campus' money</td>\n",
       "      <td>School</td>\n",
       "      <td>NaN</td>\n",
       "      <td>Instruction</td>\n",
       "      <td>NaN</td>\n",
       "      <td>NaN</td>\n",
       "      <td>3999.910000</td>\n",
       "      <td>NaN</td>\n",
       "      <td>NaN</td>\n",
       "      <td>General Fund</td>\n",
       "      <td>NaN</td>\n",
       "      <td>180042</td>\n",
       "    </tr>\n",
       "    <tr>\n",
       "      <th>1</th>\n",
       "      <td>Extra Duty/Signing Bonus Pay</td>\n",
       "      <td>Undistributed</td>\n",
       "      <td>NaN</td>\n",
       "      <td>CHEERLEADER DIR</td>\n",
       "      <td>NaN</td>\n",
       "      <td>General</td>\n",
       "      <td>School</td>\n",
       "      <td>NaN</td>\n",
       "      <td>Cocurricular &amp; Extra Curricular Activities</td>\n",
       "      <td>NaN</td>\n",
       "      <td>NaN</td>\n",
       "      <td>3447.320213</td>\n",
       "      <td>NaN</td>\n",
       "      <td>NaN</td>\n",
       "      <td>General Fund</td>\n",
       "      <td>NaN</td>\n",
       "      <td>28872</td>\n",
       "    </tr>\n",
       "    <tr>\n",
       "      <th>2</th>\n",
       "      <td>Professional Salaries</td>\n",
       "      <td>Bilingual Education</td>\n",
       "      <td>NaN</td>\n",
       "      <td>T-EL 1ST BIL</td>\n",
       "      <td>NaN</td>\n",
       "      <td>General</td>\n",
       "      <td>School</td>\n",
       "      <td>1.0</td>\n",
       "      <td>Instruction</td>\n",
       "      <td>NaN</td>\n",
       "      <td>NaN</td>\n",
       "      <td>52738.780869</td>\n",
       "      <td>NaN</td>\n",
       "      <td>NaN</td>\n",
       "      <td>General Fund</td>\n",
       "      <td>NaN</td>\n",
       "      <td>186915</td>\n",
       "    </tr>\n",
       "    <tr>\n",
       "      <th>3</th>\n",
       "      <td>Professional Salaries</td>\n",
       "      <td>Bilingual Education</td>\n",
       "      <td>NaN</td>\n",
       "      <td>T-EL 2ND BIL</td>\n",
       "      <td>NaN</td>\n",
       "      <td>General</td>\n",
       "      <td>School</td>\n",
       "      <td>1.0</td>\n",
       "      <td>Instruction</td>\n",
       "      <td>NaN</td>\n",
       "      <td>NaN</td>\n",
       "      <td>69729.263191</td>\n",
       "      <td>NaN</td>\n",
       "      <td>NaN</td>\n",
       "      <td>General Fund</td>\n",
       "      <td>NaN</td>\n",
       "      <td>412396</td>\n",
       "    </tr>\n",
       "    <tr>\n",
       "      <th>4</th>\n",
       "      <td>Salaries for Support Personnel</td>\n",
       "      <td>Undistributed</td>\n",
       "      <td>NaN</td>\n",
       "      <td>CLERK III- SCH</td>\n",
       "      <td>NaN</td>\n",
       "      <td>General</td>\n",
       "      <td>School</td>\n",
       "      <td>1.0</td>\n",
       "      <td>School Leadership</td>\n",
       "      <td>NaN</td>\n",
       "      <td>NaN</td>\n",
       "      <td>29492.834215</td>\n",
       "      <td>NaN</td>\n",
       "      <td>NaN</td>\n",
       "      <td>General Fund</td>\n",
       "      <td>NaN</td>\n",
       "      <td>427740</td>\n",
       "    </tr>\n",
       "  </tbody>\n",
       "</table>\n",
       "</div>"
      ],
      "text/plain": [
       "               Object_Description         Program_Description  \\\n",
       "0        Student Meals/Room/Other  Basic Educational Services   \n",
       "1    Extra Duty/Signing Bonus Pay               Undistributed   \n",
       "2           Professional Salaries         Bilingual Education   \n",
       "3           Professional Salaries         Bilingual Education   \n",
       "4  Salaries for Support Personnel               Undistributed   \n",
       "\n",
       "  SubFund_Description Job_Title_Description Facility_or_Department  \\\n",
       "0                 NaN                   NaN                    NaN   \n",
       "1                 NaN       CHEERLEADER DIR                    NaN   \n",
       "2                 NaN          T-EL 1ST BIL                    NaN   \n",
       "3                 NaN          T-EL 2ND BIL                    NaN   \n",
       "4                 NaN        CLERK III- SCH                    NaN   \n",
       "\n",
       "                      Sub_Object_Description Location_Description  FTE  \\\n",
       "0  Line Item that is paid with Campus' money              School   NaN   \n",
       "1                                    General              School   NaN   \n",
       "2                                    General              School   1.0   \n",
       "3                                    General              School   1.0   \n",
       "4                                    General              School   1.0   \n",
       "\n",
       "                         Function_Description Position_Extra Text_4  \\\n",
       "0                                 Instruction            NaN    NaN   \n",
       "1  Cocurricular & Extra Curricular Activities            NaN    NaN   \n",
       "2                                 Instruction            NaN    NaN   \n",
       "3                                 Instruction            NaN    NaN   \n",
       "4                           School Leadership            NaN    NaN   \n",
       "\n",
       "          Total Text_2 Text_3 Fund_Description Text_1   index  \n",
       "0   3999.910000    NaN    NaN     General Fund    NaN  180042  \n",
       "1   3447.320213    NaN    NaN     General Fund    NaN   28872  \n",
       "2  52738.780869    NaN    NaN     General Fund    NaN  186915  \n",
       "3  69729.263191    NaN    NaN     General Fund    NaN  412396  \n",
       "4  29492.834215    NaN    NaN     General Fund    NaN  427740  "
      ]
     },
     "execution_count": 37,
     "metadata": {},
     "output_type": "execute_result"
    }
   ],
   "source": [
    "dd_test = dd_test.drop('Unnamed: 0', axis = 1)\n",
    "dd_test.head()"
   ]
  },
  {
   "cell_type": "code",
   "execution_count": 38,
   "metadata": {
    "ExecuteTime": {
     "end_time": "2018-12-13T00:52:43.454901Z",
     "start_time": "2018-12-13T00:52:43.440384Z"
    }
   },
   "outputs": [
    {
     "data": {
      "text/plain": [
       "(50064, 17)"
      ]
     },
     "execution_count": 38,
     "metadata": {},
     "output_type": "execute_result"
    }
   ],
   "source": [
    "dd_test = dd_test.drop_duplicates('index')\n",
    "dd_test.shape"
   ]
  },
  {
   "cell_type": "markdown",
   "metadata": {},
   "source": [
    "## Numerical pipeline"
   ]
  },
  {
   "cell_type": "code",
   "execution_count": 40,
   "metadata": {
    "ExecuteTime": {
     "end_time": "2018-12-13T00:53:03.338092Z",
     "start_time": "2018-12-13T00:53:01.443242Z"
    }
   },
   "outputs": [
    {
     "data": {
      "text/html": [
       "<div>\n",
       "<style scoped>\n",
       "    .dataframe tbody tr th:only-of-type {\n",
       "        vertical-align: middle;\n",
       "    }\n",
       "\n",
       "    .dataframe tbody tr th {\n",
       "        vertical-align: top;\n",
       "    }\n",
       "\n",
       "    .dataframe thead th {\n",
       "        text-align: right;\n",
       "    }\n",
       "</style>\n",
       "<table border=\"1\" class=\"dataframe\">\n",
       "  <thead>\n",
       "    <tr style=\"text-align: right;\">\n",
       "      <th></th>\n",
       "      <th>FTE</th>\n",
       "      <th>Total</th>\n",
       "      <th>index</th>\n",
       "    </tr>\n",
       "  </thead>\n",
       "  <tbody>\n",
       "    <tr>\n",
       "      <th>0</th>\n",
       "      <td>0.003183</td>\n",
       "      <td>0.002054</td>\n",
       "      <td>180042</td>\n",
       "    </tr>\n",
       "    <tr>\n",
       "      <th>1</th>\n",
       "      <td>0.002144</td>\n",
       "      <td>0.002053</td>\n",
       "      <td>28872</td>\n",
       "    </tr>\n",
       "    <tr>\n",
       "      <th>2</th>\n",
       "      <td>0.002861</td>\n",
       "      <td>0.002096</td>\n",
       "      <td>186915</td>\n",
       "    </tr>\n",
       "    <tr>\n",
       "      <th>3</th>\n",
       "      <td>0.002861</td>\n",
       "      <td>0.002111</td>\n",
       "      <td>412396</td>\n",
       "    </tr>\n",
       "    <tr>\n",
       "      <th>4</th>\n",
       "      <td>0.002861</td>\n",
       "      <td>0.002076</td>\n",
       "      <td>427740</td>\n",
       "    </tr>\n",
       "  </tbody>\n",
       "</table>\n",
       "</div>"
      ],
      "text/plain": [
       "        FTE     Total   index\n",
       "0  0.003183  0.002054  180042\n",
       "1  0.002144  0.002053   28872\n",
       "2  0.002861  0.002096  186915\n",
       "3  0.002861  0.002111  412396\n",
       "4  0.002861  0.002076  427740"
      ]
     },
     "execution_count": 40,
     "metadata": {},
     "output_type": "execute_result"
    }
   ],
   "source": [
    "# Fit for DrivenData submission\n",
    "num_attribs = ['Object_Description','Text_2','SubFund_Description','Job_Title_Description',\n",
    "                      'Text_3','Text_4','Sub_Object_Description','Location_Description','FTE',\n",
    "                      'Function_Description','Facility_or_Department','Position_Extra','Total',\n",
    "                      'Program_Description','Fund_Description','Text_1','index']\n",
    "num_impute_attribs = ['FTE','Total']\n",
    "datatype = np.dtype([('Object_Description',object),('Text_2',object),('SubFund_Description',object),('Job_Title_Description',object),('Text_3',object),('Text_4',object),('Sub_Object_Description',object),('Location_Description',object),('FTE',float),('Function_Description',object),('Facility_or_Department',object),('Position_Extra',object),('Total',float),('Program_Description',object),('Fund_Description',object),('Text_1',object),('index',int)])\n",
    "\n",
    "num_impute_pipeline_t =  Pipeline([\n",
    "        ('selector', DataFrameSelector(num_attribs)),\n",
    "        ('imputer', SelfImputer(num_impute_attribs,num_attribs,datatype,seed_strategy=\"most_frequent\"))\n",
    "    ])\n",
    "\n",
    "num_impute_pipeline_t.fit(dd_test)\n",
    "test_fin_num_imp = num_impute_pipeline_t.transform(dd_test)\n",
    "test_fin_num_imp.head()"
   ]
  },
  {
   "cell_type": "markdown",
   "metadata": {},
   "source": [
    "## Categorical Pipeline"
   ]
  },
  {
   "cell_type": "code",
   "execution_count": 50,
   "metadata": {
    "ExecuteTime": {
     "end_time": "2018-12-13T00:55:14.548410Z",
     "start_time": "2018-12-13T00:55:13.336031Z"
    }
   },
   "outputs": [
    {
     "name": "stdout",
     "output_type": "stream",
     "text": [
      "0    Student Meals/Room/Other nan nan nan nan nan L...\n",
      "1    Extra Duty/Signing Bonus Pay nan nan CHEERLEAD...\n",
      "2    Professional Salaries nan nan T-EL 1ST BIL nan...\n",
      "3    Professional Salaries nan nan T-EL 2ND BIL nan...\n",
      "4    Salaries for Support Personnel nan nan CLERK I...\n",
      "dtype: object\n"
     ]
    }
   ],
   "source": [
    "test_f_imp = cat_pipeline.transform(dd_test)"
   ]
  },
  {
   "cell_type": "code",
   "execution_count": 51,
   "metadata": {
    "ExecuteTime": {
     "end_time": "2018-12-13T00:55:16.585162Z",
     "start_time": "2018-12-13T00:55:15.831272Z"
    }
   },
   "outputs": [],
   "source": [
    "test_f_vec = vect.transform(test_f_imp[\"All\"]) #transforming test based on train fitted method"
   ]
  },
  {
   "cell_type": "code",
   "execution_count": 52,
   "metadata": {
    "ExecuteTime": {
     "end_time": "2018-12-13T00:55:17.345404Z",
     "start_time": "2018-12-13T00:55:17.261397Z"
    }
   },
   "outputs": [
    {
     "data": {
      "text/plain": [
       "(50064, 427)"
      ]
     },
     "execution_count": 52,
     "metadata": {},
     "output_type": "execute_result"
    }
   ],
   "source": [
    "cat_tok_dd_test = pd.SparseDataFrame(test_f_vec, columns=vect.get_feature_names(), default_fill_value=0)\n",
    "cat_tok_dd_test.shape"
   ]
  },
  {
   "cell_type": "code",
   "execution_count": 53,
   "metadata": {
    "ExecuteTime": {
     "end_time": "2018-12-13T00:55:19.695590Z",
     "start_time": "2018-12-13T00:55:19.519451Z"
    }
   },
   "outputs": [
    {
     "data": {
      "text/html": [
       "<div>\n",
       "<style scoped>\n",
       "    .dataframe tbody tr th:only-of-type {\n",
       "        vertical-align: middle;\n",
       "    }\n",
       "\n",
       "    .dataframe tbody tr th {\n",
       "        vertical-align: top;\n",
       "    }\n",
       "\n",
       "    .dataframe thead th {\n",
       "        text-align: right;\n",
       "    }\n",
       "</style>\n",
       "<table border=\"1\" class=\"dataframe\">\n",
       "  <thead>\n",
       "    <tr style=\"text-align: right;\">\n",
       "      <th></th>\n",
       "      <th>60hrs</th>\n",
       "      <th>80hs</th>\n",
       "      <th>abatement</th>\n",
       "      <th>achiev</th>\n",
       "      <th>achievment</th>\n",
       "      <th>actually</th>\n",
       "      <th>actuary</th>\n",
       "      <th>adj</th>\n",
       "      <th>adjustme</th>\n",
       "      <th>administ</th>\n",
       "      <th>...</th>\n",
       "      <th>wingspread</th>\n",
       "      <th>wirelesscontvty</th>\n",
       "      <th>witness</th>\n",
       "      <th>women</th>\n",
       "      <th>worke</th>\n",
       "      <th>xerox</th>\n",
       "      <th>yard</th>\n",
       "      <th>zero</th>\n",
       "      <th>zone</th>\n",
       "      <th>zz</th>\n",
       "    </tr>\n",
       "  </thead>\n",
       "  <tbody>\n",
       "    <tr>\n",
       "      <th>0</th>\n",
       "      <td>0.0</td>\n",
       "      <td>0.0</td>\n",
       "      <td>0.0</td>\n",
       "      <td>0.0</td>\n",
       "      <td>0.0</td>\n",
       "      <td>0.0</td>\n",
       "      <td>0.0</td>\n",
       "      <td>0.0</td>\n",
       "      <td>0.0</td>\n",
       "      <td>0.0</td>\n",
       "      <td>...</td>\n",
       "      <td>0.0</td>\n",
       "      <td>0.0</td>\n",
       "      <td>0.0</td>\n",
       "      <td>0.0</td>\n",
       "      <td>0.0</td>\n",
       "      <td>0.0</td>\n",
       "      <td>0.0</td>\n",
       "      <td>0.0</td>\n",
       "      <td>0.0</td>\n",
       "      <td>0.0</td>\n",
       "    </tr>\n",
       "    <tr>\n",
       "      <th>1</th>\n",
       "      <td>0.0</td>\n",
       "      <td>0.0</td>\n",
       "      <td>0.0</td>\n",
       "      <td>0.0</td>\n",
       "      <td>0.0</td>\n",
       "      <td>0.0</td>\n",
       "      <td>0.0</td>\n",
       "      <td>0.0</td>\n",
       "      <td>0.0</td>\n",
       "      <td>0.0</td>\n",
       "      <td>...</td>\n",
       "      <td>0.0</td>\n",
       "      <td>0.0</td>\n",
       "      <td>0.0</td>\n",
       "      <td>0.0</td>\n",
       "      <td>0.0</td>\n",
       "      <td>0.0</td>\n",
       "      <td>0.0</td>\n",
       "      <td>0.0</td>\n",
       "      <td>0.0</td>\n",
       "      <td>0.0</td>\n",
       "    </tr>\n",
       "    <tr>\n",
       "      <th>2</th>\n",
       "      <td>0.0</td>\n",
       "      <td>0.0</td>\n",
       "      <td>0.0</td>\n",
       "      <td>0.0</td>\n",
       "      <td>0.0</td>\n",
       "      <td>0.0</td>\n",
       "      <td>0.0</td>\n",
       "      <td>0.0</td>\n",
       "      <td>0.0</td>\n",
       "      <td>0.0</td>\n",
       "      <td>...</td>\n",
       "      <td>0.0</td>\n",
       "      <td>0.0</td>\n",
       "      <td>0.0</td>\n",
       "      <td>0.0</td>\n",
       "      <td>0.0</td>\n",
       "      <td>0.0</td>\n",
       "      <td>0.0</td>\n",
       "      <td>0.0</td>\n",
       "      <td>0.0</td>\n",
       "      <td>0.0</td>\n",
       "    </tr>\n",
       "    <tr>\n",
       "      <th>3</th>\n",
       "      <td>0.0</td>\n",
       "      <td>0.0</td>\n",
       "      <td>0.0</td>\n",
       "      <td>0.0</td>\n",
       "      <td>0.0</td>\n",
       "      <td>0.0</td>\n",
       "      <td>0.0</td>\n",
       "      <td>0.0</td>\n",
       "      <td>0.0</td>\n",
       "      <td>0.0</td>\n",
       "      <td>...</td>\n",
       "      <td>0.0</td>\n",
       "      <td>0.0</td>\n",
       "      <td>0.0</td>\n",
       "      <td>0.0</td>\n",
       "      <td>0.0</td>\n",
       "      <td>0.0</td>\n",
       "      <td>0.0</td>\n",
       "      <td>0.0</td>\n",
       "      <td>0.0</td>\n",
       "      <td>0.0</td>\n",
       "    </tr>\n",
       "    <tr>\n",
       "      <th>4</th>\n",
       "      <td>0.0</td>\n",
       "      <td>0.0</td>\n",
       "      <td>0.0</td>\n",
       "      <td>0.0</td>\n",
       "      <td>0.0</td>\n",
       "      <td>0.0</td>\n",
       "      <td>0.0</td>\n",
       "      <td>0.0</td>\n",
       "      <td>0.0</td>\n",
       "      <td>0.0</td>\n",
       "      <td>...</td>\n",
       "      <td>0.0</td>\n",
       "      <td>0.0</td>\n",
       "      <td>0.0</td>\n",
       "      <td>0.0</td>\n",
       "      <td>0.0</td>\n",
       "      <td>0.0</td>\n",
       "      <td>0.0</td>\n",
       "      <td>0.0</td>\n",
       "      <td>0.0</td>\n",
       "      <td>0.0</td>\n",
       "    </tr>\n",
       "  </tbody>\n",
       "</table>\n",
       "<p>5 rows × 427 columns</p>\n",
       "</div>"
      ],
      "text/plain": [
       "   60hrs  80hs  abatement  achiev  achievment  actually  actuary  adj  \\\n",
       "0    0.0   0.0        0.0     0.0         0.0       0.0      0.0  0.0   \n",
       "1    0.0   0.0        0.0     0.0         0.0       0.0      0.0  0.0   \n",
       "2    0.0   0.0        0.0     0.0         0.0       0.0      0.0  0.0   \n",
       "3    0.0   0.0        0.0     0.0         0.0       0.0      0.0  0.0   \n",
       "4    0.0   0.0        0.0     0.0         0.0       0.0      0.0  0.0   \n",
       "\n",
       "   adjustme  administ ...   wingspread  wirelesscontvty  witness  women  \\\n",
       "0       0.0       0.0 ...          0.0              0.0      0.0    0.0   \n",
       "1       0.0       0.0 ...          0.0              0.0      0.0    0.0   \n",
       "2       0.0       0.0 ...          0.0              0.0      0.0    0.0   \n",
       "3       0.0       0.0 ...          0.0              0.0      0.0    0.0   \n",
       "4       0.0       0.0 ...          0.0              0.0      0.0    0.0   \n",
       "\n",
       "   worke  xerox  yard  zero  zone   zz  \n",
       "0    0.0    0.0   0.0   0.0   0.0  0.0  \n",
       "1    0.0    0.0   0.0   0.0   0.0  0.0  \n",
       "2    0.0    0.0   0.0   0.0   0.0  0.0  \n",
       "3    0.0    0.0   0.0   0.0   0.0  0.0  \n",
       "4    0.0    0.0   0.0   0.0   0.0  0.0  \n",
       "\n",
       "[5 rows x 427 columns]"
      ]
     },
     "execution_count": 53,
     "metadata": {},
     "output_type": "execute_result"
    }
   ],
   "source": [
    "cat_tok_dd_test.head()"
   ]
  },
  {
   "cell_type": "markdown",
   "metadata": {},
   "source": [
    "## Merge both data sets"
   ]
  },
  {
   "cell_type": "code",
   "execution_count": 55,
   "metadata": {
    "ExecuteTime": {
     "end_time": "2018-12-13T00:56:02.954009Z",
     "start_time": "2018-12-13T00:56:02.925274Z"
    }
   },
   "outputs": [
    {
     "data": {
      "text/plain": [
       "(50064, 430)"
      ]
     },
     "execution_count": 55,
     "metadata": {},
     "output_type": "execute_result"
    }
   ],
   "source": [
    "prepared_F_test_data = pd.concat([test_fin_num_imp, cat_tok_dd_test], axis=1, join_axes=[cat_tok_dd_test.index])\n",
    "prepared_F_test_data.shape"
   ]
  },
  {
   "cell_type": "markdown",
   "metadata": {},
   "source": [
    "## Predict using Vanilla Logitistic Regression"
   ]
  },
  {
   "cell_type": "code",
   "execution_count": 93,
   "metadata": {
    "ExecuteTime": {
     "end_time": "2018-12-13T04:11:29.366355Z",
     "start_time": "2018-12-13T04:11:29.359201Z"
    }
   },
   "outputs": [],
   "source": [
    "##resutls comparison \n",
    "gs_results = pd.DataFrame(columns =['Model', 'Best Parameters', 'Accuracy', 'Runtime'])"
   ]
  },
  {
   "cell_type": "code",
   "execution_count": 59,
   "metadata": {
    "ExecuteTime": {
     "end_time": "2018-12-13T01:02:47.438441Z",
     "start_time": "2018-12-13T01:02:33.052202Z"
    }
   },
   "outputs": [],
   "source": [
    "# ran from cell 10.2.4\n",
    "logreg_predict_all = logreg_clf.predict_proba(prepared_F_test_data)"
   ]
  },
  {
   "cell_type": "code",
   "execution_count": 60,
   "metadata": {
    "ExecuteTime": {
     "end_time": "2018-12-13T01:03:16.156088Z",
     "start_time": "2018-12-13T01:03:07.891806Z"
    }
   },
   "outputs": [],
   "source": [
    "#create output file\n",
    "write_predict_tocsv(logreg_predict_all, \"logregProbabs.csv\", target_104_data.columns,\n",
    "                    prepared_F_test_data['index'])"
   ]
  },
  {
   "cell_type": "code",
   "execution_count": 94,
   "metadata": {
    "ExecuteTime": {
     "end_time": "2018-12-13T04:11:31.245713Z",
     "start_time": "2018-12-13T04:11:31.234040Z"
    }
   },
   "outputs": [
    {
     "data": {
      "text/html": [
       "<div>\n",
       "<style scoped>\n",
       "    .dataframe tbody tr th:only-of-type {\n",
       "        vertical-align: middle;\n",
       "    }\n",
       "\n",
       "    .dataframe tbody tr th {\n",
       "        vertical-align: top;\n",
       "    }\n",
       "\n",
       "    .dataframe thead th {\n",
       "        text-align: right;\n",
       "    }\n",
       "</style>\n",
       "<table border=\"1\" class=\"dataframe\">\n",
       "  <thead>\n",
       "    <tr style=\"text-align: right;\">\n",
       "      <th></th>\n",
       "      <th>Model</th>\n",
       "      <th>Best Parameters</th>\n",
       "      <th>Accuracy</th>\n",
       "      <th>Runtime</th>\n",
       "    </tr>\n",
       "  </thead>\n",
       "  <tbody>\n",
       "    <tr>\n",
       "      <th>0</th>\n",
       "      <td>Vanilla Logistic Regression</td>\n",
       "      <td>default</td>\n",
       "      <td>3.47</td>\n",
       "      <td>261.1875</td>\n",
       "    </tr>\n",
       "  </tbody>\n",
       "</table>\n",
       "</div>"
      ],
      "text/plain": [
       "                         Model Best Parameters  Accuracy   Runtime\n",
       "0  Vanilla Logistic Regression         default      3.47  261.1875"
      ]
     },
     "execution_count": 94,
     "metadata": {},
     "output_type": "execute_result"
    }
   ],
   "source": [
    "gs_results.loc[len(gs_results)] = [\"Vanilla Logistic Regression\", \"default\", 3.47 , 261.1875]\n",
    "gs_results"
   ]
  },
  {
   "attachments": {
    "image.png": {
     "image/png": "[encoded data removed]"
    }
   },
   "cell_type": "markdown",
   "metadata": {},
   "source": [
    "![image.png](attachment:image.png)"
   ]
  },
  {
   "cell_type": "markdown",
   "metadata": {
    "ExecuteTime": {
     "end_time": "2018-12-13T02:37:13.714982Z",
     "start_time": "2018-12-13T02:37:13.712259Z"
    }
   },
   "source": [
    "## Testing all the best models from Grid Search"
   ]
  },
  {
   "cell_type": "markdown",
   "metadata": {
    "ExecuteTime": {
     "end_time": "2018-12-13T02:54:36.314142Z",
     "start_time": "2018-12-13T02:54:36.310842Z"
    }
   },
   "source": [
    "### MultiNB"
   ]
  },
  {
   "cell_type": "code",
   "execution_count": 79,
   "metadata": {
    "ExecuteTime": {
     "end_time": "2018-12-13T02:57:53.233516Z",
     "start_time": "2018-12-13T02:57:05.907187Z"
    }
   },
   "outputs": [],
   "source": [
    "mnb_clf = MultiOutputClassifier(MultinomialNB(alpha=0.0001,fit_prior = True))\n",
    "start = time.time()\n",
    "mnb_clf.fit(prepared_data,target_104_data)\n",
    "runtime_mnb = time.time()- start"
   ]
  },
  {
   "cell_type": "code",
   "execution_count": 81,
   "metadata": {
    "ExecuteTime": {
     "end_time": "2018-12-13T02:58:45.008745Z",
     "start_time": "2018-12-13T02:58:28.536506Z"
    }
   },
   "outputs": [],
   "source": [
    "mnb_predict_all = mnb_clf.predict_proba(prepared_F_test_data)"
   ]
  },
  {
   "cell_type": "code",
   "execution_count": 82,
   "metadata": {
    "ExecuteTime": {
     "end_time": "2018-12-13T03:01:41.936736Z",
     "start_time": "2018-12-13T03:01:33.319850Z"
    }
   },
   "outputs": [],
   "source": [
    "#create output file\n",
    "write_predict_tocsv(mnb_predict_all, \"mnbProbabs.csv\", target_104_data.columns,\n",
    "                    prepared_F_test_data['index'])"
   ]
  },
  {
   "cell_type": "code",
   "execution_count": 96,
   "metadata": {
    "ExecuteTime": {
     "end_time": "2018-12-13T04:17:01.078308Z",
     "start_time": "2018-12-13T04:17:01.061433Z"
    }
   },
   "outputs": [
    {
     "data": {
      "text/html": [
       "<div>\n",
       "<style scoped>\n",
       "    .dataframe tbody tr th:only-of-type {\n",
       "        vertical-align: middle;\n",
       "    }\n",
       "\n",
       "    .dataframe tbody tr th {\n",
       "        vertical-align: top;\n",
       "    }\n",
       "\n",
       "    .dataframe thead th {\n",
       "        text-align: right;\n",
       "    }\n",
       "</style>\n",
       "<table border=\"1\" class=\"dataframe\">\n",
       "  <thead>\n",
       "    <tr style=\"text-align: right;\">\n",
       "      <th></th>\n",
       "      <th>Model</th>\n",
       "      <th>Best Parameters</th>\n",
       "      <th>Accuracy</th>\n",
       "      <th>Runtime</th>\n",
       "    </tr>\n",
       "  </thead>\n",
       "  <tbody>\n",
       "    <tr>\n",
       "      <th>0</th>\n",
       "      <td>Vanilla Logistic Regression</td>\n",
       "      <td>default</td>\n",
       "      <td>3.47</td>\n",
       "      <td>261.1875</td>\n",
       "    </tr>\n",
       "    <tr>\n",
       "      <th>1</th>\n",
       "      <td>MultiOutputClassifier(MultiNaïveBayes)</td>\n",
       "      <td>alpha=0.0001,fit_prior = True</td>\n",
       "      <td>2.83</td>\n",
       "      <td>47.3226</td>\n",
       "    </tr>\n",
       "  </tbody>\n",
       "</table>\n",
       "</div>"
      ],
      "text/plain": [
       "                                    Model                Best Parameters  \\\n",
       "0             Vanilla Logistic Regression                        default   \n",
       "1  MultiOutputClassifier(MultiNaïveBayes)  alpha=0.0001,fit_prior = True   \n",
       "\n",
       "   Accuracy   Runtime  \n",
       "0      3.47  261.1875  \n",
       "1      2.83   47.3226  "
      ]
     },
     "execution_count": 96,
     "metadata": {},
     "output_type": "execute_result"
    }
   ],
   "source": [
    "gs_results.loc[len(gs_results)] = [\"MultiOutputClassifier(MultiNaïveBayes)\", \"alpha=0.0001,fit_prior = True\", 2.83, np.round(runtime_mnb,4)]\n",
    "gs_results"
   ]
  },
  {
   "cell_type": "markdown",
   "metadata": {},
   "source": [
    "### Logistic Regression"
   ]
  },
  {
   "cell_type": "code",
   "execution_count": 83,
   "metadata": {
    "ExecuteTime": {
     "end_time": "2018-12-13T03:10:13.429102Z",
     "start_time": "2018-12-13T03:04:47.693230Z"
    }
   },
   "outputs": [],
   "source": [
    "lr_clf = MultiOutputClassifier(LogisticRegression(C=1.0,penalty='l1'))\n",
    "start = time.time()\n",
    "lr_clf.fit(prepared_data,target_104_data)\n",
    "runtime_lr = time.time()- start"
   ]
  },
  {
   "cell_type": "code",
   "execution_count": 85,
   "metadata": {
    "ExecuteTime": {
     "end_time": "2018-12-13T03:11:15.107634Z",
     "start_time": "2018-12-13T03:10:58.930846Z"
    },
    "scrolled": true
   },
   "outputs": [],
   "source": [
    "lr_predict_all = lr_clf.predict_proba(prepared_F_test_data)"
   ]
  },
  {
   "cell_type": "code",
   "execution_count": 86,
   "metadata": {
    "ExecuteTime": {
     "end_time": "2018-12-13T03:11:47.333687Z",
     "start_time": "2018-12-13T03:11:39.400645Z"
    }
   },
   "outputs": [],
   "source": [
    "#create output file\n",
    "write_predict_tocsv(lr_predict_all, \"lr_gs_Prob.csv\", target_104_data.columns,\n",
    "                    prepared_F_test_data['index'])"
   ]
  },
  {
   "cell_type": "code",
   "execution_count": 97,
   "metadata": {
    "ExecuteTime": {
     "end_time": "2018-12-13T04:17:19.451961Z",
     "start_time": "2018-12-13T04:17:19.439509Z"
    }
   },
   "outputs": [
    {
     "data": {
      "text/html": [
       "<div>\n",
       "<style scoped>\n",
       "    .dataframe tbody tr th:only-of-type {\n",
       "        vertical-align: middle;\n",
       "    }\n",
       "\n",
       "    .dataframe tbody tr th {\n",
       "        vertical-align: top;\n",
       "    }\n",
       "\n",
       "    .dataframe thead th {\n",
       "        text-align: right;\n",
       "    }\n",
       "</style>\n",
       "<table border=\"1\" class=\"dataframe\">\n",
       "  <thead>\n",
       "    <tr style=\"text-align: right;\">\n",
       "      <th></th>\n",
       "      <th>Model</th>\n",
       "      <th>Best Parameters</th>\n",
       "      <th>Accuracy</th>\n",
       "      <th>Runtime</th>\n",
       "    </tr>\n",
       "  </thead>\n",
       "  <tbody>\n",
       "    <tr>\n",
       "      <th>0</th>\n",
       "      <td>Vanilla Logistic Regression</td>\n",
       "      <td>default</td>\n",
       "      <td>3.47</td>\n",
       "      <td>261.187500</td>\n",
       "    </tr>\n",
       "    <tr>\n",
       "      <th>1</th>\n",
       "      <td>MultiOutputClassifier(MultiNaïveBayes)</td>\n",
       "      <td>alpha=0.0001,fit_prior = True</td>\n",
       "      <td>2.83</td>\n",
       "      <td>47.322600</td>\n",
       "    </tr>\n",
       "    <tr>\n",
       "      <th>2</th>\n",
       "      <td>MultiOutputClassifier(Logistic Regression)</td>\n",
       "      <td>C=1.0,penalty=l1</td>\n",
       "      <td>2.11</td>\n",
       "      <td>325.732346</td>\n",
       "    </tr>\n",
       "  </tbody>\n",
       "</table>\n",
       "</div>"
      ],
      "text/plain": [
       "                                        Model                Best Parameters  \\\n",
       "0                 Vanilla Logistic Regression                        default   \n",
       "1      MultiOutputClassifier(MultiNaïveBayes)  alpha=0.0001,fit_prior = True   \n",
       "2  MultiOutputClassifier(Logistic Regression)               C=1.0,penalty=l1   \n",
       "\n",
       "   Accuracy     Runtime  \n",
       "0      3.47  261.187500  \n",
       "1      2.83   47.322600  \n",
       "2      2.11  325.732346  "
      ]
     },
     "execution_count": 97,
     "metadata": {},
     "output_type": "execute_result"
    }
   ],
   "source": [
    "gs_results.loc[len(gs_results)] = [\"MultiOutputClassifier(Logistic Regression)\", \"C=1.0,penalty=l1\", 2.11 , runtime_lr]\n",
    "gs_results"
   ]
  },
  {
   "attachments": {
    "image.png": {
     "image/png": "[encoded data removed]"
    }
   },
   "cell_type": "markdown",
   "metadata": {},
   "source": [
    "![image.png](attachment:image.png)"
   ]
  },
  {
   "cell_type": "markdown",
   "metadata": {},
   "source": [
    "Our best score is not that great but it is a good start. We will work on it!"
   ]
  },
  {
   "cell_type": "markdown",
   "metadata": {},
   "source": [
    "Since we have two imputation pipelines, we will impute our testing data on those pipelines before passing it for predictions"
   ]
  },
  {
   "cell_type": "markdown",
   "metadata": {},
   "source": [
    "## Load the full test data"
   ]
  },
  {
   "cell_type": "code",
   "execution_count": 36,
   "metadata": {
    "ExecuteTime": {
     "end_time": "2018-12-13T00:52:37.224851Z",
     "start_time": "2018-12-13T00:52:37.026299Z"
    },
    "scrolled": true
   },
   "outputs": [],
   "source": [
    "dd_test = load_data(path,\"TestData.csv\")\n",
    "dd_test['index'] = dd_test['Unnamed: 0']"
   ]
  },
  {
   "cell_type": "code",
   "execution_count": 37,
   "metadata": {
    "ExecuteTime": {
     "end_time": "2018-12-13T00:52:37.979063Z",
     "start_time": "2018-12-13T00:52:37.952332Z"
    }
   },
   "outputs": [
    {
     "data": {
      "text/html": [
       "<div>\n",
       "<style scoped>\n",
       "    .dataframe tbody tr th:only-of-type {\n",
       "        vertical-align: middle;\n",
       "    }\n",
       "\n",
       "    .dataframe tbody tr th {\n",
       "        vertical-align: top;\n",
       "    }\n",
       "\n",
       "    .dataframe thead th {\n",
       "        text-align: right;\n",
       "    }\n",
       "</style>\n",
       "<table border=\"1\" class=\"dataframe\">\n",
       "  <thead>\n",
       "    <tr style=\"text-align: right;\">\n",
       "      <th></th>\n",
       "      <th>Object_Description</th>\n",
       "      <th>Program_Description</th>\n",
       "      <th>SubFund_Description</th>\n",
       "      <th>Job_Title_Description</th>\n",
       "      <th>Facility_or_Department</th>\n",
       "      <th>Sub_Object_Description</th>\n",
       "      <th>Location_Description</th>\n",
       "      <th>FTE</th>\n",
       "      <th>Function_Description</th>\n",
       "      <th>Position_Extra</th>\n",
       "      <th>Text_4</th>\n",
       "      <th>Total</th>\n",
       "      <th>Text_2</th>\n",
       "      <th>Text_3</th>\n",
       "      <th>Fund_Description</th>\n",
       "      <th>Text_1</th>\n",
       "      <th>index</th>\n",
       "    </tr>\n",
       "  </thead>\n",
       "  <tbody>\n",
       "    <tr>\n",
       "      <th>0</th>\n",
       "      <td>Student Meals/Room/Other</td>\n",
       "      <td>Basic Educational Services</td>\n",
       "      <td>NaN</td>\n",
       "      <td>NaN</td>\n",
       "      <td>NaN</td>\n",
       "      <td>Line Item that is paid with Campus' money</td>\n",
       "      <td>School</td>\n",
       "      <td>NaN</td>\n",
       "      <td>Instruction</td>\n",
       "      <td>NaN</td>\n",
       "      <td>NaN</td>\n",
       "      <td>3999.910000</td>\n",
       "      <td>NaN</td>\n",
       "      <td>NaN</td>\n",
       "      <td>General Fund</td>\n",
       "      <td>NaN</td>\n",
       "      <td>180042</td>\n",
       "    </tr>\n",
       "    <tr>\n",
       "      <th>1</th>\n",
       "      <td>Extra Duty/Signing Bonus Pay</td>\n",
       "      <td>Undistributed</td>\n",
       "      <td>NaN</td>\n",
       "      <td>CHEERLEADER DIR</td>\n",
       "      <td>NaN</td>\n",
       "      <td>General</td>\n",
       "      <td>School</td>\n",
       "      <td>NaN</td>\n",
       "      <td>Cocurricular &amp; Extra Curricular Activities</td>\n",
       "      <td>NaN</td>\n",
       "      <td>NaN</td>\n",
       "      <td>3447.320213</td>\n",
       "      <td>NaN</td>\n",
       "      <td>NaN</td>\n",
       "      <td>General Fund</td>\n",
       "      <td>NaN</td>\n",
       "      <td>28872</td>\n",
       "    </tr>\n",
       "    <tr>\n",
       "      <th>2</th>\n",
       "      <td>Professional Salaries</td>\n",
       "      <td>Bilingual Education</td>\n",
       "      <td>NaN</td>\n",
       "      <td>T-EL 1ST BIL</td>\n",
       "      <td>NaN</td>\n",
       "      <td>General</td>\n",
       "      <td>School</td>\n",
       "      <td>1.0</td>\n",
       "      <td>Instruction</td>\n",
       "      <td>NaN</td>\n",
       "      <td>NaN</td>\n",
       "      <td>52738.780869</td>\n",
       "      <td>NaN</td>\n",
       "      <td>NaN</td>\n",
       "      <td>General Fund</td>\n",
       "      <td>NaN</td>\n",
       "      <td>186915</td>\n",
       "    </tr>\n",
       "    <tr>\n",
       "      <th>3</th>\n",
       "      <td>Professional Salaries</td>\n",
       "      <td>Bilingual Education</td>\n",
       "      <td>NaN</td>\n",
       "      <td>T-EL 2ND BIL</td>\n",
       "      <td>NaN</td>\n",
       "      <td>General</td>\n",
       "      <td>School</td>\n",
       "      <td>1.0</td>\n",
       "      <td>Instruction</td>\n",
       "      <td>NaN</td>\n",
       "      <td>NaN</td>\n",
       "      <td>69729.263191</td>\n",
       "      <td>NaN</td>\n",
       "      <td>NaN</td>\n",
       "      <td>General Fund</td>\n",
       "      <td>NaN</td>\n",
       "      <td>412396</td>\n",
       "    </tr>\n",
       "    <tr>\n",
       "      <th>4</th>\n",
       "      <td>Salaries for Support Personnel</td>\n",
       "      <td>Undistributed</td>\n",
       "      <td>NaN</td>\n",
       "      <td>CLERK III- SCH</td>\n",
       "      <td>NaN</td>\n",
       "      <td>General</td>\n",
       "      <td>School</td>\n",
       "      <td>1.0</td>\n",
       "      <td>School Leadership</td>\n",
       "      <td>NaN</td>\n",
       "      <td>NaN</td>\n",
       "      <td>29492.834215</td>\n",
       "      <td>NaN</td>\n",
       "      <td>NaN</td>\n",
       "      <td>General Fund</td>\n",
       "      <td>NaN</td>\n",
       "      <td>427740</td>\n",
       "    </tr>\n",
       "  </tbody>\n",
       "</table>\n",
       "</div>"
      ],
      "text/plain": [
       "               Object_Description         Program_Description  \\\n",
       "0        Student Meals/Room/Other  Basic Educational Services   \n",
       "1    Extra Duty/Signing Bonus Pay               Undistributed   \n",
       "2           Professional Salaries         Bilingual Education   \n",
       "3           Professional Salaries         Bilingual Education   \n",
       "4  Salaries for Support Personnel               Undistributed   \n",
       "\n",
       "  SubFund_Description Job_Title_Description Facility_or_Department  \\\n",
       "0                 NaN                   NaN                    NaN   \n",
       "1                 NaN       CHEERLEADER DIR                    NaN   \n",
       "2                 NaN          T-EL 1ST BIL                    NaN   \n",
       "3                 NaN          T-EL 2ND BIL                    NaN   \n",
       "4                 NaN        CLERK III- SCH                    NaN   \n",
       "\n",
       "                      Sub_Object_Description Location_Description  FTE  \\\n",
       "0  Line Item that is paid with Campus' money              School   NaN   \n",
       "1                                    General              School   NaN   \n",
       "2                                    General              School   1.0   \n",
       "3                                    General              School   1.0   \n",
       "4                                    General              School   1.0   \n",
       "\n",
       "                         Function_Description Position_Extra Text_4  \\\n",
       "0                                 Instruction            NaN    NaN   \n",
       "1  Cocurricular & Extra Curricular Activities            NaN    NaN   \n",
       "2                                 Instruction            NaN    NaN   \n",
       "3                                 Instruction            NaN    NaN   \n",
       "4                           School Leadership            NaN    NaN   \n",
       "\n",
       "          Total Text_2 Text_3 Fund_Description Text_1   index  \n",
       "0   3999.910000    NaN    NaN     General Fund    NaN  180042  \n",
       "1   3447.320213    NaN    NaN     General Fund    NaN   28872  \n",
       "2  52738.780869    NaN    NaN     General Fund    NaN  186915  \n",
       "3  69729.263191    NaN    NaN     General Fund    NaN  412396  \n",
       "4  29492.834215    NaN    NaN     General Fund    NaN  427740  "
      ]
     },
     "execution_count": 37,
     "metadata": {},
     "output_type": "execute_result"
    }
   ],
   "source": [
    "dd_test = dd_test.drop('Unnamed: 0', axis = 1)\n",
    "dd_test.head()"
   ]
  },
  {
   "cell_type": "code",
   "execution_count": 38,
   "metadata": {
    "ExecuteTime": {
     "end_time": "2018-12-13T00:52:43.454901Z",
     "start_time": "2018-12-13T00:52:43.440384Z"
    }
   },
   "outputs": [
    {
     "data": {
      "text/plain": [
       "(50064, 17)"
      ]
     },
     "execution_count": 38,
     "metadata": {},
     "output_type": "execute_result"
    }
   ],
   "source": [
    "dd_test = dd_test.drop_duplicates('index')\n",
    "dd_test.shape"
   ]
  },
  {
   "cell_type": "markdown",
   "metadata": {},
   "source": [
    "## Numerical pipeline"
   ]
  },
  {
   "cell_type": "code",
   "execution_count": 40,
   "metadata": {
    "ExecuteTime": {
     "end_time": "2018-12-13T00:53:03.338092Z",
     "start_time": "2018-12-13T00:53:01.443242Z"
    }
   },
   "outputs": [
    {
     "data": {
      "text/html": [
       "<div>\n",
       "<style scoped>\n",
       "    .dataframe tbody tr th:only-of-type {\n",
       "        vertical-align: middle;\n",
       "    }\n",
       "\n",
       "    .dataframe tbody tr th {\n",
       "        vertical-align: top;\n",
       "    }\n",
       "\n",
       "    .dataframe thead th {\n",
       "        text-align: right;\n",
       "    }\n",
       "</style>\n",
       "<table border=\"1\" class=\"dataframe\">\n",
       "  <thead>\n",
       "    <tr style=\"text-align: right;\">\n",
       "      <th></th>\n",
       "      <th>FTE</th>\n",
       "      <th>Total</th>\n",
       "      <th>index</th>\n",
       "    </tr>\n",
       "  </thead>\n",
       "  <tbody>\n",
       "    <tr>\n",
       "      <th>0</th>\n",
       "      <td>0.003183</td>\n",
       "      <td>0.002054</td>\n",
       "      <td>180042</td>\n",
       "    </tr>\n",
       "    <tr>\n",
       "      <th>1</th>\n",
       "      <td>0.002144</td>\n",
       "      <td>0.002053</td>\n",
       "      <td>28872</td>\n",
       "    </tr>\n",
       "    <tr>\n",
       "      <th>2</th>\n",
       "      <td>0.002861</td>\n",
       "      <td>0.002096</td>\n",
       "      <td>186915</td>\n",
       "    </tr>\n",
       "    <tr>\n",
       "      <th>3</th>\n",
       "      <td>0.002861</td>\n",
       "      <td>0.002111</td>\n",
       "      <td>412396</td>\n",
       "    </tr>\n",
       "    <tr>\n",
       "      <th>4</th>\n",
       "      <td>0.002861</td>\n",
       "      <td>0.002076</td>\n",
       "      <td>427740</td>\n",
       "    </tr>\n",
       "  </tbody>\n",
       "</table>\n",
       "</div>"
      ],
      "text/plain": [
       "        FTE     Total   index\n",
       "0  0.003183  0.002054  180042\n",
       "1  0.002144  0.002053   28872\n",
       "2  0.002861  0.002096  186915\n",
       "3  0.002861  0.002111  412396\n",
       "4  0.002861  0.002076  427740"
      ]
     },
     "execution_count": 40,
     "metadata": {},
     "output_type": "execute_result"
    }
   ],
   "source": [
    "# Fit for DrivenData submission\n",
    "num_attribs = ['Object_Description','Text_2','SubFund_Description','Job_Title_Description',\n",
    "                      'Text_3','Text_4','Sub_Object_Description','Location_Description','FTE',\n",
    "                      'Function_Description','Facility_or_Department','Position_Extra','Total',\n",
    "                      'Program_Description','Fund_Description','Text_1','index']\n",
    "num_impute_attribs = ['FTE','Total']\n",
    "datatype = np.dtype([('Object_Description',object),('Text_2',object),('SubFund_Description',object),('Job_Title_Description',object),('Text_3',object),('Text_4',object),('Sub_Object_Description',object),('Location_Description',object),('FTE',float),('Function_Description',object),('Facility_or_Department',object),('Position_Extra',object),('Total',float),('Program_Description',object),('Fund_Description',object),('Text_1',object),('index',int)])\n",
    "\n",
    "num_impute_pipeline_t =  Pipeline([\n",
    "        ('selector', DataFrameSelector(num_attribs)),\n",
    "        ('imputer', SelfImputer(num_impute_attribs,num_attribs,datatype,seed_strategy=\"most_frequent\"))\n",
    "    ])\n",
    "\n",
    "num_impute_pipeline_t.fit(dd_test)\n",
    "test_fin_num_imp = num_impute_pipeline_t.transform(dd_test)\n",
    "test_fin_num_imp.head()"
   ]
  },
  {
   "cell_type": "markdown",
   "metadata": {},
   "source": [
    "## Categorical Pipeline"
   ]
  },
  {
   "cell_type": "code",
   "execution_count": 50,
   "metadata": {
    "ExecuteTime": {
     "end_time": "2018-12-13T00:55:14.548410Z",
     "start_time": "2018-12-13T00:55:13.336031Z"
    }
   },
   "outputs": [
    {
     "name": "stdout",
     "output_type": "stream",
     "text": [
      "0    Student Meals/Room/Other nan nan nan nan nan L...\n",
      "1    Extra Duty/Signing Bonus Pay nan nan CHEERLEAD...\n",
      "2    Professional Salaries nan nan T-EL 1ST BIL nan...\n",
      "3    Professional Salaries nan nan T-EL 2ND BIL nan...\n",
      "4    Salaries for Support Personnel nan nan CLERK I...\n",
      "dtype: object\n"
     ]
    }
   ],
   "source": [
    "test_f_imp = cat_pipeline.transform(dd_test)"
   ]
  },
  {
   "cell_type": "code",
   "execution_count": 51,
   "metadata": {
    "ExecuteTime": {
     "end_time": "2018-12-13T00:55:16.585162Z",
     "start_time": "2018-12-13T00:55:15.831272Z"
    }
   },
   "outputs": [],
   "source": [
    "test_f_vec = vect.transform(test_f_imp[\"All\"]) #transforming test based on train fitted method"
   ]
  },
  {
   "cell_type": "code",
   "execution_count": 52,
   "metadata": {
    "ExecuteTime": {
     "end_time": "2018-12-13T00:55:17.345404Z",
     "start_time": "2018-12-13T00:55:17.261397Z"
    }
   },
   "outputs": [
    {
     "data": {
      "text/plain": [
       "(50064, 427)"
      ]
     },
     "execution_count": 52,
     "metadata": {},
     "output_type": "execute_result"
    }
   ],
   "source": [
    "cat_tok_dd_test = pd.SparseDataFrame(test_f_vec, columns=vect.get_feature_names(), default_fill_value=0)\n",
    "cat_tok_dd_test.shape"
   ]
  },
  {
   "cell_type": "code",
   "execution_count": 53,
   "metadata": {
    "ExecuteTime": {
     "end_time": "2018-12-13T00:55:19.695590Z",
     "start_time": "2018-12-13T00:55:19.519451Z"
    }
   },
   "outputs": [
    {
     "data": {
      "text/html": [
       "<div>\n",
       "<style scoped>\n",
       "    .dataframe tbody tr th:only-of-type {\n",
       "        vertical-align: middle;\n",
       "    }\n",
       "\n",
       "    .dataframe tbody tr th {\n",
       "        vertical-align: top;\n",
       "    }\n",
       "\n",
       "    .dataframe thead th {\n",
       "        text-align: right;\n",
       "    }\n",
       "</style>\n",
       "<table border=\"1\" class=\"dataframe\">\n",
       "  <thead>\n",
       "    <tr style=\"text-align: right;\">\n",
       "      <th></th>\n",
       "      <th>60hrs</th>\n",
       "      <th>80hs</th>\n",
       "      <th>abatement</th>\n",
       "      <th>achiev</th>\n",
       "      <th>achievment</th>\n",
       "      <th>actually</th>\n",
       "      <th>actuary</th>\n",
       "      <th>adj</th>\n",
       "      <th>adjustme</th>\n",
       "      <th>administ</th>\n",
       "      <th>...</th>\n",
       "      <th>wingspread</th>\n",
       "      <th>wirelesscontvty</th>\n",
       "      <th>witness</th>\n",
       "      <th>women</th>\n",
       "      <th>worke</th>\n",
       "      <th>xerox</th>\n",
       "      <th>yard</th>\n",
       "      <th>zero</th>\n",
       "      <th>zone</th>\n",
       "      <th>zz</th>\n",
       "    </tr>\n",
       "  </thead>\n",
       "  <tbody>\n",
       "    <tr>\n",
       "      <th>0</th>\n",
       "      <td>0.0</td>\n",
       "      <td>0.0</td>\n",
       "      <td>0.0</td>\n",
       "      <td>0.0</td>\n",
       "      <td>0.0</td>\n",
       "      <td>0.0</td>\n",
       "      <td>0.0</td>\n",
       "      <td>0.0</td>\n",
       "      <td>0.0</td>\n",
       "      <td>0.0</td>\n",
       "      <td>...</td>\n",
       "      <td>0.0</td>\n",
       "      <td>0.0</td>\n",
       "      <td>0.0</td>\n",
       "      <td>0.0</td>\n",
       "      <td>0.0</td>\n",
       "      <td>0.0</td>\n",
       "      <td>0.0</td>\n",
       "      <td>0.0</td>\n",
       "      <td>0.0</td>\n",
       "      <td>0.0</td>\n",
       "    </tr>\n",
       "    <tr>\n",
       "      <th>1</th>\n",
       "      <td>0.0</td>\n",
       "      <td>0.0</td>\n",
       "      <td>0.0</td>\n",
       "      <td>0.0</td>\n",
       "      <td>0.0</td>\n",
       "      <td>0.0</td>\n",
       "      <td>0.0</td>\n",
       "      <td>0.0</td>\n",
       "      <td>0.0</td>\n",
       "      <td>0.0</td>\n",
       "      <td>...</td>\n",
       "      <td>0.0</td>\n",
       "      <td>0.0</td>\n",
       "      <td>0.0</td>\n",
       "      <td>0.0</td>\n",
       "      <td>0.0</td>\n",
       "      <td>0.0</td>\n",
       "      <td>0.0</td>\n",
       "      <td>0.0</td>\n",
       "      <td>0.0</td>\n",
       "      <td>0.0</td>\n",
       "    </tr>\n",
       "    <tr>\n",
       "      <th>2</th>\n",
       "      <td>0.0</td>\n",
       "      <td>0.0</td>\n",
       "      <td>0.0</td>\n",
       "      <td>0.0</td>\n",
       "      <td>0.0</td>\n",
       "      <td>0.0</td>\n",
       "      <td>0.0</td>\n",
       "      <td>0.0</td>\n",
       "      <td>0.0</td>\n",
       "      <td>0.0</td>\n",
       "      <td>...</td>\n",
       "      <td>0.0</td>\n",
       "      <td>0.0</td>\n",
       "      <td>0.0</td>\n",
       "      <td>0.0</td>\n",
       "      <td>0.0</td>\n",
       "      <td>0.0</td>\n",
       "      <td>0.0</td>\n",
       "      <td>0.0</td>\n",
       "      <td>0.0</td>\n",
       "      <td>0.0</td>\n",
       "    </tr>\n",
       "    <tr>\n",
       "      <th>3</th>\n",
       "      <td>0.0</td>\n",
       "      <td>0.0</td>\n",
       "      <td>0.0</td>\n",
       "      <td>0.0</td>\n",
       "      <td>0.0</td>\n",
       "      <td>0.0</td>\n",
       "      <td>0.0</td>\n",
       "      <td>0.0</td>\n",
       "      <td>0.0</td>\n",
       "      <td>0.0</td>\n",
       "      <td>...</td>\n",
       "      <td>0.0</td>\n",
       "      <td>0.0</td>\n",
       "      <td>0.0</td>\n",
       "      <td>0.0</td>\n",
       "      <td>0.0</td>\n",
       "      <td>0.0</td>\n",
       "      <td>0.0</td>\n",
       "      <td>0.0</td>\n",
       "      <td>0.0</td>\n",
       "      <td>0.0</td>\n",
       "    </tr>\n",
       "    <tr>\n",
       "      <th>4</th>\n",
       "      <td>0.0</td>\n",
       "      <td>0.0</td>\n",
       "      <td>0.0</td>\n",
       "      <td>0.0</td>\n",
       "      <td>0.0</td>\n",
       "      <td>0.0</td>\n",
       "      <td>0.0</td>\n",
       "      <td>0.0</td>\n",
       "      <td>0.0</td>\n",
       "      <td>0.0</td>\n",
       "      <td>...</td>\n",
       "      <td>0.0</td>\n",
       "      <td>0.0</td>\n",
       "      <td>0.0</td>\n",
       "      <td>0.0</td>\n",
       "      <td>0.0</td>\n",
       "      <td>0.0</td>\n",
       "      <td>0.0</td>\n",
       "      <td>0.0</td>\n",
       "      <td>0.0</td>\n",
       "      <td>0.0</td>\n",
       "    </tr>\n",
       "  </tbody>\n",
       "</table>\n",
       "<p>5 rows × 427 columns</p>\n",
       "</div>"
      ],
      "text/plain": [
       "   60hrs  80hs  abatement  achiev  achievment  actually  actuary  adj  \\\n",
       "0    0.0   0.0        0.0     0.0         0.0       0.0      0.0  0.0   \n",
       "1    0.0   0.0        0.0     0.0         0.0       0.0      0.0  0.0   \n",
       "2    0.0   0.0        0.0     0.0         0.0       0.0      0.0  0.0   \n",
       "3    0.0   0.0        0.0     0.0         0.0       0.0      0.0  0.0   \n",
       "4    0.0   0.0        0.0     0.0         0.0       0.0      0.0  0.0   \n",
       "\n",
       "   adjustme  administ ...   wingspread  wirelesscontvty  witness  women  \\\n",
       "0       0.0       0.0 ...          0.0              0.0      0.0    0.0   \n",
       "1       0.0       0.0 ...          0.0              0.0      0.0    0.0   \n",
       "2       0.0       0.0 ...          0.0              0.0      0.0    0.0   \n",
       "3       0.0       0.0 ...          0.0              0.0      0.0    0.0   \n",
       "4       0.0       0.0 ...          0.0              0.0      0.0    0.0   \n",
       "\n",
       "   worke  xerox  yard  zero  zone   zz  \n",
       "0    0.0    0.0   0.0   0.0   0.0  0.0  \n",
       "1    0.0    0.0   0.0   0.0   0.0  0.0  \n",
       "2    0.0    0.0   0.0   0.0   0.0  0.0  \n",
       "3    0.0    0.0   0.0   0.0   0.0  0.0  \n",
       "4    0.0    0.0   0.0   0.0   0.0  0.0  \n",
       "\n",
       "[5 rows x 427 columns]"
      ]
     },
     "execution_count": 53,
     "metadata": {},
     "output_type": "execute_result"
    }
   ],
   "source": [
    "cat_tok_dd_test.head()"
   ]
  },
  {
   "cell_type": "markdown",
   "metadata": {},
   "source": [
    "## Merge both data sets"
   ]
  },
  {
   "cell_type": "code",
   "execution_count": 55,
   "metadata": {
    "ExecuteTime": {
     "end_time": "2018-12-13T00:56:02.954009Z",
     "start_time": "2018-12-13T00:56:02.925274Z"
    }
   },
   "outputs": [
    {
     "data": {
      "text/plain": [
       "(50064, 430)"
      ]
     },
     "execution_count": 55,
     "metadata": {},
     "output_type": "execute_result"
    }
   ],
   "source": [
    "prepared_F_test_data = pd.concat([test_fin_num_imp, cat_tok_dd_test], axis=1, join_axes=[cat_tok_dd_test.index])\n",
    "prepared_F_test_data.shape"
   ]
  },
  {
   "cell_type": "markdown",
   "metadata": {},
   "source": [
    "## Predict using Vanilla Logitistic Regression"
   ]
  },
  {
   "cell_type": "code",
   "execution_count": 100,
   "metadata": {
    "ExecuteTime": {
     "end_time": "2018-12-13T04:43:44.942938Z",
     "start_time": "2018-12-13T04:43:44.937323Z"
    }
   },
   "outputs": [],
   "source": [
    "##resutls comparison \n",
    "gs_results = pd.DataFrame(columns =['Model', 'Best Parameters', 'Multi-multiclass log loss', 'Runtime'])"
   ]
  },
  {
   "cell_type": "code",
   "execution_count": 59,
   "metadata": {
    "ExecuteTime": {
     "end_time": "2018-12-13T01:02:47.438441Z",
     "start_time": "2018-12-13T01:02:33.052202Z"
    }
   },
   "outputs": [],
   "source": [
    "# ran from cell 10.2.4\n",
    "logreg_predict_all = logreg_clf.predict_proba(prepared_F_test_data)"
   ]
  },
  {
   "cell_type": "code",
   "execution_count": 60,
   "metadata": {
    "ExecuteTime": {
     "end_time": "2018-12-13T01:03:16.156088Z",
     "start_time": "2018-12-13T01:03:07.891806Z"
    }
   },
   "outputs": [],
   "source": [
    "#create output file\n",
    "write_predict_tocsv(logreg_predict_all, \"logregProbabs.csv\", target_104_data.columns,\n",
    "                    prepared_F_test_data['index'])"
   ]
  },
  {
   "cell_type": "code",
   "execution_count": 101,
   "metadata": {
    "ExecuteTime": {
     "end_time": "2018-12-13T04:43:50.221392Z",
     "start_time": "2018-12-13T04:43:50.205447Z"
    }
   },
   "outputs": [
    {
     "data": {
      "text/html": [
       "<div>\n",
       "<style scoped>\n",
       "    .dataframe tbody tr th:only-of-type {\n",
       "        vertical-align: middle;\n",
       "    }\n",
       "\n",
       "    .dataframe tbody tr th {\n",
       "        vertical-align: top;\n",
       "    }\n",
       "\n",
       "    .dataframe thead th {\n",
       "        text-align: right;\n",
       "    }\n",
       "</style>\n",
       "<table border=\"1\" class=\"dataframe\">\n",
       "  <thead>\n",
       "    <tr style=\"text-align: right;\">\n",
       "      <th></th>\n",
       "      <th>Model</th>\n",
       "      <th>Best Parameters</th>\n",
       "      <th>Multi-multiclass log loss</th>\n",
       "      <th>Runtime</th>\n",
       "    </tr>\n",
       "  </thead>\n",
       "  <tbody>\n",
       "    <tr>\n",
       "      <th>0</th>\n",
       "      <td>Vanilla Logistic Regression</td>\n",
       "      <td>default</td>\n",
       "      <td>3.47</td>\n",
       "      <td>261.1875</td>\n",
       "    </tr>\n",
       "  </tbody>\n",
       "</table>\n",
       "</div>"
      ],
      "text/plain": [
       "                         Model Best Parameters  Multi-multiclass log loss  \\\n",
       "0  Vanilla Logistic Regression         default                       3.47   \n",
       "\n",
       "    Runtime  \n",
       "0  261.1875  "
      ]
     },
     "execution_count": 101,
     "metadata": {},
     "output_type": "execute_result"
    }
   ],
   "source": [
    "gs_results.loc[len(gs_results)] = [\"Vanilla Logistic Regression\", \"default\", 3.47 , 261.1875]\n",
    "gs_results"
   ]
  },
  {
   "attachments": {
    "image.png": {
     "image/png": "[encoded data removed]"
    }
   },
   "cell_type": "markdown",
   "metadata": {},
   "source": [
    "![image.png](attachment:image.png)"
   ]
  },
  {
   "cell_type": "markdown",
   "metadata": {
    "ExecuteTime": {
     "end_time": "2018-12-13T02:37:13.714982Z",
     "start_time": "2018-12-13T02:37:13.712259Z"
    }
   },
   "source": [
    "## Testing all the best models from Grid Search"
   ]
  },
  {
   "cell_type": "markdown",
   "metadata": {
    "ExecuteTime": {
     "end_time": "2018-12-13T02:54:36.314142Z",
     "start_time": "2018-12-13T02:54:36.310842Z"
    }
   },
   "source": [
    "### MultiNB"
   ]
  },
  {
   "cell_type": "code",
   "execution_count": 79,
   "metadata": {
    "ExecuteTime": {
     "end_time": "2018-12-13T02:57:53.233516Z",
     "start_time": "2018-12-13T02:57:05.907187Z"
    }
   },
   "outputs": [],
   "source": [
    "mnb_clf = MultiOutputClassifier(MultinomialNB(alpha=0.0001,fit_prior = True))\n",
    "start = time.time()\n",
    "mnb_clf.fit(prepared_data,target_104_data)\n",
    "runtime_mnb = time.time()- start"
   ]
  },
  {
   "cell_type": "code",
   "execution_count": 81,
   "metadata": {
    "ExecuteTime": {
     "end_time": "2018-12-13T02:58:45.008745Z",
     "start_time": "2018-12-13T02:58:28.536506Z"
    }
   },
   "outputs": [],
   "source": [
    "mnb_predict_all = mnb_clf.predict_proba(prepared_F_test_data)"
   ]
  },
  {
   "cell_type": "code",
   "execution_count": 82,
   "metadata": {
    "ExecuteTime": {
     "end_time": "2018-12-13T03:01:41.936736Z",
     "start_time": "2018-12-13T03:01:33.319850Z"
    }
   },
   "outputs": [],
   "source": [
    "#create output file\n",
    "write_predict_tocsv(mnb_predict_all, \"mnbProbabs.csv\", target_104_data.columns,\n",
    "                    prepared_F_test_data['index'])"
   ]
  },
  {
   "cell_type": "code",
   "execution_count": 102,
   "metadata": {
    "ExecuteTime": {
     "end_time": "2018-12-13T04:43:57.183920Z",
     "start_time": "2018-12-13T04:43:57.171176Z"
    }
   },
   "outputs": [
    {
     "data": {
      "text/html": [
       "<div>\n",
       "<style scoped>\n",
       "    .dataframe tbody tr th:only-of-type {\n",
       "        vertical-align: middle;\n",
       "    }\n",
       "\n",
       "    .dataframe tbody tr th {\n",
       "        vertical-align: top;\n",
       "    }\n",
       "\n",
       "    .dataframe thead th {\n",
       "        text-align: right;\n",
       "    }\n",
       "</style>\n",
       "<table border=\"1\" class=\"dataframe\">\n",
       "  <thead>\n",
       "    <tr style=\"text-align: right;\">\n",
       "      <th></th>\n",
       "      <th>Model</th>\n",
       "      <th>Best Parameters</th>\n",
       "      <th>Multi-multiclass log loss</th>\n",
       "      <th>Runtime</th>\n",
       "    </tr>\n",
       "  </thead>\n",
       "  <tbody>\n",
       "    <tr>\n",
       "      <th>0</th>\n",
       "      <td>Vanilla Logistic Regression</td>\n",
       "      <td>default</td>\n",
       "      <td>3.47</td>\n",
       "      <td>261.1875</td>\n",
       "    </tr>\n",
       "    <tr>\n",
       "      <th>1</th>\n",
       "      <td>MultiOutputClassifier(MultiNaïveBayes)</td>\n",
       "      <td>alpha=0.0001,fit_prior = True</td>\n",
       "      <td>2.83</td>\n",
       "      <td>47.3226</td>\n",
       "    </tr>\n",
       "  </tbody>\n",
       "</table>\n",
       "</div>"
      ],
      "text/plain": [
       "                                    Model                Best Parameters  \\\n",
       "0             Vanilla Logistic Regression                        default   \n",
       "1  MultiOutputClassifier(MultiNaïveBayes)  alpha=0.0001,fit_prior = True   \n",
       "\n",
       "   Multi-multiclass log loss   Runtime  \n",
       "0                       3.47  261.1875  \n",
       "1                       2.83   47.3226  "
      ]
     },
     "execution_count": 102,
     "metadata": {},
     "output_type": "execute_result"
    }
   ],
   "source": [
    "gs_results.loc[len(gs_results)] = [\"MultiOutputClassifier(MultiNaïveBayes)\", \"alpha=0.0001,fit_prior = True\", 2.83, np.round(runtime_mnb,4)]\n",
    "gs_results"
   ]
  },
  {
   "cell_type": "markdown",
   "metadata": {},
   "source": [
    "### Logistic Regression"
   ]
  },
  {
   "cell_type": "code",
   "execution_count": 83,
   "metadata": {
    "ExecuteTime": {
     "end_time": "2018-12-13T03:10:13.429102Z",
     "start_time": "2018-12-13T03:04:47.693230Z"
    }
   },
   "outputs": [],
   "source": [
    "lr_clf = MultiOutputClassifier(LogisticRegression(C=1.0,penalty='l1'))\n",
    "start = time.time()\n",
    "lr_clf.fit(prepared_data,target_104_data)\n",
    "runtime_lr = time.time()- start"
   ]
  },
  {
   "cell_type": "code",
   "execution_count": 85,
   "metadata": {
    "ExecuteTime": {
     "end_time": "2018-12-13T03:11:15.107634Z",
     "start_time": "2018-12-13T03:10:58.930846Z"
    },
    "scrolled": true
   },
   "outputs": [],
   "source": [
    "lr_predict_all = lr_clf.predict_proba(prepared_F_test_data)"
   ]
  },
  {
   "cell_type": "code",
   "execution_count": 86,
   "metadata": {
    "ExecuteTime": {
     "end_time": "2018-12-13T03:11:47.333687Z",
     "start_time": "2018-12-13T03:11:39.400645Z"
    }
   },
   "outputs": [],
   "source": [
    "#create output file\n",
    "write_predict_tocsv(lr_predict_all, \"lr_gs_Prob.csv\", target_104_data.columns,\n",
    "                    prepared_F_test_data['index'])"
   ]
  },
  {
   "cell_type": "code",
   "execution_count": 103,
   "metadata": {
    "ExecuteTime": {
     "end_time": "2018-12-13T04:44:03.647869Z",
     "start_time": "2018-12-13T04:44:03.635842Z"
    },
    "scrolled": false
   },
   "outputs": [
    {
     "data": {
      "text/html": [
       "<div>\n",
       "<style scoped>\n",
       "    .dataframe tbody tr th:only-of-type {\n",
       "        vertical-align: middle;\n",
       "    }\n",
       "\n",
       "    .dataframe tbody tr th {\n",
       "        vertical-align: top;\n",
       "    }\n",
       "\n",
       "    .dataframe thead th {\n",
       "        text-align: right;\n",
       "    }\n",
       "</style>\n",
       "<table border=\"1\" class=\"dataframe\">\n",
       "  <thead>\n",
       "    <tr style=\"text-align: right;\">\n",
       "      <th></th>\n",
       "      <th>Model</th>\n",
       "      <th>Best Parameters</th>\n",
       "      <th>Multi-multiclass log loss</th>\n",
       "      <th>Runtime</th>\n",
       "    </tr>\n",
       "  </thead>\n",
       "  <tbody>\n",
       "    <tr>\n",
       "      <th>0</th>\n",
       "      <td>Vanilla Logistic Regression</td>\n",
       "      <td>default</td>\n",
       "      <td>3.47</td>\n",
       "      <td>261.187500</td>\n",
       "    </tr>\n",
       "    <tr>\n",
       "      <th>1</th>\n",
       "      <td>MultiOutputClassifier(MultiNaïveBayes)</td>\n",
       "      <td>alpha=0.0001,fit_prior = True</td>\n",
       "      <td>2.83</td>\n",
       "      <td>47.322600</td>\n",
       "    </tr>\n",
       "    <tr>\n",
       "      <th>2</th>\n",
       "      <td>MultiOutputClassifier(Logistic Regression)</td>\n",
       "      <td>C=1.0,penalty=l1</td>\n",
       "      <td>2.11</td>\n",
       "      <td>325.732346</td>\n",
       "    </tr>\n",
       "  </tbody>\n",
       "</table>\n",
       "</div>"
      ],
      "text/plain": [
       "                                        Model                Best Parameters  \\\n",
       "0                 Vanilla Logistic Regression                        default   \n",
       "1      MultiOutputClassifier(MultiNaïveBayes)  alpha=0.0001,fit_prior = True   \n",
       "2  MultiOutputClassifier(Logistic Regression)               C=1.0,penalty=l1   \n",
       "\n",
       "   Multi-multiclass log loss     Runtime  \n",
       "0                       3.47  261.187500  \n",
       "1                       2.83   47.322600  \n",
       "2                       2.11  325.732346  "
      ]
     },
     "execution_count": 103,
     "metadata": {},
     "output_type": "execute_result"
    }
   ],
   "source": [
    "gs_results.loc[len(gs_results)] = [\"MultiOutputClassifier(Logistic Regression)\", \"C=1.0,penalty=l1\", 2.11 , runtime_lr]\n",
    "gs_results"
   ]
  },
  {
   "attachments": {
    "image.png": {
     "image/png": "[encoded data removed]"
    }
   },
   "cell_type": "markdown",
   "metadata": {},
   "source": [
    "![image.png](attachment:image.png)"
   ]
  },
  {
   "cell_type": "markdown",
   "metadata": {},
   "source": [
    "Our best score is not that great but it is a good start. We will work on it!"
   ]
  }
 ],
 "metadata": {
  "kernelspec": {
   "display_name": "Python 3",
   "language": "python",
   "name": "python3"
  },
  "language_info": {
   "codemirror_mode": {
    "name": "ipython",
    "version": 3
   },
   "file_extension": ".py",
   "mimetype": "text/x-python",
   "name": "python",
   "nbconvert_exporter": "python",
   "pygments_lexer": "ipython3",
   "version": "3.6.7"
  },
  "toc": {
   "base_numbering": 1,
   "nav_menu": {},
   "number_sections": true,
   "sideBar": true,
   "skip_h1_title": false,
   "title_cell": "Table of Contents",
   "title_sidebar": "Contents",
   "toc_cell": false,
   "toc_position": {
    "height": "calc(100% - 180px)",
    "left": "10px",
    "top": "150px",
    "width": "309px"
   },
   "toc_section_display": true,
   "toc_window_display": true
  }
 },
 "nbformat": 4,
 "nbformat_minor": 2
}
