{
 "cells": [
  {
   "cell_type": "markdown",
   "metadata": {},
   "source": [
    "# Project Details:\n",
    "\n",
    "* Title: Reboot: Box-Plots for Education\n",
    "* Team Members: Ayesha Bhimdiwala, JanakiKhatiwada, Sunanda Unni"
   ]
  },
  {
   "cell_type": "markdown",
   "metadata": {},
   "source": [
    "# Introduction\n",
    "\n",
    "The **Reboot: Box-Plots for Education** is a data science challenge sponsored by the Education Resource Strategies (ERS). It is an on-going competition which will end in February. \n",
    "\n",
    "In this project, we plan to solve a **multi-class-multi-label classification problem** with the goal of attaching canonical labels to the freeform text in budget line items. These labels let ERS understand how schools are spending money and tailor their strategy recommendations to improve outcomes for students, teachers, and administrators.\n",
    "\n",
    "\n"
   ]
  },
  {
   "cell_type": "markdown",
   "metadata": {},
   "source": [
    "##  Project Problem\n",
    "\n",
    "Predict the probability that a certain label from each target category is attached to a budget line item."
   ]
  },
  {
   "cell_type": "markdown",
   "metadata": {},
   "source": [
    "## Data  Description\n",
    "\n",
    "Train data set, \"train.csv\" has 25 features. Out of these, 2 are numerical and rest are categorical. Also out of 25, 9 are target features.\n",
    "\n",
    "Following are the features that will be used for building model and predicting probabilities.\n",
    "\n",
    "  *  FTE float - If an employee, the percentage of full-time that the employee works.\n",
    "  *  Facility_or_Department - If expenditure is tied to a department/facility, that department/facility.\n",
    "  *  Function_Description - A description of the function the expenditure was serving.\n",
    "  *  Fund_Description - A description of the source of the funds.\n",
    "  *  Job_Title_Description - If this is an employee, a description of that employee's job title.\n",
    "  *  Location_Description - A description of where the funds were spent.\n",
    "  *  Object_Description - A description of what the funds were used for.\n",
    "  *  Position_Extra - Any extra information about the position that we have.\n",
    "  *  Program_Description - A description of the program that the funds were used for.\n",
    "  *  SubFund_Description - More detail on Fund_Description\n",
    "  *  Sub_Object_Description - More detail on Object_Description\n",
    "  *  Text_1 - Any additional text supplied by the district.\n",
    "  *  Text_2 - Any additional text supplied by the district.\n",
    "  *  Text_3 - Any additional text supplied by the district.\n",
    "  *  Text_4 - Any additional text supplied by the district.\n",
    "  *  Total float - The total cost of the expenditure.\n",
    "\n",
    "And these are target features we have to predict probability for labeling each row.\n",
    "\n",
    "  *  Function\n",
    "  *  Object_Type\n",
    "  *  Operating_Status\n",
    "  *  Position_Type\n",
    "  *  Pre-K\n",
    "  *  Reporting\n",
    "  *  Sharing\n",
    "  *  Student_type\n",
    "  *  Use\n"
   ]
  },
  {
   "cell_type": "markdown",
   "metadata": {},
   "source": [
    "# ETL Phase"
   ]
  },
  {
   "cell_type": "markdown",
   "metadata": {},
   "source": [
    "## Prepare the notebook"
   ]
  },
  {
   "cell_type": "code",
   "execution_count": 55,
   "metadata": {
    "ExecuteTime": {
     "end_time": "2018-12-11T08:47:17.664498Z",
     "start_time": "2018-12-11T08:47:17.619876Z"
    }
   },
   "outputs": [],
   "source": [
    "import matplotlib.pyplot as plt\n",
    "import numpy as np\n",
    "import os\n",
    "import pandas as pd\n",
    "import sys\n",
    "import seaborn as sns\n",
    "import warnings\n",
    "warnings.simplefilter('ignore')\n",
    "\n",
    "from collections import Counter\n",
    "from scipy import sparse, stats\n",
    "from sklearn import preprocessing as prep\n",
    "\n",
    "from sklearn.base import BaseEstimator, TransformerMixin\n",
    "from sklearn.model_selection import train_test_split, GridSearchCV, ShuffleSplit, StratifiedKFold\n",
    "\n",
    "from sklearn.feature_extraction import text\n",
    "from sklearn.feature_extraction.text import CountVectorizer\n",
    "from sklearn.feature_extraction.text import TfidfTransformer\n",
    "\n",
    "from sklearn.pipeline import FeatureUnion, Pipeline\n",
    "from sklearn.preprocessing import Imputer, LabelEncoder, Normalizer, OneHotEncoder\n",
    "from sklearn.utils import check_array\n",
    "from time import time\n",
    "\n",
    "\n",
    "#from fancyimpute import MICE\n",
    "from statsmodels.imputation.mice import MICEData as md\n",
    "%matplotlib inline   "
   ]
  },
  {
   "cell_type": "code",
   "execution_count": 77,
   "metadata": {
    "ExecuteTime": {
     "end_time": "2018-12-11T09:44:37.862600Z",
     "start_time": "2018-12-11T09:44:24.862201Z"
    }
   },
   "outputs": [
    {
     "name": "stdout",
     "output_type": "stream",
     "text": [
      "[nltk_data] Downloading package stopwords to\n",
      "[nltk_data]     C:\\Users\\sunanda_unni\\AppData\\Roaming\\nltk_data...\n",
      "[nltk_data]   Package stopwords is already up-to-date!\n"
     ]
    }
   ],
   "source": [
    "from sklearn.model_selection import train_test_split\n",
    "from sklearn.feature_extraction.text import TfidfVectorizer\n",
    "from sklearn.naive_bayes import MultinomialNB\n",
    "from sklearn.metrics import accuracy_score\n",
    "from sklearn.multiclass import OneVsRestClassifier\n",
    "\n",
    "import nltk\n",
    "nltk.download('stopwords')\n",
    "from nltk.corpus import stopwords\n",
    "stop_words = set(stopwords.words('english'))\n",
    "from sklearn.svm import LinearSVC\n",
    "from sklearn.linear_model import LogisticRegression\n",
    "from sklearn.pipeline import Pipeline\n",
    "import seaborn as sns\n",
    "\n",
    "import time"
   ]
  },
  {
   "cell_type": "code",
   "execution_count": 2,
   "metadata": {
    "ExecuteTime": {
     "end_time": "2018-12-11T08:24:11.580995Z",
     "start_time": "2018-12-11T08:24:09.899731Z"
    }
   },
   "outputs": [],
   "source": [
    "from MICE import MiceImputer\n",
    "import re\n",
    "from sklearn import preprocessing"
   ]
  },
  {
   "cell_type": "code",
   "execution_count": 3,
   "metadata": {
    "ExecuteTime": {
     "end_time": "2018-12-11T08:24:11.820627Z",
     "start_time": "2018-12-11T08:24:11.583981Z"
    }
   },
   "outputs": [
    {
     "name": "stderr",
     "output_type": "stream",
     "text": [
      "Invalid switch - \"education_reboot\".\n"
     ]
    }
   ],
   "source": [
    "%ls -l data/education_reboot/TrainingData.csv"
   ]
  },
  {
   "cell_type": "code",
   "execution_count": 4,
   "metadata": {
    "ExecuteTime": {
     "end_time": "2018-12-11T08:24:17.584898Z",
     "start_time": "2018-12-11T08:24:17.576878Z"
    }
   },
   "outputs": [
    {
     "data": {
      "text/plain": [
       "'data\\\\education_reboot'"
      ]
     },
     "execution_count": 4,
     "metadata": {},
     "output_type": "execute_result"
    }
   ],
   "source": [
    "path = os.path.join('data','education_reboot') #make sure you have the same path in your parent directory\n",
    "path"
   ]
  },
  {
   "cell_type": "markdown",
   "metadata": {},
   "source": [
    "### Load the data"
   ]
  },
  {
   "cell_type": "code",
   "execution_count": 5,
   "metadata": {
    "ExecuteTime": {
     "end_time": "2018-12-11T08:24:24.046337Z",
     "start_time": "2018-12-11T08:24:24.036813Z"
    }
   },
   "outputs": [],
   "source": [
    "def load_data(datapath,data):\n",
    "    csv_path = os.path.join(datapath,data)\n",
    "    df = pd.read_csv(csv_path)\n",
    "    #df = pd.read_csv(csv_path,index_col=0)\n",
    "    \n",
    "  #  print(df.info())\n",
    "  #  display(df.head())\n",
    "  #  print()\n",
    "    return df"
   ]
  },
  {
   "cell_type": "code",
   "execution_count": 6,
   "metadata": {
    "ExecuteTime": {
     "end_time": "2018-12-11T08:24:33.479289Z",
     "start_time": "2018-12-11T08:24:27.590153Z"
    },
    "scrolled": true
   },
   "outputs": [],
   "source": [
    "train = load_data(path,\"TrainingData.csv\")\n",
    "train['index'] = train['Unnamed: 0']"
   ]
  },
  {
   "cell_type": "code",
   "execution_count": 7,
   "metadata": {
    "ExecuteTime": {
     "end_time": "2018-12-11T08:24:33.924145Z",
     "start_time": "2018-12-11T08:24:33.481288Z"
    }
   },
   "outputs": [
    {
     "data": {
      "text/html": [
       "<div>\n",
       "<style scoped>\n",
       "    .dataframe tbody tr th:only-of-type {\n",
       "        vertical-align: middle;\n",
       "    }\n",
       "\n",
       "    .dataframe tbody tr th {\n",
       "        vertical-align: top;\n",
       "    }\n",
       "\n",
       "    .dataframe thead th {\n",
       "        text-align: right;\n",
       "    }\n",
       "</style>\n",
       "<table border=\"1\" class=\"dataframe\">\n",
       "  <thead>\n",
       "    <tr style=\"text-align: right;\">\n",
       "      <th></th>\n",
       "      <th>Function</th>\n",
       "      <th>Use</th>\n",
       "      <th>Sharing</th>\n",
       "      <th>Reporting</th>\n",
       "      <th>Student_Type</th>\n",
       "      <th>Position_Type</th>\n",
       "      <th>Object_Type</th>\n",
       "      <th>Pre_K</th>\n",
       "      <th>Operating_Status</th>\n",
       "      <th>Object_Description</th>\n",
       "      <th>...</th>\n",
       "      <th>Location_Description</th>\n",
       "      <th>FTE</th>\n",
       "      <th>Function_Description</th>\n",
       "      <th>Facility_or_Department</th>\n",
       "      <th>Position_Extra</th>\n",
       "      <th>Total</th>\n",
       "      <th>Program_Description</th>\n",
       "      <th>Fund_Description</th>\n",
       "      <th>Text_1</th>\n",
       "      <th>index</th>\n",
       "    </tr>\n",
       "  </thead>\n",
       "  <tbody>\n",
       "    <tr>\n",
       "      <th>0</th>\n",
       "      <td>Teacher Compensation</td>\n",
       "      <td>Instruction</td>\n",
       "      <td>School Reported</td>\n",
       "      <td>School</td>\n",
       "      <td>NO_LABEL</td>\n",
       "      <td>Teacher</td>\n",
       "      <td>NO_LABEL</td>\n",
       "      <td>NO_LABEL</td>\n",
       "      <td>PreK-12 Operating</td>\n",
       "      <td>NaN</td>\n",
       "      <td>...</td>\n",
       "      <td>NaN</td>\n",
       "      <td>1.0</td>\n",
       "      <td>NaN</td>\n",
       "      <td>NaN</td>\n",
       "      <td>KINDERGARTEN</td>\n",
       "      <td>50471.810</td>\n",
       "      <td>KINDERGARTEN</td>\n",
       "      <td>General Fund</td>\n",
       "      <td>NaN</td>\n",
       "      <td>134338</td>\n",
       "    </tr>\n",
       "    <tr>\n",
       "      <th>1</th>\n",
       "      <td>NO_LABEL</td>\n",
       "      <td>NO_LABEL</td>\n",
       "      <td>NO_LABEL</td>\n",
       "      <td>NO_LABEL</td>\n",
       "      <td>NO_LABEL</td>\n",
       "      <td>NO_LABEL</td>\n",
       "      <td>NO_LABEL</td>\n",
       "      <td>NO_LABEL</td>\n",
       "      <td>Non-Operating</td>\n",
       "      <td>CONTRACTOR SERVICES</td>\n",
       "      <td>...</td>\n",
       "      <td>NaN</td>\n",
       "      <td>NaN</td>\n",
       "      <td>RGN  GOB</td>\n",
       "      <td>NaN</td>\n",
       "      <td>UNDESIGNATED</td>\n",
       "      <td>3477.860</td>\n",
       "      <td>BUILDING IMPROVEMENT SERVICES</td>\n",
       "      <td>NaN</td>\n",
       "      <td>BUILDING IMPROVEMENT SERVICES</td>\n",
       "      <td>206341</td>\n",
       "    </tr>\n",
       "    <tr>\n",
       "      <th>2</th>\n",
       "      <td>Teacher Compensation</td>\n",
       "      <td>Instruction</td>\n",
       "      <td>School Reported</td>\n",
       "      <td>School</td>\n",
       "      <td>Unspecified</td>\n",
       "      <td>Teacher</td>\n",
       "      <td>Base Salary/Compensation</td>\n",
       "      <td>Non PreK</td>\n",
       "      <td>PreK-12 Operating</td>\n",
       "      <td>Personal Services - Teachers</td>\n",
       "      <td>...</td>\n",
       "      <td>NaN</td>\n",
       "      <td>1.0</td>\n",
       "      <td>NaN</td>\n",
       "      <td>NaN</td>\n",
       "      <td>TEACHER</td>\n",
       "      <td>62237.130</td>\n",
       "      <td>Instruction - Regular</td>\n",
       "      <td>General Purpose School</td>\n",
       "      <td>NaN</td>\n",
       "      <td>326408</td>\n",
       "    </tr>\n",
       "    <tr>\n",
       "      <th>3</th>\n",
       "      <td>Substitute Compensation</td>\n",
       "      <td>Instruction</td>\n",
       "      <td>School Reported</td>\n",
       "      <td>School</td>\n",
       "      <td>Unspecified</td>\n",
       "      <td>Substitute</td>\n",
       "      <td>Benefits</td>\n",
       "      <td>NO_LABEL</td>\n",
       "      <td>PreK-12 Operating</td>\n",
       "      <td>EMPLOYEE BENEFITS</td>\n",
       "      <td>...</td>\n",
       "      <td>NaN</td>\n",
       "      <td>NaN</td>\n",
       "      <td>UNALLOC BUDGETS/SCHOOLS</td>\n",
       "      <td>NaN</td>\n",
       "      <td>PROFESSIONAL-INSTRUCTIONAL</td>\n",
       "      <td>22.300</td>\n",
       "      <td>GENERAL MIDDLE/JUNIOR HIGH SCH</td>\n",
       "      <td>NaN</td>\n",
       "      <td>REGULAR INSTRUCTION</td>\n",
       "      <td>364634</td>\n",
       "    </tr>\n",
       "    <tr>\n",
       "      <th>4</th>\n",
       "      <td>Substitute Compensation</td>\n",
       "      <td>Instruction</td>\n",
       "      <td>School Reported</td>\n",
       "      <td>School</td>\n",
       "      <td>Unspecified</td>\n",
       "      <td>Teacher</td>\n",
       "      <td>Substitute Compensation</td>\n",
       "      <td>NO_LABEL</td>\n",
       "      <td>PreK-12 Operating</td>\n",
       "      <td>TEACHER COVERAGE FOR TEACHER</td>\n",
       "      <td>...</td>\n",
       "      <td>NaN</td>\n",
       "      <td>NaN</td>\n",
       "      <td>NON-PROJECT</td>\n",
       "      <td>NaN</td>\n",
       "      <td>PROFESSIONAL-INSTRUCTIONAL</td>\n",
       "      <td>54.166</td>\n",
       "      <td>GENERAL HIGH SCHOOL EDUCATION</td>\n",
       "      <td>NaN</td>\n",
       "      <td>REGULAR INSTRUCTION</td>\n",
       "      <td>47683</td>\n",
       "    </tr>\n",
       "  </tbody>\n",
       "</table>\n",
       "<p>5 rows × 26 columns</p>\n",
       "</div>"
      ],
      "text/plain": [
       "                  Function          Use          Sharing Reporting  \\\n",
       "0     Teacher Compensation  Instruction  School Reported    School   \n",
       "1                 NO_LABEL     NO_LABEL         NO_LABEL  NO_LABEL   \n",
       "2     Teacher Compensation  Instruction  School Reported    School   \n",
       "3  Substitute Compensation  Instruction  School Reported    School   \n",
       "4  Substitute Compensation  Instruction  School Reported    School   \n",
       "\n",
       "  Student_Type Position_Type               Object_Type     Pre_K  \\\n",
       "0     NO_LABEL       Teacher                  NO_LABEL  NO_LABEL   \n",
       "1     NO_LABEL      NO_LABEL                  NO_LABEL  NO_LABEL   \n",
       "2  Unspecified       Teacher  Base Salary/Compensation  Non PreK   \n",
       "3  Unspecified    Substitute                  Benefits  NO_LABEL   \n",
       "4  Unspecified       Teacher   Substitute Compensation  NO_LABEL   \n",
       "\n",
       "    Operating_Status            Object_Description   ...    \\\n",
       "0  PreK-12 Operating                           NaN   ...     \n",
       "1      Non-Operating           CONTRACTOR SERVICES   ...     \n",
       "2  PreK-12 Operating  Personal Services - Teachers   ...     \n",
       "3  PreK-12 Operating             EMPLOYEE BENEFITS   ...     \n",
       "4  PreK-12 Operating  TEACHER COVERAGE FOR TEACHER   ...     \n",
       "\n",
       "  Location_Description  FTE     Function_Description Facility_or_Department  \\\n",
       "0                  NaN  1.0                      NaN                    NaN   \n",
       "1                  NaN  NaN                 RGN  GOB                    NaN   \n",
       "2                  NaN  1.0                      NaN                    NaN   \n",
       "3                  NaN  NaN  UNALLOC BUDGETS/SCHOOLS                    NaN   \n",
       "4                  NaN  NaN              NON-PROJECT                    NaN   \n",
       "\n",
       "               Position_Extra      Total             Program_Description  \\\n",
       "0               KINDERGARTEN   50471.810                    KINDERGARTEN   \n",
       "1                UNDESIGNATED   3477.860   BUILDING IMPROVEMENT SERVICES   \n",
       "2                     TEACHER  62237.130           Instruction - Regular   \n",
       "3  PROFESSIONAL-INSTRUCTIONAL     22.300  GENERAL MIDDLE/JUNIOR HIGH SCH   \n",
       "4  PROFESSIONAL-INSTRUCTIONAL     54.166   GENERAL HIGH SCHOOL EDUCATION   \n",
       "\n",
       "         Fund_Description                         Text_1   index  \n",
       "0            General Fund                            NaN  134338  \n",
       "1                     NaN  BUILDING IMPROVEMENT SERVICES  206341  \n",
       "2  General Purpose School                            NaN  326408  \n",
       "3                     NaN            REGULAR INSTRUCTION  364634  \n",
       "4                     NaN            REGULAR INSTRUCTION   47683  \n",
       "\n",
       "[5 rows x 26 columns]"
      ]
     },
     "execution_count": 7,
     "metadata": {},
     "output_type": "execute_result"
    }
   ],
   "source": [
    "train = train.drop('Unnamed: 0', axis = 1)\n",
    "train.head()"
   ]
  },
  {
   "cell_type": "code",
   "execution_count": 8,
   "metadata": {
    "ExecuteTime": {
     "end_time": "2018-12-11T08:24:34.850892Z",
     "start_time": "2018-12-11T08:24:34.319751Z"
    }
   },
   "outputs": [
    {
     "data": {
      "text/plain": [
       "(400277, 26)"
      ]
     },
     "execution_count": 8,
     "metadata": {},
     "output_type": "execute_result"
    }
   ],
   "source": [
    "train = train.drop_duplicates('index')\n",
    "train.shape"
   ]
  },
  {
   "cell_type": "markdown",
   "metadata": {},
   "source": [
    "Looking at the column names i.e. our features, we see there are **Two** numeric features, FTE and TOTAL.\n",
    "\n",
    "* FTE stands for full-time equivalent(0-100%). To elaborate, if a budget item is associated to an employee, then we have a value between 0 and 1. It tells us the percentage of full-time that the employee works. A value of 1 means the employee works full-time. A value close to 0 means the employee is working either part-time or on contract basis.\n",
    "\n",
    "* TOTAL stands for the total cost of the expenditure. It tells us how much the budget item costs.\n",
    "\n"
   ]
  },
  {
   "cell_type": "markdown",
   "metadata": {},
   "source": [
    "## Exploratory Data Analysis\n",
    "**Let's explore numeric variables further:**"
   ]
  },
  {
   "cell_type": "code",
   "execution_count": 9,
   "metadata": {
    "ExecuteTime": {
     "end_time": "2018-12-11T08:26:37.243719Z",
     "start_time": "2018-12-11T08:26:36.928327Z"
    }
   },
   "outputs": [
    {
     "data": {
      "text/html": [
       "<div>\n",
       "<style scoped>\n",
       "    .dataframe tbody tr th:only-of-type {\n",
       "        vertical-align: middle;\n",
       "    }\n",
       "\n",
       "    .dataframe tbody tr th {\n",
       "        vertical-align: top;\n",
       "    }\n",
       "\n",
       "    .dataframe thead th {\n",
       "        text-align: right;\n",
       "    }\n",
       "</style>\n",
       "<table border=\"1\" class=\"dataframe\">\n",
       "  <thead>\n",
       "    <tr style=\"text-align: right;\">\n",
       "      <th></th>\n",
       "      <th>FTE</th>\n",
       "      <th>Total</th>\n",
       "      <th>index</th>\n",
       "    </tr>\n",
       "  </thead>\n",
       "  <tbody>\n",
       "    <tr>\n",
       "      <th>count</th>\n",
       "      <td>126071.000000</td>\n",
       "      <td>3.957220e+05</td>\n",
       "      <td>400277.000000</td>\n",
       "    </tr>\n",
       "    <tr>\n",
       "      <th>mean</th>\n",
       "      <td>0.426794</td>\n",
       "      <td>1.310586e+04</td>\n",
       "      <td>225186.018537</td>\n",
       "    </tr>\n",
       "    <tr>\n",
       "      <th>std</th>\n",
       "      <td>0.573576</td>\n",
       "      <td>3.682254e+05</td>\n",
       "      <td>130025.142718</td>\n",
       "    </tr>\n",
       "    <tr>\n",
       "      <th>min</th>\n",
       "      <td>-0.087551</td>\n",
       "      <td>-8.746631e+07</td>\n",
       "      <td>2.000000</td>\n",
       "    </tr>\n",
       "    <tr>\n",
       "      <th>25%</th>\n",
       "      <td>0.000792</td>\n",
       "      <td>7.379770e+01</td>\n",
       "      <td>112601.000000</td>\n",
       "    </tr>\n",
       "    <tr>\n",
       "      <th>50%</th>\n",
       "      <td>0.130927</td>\n",
       "      <td>4.612300e+02</td>\n",
       "      <td>225243.000000</td>\n",
       "    </tr>\n",
       "    <tr>\n",
       "      <th>75%</th>\n",
       "      <td>1.000000</td>\n",
       "      <td>3.652662e+03</td>\n",
       "      <td>337722.000000</td>\n",
       "    </tr>\n",
       "    <tr>\n",
       "      <th>max</th>\n",
       "      <td>46.800000</td>\n",
       "      <td>1.297000e+08</td>\n",
       "      <td>450340.000000</td>\n",
       "    </tr>\n",
       "  </tbody>\n",
       "</table>\n",
       "</div>"
      ],
      "text/plain": [
       "                 FTE         Total          index\n",
       "count  126071.000000  3.957220e+05  400277.000000\n",
       "mean        0.426794  1.310586e+04  225186.018537\n",
       "std         0.573576  3.682254e+05  130025.142718\n",
       "min        -0.087551 -8.746631e+07       2.000000\n",
       "25%         0.000792  7.379770e+01  112601.000000\n",
       "50%         0.130927  4.612300e+02  225243.000000\n",
       "75%         1.000000  3.652662e+03  337722.000000\n",
       "max        46.800000  1.297000e+08  450340.000000"
      ]
     },
     "execution_count": 9,
     "metadata": {},
     "output_type": "execute_result"
    }
   ],
   "source": [
    "train.describe()"
   ]
  },
  {
   "cell_type": "markdown",
   "metadata": {},
   "source": [
    "We see there are some negative values in the the numeric features. We would have to impute such missing or incorrect values as we cannot have a negative value associated with the percentage of full-time that the employee works or total cost of the expenditure."
   ]
  },
  {
   "cell_type": "code",
   "execution_count": 10,
   "metadata": {
    "ExecuteTime": {
     "end_time": "2018-12-11T08:26:46.874148Z",
     "start_time": "2018-12-11T08:26:45.918051Z"
    }
   },
   "outputs": [
    {
     "data": {
      "image/png": "[encoded data removed]",
      "text/plain": [
       "<Figure size 432x288 with 1 Axes>"
      ]
     },
     "metadata": {},
     "output_type": "display_data"
    }
   ],
   "source": [
    "plt.hist(train['FTE'].dropna(),range=[-0.1,1])\n",
    "plt.title('Distribution of %full-time \\n employee works')\n",
    "plt.xlabel('% of full-time')\n",
    "plt.ylabel('num employees')\n",
    "plt.show()"
   ]
  },
  {
   "cell_type": "markdown",
   "metadata": {},
   "source": [
    "From the above plot, we can see that our budgets data favors part-time and contract-based employees as we have more contract employees than full-time employees. \n",
    "\n",
    "We have 50k records with negative FTE. Ideally it shouldn’t be negative. This shows that a lot of positions are getting changed and thus resulting in **negative** values. Our strategy would be to normalizing it to 0.\n",
    "\n",
    "We can assume that contract-based employees are hired for a short-term purpose and that is why they need certain items more frequent than full-time employees who would have such items easily accessible. (NEED to INFER something!)"
   ]
  },
  {
   "cell_type": "markdown",
   "metadata": {},
   "source": [
    "### Distribution of Categorical Features\n",
    "\n",
    "Since this data set primarily consists of categorical features, it is very important to look at their distribution. The table below show unique values, count of features, top feature and frequency of top subcategory under each category."
   ]
  },
  {
   "cell_type": "code",
   "execution_count": 11,
   "metadata": {
    "ExecuteTime": {
     "end_time": "2018-12-11T08:26:55.243659Z",
     "start_time": "2018-12-11T08:26:52.714402Z"
    }
   },
   "outputs": [
    {
     "data": {
      "text/html": [
       "<div>\n",
       "<style scoped>\n",
       "    .dataframe tbody tr th:only-of-type {\n",
       "        vertical-align: middle;\n",
       "    }\n",
       "\n",
       "    .dataframe tbody tr th {\n",
       "        vertical-align: top;\n",
       "    }\n",
       "\n",
       "    .dataframe thead th {\n",
       "        text-align: right;\n",
       "    }\n",
       "</style>\n",
       "<table border=\"1\" class=\"dataframe\">\n",
       "  <thead>\n",
       "    <tr style=\"text-align: right;\">\n",
       "      <th></th>\n",
       "      <th>Function</th>\n",
       "      <th>Use</th>\n",
       "      <th>Sharing</th>\n",
       "      <th>Reporting</th>\n",
       "      <th>Student_Type</th>\n",
       "      <th>Position_Type</th>\n",
       "      <th>Object_Type</th>\n",
       "      <th>Pre_K</th>\n",
       "      <th>Operating_Status</th>\n",
       "      <th>Object_Description</th>\n",
       "      <th>...</th>\n",
       "      <th>Text_3</th>\n",
       "      <th>Text_4</th>\n",
       "      <th>Sub_Object_Description</th>\n",
       "      <th>Location_Description</th>\n",
       "      <th>Function_Description</th>\n",
       "      <th>Facility_or_Department</th>\n",
       "      <th>Position_Extra</th>\n",
       "      <th>Program_Description</th>\n",
       "      <th>Fund_Description</th>\n",
       "      <th>Text_1</th>\n",
       "    </tr>\n",
       "  </thead>\n",
       "  <tbody>\n",
       "    <tr>\n",
       "      <th>count</th>\n",
       "      <td>400277</td>\n",
       "      <td>400277</td>\n",
       "      <td>400277</td>\n",
       "      <td>400277</td>\n",
       "      <td>400277</td>\n",
       "      <td>400277</td>\n",
       "      <td>400277</td>\n",
       "      <td>400277</td>\n",
       "      <td>400277</td>\n",
       "      <td>375493</td>\n",
       "      <td>...</td>\n",
       "      <td>109152</td>\n",
       "      <td>53746</td>\n",
       "      <td>91603</td>\n",
       "      <td>162054</td>\n",
       "      <td>342195</td>\n",
       "      <td>53886</td>\n",
       "      <td>264764</td>\n",
       "      <td>304660</td>\n",
       "      <td>202877</td>\n",
       "      <td>292285</td>\n",
       "    </tr>\n",
       "    <tr>\n",
       "      <th>unique</th>\n",
       "      <td>37</td>\n",
       "      <td>8</td>\n",
       "      <td>5</td>\n",
       "      <td>3</td>\n",
       "      <td>9</td>\n",
       "      <td>25</td>\n",
       "      <td>11</td>\n",
       "      <td>3</td>\n",
       "      <td>3</td>\n",
       "      <td>602</td>\n",
       "      <td>...</td>\n",
       "      <td>34</td>\n",
       "      <td>244</td>\n",
       "      <td>182</td>\n",
       "      <td>354</td>\n",
       "      <td>687</td>\n",
       "      <td>179</td>\n",
       "      <td>580</td>\n",
       "      <td>421</td>\n",
       "      <td>141</td>\n",
       "      <td>1423</td>\n",
       "    </tr>\n",
       "    <tr>\n",
       "      <th>top</th>\n",
       "      <td>Teacher Compensation</td>\n",
       "      <td>Instruction</td>\n",
       "      <td>School Reported</td>\n",
       "      <td>School</td>\n",
       "      <td>Unspecified</td>\n",
       "      <td>Teacher</td>\n",
       "      <td>Base Salary/Compensation</td>\n",
       "      <td>NO_LABEL</td>\n",
       "      <td>PreK-12 Operating</td>\n",
       "      <td>EMPLOYEE BENEFITS</td>\n",
       "      <td>...</td>\n",
       "      <td>Regular</td>\n",
       "      <td>Regular Instruction</td>\n",
       "      <td>Extra Duty Pay/Overtime For Support Personnel</td>\n",
       "      <td>School</td>\n",
       "      <td>NON-PROJECT</td>\n",
       "      <td>All Campus Payroll</td>\n",
       "      <td>PROFESSIONAL-INSTRUCTIONAL</td>\n",
       "      <td>GENERAL ELEMENTARY EDUCATION</td>\n",
       "      <td>General Operating Fund</td>\n",
       "      <td>REGULAR INSTRUCTION</td>\n",
       "    </tr>\n",
       "    <tr>\n",
       "      <th>freq</th>\n",
       "      <td>86354</td>\n",
       "      <td>203608</td>\n",
       "      <td>254433</td>\n",
       "      <td>257258</td>\n",
       "      <td>223026</td>\n",
       "      <td>102788</td>\n",
       "      <td>97670</td>\n",
       "      <td>306425</td>\n",
       "      <td>343578</td>\n",
       "      <td>47495</td>\n",
       "      <td>...</td>\n",
       "      <td>94462</td>\n",
       "      <td>10762</td>\n",
       "      <td>9159</td>\n",
       "      <td>65524</td>\n",
       "      <td>76890</td>\n",
       "      <td>17697</td>\n",
       "      <td>92136</td>\n",
       "      <td>32829</td>\n",
       "      <td>33467</td>\n",
       "      <td>64896</td>\n",
       "    </tr>\n",
       "  </tbody>\n",
       "</table>\n",
       "<p>4 rows × 23 columns</p>\n",
       "</div>"
      ],
      "text/plain": [
       "                    Function          Use          Sharing Reporting  \\\n",
       "count                 400277       400277           400277    400277   \n",
       "unique                    37            8                5         3   \n",
       "top     Teacher Compensation  Instruction  School Reported    School   \n",
       "freq                   86354       203608           254433    257258   \n",
       "\n",
       "       Student_Type Position_Type               Object_Type     Pre_K  \\\n",
       "count        400277        400277                    400277    400277   \n",
       "unique            9            25                        11         3   \n",
       "top     Unspecified       Teacher  Base Salary/Compensation  NO_LABEL   \n",
       "freq         223026        102788                     97670    306425   \n",
       "\n",
       "         Operating_Status Object_Description         ...            Text_3  \\\n",
       "count              400277             375493         ...            109152   \n",
       "unique                  3                602         ...                34   \n",
       "top     PreK-12 Operating  EMPLOYEE BENEFITS         ...           Regular   \n",
       "freq               343578              47495         ...             94462   \n",
       "\n",
       "                     Text_4                         Sub_Object_Description  \\\n",
       "count                 53746                                          91603   \n",
       "unique                  244                                            182   \n",
       "top     Regular Instruction  Extra Duty Pay/Overtime For Support Personnel   \n",
       "freq                  10762                                           9159   \n",
       "\n",
       "       Location_Description Function_Description Facility_or_Department  \\\n",
       "count                162054               342195                  53886   \n",
       "unique                  354                  687                    179   \n",
       "top                 School           NON-PROJECT     All Campus Payroll   \n",
       "freq                  65524                76890                  17697   \n",
       "\n",
       "                    Position_Extra           Program_Description  \\\n",
       "count                       264764                        304660   \n",
       "unique                         580                           421   \n",
       "top     PROFESSIONAL-INSTRUCTIONAL  GENERAL ELEMENTARY EDUCATION   \n",
       "freq                         92136                         32829   \n",
       "\n",
       "              Fund_Description               Text_1  \n",
       "count                   202877               292285  \n",
       "unique                     141                 1423  \n",
       "top     General Operating Fund  REGULAR INSTRUCTION  \n",
       "freq                     33467                64896  \n",
       "\n",
       "[4 rows x 23 columns]"
      ]
     },
     "execution_count": 11,
     "metadata": {},
     "output_type": "execute_result"
    }
   ],
   "source": [
    "train.describe(include=['O'])"
   ]
  },
  {
   "cell_type": "markdown",
   "metadata": {},
   "source": [
    " Let us look at null values under each category"
   ]
  },
  {
   "cell_type": "code",
   "execution_count": 12,
   "metadata": {
    "ExecuteTime": {
     "end_time": "2018-12-11T08:27:36.769162Z",
     "start_time": "2018-12-11T08:27:35.877532Z"
    }
   },
   "outputs": [
    {
     "name": "stdout",
     "output_type": "stream",
     "text": [
      "Function                       0\n",
      "Use                            0\n",
      "Sharing                        0\n",
      "Reporting                      0\n",
      "Student_Type                   0\n",
      "Position_Type                  0\n",
      "Object_Type                    0\n",
      "Pre_K                          0\n",
      "Operating_Status               0\n",
      "Object_Description         24784\n",
      "Text_2                    312060\n",
      "SubFund_Description        93422\n",
      "Job_Title_Description     107534\n",
      "Text_3                    291125\n",
      "Text_4                    346531\n",
      "Sub_Object_Description    308674\n",
      "Location_Description      238223\n",
      "FTE                       274206\n",
      "Function_Description       58082\n",
      "Facility_or_Department    346391\n",
      "Position_Extra            135513\n",
      "Total                       4555\n",
      "Program_Description        95617\n",
      "Fund_Description          197400\n",
      "Text_1                    107992\n",
      "index                          0\n",
      "dtype: int64\n"
     ]
    }
   ],
   "source": [
    "print(train.isnull().sum())"
   ]
  },
  {
   "cell_type": "markdown",
   "metadata": {
    "ExecuteTime": {
     "end_time": "2018-11-07T22:08:50.044335Z",
     "start_time": "2018-11-07T22:08:50.038746Z"
    }
   },
   "source": [
    "Converting our Categorical columns datatype from object to categorical, as this will help in the future for pipeline"
   ]
  },
  {
   "cell_type": "code",
   "execution_count": 13,
   "metadata": {
    "ExecuteTime": {
     "end_time": "2018-12-11T08:27:42.023035Z",
     "start_time": "2018-12-11T08:27:42.019022Z"
    }
   },
   "outputs": [],
   "source": [
    "### post numerical pipeline changes need to check if we can remove these variables, \n",
    "### used 3 cells below\n",
    "\n",
    "cat_list = ['Function','Use','Sharing','Reporting','Student_Type','Position_Type','Object_Type',\n",
    "              'Pre_K','Operating_Status']"
   ]
  },
  {
   "cell_type": "code",
   "execution_count": 14,
   "metadata": {
    "ExecuteTime": {
     "end_time": "2018-12-11T08:27:47.106629Z",
     "start_time": "2018-12-11T08:27:47.096603Z"
    }
   },
   "outputs": [],
   "source": [
    "# cat_lab = lambda x: x.astype('category')\n",
    "\n",
    "# train[cat_list] = train[cat_list].apply(cat_lab,axis=0)\n",
    "\n",
    "# print(train.dtypes)"
   ]
  },
  {
   "cell_type": "code",
   "execution_count": 15,
   "metadata": {
    "ExecuteTime": {
     "end_time": "2018-12-11T08:29:06.204407Z",
     "start_time": "2018-12-11T08:29:06.184355Z"
    }
   },
   "outputs": [
    {
     "data": {
      "text/plain": [
       "8e-06"
      ]
     },
     "execution_count": 15,
     "metadata": {},
     "output_type": "execute_result"
    }
   ],
   "source": [
    "np.round(np.sum(train['Total'] < 0)/np.sum(train['Total']),6)"
   ]
  },
  {
   "cell_type": "markdown",
   "metadata": {},
   "source": [
    "So, we see that we have a small percent of negative budgets. Look’s good for now. Later we will impute them."
   ]
  },
  {
   "cell_type": "markdown",
   "metadata": {},
   "source": [
    "**Let's see the sub-categories of our target classes**"
   ]
  },
  {
   "cell_type": "code",
   "execution_count": 16,
   "metadata": {
    "ExecuteTime": {
     "end_time": "2018-12-11T08:29:57.088059Z",
     "start_time": "2018-12-11T08:29:56.369095Z"
    }
   },
   "outputs": [
    {
     "data": {
      "image/png": "[encoded data removed]",
      "text/plain": [
       "<Figure size 432x288 with 1 Axes>"
      ]
     },
     "metadata": {},
     "output_type": "display_data"
    }
   ],
   "source": [
    "import matplotlib.pyplot as plt\n",
    "\n",
    "uni_labels = train[cat_list].apply(pd.Series.nunique)\n",
    "\n",
    "uni_labels.plot(kind='bar')\n",
    "\n",
    "plt.xlabel('Labels')\n",
    "plt.ylabel('Number of unique values')\n",
    "plt.title('Number of sub-categories for each target class')\n",
    "\n",
    "plt.show()"
   ]
  },
  {
   "cell_type": "markdown",
   "metadata": {},
   "source": [
    "From the above plot, we see that Function and Position_Type have the highest number of sub-categories while the lowest number of sub-categories are 3 in Operating_Status, Pre_K, and Reporting."
   ]
  },
  {
   "cell_type": "code",
   "execution_count": 17,
   "metadata": {
    "ExecuteTime": {
     "end_time": "2018-12-11T08:30:27.695023Z",
     "start_time": "2018-12-11T08:30:27.429294Z"
    }
   },
   "outputs": [
    {
     "data": {
      "text/html": [
       "<div>\n",
       "<style scoped>\n",
       "    .dataframe tbody tr th:only-of-type {\n",
       "        vertical-align: middle;\n",
       "    }\n",
       "\n",
       "    .dataframe tbody tr th {\n",
       "        vertical-align: top;\n",
       "    }\n",
       "\n",
       "    .dataframe thead th {\n",
       "        text-align: right;\n",
       "    }\n",
       "</style>\n",
       "<table border=\"1\" class=\"dataframe\">\n",
       "  <thead>\n",
       "    <tr style=\"text-align: right;\">\n",
       "      <th></th>\n",
       "      <th>Total</th>\n",
       "    </tr>\n",
       "    <tr>\n",
       "      <th>Job_Title_Description</th>\n",
       "      <th></th>\n",
       "    </tr>\n",
       "  </thead>\n",
       "  <tbody>\n",
       "    <tr>\n",
       "      <th>Dir, Library Media Svcs</th>\n",
       "      <td>-38.695000</td>\n",
       "    </tr>\n",
       "    <tr>\n",
       "      <th>TCHR, K-8 SUB DAY/DAY</th>\n",
       "      <td>-0.580000</td>\n",
       "    </tr>\n",
       "    <tr>\n",
       "      <th>INT TEMP EXEC SEC TO THE CEO</th>\n",
       "      <td>-0.550000</td>\n",
       "    </tr>\n",
       "    <tr>\n",
       "      <th>SUBSTITUTE GENERAL PREP</th>\n",
       "      <td>-0.330000</td>\n",
       "    </tr>\n",
       "    <tr>\n",
       "      <th>CLASSIFIED EDUC CONSUL II</th>\n",
       "      <td>-0.280000</td>\n",
       "    </tr>\n",
       "    <tr>\n",
       "      <th>EDUCATIONAL ASSISTANT, RETIREE</th>\n",
       "      <td>-0.280000</td>\n",
       "    </tr>\n",
       "    <tr>\n",
       "      <th>SECURITY OFFICER (EXTERNAL)</th>\n",
       "      <td>-0.247500</td>\n",
       "    </tr>\n",
       "    <tr>\n",
       "      <th>TCHR, K-8 LDBD TUTOR-HRLY</th>\n",
       "      <td>-0.162500</td>\n",
       "    </tr>\n",
       "    <tr>\n",
       "      <th>ASSOC STRATEGIC IMPLEM OFFICER</th>\n",
       "      <td>0.220000</td>\n",
       "    </tr>\n",
       "    <tr>\n",
       "      <th>CERT ED CONSLT II, RETIREE</th>\n",
       "      <td>0.285000</td>\n",
       "    </tr>\n",
       "    <tr>\n",
       "      <th>TCHR, SCNDY LDBD TUTOR-HRLY</th>\n",
       "      <td>0.545000</td>\n",
       "    </tr>\n",
       "    <tr>\n",
       "      <th>Sub Manager, Food Service</th>\n",
       "      <td>0.720000</td>\n",
       "    </tr>\n",
       "    <tr>\n",
       "      <th>Substitute School Resource Officer</th>\n",
       "      <td>21.680000</td>\n",
       "    </tr>\n",
       "    <tr>\n",
       "      <th>Data Assessment Partner</th>\n",
       "      <td>33.845000</td>\n",
       "    </tr>\n",
       "    <tr>\n",
       "      <th>LLI Coach</th>\n",
       "      <td>35.472000</td>\n",
       "    </tr>\n",
       "    <tr>\n",
       "      <th>Mild/Moderate/Comm Asst</th>\n",
       "      <td>44.025000</td>\n",
       "    </tr>\n",
       "    <tr>\n",
       "      <th>Middle School Athletics</th>\n",
       "      <td>46.979037</td>\n",
       "    </tr>\n",
       "    <tr>\n",
       "      <th>Business Process Coord</th>\n",
       "      <td>51.602658</td>\n",
       "    </tr>\n",
       "    <tr>\n",
       "      <th>AIDE (SP.ED.) EXTENDED YEAR</th>\n",
       "      <td>64.780000</td>\n",
       "    </tr>\n",
       "    <tr>\n",
       "      <th>TEACHER POOL, UNASSIGNED</th>\n",
       "      <td>83.013987</td>\n",
       "    </tr>\n",
       "    <tr>\n",
       "      <th>Summer Lunchroom Monitor</th>\n",
       "      <td>93.973416</td>\n",
       "    </tr>\n",
       "    <tr>\n",
       "      <th>Application Processing Rep</th>\n",
       "      <td>124.016400</td>\n",
       "    </tr>\n",
       "    <tr>\n",
       "      <th>Teacher, Short Term Sub</th>\n",
       "      <td>124.299042</td>\n",
       "    </tr>\n",
       "    <tr>\n",
       "      <th>School Counselor</th>\n",
       "      <td>178.646600</td>\n",
       "    </tr>\n",
       "    <tr>\n",
       "      <th>Teacher,Retrd Shrt Term Sub</th>\n",
       "      <td>182.909364</td>\n",
       "    </tr>\n",
       "    <tr>\n",
       "      <th>TUTOR,TEMPORARY</th>\n",
       "      <td>186.249304</td>\n",
       "    </tr>\n",
       "    <tr>\n",
       "      <th>CLERICAL, TEMPORARY</th>\n",
       "      <td>199.575415</td>\n",
       "    </tr>\n",
       "    <tr>\n",
       "      <th>Pre-School Aide</th>\n",
       "      <td>241.214182</td>\n",
       "    </tr>\n",
       "    <tr>\n",
       "      <th>SUB TEACHER-MIDDLE/HIGH</th>\n",
       "      <td>257.839355</td>\n",
       "    </tr>\n",
       "    <tr>\n",
       "      <th>TO BE DISCHARGED</th>\n",
       "      <td>263.268148</td>\n",
       "    </tr>\n",
       "    <tr>\n",
       "      <th>...</th>\n",
       "      <td>...</td>\n",
       "    </tr>\n",
       "    <tr>\n",
       "      <th>PRINCIPAL SECETARY</th>\n",
       "      <td>245487.666211</td>\n",
       "    </tr>\n",
       "    <tr>\n",
       "      <th>CHIEF FIN &amp; ADM OFFICER</th>\n",
       "      <td>251896.814508</td>\n",
       "    </tr>\n",
       "    <tr>\n",
       "      <th>CHIEF-FACILITIES/OPERATIONS</th>\n",
       "      <td>251898.146455</td>\n",
       "    </tr>\n",
       "    <tr>\n",
       "      <th>CHIEF ACADEMIC OFFICER</th>\n",
       "      <td>258191.449781</td>\n",
       "    </tr>\n",
       "    <tr>\n",
       "      <th>SUPERINTENDENT OF SCHOOLS</th>\n",
       "      <td>258355.609963</td>\n",
       "    </tr>\n",
       "    <tr>\n",
       "      <th>CHIEF EXECUTIVE OFFICER</th>\n",
       "      <td>294028.735780</td>\n",
       "    </tr>\n",
       "    <tr>\n",
       "      <th>CHANCELLOR</th>\n",
       "      <td>302521.742268</td>\n",
       "    </tr>\n",
       "    <tr>\n",
       "      <th>Superintendent</th>\n",
       "      <td>351758.185639</td>\n",
       "    </tr>\n",
       "    <tr>\n",
       "      <th>CLASSROOM TEACHERS - TITLE</th>\n",
       "      <td>411325.546785</td>\n",
       "    </tr>\n",
       "    <tr>\n",
       "      <th>TCHR, INTERVENTION SPEC (CC)</th>\n",
       "      <td>473920.944842</td>\n",
       "    </tr>\n",
       "    <tr>\n",
       "      <th>CLASSROOM TEACHERS - TITLE II A</th>\n",
       "      <td>514157.663481</td>\n",
       "    </tr>\n",
       "    <tr>\n",
       "      <th>EDUCATIONAL AIDE I - Preschool Supplemental</th>\n",
       "      <td>845835.712053</td>\n",
       "    </tr>\n",
       "    <tr>\n",
       "      <th>ACADMEY COORDINATOR</th>\n",
       "      <td>NaN</td>\n",
       "    </tr>\n",
       "    <tr>\n",
       "      <th>ADMIN. AIDE</th>\n",
       "      <td>NaN</td>\n",
       "    </tr>\n",
       "    <tr>\n",
       "      <th>ASBESTOS ABATEMENT SPEC</th>\n",
       "      <td>NaN</td>\n",
       "    </tr>\n",
       "    <tr>\n",
       "      <th>Budget Director</th>\n",
       "      <td>NaN</td>\n",
       "    </tr>\n",
       "    <tr>\n",
       "      <th>COORDINATOR, SPEC ED</th>\n",
       "      <td>NaN</td>\n",
       "    </tr>\n",
       "    <tr>\n",
       "      <th>Coordinator, Embsy Adopt Prog.</th>\n",
       "      <td>NaN</td>\n",
       "    </tr>\n",
       "    <tr>\n",
       "      <th>EDUCATIONAL AIDE HEADSTART</th>\n",
       "      <td>NaN</td>\n",
       "    </tr>\n",
       "    <tr>\n",
       "      <th>EDUCATIONAL AIDE, SPEC. ED.</th>\n",
       "      <td>NaN</td>\n",
       "    </tr>\n",
       "    <tr>\n",
       "      <th>EDUCATIONAL AIDE,80HS</th>\n",
       "      <td>NaN</td>\n",
       "    </tr>\n",
       "    <tr>\n",
       "      <th>FOUNDATION GRANTS SPECIALIST</th>\n",
       "      <td>NaN</td>\n",
       "    </tr>\n",
       "    <tr>\n",
       "      <th>Network Administrator</th>\n",
       "      <td>NaN</td>\n",
       "    </tr>\n",
       "    <tr>\n",
       "      <th>PIRNCIPAL, JHS</th>\n",
       "      <td>NaN</td>\n",
       "    </tr>\n",
       "    <tr>\n",
       "      <th>PRINCIPAL,EC</th>\n",
       "      <td>NaN</td>\n",
       "    </tr>\n",
       "    <tr>\n",
       "      <th>President Board Of Education</th>\n",
       "      <td>NaN</td>\n",
       "    </tr>\n",
       "    <tr>\n",
       "      <th>SPEC. EDUCATION COORDINATOR</th>\n",
       "      <td>NaN</td>\n",
       "    </tr>\n",
       "    <tr>\n",
       "      <th>SR. FINANCIAL SUPPORT ANALYST</th>\n",
       "      <td>NaN</td>\n",
       "    </tr>\n",
       "    <tr>\n",
       "      <th>STUDENT ATTENDANCE MANAGER</th>\n",
       "      <td>NaN</td>\n",
       "    </tr>\n",
       "    <tr>\n",
       "      <th>TCHR, FORNG LANG - CHINESE</th>\n",
       "      <td>NaN</td>\n",
       "    </tr>\n",
       "  </tbody>\n",
       "</table>\n",
       "<p>3516 rows × 1 columns</p>\n",
       "</div>"
      ],
      "text/plain": [
       "                                                     Total\n",
       "Job_Title_Description                                     \n",
       "Dir, Library Media Svcs                         -38.695000\n",
       "TCHR, K-8 SUB DAY/DAY                            -0.580000\n",
       "INT TEMP EXEC SEC TO THE CEO                     -0.550000\n",
       "SUBSTITUTE GENERAL PREP                          -0.330000\n",
       "CLASSIFIED EDUC CONSUL II                        -0.280000\n",
       "EDUCATIONAL ASSISTANT, RETIREE                   -0.280000\n",
       "SECURITY OFFICER (EXTERNAL)                      -0.247500\n",
       "TCHR, K-8 LDBD TUTOR-HRLY                        -0.162500\n",
       "ASSOC STRATEGIC IMPLEM OFFICER                    0.220000\n",
       "CERT ED CONSLT II, RETIREE                        0.285000\n",
       "TCHR, SCNDY LDBD TUTOR-HRLY                       0.545000\n",
       "Sub Manager, Food Service                         0.720000\n",
       "Substitute School Resource Officer               21.680000\n",
       "Data Assessment Partner                          33.845000\n",
       "LLI Coach                                        35.472000\n",
       "Mild/Moderate/Comm Asst                          44.025000\n",
       "Middle School Athletics                          46.979037\n",
       "Business Process Coord                           51.602658\n",
       "AIDE (SP.ED.) EXTENDED YEAR                      64.780000\n",
       "TEACHER POOL, UNASSIGNED                         83.013987\n",
       "Summer Lunchroom Monitor                         93.973416\n",
       "Application Processing Rep                      124.016400\n",
       "Teacher, Short Term Sub                         124.299042\n",
       "School Counselor                                178.646600\n",
       "Teacher,Retrd Shrt Term Sub                     182.909364\n",
       "TUTOR,TEMPORARY                                 186.249304\n",
       "CLERICAL, TEMPORARY                             199.575415\n",
       "Pre-School Aide                                 241.214182\n",
       "SUB TEACHER-MIDDLE/HIGH                         257.839355\n",
       "TO BE DISCHARGED                                263.268148\n",
       "...                                                    ...\n",
       "PRINCIPAL SECETARY                           245487.666211\n",
       "CHIEF FIN & ADM OFFICER                      251896.814508\n",
       "CHIEF-FACILITIES/OPERATIONS                  251898.146455\n",
       "CHIEF ACADEMIC OFFICER                       258191.449781\n",
       "SUPERINTENDENT OF SCHOOLS                    258355.609963\n",
       "CHIEF EXECUTIVE OFFICER                      294028.735780\n",
       "CHANCELLOR                                   302521.742268\n",
       "Superintendent                               351758.185639\n",
       "CLASSROOM TEACHERS - TITLE                   411325.546785\n",
       "TCHR, INTERVENTION SPEC (CC)                 473920.944842\n",
       "CLASSROOM TEACHERS - TITLE II A              514157.663481\n",
       "EDUCATIONAL AIDE I - Preschool Supplemental  845835.712053\n",
       "ACADMEY COORDINATOR                                    NaN\n",
       "ADMIN. AIDE                                            NaN\n",
       "ASBESTOS ABATEMENT SPEC                                NaN\n",
       "Budget Director                                        NaN\n",
       "COORDINATOR, SPEC ED                                   NaN\n",
       "Coordinator, Embsy Adopt Prog.                         NaN\n",
       "EDUCATIONAL AIDE HEADSTART                             NaN\n",
       "EDUCATIONAL AIDE, SPEC. ED.                            NaN\n",
       "EDUCATIONAL AIDE,80HS                                  NaN\n",
       "FOUNDATION GRANTS SPECIALIST                           NaN\n",
       "Network Administrator                                  NaN\n",
       "PIRNCIPAL, JHS                                         NaN\n",
       "PRINCIPAL,EC                                           NaN\n",
       "President Board Of Education                           NaN\n",
       "SPEC. EDUCATION COORDINATOR                            NaN\n",
       "SR. FINANCIAL SUPPORT ANALYST                          NaN\n",
       "STUDENT ATTENDANCE MANAGER                             NaN\n",
       "TCHR, FORNG LANG - CHINESE                             NaN\n",
       "\n",
       "[3516 rows x 1 columns]"
      ]
     },
     "execution_count": 17,
     "metadata": {},
     "output_type": "execute_result"
    }
   ],
   "source": [
    "## Let's see if missing Total can be computed based on Job_Title_Description\n",
    "average_total =train[['Total', 'Job_Title_Description']].groupby(['Job_Title_Description'], as_index = True).mean().sort_values(by = 'Total')\n",
    "average_total"
   ]
  },
  {
   "cell_type": "markdown",
   "metadata": {},
   "source": [
    "Let us further explore how the Budget is distributed among different target class"
   ]
  },
  {
   "cell_type": "code",
   "execution_count": 18,
   "metadata": {
    "ExecuteTime": {
     "end_time": "2018-12-11T08:32:03.026723Z",
     "start_time": "2018-12-11T08:32:02.664241Z"
    }
   },
   "outputs": [
    {
     "data": {
      "text/plain": [
       "<function matplotlib.pyplot.show>"
      ]
     },
     "execution_count": 18,
     "metadata": {},
     "output_type": "execute_result"
    },
    {
     "data": {
      "image/png": "[encoded data removed]",
      "text/plain": [
       "<Figure size 720x576 with 1 Axes>"
      ]
     },
     "metadata": {},
     "output_type": "display_data"
    }
   ],
   "source": [
    "average_total=train[['Total', 'Operating_Status']].groupby(['Operating_Status'], as_index = True).mean().sort_values(by = 'Total')\n",
    "average_total.plot.bar(figsize = (10,8))\n",
    "plt.title('Distribution of Total along Operating_Status')\n",
    "plt.ylabel('Budget Spent')\n",
    "plt.show"
   ]
  },
  {
   "cell_type": "markdown",
   "metadata": {},
   "source": [
    "From the above plot we can see that our Budget is highly skewed to the Operating, Not PreK-12 sub-category compared to the rest of the sub-categories."
   ]
  },
  {
   "cell_type": "code",
   "execution_count": 19,
   "metadata": {
    "ExecuteTime": {
     "end_time": "2018-12-11T08:34:00.072678Z",
     "start_time": "2018-12-11T08:33:59.433730Z"
    }
   },
   "outputs": [
    {
     "data": {
      "text/plain": [
       "<function matplotlib.pyplot.show>"
      ]
     },
     "execution_count": 19,
     "metadata": {},
     "output_type": "execute_result"
    },
    {
     "data": {
      "image/png": "[encoded data removed]",
      "text/plain": [
       "<Figure size 720x576 with 1 Axes>"
      ]
     },
     "metadata": {},
     "output_type": "display_data"
    }
   ],
   "source": [
    "average_total=train[['Total', 'Object_Type']].groupby(['Object_Type'], as_index = True).mean().sort_values(by = 'Total')\n",
    "average_total.plot.bar(figsize = (10,8))\n",
    "plt.title('Distribution of Budget along Object_Type')\n",
    "plt.ylabel('Total')\n",
    "plt.show"
   ]
  },
  {
   "cell_type": "code",
   "execution_count": 20,
   "metadata": {
    "ExecuteTime": {
     "end_time": "2018-12-11T08:34:05.301552Z",
     "start_time": "2018-12-11T08:34:04.287013Z"
    }
   },
   "outputs": [
    {
     "data": {
      "text/plain": [
       "<function matplotlib.pyplot.show>"
      ]
     },
     "execution_count": 20,
     "metadata": {},
     "output_type": "execute_result"
    },
    {
     "data": {
      "image/png": "[encoded data removed]",
      "text/plain": [
       "<Figure size 720x576 with 1 Axes>"
      ]
     },
     "metadata": {},
     "output_type": "display_data"
    }
   ],
   "source": [
    "ave_total_func=train[['Total', 'Function']].groupby(['Function'], as_index = True).mean().sort_values(by = 'Total')\n",
    "ave_total_func.plot.bar(figsize= (10,8))\n",
    "plt.title('Distribution of Budget along Function')\n",
    "plt.ylabel('Total')\n",
    "plt.show"
   ]
  },
  {
   "cell_type": "markdown",
   "metadata": {},
   "source": [
    "From the above plot, we can see that most of the school budget is spent on the Insurance, Development & Fundraising, Utilities, and Legal activities. Among these, Utilities is the only one that may directly affect the student learning experience. We can see that curriculum development, extended time and tutoring have the least budget spent. \n",
    "ERS (our host), really needs to focus on guiding its financial partners to understand their budget spent. We say so, as our host wants to improve student and teacher outcomes as well. "
   ]
  },
  {
   "cell_type": "markdown",
   "metadata": {},
   "source": [
    "# Preparing the Data for ML algorithm"
   ]
  },
  {
   "cell_type": "markdown",
   "metadata": {},
   "source": [
    "## Supporting Classes"
   ]
  },
  {
   "cell_type": "markdown",
   "metadata": {},
   "source": [
    "### Multitrain test split\n"
   ]
  },
  {
   "cell_type": "markdown",
   "metadata": {},
   "source": [
    "Since we are dealing with a multilabel, multiclass situation, we are going to split our training data set in a multi-stratified way. By that we mean we want to make sure all of our sub-categories are present in train and test set. \n",
    "If we don't use this custom train-test-split, we may run into issues where our train data has never seen some of the sub-categories and we know that this cannot be the case because we are performing supervised learning."
   ]
  },
  {
   "cell_type": "code",
   "execution_count": 21,
   "metadata": {
    "ExecuteTime": {
     "end_time": "2018-12-11T08:36:59.689007Z",
     "start_time": "2018-12-11T08:36:59.364463Z"
    }
   },
   "outputs": [],
   "source": [
    "#source: https://github.com/drivendataorg/box-plots-sklearn/blob/master/src/data/multilabel.py\n",
    "from warnings import warn\n",
    "\n",
    "import numpy as np\n",
    "import pandas as pd\n",
    "\n",
    "def multilabel_sample(y, size=1000, min_count=5, seed=None):\n",
    "    \"\"\" Takes a matrix of binary labels `y` and returns\n",
    "        the indices for a sample of size `size` if\n",
    "        `size` > 1 or `size` * len(y) if size =< 1.\n",
    "        The sample is guaranteed to have > `min_count` of\n",
    "        each label.\n",
    "    \"\"\"\n",
    "    try:\n",
    "        if (np.unique(y).astype(int) != np.array([0, 1])).any():\n",
    "            raise ValueError()\n",
    "    except (TypeError, ValueError):\n",
    "        raise ValueError('multilabel_sample only works with binary indicator matrices')\n",
    "\n",
    "    if (y.sum(axis=0) < min_count).any():\n",
    "        raise ValueError('Some classes do not have enough examples. Change min_count if necessary.')\n",
    "\n",
    "    if size <= 1:\n",
    "        size = np.floor(y.shape[0] * size)\n",
    "\n",
    "    if y.shape[1] * min_count > size:\n",
    "        msg = \"Size less than number of columns * min_count, returning {} items instead of {}.\"\n",
    "        warn(msg.format(y.shape[1] * min_count, size))\n",
    "        size = y.shape[1] * min_count\n",
    "\n",
    "    rng = np.random.RandomState(seed if seed is not None else np.random.randint(1))\n",
    "\n",
    "    if isinstance(y, pd.DataFrame):\n",
    "        choices = y.index\n",
    "        y = y.values\n",
    "    else:\n",
    "        choices = np.arange(y.shape[0])\n",
    "\n",
    "    sample_idxs = np.array([], dtype=choices.dtype)\n",
    "\n",
    "    # first, guarantee > min_count of each label\n",
    "    for j in range(y.shape[1]):\n",
    "        label_choices = choices[y[:, j] == 1]\n",
    "        label_idxs_sampled = rng.choice(label_choices, size=min_count, replace=False)\n",
    "        sample_idxs = np.concatenate([label_idxs_sampled, sample_idxs])\n",
    "\n",
    "    sample_idxs = np.unique(sample_idxs)\n",
    "\n",
    "    # now that we have at least min_count of each, we can just random sample\n",
    "    sample_count = int(size - sample_idxs.shape[0])\n",
    "\n",
    "    # get sample_count indices from remaining choices\n",
    "    remaining_choices = np.setdiff1d(choices, sample_idxs)\n",
    "    remaining_sampled = rng.choice(remaining_choices,\n",
    "                                   size=sample_count,\n",
    "                                   replace=False)\n",
    "\n",
    "    return np.concatenate([sample_idxs, remaining_sampled])\n",
    "\n",
    "\n",
    "def multilabel_sample_dataframe(df, labels, size, min_count=5, seed=None):\n",
    "    \"\"\" Takes a dataframe `df` and returns a sample of size `size` where all\n",
    "        classes in the binary matrix `labels` are represented at\n",
    "        least `min_count` times.\n",
    "    \"\"\"\n",
    "    idxs = multilabel_sample(labels, size=size, min_count=min_count, seed=seed)\n",
    "    return df.loc[idxs]\n",
    "\n",
    "\n",
    "def multilabel_train_test_split(X, Y, size, min_count=5, seed=None):\n",
    "    \"\"\" Takes a features matrix `X` and a label matrix `Y` and\n",
    "        returns (X_train, X_test, Y_train, Y_test) where all\n",
    "        classes in Y are represented at least `min_count` times.\n",
    "    \"\"\"\n",
    "    index = Y.index if isinstance(Y, pd.DataFrame) else np.arange(Y.shape[0])\n",
    "\n",
    "    test_set_idxs = multilabel_sample(Y, size=size, min_count=min_count, seed=seed)\n",
    "    train_set_idxs = np.setdiff1d(index, test_set_idxs)\n",
    "\n",
    "    test_set_mask = index.isin(test_set_idxs)\n",
    "    train_set_mask = ~test_set_mask\n",
    "\n",
    "    return (X[train_set_mask], X[test_set_mask], Y[train_set_mask], Y[test_set_mask])\n"
   ]
  },
  {
   "cell_type": "markdown",
   "metadata": {
    "ExecuteTime": {
     "end_time": "2018-12-06T23:26:25.488178Z",
     "start_time": "2018-12-06T23:26:24.956209Z"
    }
   },
   "source": [
    "### DataFrameSelector class"
   ]
  },
  {
   "cell_type": "code",
   "execution_count": 22,
   "metadata": {
    "ExecuteTime": {
     "end_time": "2018-12-11T08:37:08.396293Z",
     "start_time": "2018-12-11T08:37:08.387271Z"
    }
   },
   "outputs": [],
   "source": [
    "class DataFrameSelector(BaseEstimator, TransformerMixin):\n",
    "    def __init__(self, attribute_names):\n",
    "        self.attribute_names = attribute_names\n",
    "    def fit(self, X, y=None):\n",
    "        return self\n",
    "    def transform(self, X):\n",
    "        return X[self.attribute_names].values "
   ]
  },
  {
   "cell_type": "markdown",
   "metadata": {},
   "source": [
    "### Evaluate micro and macro scores"
   ]
  },
  {
   "cell_type": "code",
   "execution_count": 82,
   "metadata": {
    "ExecuteTime": {
     "end_time": "2018-12-11T10:38:32.975016Z",
     "start_time": "2018-12-11T10:38:32.919864Z"
    }
   },
   "outputs": [],
   "source": [
    "# Call Evaluate with parameters\n",
    "# test_labels :True value\n",
    "# predictions :Predicted value\n",
    "# Returns: 6 values : micro precision, micro recall, micro f1, macro precision, macro recall, macro f1\n",
    "from sklearn.metrics import f1_score, precision_score, recall_score\n",
    "#Multi-labels per example evaluation\n",
    "def evaluate(test_labels, predictions):\n",
    "    precision = np.round(precision_score(test_labels, predictions, average='micro'),3)\n",
    "    recall = np.round(recall_score(test_labels, predictions, average='micro'),3)\n",
    "    f1 = np.round(f1_score(test_labels, predictions, average='micro'),3)\n",
    "    print(\"Micro-average quality numbers\")\n",
    "    print(\"Precision: {:.3f}, Recall: {:.3f}, F1-measure: {:.3f}\".format(precision, recall, f1))\n",
    "\n",
    "    macro_precision = np.round(precision_score(test_labels, predictions, average='macro'),3)\n",
    "    macro_recall = np.round(recall_score(test_labels, predictions, average='macro'),3)\n",
    "    macro_f1 = np.round(f1_score(test_labels, predictions, average='macro'),3)\n",
    "\n",
    "    print(\"Macro-average quality numbers\")\n",
    "    print(\"Precision: {:.3f}, Recall: {:.3f}, F1-measure: {:.3f}\".format(macro_precision, macro_recall, macro_f1))\n",
    "    \n",
    "    return precision, recall, f1, macro_precision, macro_recall, macro_f1\n",
    "    \n"
   ]
  },
  {
   "cell_type": "markdown",
   "metadata": {},
   "source": [
    "### write_predict_tocsv - Creating Submission csv file"
   ]
  },
  {
   "cell_type": "code",
   "execution_count": 93,
   "metadata": {
    "ExecuteTime": {
     "end_time": "2018-12-11T12:09:04.604418Z",
     "start_time": "2018-12-11T12:09:04.570327Z"
    }
   },
   "outputs": [],
   "source": [
    "# This function converts prediction probability ndarray to a csv file\n",
    "def write_predict_tocsv(predict_array, csvfilename, columnname_list, index_array ):\n",
    "    np_pred = np.array(predict_array)\n",
    "    np_pred_t = np_pred.T[1]\n",
    "    df = pd.DataFrame(np_pred_t, columns=columnname_list)\n",
    "    df[\"index\"]=index_array\n",
    "    df.to_csv(csvfilename)\n",
    "    \n",
    "    "
   ]
  },
  {
   "cell_type": "markdown",
   "metadata": {},
   "source": [
    "## Target feature Pipeline"
   ]
  },
  {
   "cell_type": "markdown",
   "metadata": {},
   "source": [
    "Our target feature should be as 104 categories to make predictions"
   ]
  },
  {
   "cell_type": "code",
   "execution_count": 24,
   "metadata": {
    "ExecuteTime": {
     "end_time": "2018-12-11T08:37:20.748660Z",
     "start_time": "2018-12-11T08:37:20.732613Z"
    },
    "scrolled": true
   },
   "outputs": [],
   "source": [
    "class TargetExpander(BaseEstimator, TransformerMixin):\n",
    "    def __init__(self, cat_list): \n",
    "        self.cat_list = cat_list\n",
    "        \n",
    "    def fit(self, X, y=None):\n",
    "        return self  # nothing else to do\n",
    "    \n",
    "    def transform(self, X):\n",
    "        self.X = pd.DataFrame(X, columns=self.cat_list,dtype=object)\n",
    "        self.X = pd.get_dummies(self.X[cat_list])\n",
    "        \n",
    "        #return np.array(self.X.values)\n",
    "        return self.X"
   ]
  },
  {
   "cell_type": "code",
   "execution_count": 25,
   "metadata": {
    "ExecuteTime": {
     "end_time": "2018-12-11T08:37:24.990770Z",
     "start_time": "2018-12-11T08:37:24.911552Z"
    },
    "scrolled": false
   },
   "outputs": [
    {
     "data": {
      "text/plain": [
       "Pipeline(memory=None,\n",
       "     steps=[('selector', DataFrameSelector(attribute_names=['Function', 'Use', 'Sharing', 'Reporting', 'Student_Type', 'Position_Type', 'Object_Type', 'Pre_K', 'Operating_Status'])), ('expand', TargetExpander(cat_list=['Function', 'Use', 'Sharing', 'Reporting', 'Student_Type', 'Position_Type', 'Object_Type', 'Pre_K', 'Operating_Status']))])"
      ]
     },
     "execution_count": 25,
     "metadata": {},
     "output_type": "execute_result"
    }
   ],
   "source": [
    "# use full pipeline above to build full pipeline with predictor\n",
    "cat_list = ['Function','Use','Sharing','Reporting','Student_Type','Position_Type','Object_Type',\n",
    "              'Pre_K','Operating_Status']\n",
    "target_pipeline =  Pipeline([\n",
    "        ('selector', DataFrameSelector(cat_list)),\n",
    "        ('expand', TargetExpander(cat_list))\n",
    "    ])\n",
    "\n",
    "target_pipeline.fit(train)"
   ]
  },
  {
   "cell_type": "code",
   "execution_count": 26,
   "metadata": {
    "ExecuteTime": {
     "end_time": "2018-12-11T08:38:02.689370Z",
     "start_time": "2018-12-11T08:38:01.808411Z"
    },
    "scrolled": true
   },
   "outputs": [
    {
     "data": {
      "text/html": [
       "<div>\n",
       "<style scoped>\n",
       "    .dataframe tbody tr th:only-of-type {\n",
       "        vertical-align: middle;\n",
       "    }\n",
       "\n",
       "    .dataframe tbody tr th {\n",
       "        vertical-align: top;\n",
       "    }\n",
       "\n",
       "    .dataframe thead th {\n",
       "        text-align: right;\n",
       "    }\n",
       "</style>\n",
       "<table border=\"1\" class=\"dataframe\">\n",
       "  <thead>\n",
       "    <tr style=\"text-align: right;\">\n",
       "      <th></th>\n",
       "      <th>Function_Aides Compensation</th>\n",
       "      <th>Function_Career &amp; Academic Counseling</th>\n",
       "      <th>Function_Communications</th>\n",
       "      <th>Function_Curriculum Development</th>\n",
       "      <th>Function_Data Processing &amp; Information Services</th>\n",
       "      <th>Function_Development &amp; Fundraising</th>\n",
       "      <th>Function_Enrichment</th>\n",
       "      <th>Function_Extended Time &amp; Tutoring</th>\n",
       "      <th>Function_Facilities &amp; Maintenance</th>\n",
       "      <th>Function_Facilities Planning</th>\n",
       "      <th>...</th>\n",
       "      <th>Object_Type_Rent/Utilities</th>\n",
       "      <th>Object_Type_Substitute Compensation</th>\n",
       "      <th>Object_Type_Supplies/Materials</th>\n",
       "      <th>Object_Type_Travel &amp; Conferences</th>\n",
       "      <th>Pre_K_NO_LABEL</th>\n",
       "      <th>Pre_K_Non PreK</th>\n",
       "      <th>Pre_K_PreK</th>\n",
       "      <th>Operating_Status_Non-Operating</th>\n",
       "      <th>Operating_Status_Operating, Not PreK-12</th>\n",
       "      <th>Operating_Status_PreK-12 Operating</th>\n",
       "    </tr>\n",
       "  </thead>\n",
       "  <tbody>\n",
       "    <tr>\n",
       "      <th>0</th>\n",
       "      <td>0</td>\n",
       "      <td>0</td>\n",
       "      <td>0</td>\n",
       "      <td>0</td>\n",
       "      <td>0</td>\n",
       "      <td>0</td>\n",
       "      <td>0</td>\n",
       "      <td>0</td>\n",
       "      <td>0</td>\n",
       "      <td>0</td>\n",
       "      <td>...</td>\n",
       "      <td>0</td>\n",
       "      <td>0</td>\n",
       "      <td>0</td>\n",
       "      <td>0</td>\n",
       "      <td>1</td>\n",
       "      <td>0</td>\n",
       "      <td>0</td>\n",
       "      <td>0</td>\n",
       "      <td>0</td>\n",
       "      <td>1</td>\n",
       "    </tr>\n",
       "    <tr>\n",
       "      <th>1</th>\n",
       "      <td>0</td>\n",
       "      <td>0</td>\n",
       "      <td>0</td>\n",
       "      <td>0</td>\n",
       "      <td>0</td>\n",
       "      <td>0</td>\n",
       "      <td>0</td>\n",
       "      <td>0</td>\n",
       "      <td>0</td>\n",
       "      <td>0</td>\n",
       "      <td>...</td>\n",
       "      <td>0</td>\n",
       "      <td>0</td>\n",
       "      <td>0</td>\n",
       "      <td>0</td>\n",
       "      <td>1</td>\n",
       "      <td>0</td>\n",
       "      <td>0</td>\n",
       "      <td>1</td>\n",
       "      <td>0</td>\n",
       "      <td>0</td>\n",
       "    </tr>\n",
       "    <tr>\n",
       "      <th>2</th>\n",
       "      <td>0</td>\n",
       "      <td>0</td>\n",
       "      <td>0</td>\n",
       "      <td>0</td>\n",
       "      <td>0</td>\n",
       "      <td>0</td>\n",
       "      <td>0</td>\n",
       "      <td>0</td>\n",
       "      <td>0</td>\n",
       "      <td>0</td>\n",
       "      <td>...</td>\n",
       "      <td>0</td>\n",
       "      <td>0</td>\n",
       "      <td>0</td>\n",
       "      <td>0</td>\n",
       "      <td>0</td>\n",
       "      <td>1</td>\n",
       "      <td>0</td>\n",
       "      <td>0</td>\n",
       "      <td>0</td>\n",
       "      <td>1</td>\n",
       "    </tr>\n",
       "    <tr>\n",
       "      <th>3</th>\n",
       "      <td>0</td>\n",
       "      <td>0</td>\n",
       "      <td>0</td>\n",
       "      <td>0</td>\n",
       "      <td>0</td>\n",
       "      <td>0</td>\n",
       "      <td>0</td>\n",
       "      <td>0</td>\n",
       "      <td>0</td>\n",
       "      <td>0</td>\n",
       "      <td>...</td>\n",
       "      <td>0</td>\n",
       "      <td>0</td>\n",
       "      <td>0</td>\n",
       "      <td>0</td>\n",
       "      <td>1</td>\n",
       "      <td>0</td>\n",
       "      <td>0</td>\n",
       "      <td>0</td>\n",
       "      <td>0</td>\n",
       "      <td>1</td>\n",
       "    </tr>\n",
       "    <tr>\n",
       "      <th>4</th>\n",
       "      <td>0</td>\n",
       "      <td>0</td>\n",
       "      <td>0</td>\n",
       "      <td>0</td>\n",
       "      <td>0</td>\n",
       "      <td>0</td>\n",
       "      <td>0</td>\n",
       "      <td>0</td>\n",
       "      <td>0</td>\n",
       "      <td>0</td>\n",
       "      <td>...</td>\n",
       "      <td>0</td>\n",
       "      <td>1</td>\n",
       "      <td>0</td>\n",
       "      <td>0</td>\n",
       "      <td>1</td>\n",
       "      <td>0</td>\n",
       "      <td>0</td>\n",
       "      <td>0</td>\n",
       "      <td>0</td>\n",
       "      <td>1</td>\n",
       "    </tr>\n",
       "  </tbody>\n",
       "</table>\n",
       "<p>5 rows × 104 columns</p>\n",
       "</div>"
      ],
      "text/plain": [
       "   Function_Aides Compensation  Function_Career & Academic Counseling  \\\n",
       "0                            0                                      0   \n",
       "1                            0                                      0   \n",
       "2                            0                                      0   \n",
       "3                            0                                      0   \n",
       "4                            0                                      0   \n",
       "\n",
       "   Function_Communications  Function_Curriculum Development  \\\n",
       "0                        0                                0   \n",
       "1                        0                                0   \n",
       "2                        0                                0   \n",
       "3                        0                                0   \n",
       "4                        0                                0   \n",
       "\n",
       "   Function_Data Processing & Information Services  \\\n",
       "0                                                0   \n",
       "1                                                0   \n",
       "2                                                0   \n",
       "3                                                0   \n",
       "4                                                0   \n",
       "\n",
       "   Function_Development & Fundraising  Function_Enrichment  \\\n",
       "0                                   0                    0   \n",
       "1                                   0                    0   \n",
       "2                                   0                    0   \n",
       "3                                   0                    0   \n",
       "4                                   0                    0   \n",
       "\n",
       "   Function_Extended Time & Tutoring  Function_Facilities & Maintenance  \\\n",
       "0                                  0                                  0   \n",
       "1                                  0                                  0   \n",
       "2                                  0                                  0   \n",
       "3                                  0                                  0   \n",
       "4                                  0                                  0   \n",
       "\n",
       "   Function_Facilities Planning                 ...                  \\\n",
       "0                             0                 ...                   \n",
       "1                             0                 ...                   \n",
       "2                             0                 ...                   \n",
       "3                             0                 ...                   \n",
       "4                             0                 ...                   \n",
       "\n",
       "   Object_Type_Rent/Utilities  Object_Type_Substitute Compensation  \\\n",
       "0                           0                                    0   \n",
       "1                           0                                    0   \n",
       "2                           0                                    0   \n",
       "3                           0                                    0   \n",
       "4                           0                                    1   \n",
       "\n",
       "   Object_Type_Supplies/Materials  Object_Type_Travel & Conferences  \\\n",
       "0                               0                                 0   \n",
       "1                               0                                 0   \n",
       "2                               0                                 0   \n",
       "3                               0                                 0   \n",
       "4                               0                                 0   \n",
       "\n",
       "   Pre_K_NO_LABEL  Pre_K_Non PreK  Pre_K_PreK  Operating_Status_Non-Operating  \\\n",
       "0               1               0           0                               0   \n",
       "1               1               0           0                               1   \n",
       "2               0               1           0                               0   \n",
       "3               1               0           0                               0   \n",
       "4               1               0           0                               0   \n",
       "\n",
       "   Operating_Status_Operating, Not PreK-12  Operating_Status_PreK-12 Operating  \n",
       "0                                        0                                   1  \n",
       "1                                        0                                   0  \n",
       "2                                        0                                   1  \n",
       "3                                        0                                   1  \n",
       "4                                        0                                   1  \n",
       "\n",
       "[5 rows x 104 columns]"
      ]
     },
     "execution_count": 26,
     "metadata": {},
     "output_type": "execute_result"
    }
   ],
   "source": [
    "target_104_data = target_pipeline.transform(train)\n",
    "target_104_data.head()"
   ]
  },
  {
   "cell_type": "markdown",
   "metadata": {},
   "source": [
    "# Splitting the data"
   ]
  },
  {
   "cell_type": "markdown",
   "metadata": {},
   "source": [
    "https://www.researchgate.net/post/Should_Indepenent_variables_be_more_than_the_dependent_variables\n"
   ]
  },
  {
   "cell_type": "code",
   "execution_count": 27,
   "metadata": {
    "ExecuteTime": {
     "end_time": "2018-12-11T08:38:21.633966Z",
     "start_time": "2018-12-11T08:38:18.855864Z"
    }
   },
   "outputs": [],
   "source": [
    "X_train, X_other, y_train, y_other = multilabel_train_test_split(train,target_104_data,\n",
    "                                                               size=0.7,seed=143)"
   ]
  },
  {
   "cell_type": "code",
   "execution_count": 37,
   "metadata": {
    "ExecuteTime": {
     "end_time": "2018-12-11T08:42:49.582459Z",
     "start_time": "2018-12-11T08:42:47.859845Z"
    }
   },
   "outputs": [],
   "source": [
    "X_test, X_validate, y_test, y_validate = multilabel_train_test_split(X_other,y_other,\n",
    "                                                               size=0.5,seed=143)"
   ]
  },
  {
   "cell_type": "code",
   "execution_count": 38,
   "metadata": {
    "ExecuteTime": {
     "end_time": "2018-12-11T08:42:52.419297Z",
     "start_time": "2018-12-11T08:42:52.062823Z"
    },
    "scrolled": true
   },
   "outputs": [
    {
     "name": "stdout",
     "output_type": "stream",
     "text": [
      "<class 'pandas.core.frame.DataFrame'>\n",
      "Int64Index: 120084 entries, 11 to 400267\n",
      "Data columns (total 26 columns):\n",
      "Function                  120084 non-null object\n",
      "Use                       120084 non-null object\n",
      "Sharing                   120084 non-null object\n",
      "Reporting                 120084 non-null object\n",
      "Student_Type              120084 non-null object\n",
      "Position_Type             120084 non-null object\n",
      "Object_Type               120084 non-null object\n",
      "Pre_K                     120084 non-null object\n",
      "Operating_Status          120084 non-null object\n",
      "Object_Description        112672 non-null object\n",
      "Text_2                    26666 non-null object\n",
      "SubFund_Description       92049 non-null object\n",
      "Job_Title_Description     87782 non-null object\n",
      "Text_3                    32775 non-null object\n",
      "Text_4                    16023 non-null object\n",
      "Sub_Object_Description    27479 non-null object\n",
      "Location_Description      48493 non-null object\n",
      "FTE                       37836 non-null float64\n",
      "Function_Description      102721 non-null object\n",
      "Facility_or_Department    16108 non-null object\n",
      "Position_Extra            79237 non-null object\n",
      "Total                     118776 non-null float64\n",
      "Program_Description       91238 non-null object\n",
      "Fund_Description          60762 non-null object\n",
      "Text_1                    87746 non-null object\n",
      "index                     120084 non-null int64\n",
      "dtypes: float64(2), int64(1), object(23)\n",
      "memory usage: 24.7+ MB\n"
     ]
    }
   ],
   "source": [
    "X_train.info()"
   ]
  },
  {
   "cell_type": "code",
   "execution_count": 39,
   "metadata": {
    "ExecuteTime": {
     "end_time": "2018-12-11T08:42:54.418101Z",
     "start_time": "2018-12-11T08:42:54.040071Z"
    },
    "scrolled": true
   },
   "outputs": [
    {
     "name": "stdout",
     "output_type": "stream",
     "text": [
      "<class 'pandas.core.frame.DataFrame'>\n",
      "Int64Index: 140097 entries, 5 to 400276\n",
      "Data columns (total 26 columns):\n",
      "Function                  140097 non-null object\n",
      "Use                       140097 non-null object\n",
      "Sharing                   140097 non-null object\n",
      "Reporting                 140097 non-null object\n",
      "Student_Type              140097 non-null object\n",
      "Position_Type             140097 non-null object\n",
      "Object_Type               140097 non-null object\n",
      "Pre_K                     140097 non-null object\n",
      "Operating_Status          140097 non-null object\n",
      "Object_Description        131451 non-null object\n",
      "Text_2                    30621 non-null object\n",
      "SubFund_Description       107563 non-null object\n",
      "Job_Title_Description     102413 non-null object\n",
      "Text_3                    38403 non-null object\n",
      "Text_4                    18780 non-null object\n",
      "Sub_Object_Description    32038 non-null object\n",
      "Location_Description      56477 non-null object\n",
      "FTE                       44191 non-null float64\n",
      "Function_Description      119816 non-null object\n",
      "Facility_or_Department    18776 non-null object\n",
      "Position_Extra            92730 non-null object\n",
      "Total                     138471 non-null float64\n",
      "Program_Description       106702 non-null object\n",
      "Fund_Description          70955 non-null object\n",
      "Text_1                    102331 non-null object\n",
      "index                     140097 non-null int64\n",
      "dtypes: float64(2), int64(1), object(23)\n",
      "memory usage: 28.9+ MB\n"
     ]
    }
   ],
   "source": [
    "X_test_.info()"
   ]
  },
  {
   "cell_type": "code",
   "execution_count": 40,
   "metadata": {
    "ExecuteTime": {
     "end_time": "2018-12-11T08:42:57.470247Z",
     "start_time": "2018-12-11T08:42:57.462225Z"
    },
    "scrolled": false
   },
   "outputs": [
    {
     "name": "stdout",
     "output_type": "stream",
     "text": [
      "<class 'pandas.core.frame.DataFrame'>\n",
      "Int64Index: 120084 entries, 11 to 400267\n",
      "Columns: 104 entries, Function_Aides Compensation to Operating_Status_PreK-12 Operating\n",
      "dtypes: uint8(104)\n",
      "memory usage: 12.8 MB\n"
     ]
    }
   ],
   "source": [
    "y_train.info()"
   ]
  },
  {
   "cell_type": "code",
   "execution_count": null,
   "metadata": {},
   "outputs": [],
   "source": []
  },
  {
   "cell_type": "markdown",
   "metadata": {},
   "source": [
    "#  Numerical Pipeline using MICE"
   ]
  },
  {
   "cell_type": "markdown",
   "metadata": {},
   "source": [
    "* To handle the null values in the numeric data, we had created a customized imputer function that was imputing the missing FTE and Total (Budget spent) based on sub-categories in our training set.\n",
    "* On some research, we found a code that is inspired by SKlearn statsmodel library, [MICE module](http://www.statsmodels.org/dev/imputation.html#).\n",
    "* [MICE.py](https://github.com/jeweinberg/Pandas-MICE) that we will implement in Phase 2 of our Final project."
   ]
  },
  {
   "cell_type": "markdown",
   "metadata": {},
   "source": [
    "MICE stands for Multiple Imputation with Chained Equations. We know that FTE and Total Budget are document specific, i.e. a full-time employee and a higher paid employee would not have the same role, designation, operation status, etc as a part-time employee hired on a contract basis. We cannot impute them by taking a mean or median of the entire dataset. Hence, we need a special imputation method that can use as much information as possible from the other features (independent variables) to impute depending on each document (employee) feature. "
   ]
  },
  {
   "cell_type": "markdown",
   "metadata": {},
   "source": [
    "## Wrapper for Imputation"
   ]
  },
  {
   "cell_type": "code",
   "execution_count": 41,
   "metadata": {
    "ExecuteTime": {
     "end_time": "2018-12-11T08:43:04.922495Z",
     "start_time": "2018-12-11T08:43:04.722449Z"
    }
   },
   "outputs": [],
   "source": [
    "class SelfImputer(BaseEstimator, TransformerMixin):\n",
    "    def __init__(self, imputed_attrib_names, attrib_names, datatype, seed_strategy='most_frequent'):\n",
    "        ## seed_strategy : strategy for imputation, set to 'most_frequent' as default\n",
    "        ## imputed_attrib_name : columns which should be picked from the imputed data, here 'FTE' & 'TOTAL'. \n",
    "        ##                           Rest will be used for imputation however we should return the df \n",
    "        ##                               with only imputed_attrib_name columns changed\n",
    "        \n",
    "        self.imputed_attrib_names = imputed_attrib_names\n",
    "        self.attrib_names = attrib_names\n",
    "        self.seed_strategy = seed_strategy\n",
    "        self.datatype = datatype\n",
    "        ##self.attrib_names.append('index')\n",
    "    def fit(self, X, y=None):\n",
    "        return self\n",
    "    def transform(self, X):\n",
    "        # Create a copy of the input df to work with\n",
    "        self.X = pd.DataFrame(X, columns=self.attrib_names, dtype=object)\n",
    "        self.X.FTE = self.X.FTE.astype(float)\n",
    "        self.X.Total = self.X.Total.astype(float)\n",
    "        self.X['index'] = pd.to_numeric(self.X['index'])\n",
    "    \n",
    "        \n",
    "        #print(self.X.info())\n",
    "        #temporary df- need not remove if no time\n",
    "        self.X_imp = self.X.copy()\n",
    "        \n",
    "        mice_imp = MiceImputer(seed_strategy=self.seed_strategy)\n",
    "        le = preprocessing.LabelEncoder()\n",
    "        for column_name in self.X_imp.columns:\n",
    "            if self.X_imp[column_name].dtype == object:\n",
    "              #  removing characters other than alphabets\n",
    "                temp = self.X_imp[column_name].astype(str).map(lambda x: re.sub(r'\\W+', '', x))        \n",
    "                self.X_imp[column_name] = le.fit_transform(temp)\n",
    "            else:\n",
    "                pass\n",
    "        #print(self.X_imp.info())\n",
    "        #fit the model for imputation\n",
    "        # transform the copy of input df and imput missing \n",
    "        miced_data = mice_imp.fit(self.X_imp).transform(self.X_imp)\n",
    "        \n",
    "        \n",
    "        ## Reconstructing the input df with only the imputed_attrib_names columns changed\n",
    "        \n",
    "        self.X = self.X.drop(columns=self.imputed_attrib_names)#['FTE','Total'])  # drop 'FTE' and 'Total'\n",
    "        print(self.X.info())\n",
    "        \n",
    "        self.imputed_attrib_names.append('index') # need to extract 'FTE', 'Total' and 'index' columns from imputed data\n",
    "        miced_data_subset = miced_data[self.imputed_attrib_names]#['FTE','Total','index']]\n",
    "        #print (miced_data_subset.info())\n",
    "        self.X = pd.merge(self.X,miced_data_subset,how='outer', on='index')\n",
    "        #print(self.X.head())\n",
    "        return miced_data_subset \n",
    "    "
   ]
  },
  {
   "cell_type": "markdown",
   "metadata": {},
   "source": [
    "\n",
    "## Create pipeline for MICE imputation"
   ]
  },
  {
   "cell_type": "code",
   "execution_count": 42,
   "metadata": {
    "ExecuteTime": {
     "end_time": "2018-12-11T08:43:10.361799Z",
     "start_time": "2018-12-11T08:43:10.342745Z"
    }
   },
   "outputs": [],
   "source": [
    "num_attribs = ['Object_Description','Text_2','SubFund_Description','Job_Title_Description',\n",
    "                      'Text_3','Text_4','Sub_Object_Description','Location_Description','FTE',\n",
    "                      'Function_Description','Facility_or_Department','Position_Extra','Total',\n",
    "                      'Program_Description','Fund_Description','Text_1','index']\n",
    "num_impute_attribs = ['FTE','Total']\n",
    "datatype = np.dtype([('Object_Description',object),('Text_2',object),('SubFund_Description',object),('Job_Title_Description',object),('Text_3',object),('Text_4',object),('Sub_Object_Description',object),('Location_Description',object),('FTE',float),('Function_Description',object),('Facility_or_Department',object),('Position_Extra',object),('Total',float),('Program_Description',object),('Fund_Description',object),('Text_1',object),('index',int)])\n",
    "\n",
    "num_impute_pipeline =  Pipeline([\n",
    "        ('selector', DataFrameSelector(num_attribs)),\n",
    "        ('imputer', SelfImputer(num_impute_attribs,num_attribs,datatype,seed_strategy=\"most_frequent\"))\n",
    "    ])\n"
   ]
  },
  {
   "cell_type": "markdown",
   "metadata": {},
   "source": [
    "## Test Numerical Imputer pipeline"
   ]
  },
  {
   "cell_type": "code",
   "execution_count": 43,
   "metadata": {
    "ExecuteTime": {
     "end_time": "2018-12-11T08:43:17.824479Z",
     "start_time": "2018-12-11T08:43:17.703152Z"
    }
   },
   "outputs": [
    {
     "data": {
      "text/plain": [
       "Pipeline(memory=None,\n",
       "     steps=[('selector', DataFrameSelector(attribute_names=['Object_Description', 'Text_2', 'SubFund_Description', 'Job_Title_Description', 'Text_3', 'Text_4', 'Sub_Object_Description', 'Location_Description', 'FTE', 'Function_Description', 'Facility_or_Department', 'Position_Extra', 'Total', 'Program_De...), ('index', '<i4')]),\n",
       "      imputed_attrib_names=['FTE', 'Total'], seed_strategy='most_frequent'))])"
      ]
     },
     "execution_count": 43,
     "metadata": {},
     "output_type": "execute_result"
    }
   ],
   "source": [
    "num_impute_pipeline.fit(X_train)"
   ]
  },
  {
   "cell_type": "code",
   "execution_count": 44,
   "metadata": {
    "ExecuteTime": {
     "end_time": "2018-12-11T08:43:30.252405Z",
     "start_time": "2018-12-11T08:43:21.498772Z"
    },
    "scrolled": true
   },
   "outputs": [
    {
     "name": "stdout",
     "output_type": "stream",
     "text": [
      "<class 'pandas.core.frame.DataFrame'>\n",
      "RangeIndex: 120084 entries, 0 to 120083\n",
      "Data columns (total 15 columns):\n",
      "Object_Description        112672 non-null object\n",
      "Text_2                    26666 non-null object\n",
      "SubFund_Description       92049 non-null object\n",
      "Job_Title_Description     87782 non-null object\n",
      "Text_3                    32775 non-null object\n",
      "Text_4                    16023 non-null object\n",
      "Sub_Object_Description    27479 non-null object\n",
      "Location_Description      48493 non-null object\n",
      "Function_Description      102721 non-null object\n",
      "Facility_or_Department    16108 non-null object\n",
      "Position_Extra            79237 non-null object\n",
      "Program_Description       91238 non-null object\n",
      "Fund_Description          60762 non-null object\n",
      "Text_1                    87746 non-null object\n",
      "index                     120084 non-null int64\n",
      "dtypes: int64(1), object(14)\n",
      "memory usage: 13.7+ MB\n",
      "None\n"
     ]
    }
   ],
   "source": [
    "train_num_imp = num_impute_pipeline.transform(X_train)"
   ]
  },
  {
   "cell_type": "code",
   "execution_count": 45,
   "metadata": {
    "ExecuteTime": {
     "end_time": "2018-12-11T08:44:02.243297Z",
     "start_time": "2018-12-11T08:44:02.125983Z"
    }
   },
   "outputs": [
    {
     "name": "stdout",
     "output_type": "stream",
     "text": [
      "(140097, 26)\n",
      "(140097, 26)\n"
     ]
    }
   ],
   "source": [
    "print(X_test.shape)\n",
    "X_test = X_test.drop_duplicates('index') \n",
    "print(X_test.shape)"
   ]
  },
  {
   "cell_type": "code",
   "execution_count": 46,
   "metadata": {
    "ExecuteTime": {
     "end_time": "2018-12-11T08:44:25.709115Z",
     "start_time": "2018-12-11T08:44:14.613248Z"
    }
   },
   "outputs": [
    {
     "name": "stdout",
     "output_type": "stream",
     "text": [
      "<class 'pandas.core.frame.DataFrame'>\n",
      "RangeIndex: 140097 entries, 0 to 140096\n",
      "Data columns (total 15 columns):\n",
      "Object_Description        131451 non-null object\n",
      "Text_2                    30621 non-null object\n",
      "SubFund_Description       107563 non-null object\n",
      "Job_Title_Description     102413 non-null object\n",
      "Text_3                    38403 non-null object\n",
      "Text_4                    18780 non-null object\n",
      "Sub_Object_Description    32038 non-null object\n",
      "Location_Description      56477 non-null object\n",
      "Function_Description      119816 non-null object\n",
      "Facility_or_Department    18776 non-null object\n",
      "Position_Extra            92730 non-null object\n",
      "Program_Description       106702 non-null object\n",
      "Fund_Description          70955 non-null object\n",
      "Text_1                    102331 non-null object\n",
      "index                     140097 non-null int64\n",
      "dtypes: int64(1), object(14)\n",
      "memory usage: 16.0+ MB\n",
      "None\n"
     ]
    },
    {
     "data": {
      "text/html": [
       "<div>\n",
       "<style scoped>\n",
       "    .dataframe tbody tr th:only-of-type {\n",
       "        vertical-align: middle;\n",
       "    }\n",
       "\n",
       "    .dataframe tbody tr th {\n",
       "        vertical-align: top;\n",
       "    }\n",
       "\n",
       "    .dataframe thead th {\n",
       "        text-align: right;\n",
       "    }\n",
       "</style>\n",
       "<table border=\"1\" class=\"dataframe\">\n",
       "  <thead>\n",
       "    <tr style=\"text-align: right;\">\n",
       "      <th></th>\n",
       "      <th>FTE</th>\n",
       "      <th>Total</th>\n",
       "      <th>index</th>\n",
       "    </tr>\n",
       "  </thead>\n",
       "  <tbody>\n",
       "    <tr>\n",
       "      <th>0</th>\n",
       "      <td>-0.105796</td>\n",
       "      <td>-8.150000</td>\n",
       "      <td>229958</td>\n",
       "    </tr>\n",
       "    <tr>\n",
       "      <th>1</th>\n",
       "      <td>0.176399</td>\n",
       "      <td>2000.050000</td>\n",
       "      <td>417668</td>\n",
       "    </tr>\n",
       "    <tr>\n",
       "      <th>2</th>\n",
       "      <td>0.600000</td>\n",
       "      <td>38824.790000</td>\n",
       "      <td>84272</td>\n",
       "    </tr>\n",
       "    <tr>\n",
       "      <th>3</th>\n",
       "      <td>0.769553</td>\n",
       "      <td>-122544.070000</td>\n",
       "      <td>64760</td>\n",
       "    </tr>\n",
       "    <tr>\n",
       "      <th>4</th>\n",
       "      <td>1.000000</td>\n",
       "      <td>66651.255981</td>\n",
       "      <td>169914</td>\n",
       "    </tr>\n",
       "  </tbody>\n",
       "</table>\n",
       "</div>"
      ],
      "text/plain": [
       "        FTE          Total   index\n",
       "0 -0.105796      -8.150000  229958\n",
       "1  0.176399    2000.050000  417668\n",
       "2  0.600000   38824.790000   84272\n",
       "3  0.769553 -122544.070000   64760\n",
       "4  1.000000   66651.255981  169914"
      ]
     },
     "execution_count": 46,
     "metadata": {},
     "output_type": "execute_result"
    }
   ],
   "source": [
    "#X_test_2 = X_test_2.reset_index()\n",
    "#X_test_2 = X_test_2.set_index('index')\n",
    "#X_test_2 = X_test_2.drop_duplicates('index')\n",
    "#if \n",
    "num_attribs = ['Object_Description','Text_2','SubFund_Description','Job_Title_Description',\n",
    "                      'Text_3','Text_4','Sub_Object_Description','Location_Description','FTE',\n",
    "                      'Function_Description','Facility_or_Department','Position_Extra','Total',\n",
    "                      'Program_Description','Fund_Description','Text_1','index']\n",
    "num_impute_attribs = ['FTE','Total']\n",
    "datatype = np.dtype([('Object_Description',object),('Text_2',object),('SubFund_Description',object),('Job_Title_Description',object),('Text_3',object),('Text_4',object),('Sub_Object_Description',object),('Location_Description',object),('FTE',float),('Function_Description',object),('Facility_or_Department',object),('Position_Extra',object),('Total',float),('Program_Description',object),('Fund_Description',object),('Text_1',object),('index',int)])\n",
    "\n",
    "num_impute_pipeline2 =  Pipeline([\n",
    "        ('selector', DataFrameSelector(num_attribs)),\n",
    "        ('imputer', SelfImputer(num_impute_attribs,num_attribs,datatype,seed_strategy=\"most_frequent\"))\n",
    "    ])\n",
    "\n",
    "num_impute_pipeline2.fit(X_test)\n",
    "test_num_imp = num_impute_pipeline2.transform(X_test)\n",
    "test_num_imp.head()\n"
   ]
  },
  {
   "cell_type": "code",
   "execution_count": 47,
   "metadata": {
    "ExecuteTime": {
     "end_time": "2018-12-11T08:45:07.847701Z",
     "start_time": "2018-12-11T08:45:07.834667Z"
    }
   },
   "outputs": [
    {
     "data": {
      "text/html": [
       "<div>\n",
       "<style scoped>\n",
       "    .dataframe tbody tr th:only-of-type {\n",
       "        vertical-align: middle;\n",
       "    }\n",
       "\n",
       "    .dataframe tbody tr th {\n",
       "        vertical-align: top;\n",
       "    }\n",
       "\n",
       "    .dataframe thead th {\n",
       "        text-align: right;\n",
       "    }\n",
       "</style>\n",
       "<table border=\"1\" class=\"dataframe\">\n",
       "  <thead>\n",
       "    <tr style=\"text-align: right;\">\n",
       "      <th></th>\n",
       "      <th>FTE</th>\n",
       "      <th>Total</th>\n",
       "      <th>index</th>\n",
       "    </tr>\n",
       "  </thead>\n",
       "  <tbody>\n",
       "    <tr>\n",
       "      <th>0</th>\n",
       "      <td>0.589088</td>\n",
       "      <td>16.410000</td>\n",
       "      <td>330504</td>\n",
       "    </tr>\n",
       "    <tr>\n",
       "      <th>1</th>\n",
       "      <td>0.000000</td>\n",
       "      <td>228.530000</td>\n",
       "      <td>21870</td>\n",
       "    </tr>\n",
       "    <tr>\n",
       "      <th>2</th>\n",
       "      <td>0.674647</td>\n",
       "      <td>94.357986</td>\n",
       "      <td>18698</td>\n",
       "    </tr>\n",
       "    <tr>\n",
       "      <th>3</th>\n",
       "      <td>0.543005</td>\n",
       "      <td>146.510000</td>\n",
       "      <td>169454</td>\n",
       "    </tr>\n",
       "    <tr>\n",
       "      <th>4</th>\n",
       "      <td>0.358658</td>\n",
       "      <td>550.310000</td>\n",
       "      <td>5614</td>\n",
       "    </tr>\n",
       "  </tbody>\n",
       "</table>\n",
       "</div>"
      ],
      "text/plain": [
       "        FTE       Total   index\n",
       "0  0.589088   16.410000  330504\n",
       "1  0.000000  228.530000   21870\n",
       "2  0.674647   94.357986   18698\n",
       "3  0.543005  146.510000  169454\n",
       "4  0.358658  550.310000    5614"
      ]
     },
     "execution_count": 47,
     "metadata": {},
     "output_type": "execute_result"
    }
   ],
   "source": [
    "train_num_imp.head()"
   ]
  },
  {
   "cell_type": "code",
   "execution_count": 23,
   "metadata": {
    "ExecuteTime": {
     "end_time": "2018-12-10T21:55:32.806021Z",
     "start_time": "2018-12-10T21:55:32.800510Z"
    }
   },
   "outputs": [],
   "source": [
    "#train_num_imp = train_num_imp.drop(['index'], axis =1)"
   ]
  },
  {
   "cell_type": "markdown",
   "metadata": {},
   "source": [
    "# Categorical pipeline"
   ]
  },
  {
   "cell_type": "markdown",
   "metadata": {},
   "source": [
    "Create the additional column \"All\" joining all the Categorical columns "
   ]
  },
  {
   "cell_type": "markdown",
   "metadata": {},
   "source": [
    "## CategoricalImputer class for feature engineering"
   ]
  },
  {
   "cell_type": "code",
   "execution_count": 48,
   "metadata": {
    "ExecuteTime": {
     "end_time": "2018-12-11T08:45:18.764367Z",
     "start_time": "2018-12-11T08:45:18.647549Z"
    }
   },
   "outputs": [],
   "source": [
    "from sklearn.base import BaseEstimator, TransformerMixin\n",
    "from sklearn.utils import check_array\n",
    "from sklearn.preprocessing import LabelEncoder\n",
    "from scipy import sparse\n",
    "\n",
    "class CategoricalImputer(BaseEstimator, TransformerMixin):\n",
    "    \n",
    "    def __init__(self,cat_attribs):\n",
    "        self.cat_attribs = cat_attribs\n",
    "        return None\n",
    "    \n",
    "    def fit(self, X, y=None):\n",
    "        return self\n",
    "    \n",
    "    def transform(self, X, y=None):\n",
    "        self.X = pd.DataFrame(X, columns=self.cat_attribs, dtype=object)\n",
    "        self.X['index'] = pd.to_numeric(self.X['index'])\n",
    "        #temporary df - not to remove unless we have time to test\n",
    "        #self.X_tmp = self.X.copy()\n",
    "        \n",
    "        All = self.X[self.X.drop(columns=['index']).columns].apply(lambda row: ' '.join(row.values.astype(str)), axis=1)\n",
    "        print(All.sort_index().head())\n",
    "        \n",
    "        self.X[\"All\"] = All\n",
    "        self.X = self.X[[\"All\", \"index\"]]\n",
    "        #numeric column merge\n",
    "        \n",
    "        #catdf = self.X[['All','index']]\n",
    "        #numdf['index'] = pd.to_numeric(X['index'])\n",
    "        #print(type(self.cat.attribs))\n",
    "        #self.cat_attribs = self.cat_attribs.del(['index'])\n",
    "        #self.cat_attribs = self.cat_attribs.append(['FTE','Total'])\n",
    "        #idx = X['index']\n",
    "        \n",
    "        #self.X_tmp = pd.DataFrame(X, columns=self.cat_attribs, dtype=object)\n",
    "        #self.X_tmp = pd.merge(self.X, catdf,how='outer', on='index')\n",
    "        #print(self.X.head())\n",
    "        #return self.X.values \n",
    "        #return np.c_[All.sort_index()]\n",
    "        #return All.sort_index()\n",
    "        return self.X\n",
    "        \n",
    "        "
   ]
  },
  {
   "cell_type": "code",
   "execution_count": 49,
   "metadata": {
    "ExecuteTime": {
     "end_time": "2018-12-11T08:45:21.794897Z",
     "start_time": "2018-12-11T08:45:21.747772Z"
    }
   },
   "outputs": [
    {
     "data": {
      "text/html": [
       "<div>\n",
       "<style scoped>\n",
       "    .dataframe tbody tr th:only-of-type {\n",
       "        vertical-align: middle;\n",
       "    }\n",
       "\n",
       "    .dataframe tbody tr th {\n",
       "        vertical-align: top;\n",
       "    }\n",
       "\n",
       "    .dataframe thead th {\n",
       "        text-align: right;\n",
       "    }\n",
       "</style>\n",
       "<table border=\"1\" class=\"dataframe\">\n",
       "  <thead>\n",
       "    <tr style=\"text-align: right;\">\n",
       "      <th></th>\n",
       "      <th>Function</th>\n",
       "      <th>Use</th>\n",
       "      <th>Sharing</th>\n",
       "      <th>Reporting</th>\n",
       "      <th>Student_Type</th>\n",
       "      <th>Position_Type</th>\n",
       "      <th>Object_Type</th>\n",
       "      <th>Pre_K</th>\n",
       "      <th>Operating_Status</th>\n",
       "      <th>Object_Description</th>\n",
       "      <th>...</th>\n",
       "      <th>Location_Description</th>\n",
       "      <th>FTE</th>\n",
       "      <th>Function_Description</th>\n",
       "      <th>Facility_or_Department</th>\n",
       "      <th>Position_Extra</th>\n",
       "      <th>Total</th>\n",
       "      <th>Program_Description</th>\n",
       "      <th>Fund_Description</th>\n",
       "      <th>Text_1</th>\n",
       "      <th>index</th>\n",
       "    </tr>\n",
       "  </thead>\n",
       "  <tbody>\n",
       "    <tr>\n",
       "      <th>11</th>\n",
       "      <td>Instructional Materials &amp; Supplies</td>\n",
       "      <td>Instruction</td>\n",
       "      <td>School Reported</td>\n",
       "      <td>School</td>\n",
       "      <td>NO_LABEL</td>\n",
       "      <td>NO_LABEL</td>\n",
       "      <td>Supplies/Materials</td>\n",
       "      <td>NO_LABEL</td>\n",
       "      <td>PreK-12 Operating</td>\n",
       "      <td>SUPPLIES</td>\n",
       "      <td>...</td>\n",
       "      <td>NaN</td>\n",
       "      <td>NaN</td>\n",
       "      <td>INSTRUCTION</td>\n",
       "      <td>NaN</td>\n",
       "      <td>NaN</td>\n",
       "      <td>16.410000</td>\n",
       "      <td>PRIMARY GRADES PROGRAM</td>\n",
       "      <td>General Fund</td>\n",
       "      <td>NaN</td>\n",
       "      <td>330504</td>\n",
       "    </tr>\n",
       "    <tr>\n",
       "      <th>14</th>\n",
       "      <td>NO_LABEL</td>\n",
       "      <td>NO_LABEL</td>\n",
       "      <td>NO_LABEL</td>\n",
       "      <td>NO_LABEL</td>\n",
       "      <td>NO_LABEL</td>\n",
       "      <td>NO_LABEL</td>\n",
       "      <td>NO_LABEL</td>\n",
       "      <td>NO_LABEL</td>\n",
       "      <td>Operating, Not PreK-12</td>\n",
       "      <td>OTHER PERSONAL SERVICES</td>\n",
       "      <td>...</td>\n",
       "      <td>CHARTER</td>\n",
       "      <td>0.0</td>\n",
       "      <td>BASIC (FEFP K-12)</td>\n",
       "      <td>NaN</td>\n",
       "      <td>NaN</td>\n",
       "      <td>228.530000</td>\n",
       "      <td>NaN</td>\n",
       "      <td>CONVERSION CHARTER SCHOOLS</td>\n",
       "      <td>NaN</td>\n",
       "      <td>21870</td>\n",
       "    </tr>\n",
       "    <tr>\n",
       "      <th>15</th>\n",
       "      <td>Substitute Compensation</td>\n",
       "      <td>Instruction</td>\n",
       "      <td>School Reported</td>\n",
       "      <td>School</td>\n",
       "      <td>Unspecified</td>\n",
       "      <td>Substitute</td>\n",
       "      <td>Substitute Compensation</td>\n",
       "      <td>Non PreK</td>\n",
       "      <td>PreK-12 Operating</td>\n",
       "      <td>Salaries And Wages For Substitute Professionals</td>\n",
       "      <td>...</td>\n",
       "      <td>School</td>\n",
       "      <td>NaN</td>\n",
       "      <td>Instruction</td>\n",
       "      <td>All Campus Payroll</td>\n",
       "      <td>DEGREED SUBSTITUTE</td>\n",
       "      <td>94.357986</td>\n",
       "      <td>Bilingual Education And Special Language Programs</td>\n",
       "      <td>General Operating Fund</td>\n",
       "      <td>REGULAR PAY</td>\n",
       "      <td>18698</td>\n",
       "    </tr>\n",
       "  </tbody>\n",
       "</table>\n",
       "<p>3 rows × 26 columns</p>\n",
       "</div>"
      ],
      "text/plain": [
       "                              Function          Use          Sharing  \\\n",
       "11  Instructional Materials & Supplies  Instruction  School Reported   \n",
       "14                            NO_LABEL     NO_LABEL         NO_LABEL   \n",
       "15             Substitute Compensation  Instruction  School Reported   \n",
       "\n",
       "   Reporting Student_Type Position_Type              Object_Type     Pre_K  \\\n",
       "11    School     NO_LABEL      NO_LABEL       Supplies/Materials  NO_LABEL   \n",
       "14  NO_LABEL     NO_LABEL      NO_LABEL                 NO_LABEL  NO_LABEL   \n",
       "15    School  Unspecified    Substitute  Substitute Compensation  Non PreK   \n",
       "\n",
       "          Operating_Status                               Object_Description  \\\n",
       "11       PreK-12 Operating                                         SUPPLIES   \n",
       "14  Operating, Not PreK-12                   OTHER PERSONAL SERVICES          \n",
       "15       PreK-12 Operating  Salaries And Wages For Substitute Professionals   \n",
       "\n",
       "     ...   Location_Description  FTE            Function_Description  \\\n",
       "11   ...                    NaN  NaN                     INSTRUCTION   \n",
       "14   ...                CHARTER  0.0  BASIC (FEFP K-12)                \n",
       "15   ...                School   NaN                     Instruction   \n",
       "\n",
       "   Facility_or_Department      Position_Extra       Total  \\\n",
       "11                    NaN                 NaN   16.410000   \n",
       "14                    NaN                 NaN  228.530000   \n",
       "15     All Campus Payroll  DEGREED SUBSTITUTE   94.357986   \n",
       "\n",
       "                                  Program_Description  \\\n",
       "11                            PRIMARY GRADES PROGRAM    \n",
       "14                                                NaN   \n",
       "15  Bilingual Education And Special Language Programs   \n",
       "\n",
       "                  Fund_Description       Text_1   index  \n",
       "11                    General Fund          NaN  330504  \n",
       "14  CONVERSION CHARTER SCHOOLS              NaN   21870  \n",
       "15          General Operating Fund  REGULAR PAY   18698  \n",
       "\n",
       "[3 rows x 26 columns]"
      ]
     },
     "execution_count": 49,
     "metadata": {},
     "output_type": "execute_result"
    }
   ],
   "source": [
    "X_train.head(3)"
   ]
  },
  {
   "cell_type": "markdown",
   "metadata": {},
   "source": [
    "## Creating the Categorical Pipeline"
   ]
  },
  {
   "cell_type": "code",
   "execution_count": 50,
   "metadata": {
    "ExecuteTime": {
     "end_time": "2018-12-11T08:45:27.144723Z",
     "start_time": "2018-12-11T08:45:27.133694Z"
    },
    "scrolled": true
   },
   "outputs": [],
   "source": [
    "from sklearn.feature_extraction.text import TfidfVectorizer\n",
    "cat_attribs = ['Object_Description','Text_2','SubFund_Description','Job_Title_Description',\n",
    "                      'Text_3','Text_4','Sub_Object_Description','Location_Description',#'FTE',\n",
    "                      'Function_Description','Facility_or_Department','Position_Extra',#'Total',\n",
    "                      'Program_Description','Fund_Description','Text_1','index'] \n",
    "cat_pipeline = Pipeline([\n",
    "            ('selector',DataFrameSelector(cat_attribs)),\n",
    "            ('imputer', CategoricalImputer(cat_attribs))\n",
    "            \n",
    "            ]\n",
    "            )"
   ]
  },
  {
   "cell_type": "markdown",
   "metadata": {},
   "source": [
    "### test CategoricalImputer"
   ]
  },
  {
   "cell_type": "code",
   "execution_count": 51,
   "metadata": {
    "ExecuteTime": {
     "end_time": "2018-12-11T08:45:30.860774Z",
     "start_time": "2018-12-11T08:45:30.769526Z"
    }
   },
   "outputs": [
    {
     "data": {
      "text/plain": [
       "Pipeline(memory=None,\n",
       "     steps=[('selector', DataFrameSelector(attribute_names=['Object_Description', 'Text_2', 'SubFund_Description', 'Job_Title_Description', 'Text_3', 'Text_4', 'Sub_Object_Description', 'Location_Description', 'Function_Description', 'Facility_or_Department', 'Position_Extra', 'Program_Description', 'Fun...y_or_Department', 'Position_Extra', 'Program_Description', 'Fund_Description', 'Text_1', 'index']))])"
      ]
     },
     "execution_count": 51,
     "metadata": {},
     "output_type": "execute_result"
    }
   ],
   "source": [
    "cat_pipeline.fit(X_train)"
   ]
  },
  {
   "cell_type": "code",
   "execution_count": 52,
   "metadata": {
    "ExecuteTime": {
     "end_time": "2018-12-11T08:45:37.266059Z",
     "start_time": "2018-12-11T08:45:33.432747Z"
    },
    "scrolled": true
   },
   "outputs": [
    {
     "name": "stdout",
     "output_type": "stream",
     "text": [
      "0    SUPPLIES nan PRIMARY GRADES PROGRAM  nan nan n...\n",
      "1    OTHER PERSONAL SERVICES        nan nan SUB TEA...\n",
      "2    Salaries And Wages For Substitute Professional...\n",
      "3    SUPPLIES                       nan nan TEACHER...\n",
      "4    Purchased Services nan Support Services--Pupil...\n",
      "dtype: object\n"
     ]
    }
   ],
   "source": [
    "train_imp = cat_pipeline.transform(X_train)"
   ]
  },
  {
   "cell_type": "code",
   "execution_count": 53,
   "metadata": {
    "ExecuteTime": {
     "end_time": "2018-12-11T08:45:47.979636Z",
     "start_time": "2018-12-11T08:45:43.828276Z"
    },
    "scrolled": true
   },
   "outputs": [
    {
     "name": "stdout",
     "output_type": "stream",
     "text": [
      "0    CONTRA BENEFITS nan GENERAL FUND Custodian - P...\n",
      "1    EDUCATIONAL SPECIAL EDUCATION INSTRUCTION LOCA...\n",
      "2    Personal Services - Teachers nan nan TCHER P E...\n",
      "3    Regular * nan Special Instruction nan nan nan ...\n",
      "4    Regular * ADM/PROF Operation and Maintenance o...\n",
      "dtype: object\n"
     ]
    }
   ],
   "source": [
    "test_imp = cat_pipeline.transform(X_test)"
   ]
  },
  {
   "cell_type": "code",
   "execution_count": null,
   "metadata": {},
   "outputs": [],
   "source": []
  },
  {
   "cell_type": "markdown",
   "metadata": {},
   "source": [
    "### Vectorize the \"All\" column"
   ]
  },
  {
   "cell_type": "code",
   "execution_count": 63,
   "metadata": {
    "ExecuteTime": {
     "end_time": "2018-12-11T09:39:51.828181Z",
     "start_time": "2018-12-11T09:39:47.341666Z"
    }
   },
   "outputs": [],
   "source": [
    "my_stop_words = text.ENGLISH_STOP_WORDS.union([\"nan\", \"n/a\"])\n",
    "#vect = TfidfVectorizer(sublinear_tf=True, max_df=0.5, analyzer='word', stop_words='english')\n",
    "vect = TfidfVectorizer(sublinear_tf=True, max_df=1, analyzer='word', stop_words=my_stop_words)\n",
    "X = vect.fit_transform(train_imp[\"All\"])"
   ]
  },
  {
   "cell_type": "code",
   "execution_count": 64,
   "metadata": {
    "ExecuteTime": {
     "end_time": "2018-12-11T09:39:58.037608Z",
     "start_time": "2018-12-11T09:39:53.622535Z"
    }
   },
   "outputs": [],
   "source": [
    "X_test = vect.transform(test_imp[\"All\"]) #transforming test based on train fitted method"
   ]
  },
  {
   "cell_type": "code",
   "execution_count": 65,
   "metadata": {
    "ExecuteTime": {
     "end_time": "2018-12-11T09:39:59.336292Z",
     "start_time": "2018-12-11T09:39:58.923168Z"
    }
   },
   "outputs": [
    {
     "data": {
      "text/plain": [
       "(140097, 490)"
      ]
     },
     "execution_count": 65,
     "metadata": {},
     "output_type": "execute_result"
    }
   ],
   "source": [
    "cat_tok_test = pd.SparseDataFrame(X_test, columns=vect.get_feature_names(), default_fill_value=0)\n",
    "cat_tok_test.shape"
   ]
  },
  {
   "cell_type": "code",
   "execution_count": 66,
   "metadata": {
    "ExecuteTime": {
     "end_time": "2018-12-11T09:40:09.768063Z",
     "start_time": "2018-12-11T09:40:09.762048Z"
    }
   },
   "outputs": [
    {
     "data": {
      "text/plain": [
       "<120084x490 sparse matrix of type '<class 'numpy.float64'>'\n",
       "\twith 490 stored elements in Compressed Sparse Row format>"
      ]
     },
     "execution_count": 66,
     "metadata": {},
     "output_type": "execute_result"
    }
   ],
   "source": [
    "X"
   ]
  },
  {
   "cell_type": "markdown",
   "metadata": {},
   "source": [
    "120084x3049 sparse matrix of type '<class 'numpy.float64'>'\n",
    "\twith 1580413 stored elements in Compressed Sparse Row format>"
   ]
  },
  {
   "cell_type": "code",
   "execution_count": 67,
   "metadata": {
    "ExecuteTime": {
     "end_time": "2018-12-11T09:40:15.274939Z",
     "start_time": "2018-12-11T09:40:15.268921Z"
    }
   },
   "outputs": [
    {
     "data": {
      "text/plain": [
       "array([1.        , 1.        , 1.        , 1.        , 1.        ,\n",
       "       1.        , 1.        , 1.        , 0.70710678, 0.70710678])"
      ]
     },
     "execution_count": 67,
     "metadata": {},
     "output_type": "execute_result"
    }
   ],
   "source": [
    "X.data[:10]"
   ]
  },
  {
   "cell_type": "code",
   "execution_count": 68,
   "metadata": {
    "ExecuteTime": {
     "end_time": "2018-12-11T09:40:30.159928Z",
     "start_time": "2018-12-11T09:40:29.855096Z"
    }
   },
   "outputs": [
    {
     "data": {
      "text/plain": [
       "(120084, 490)"
      ]
     },
     "execution_count": 68,
     "metadata": {},
     "output_type": "execute_result"
    }
   ],
   "source": [
    "# train_imp.info()\n",
    "cat_tok = pd.SparseDataFrame(X, columns=vect.get_feature_names(), default_fill_value=0)\n",
    "cat_tok.shape"
   ]
  },
  {
   "cell_type": "code",
   "execution_count": 69,
   "metadata": {
    "ExecuteTime": {
     "end_time": "2018-12-11T09:40:32.405242Z",
     "start_time": "2018-12-11T09:40:32.361621Z"
    }
   },
   "outputs": [
    {
     "name": "stdout",
     "output_type": "stream",
     "text": [
      "<class 'pandas.core.sparse.frame.SparseDataFrame'>\n",
      "RangeIndex: 120084 entries, 0 to 120083\n",
      "Columns: 490 entries, 80hrs to zoo\n",
      "dtypes: float64(490)\n",
      "memory usage: 3.9 KB\n"
     ]
    }
   ],
   "source": [
    "cat_tok.info()"
   ]
  },
  {
   "cell_type": "code",
   "execution_count": 70,
   "metadata": {
    "ExecuteTime": {
     "end_time": "2018-12-11T09:40:35.266389Z",
     "start_time": "2018-12-11T09:40:34.850242Z"
    }
   },
   "outputs": [
    {
     "data": {
      "text/html": [
       "<div>\n",
       "<style scoped>\n",
       "    .dataframe tbody tr th:only-of-type {\n",
       "        vertical-align: middle;\n",
       "    }\n",
       "\n",
       "    .dataframe tbody tr th {\n",
       "        vertical-align: top;\n",
       "    }\n",
       "\n",
       "    .dataframe thead th {\n",
       "        text-align: right;\n",
       "    }\n",
       "</style>\n",
       "<table border=\"1\" class=\"dataframe\">\n",
       "  <thead>\n",
       "    <tr style=\"text-align: right;\">\n",
       "      <th></th>\n",
       "      <th>80hrs</th>\n",
       "      <th>acadmey</th>\n",
       "      <th>accident</th>\n",
       "      <th>accompanists</th>\n",
       "      <th>ad</th>\n",
       "      <th>adapted</th>\n",
       "      <th>addtn</th>\n",
       "      <th>adie</th>\n",
       "      <th>adjustments</th>\n",
       "      <th>adminis</th>\n",
       "      <th>...</th>\n",
       "      <th>wave</th>\n",
       "      <th>wf</th>\n",
       "      <th>williams</th>\n",
       "      <th>witness</th>\n",
       "      <th>xmas</th>\n",
       "      <th>years</th>\n",
       "      <th>yellow</th>\n",
       "      <th>young</th>\n",
       "      <th>zone</th>\n",
       "      <th>zoo</th>\n",
       "    </tr>\n",
       "  </thead>\n",
       "  <tbody>\n",
       "    <tr>\n",
       "      <th>0</th>\n",
       "      <td>0.0</td>\n",
       "      <td>0.0</td>\n",
       "      <td>0.0</td>\n",
       "      <td>0.0</td>\n",
       "      <td>0.0</td>\n",
       "      <td>0.0</td>\n",
       "      <td>0.0</td>\n",
       "      <td>0.0</td>\n",
       "      <td>0.0</td>\n",
       "      <td>0.0</td>\n",
       "      <td>...</td>\n",
       "      <td>0.0</td>\n",
       "      <td>0.0</td>\n",
       "      <td>0.0</td>\n",
       "      <td>0.0</td>\n",
       "      <td>0.0</td>\n",
       "      <td>0.0</td>\n",
       "      <td>0.0</td>\n",
       "      <td>0.0</td>\n",
       "      <td>0.0</td>\n",
       "      <td>0.0</td>\n",
       "    </tr>\n",
       "    <tr>\n",
       "      <th>1</th>\n",
       "      <td>0.0</td>\n",
       "      <td>0.0</td>\n",
       "      <td>0.0</td>\n",
       "      <td>0.0</td>\n",
       "      <td>0.0</td>\n",
       "      <td>0.0</td>\n",
       "      <td>0.0</td>\n",
       "      <td>0.0</td>\n",
       "      <td>0.0</td>\n",
       "      <td>0.0</td>\n",
       "      <td>...</td>\n",
       "      <td>0.0</td>\n",
       "      <td>0.0</td>\n",
       "      <td>0.0</td>\n",
       "      <td>0.0</td>\n",
       "      <td>0.0</td>\n",
       "      <td>0.0</td>\n",
       "      <td>0.0</td>\n",
       "      <td>0.0</td>\n",
       "      <td>0.0</td>\n",
       "      <td>0.0</td>\n",
       "    </tr>\n",
       "    <tr>\n",
       "      <th>2</th>\n",
       "      <td>0.0</td>\n",
       "      <td>0.0</td>\n",
       "      <td>0.0</td>\n",
       "      <td>0.0</td>\n",
       "      <td>0.0</td>\n",
       "      <td>0.0</td>\n",
       "      <td>0.0</td>\n",
       "      <td>0.0</td>\n",
       "      <td>0.0</td>\n",
       "      <td>0.0</td>\n",
       "      <td>...</td>\n",
       "      <td>0.0</td>\n",
       "      <td>0.0</td>\n",
       "      <td>0.0</td>\n",
       "      <td>0.0</td>\n",
       "      <td>0.0</td>\n",
       "      <td>0.0</td>\n",
       "      <td>0.0</td>\n",
       "      <td>0.0</td>\n",
       "      <td>0.0</td>\n",
       "      <td>0.0</td>\n",
       "    </tr>\n",
       "    <tr>\n",
       "      <th>3</th>\n",
       "      <td>0.0</td>\n",
       "      <td>0.0</td>\n",
       "      <td>0.0</td>\n",
       "      <td>0.0</td>\n",
       "      <td>0.0</td>\n",
       "      <td>0.0</td>\n",
       "      <td>0.0</td>\n",
       "      <td>0.0</td>\n",
       "      <td>0.0</td>\n",
       "      <td>0.0</td>\n",
       "      <td>...</td>\n",
       "      <td>0.0</td>\n",
       "      <td>0.0</td>\n",
       "      <td>0.0</td>\n",
       "      <td>0.0</td>\n",
       "      <td>0.0</td>\n",
       "      <td>0.0</td>\n",
       "      <td>0.0</td>\n",
       "      <td>0.0</td>\n",
       "      <td>0.0</td>\n",
       "      <td>0.0</td>\n",
       "    </tr>\n",
       "    <tr>\n",
       "      <th>4</th>\n",
       "      <td>0.0</td>\n",
       "      <td>0.0</td>\n",
       "      <td>0.0</td>\n",
       "      <td>0.0</td>\n",
       "      <td>0.0</td>\n",
       "      <td>0.0</td>\n",
       "      <td>0.0</td>\n",
       "      <td>0.0</td>\n",
       "      <td>0.0</td>\n",
       "      <td>0.0</td>\n",
       "      <td>...</td>\n",
       "      <td>0.0</td>\n",
       "      <td>0.0</td>\n",
       "      <td>0.0</td>\n",
       "      <td>0.0</td>\n",
       "      <td>0.0</td>\n",
       "      <td>0.0</td>\n",
       "      <td>0.0</td>\n",
       "      <td>0.0</td>\n",
       "      <td>0.0</td>\n",
       "      <td>0.0</td>\n",
       "    </tr>\n",
       "  </tbody>\n",
       "</table>\n",
       "<p>5 rows × 490 columns</p>\n",
       "</div>"
      ],
      "text/plain": [
       "   80hrs  acadmey  accident  accompanists   ad  adapted  addtn  adie  \\\n",
       "0    0.0      0.0       0.0           0.0  0.0      0.0    0.0   0.0   \n",
       "1    0.0      0.0       0.0           0.0  0.0      0.0    0.0   0.0   \n",
       "2    0.0      0.0       0.0           0.0  0.0      0.0    0.0   0.0   \n",
       "3    0.0      0.0       0.0           0.0  0.0      0.0    0.0   0.0   \n",
       "4    0.0      0.0       0.0           0.0  0.0      0.0    0.0   0.0   \n",
       "\n",
       "   adjustments  adminis ...   wave   wf  williams  witness  xmas  years  \\\n",
       "0          0.0      0.0 ...    0.0  0.0       0.0      0.0   0.0    0.0   \n",
       "1          0.0      0.0 ...    0.0  0.0       0.0      0.0   0.0    0.0   \n",
       "2          0.0      0.0 ...    0.0  0.0       0.0      0.0   0.0    0.0   \n",
       "3          0.0      0.0 ...    0.0  0.0       0.0      0.0   0.0    0.0   \n",
       "4          0.0      0.0 ...    0.0  0.0       0.0      0.0   0.0    0.0   \n",
       "\n",
       "   yellow  young  zone  zoo  \n",
       "0     0.0    0.0   0.0  0.0  \n",
       "1     0.0    0.0   0.0  0.0  \n",
       "2     0.0    0.0   0.0  0.0  \n",
       "3     0.0    0.0   0.0  0.0  \n",
       "4     0.0    0.0   0.0  0.0  \n",
       "\n",
       "[5 rows x 490 columns]"
      ]
     },
     "execution_count": 70,
     "metadata": {},
     "output_type": "execute_result"
    }
   ],
   "source": [
    "cat_tok.head()"
   ]
  },
  {
   "cell_type": "code",
   "execution_count": 91,
   "metadata": {
    "ExecuteTime": {
     "end_time": "2018-12-11T12:04:40.769482Z",
     "start_time": "2018-12-11T12:04:40.045876Z"
    }
   },
   "outputs": [
    {
     "name": "stdout",
     "output_type": "stream",
     "text": [
      "<class 'pandas.core.sparse.frame.SparseDataFrame'>\n",
      "RangeIndex: 120084 entries, 0 to 120083\n",
      "Columns: 490 entries, 80hrs to zoo\n",
      "dtypes: float64(490)\n",
      "memory usage: 3.9 KB\n"
     ]
    }
   ],
   "source": [
    "#cat_tok = cat_tok.drop_duplicates(['index'])\n",
    "#cat_tok.shape\n",
    "cat_tok.info()"
   ]
  },
  {
   "cell_type": "code",
   "execution_count": 71,
   "metadata": {
    "ExecuteTime": {
     "end_time": "2018-12-11T09:41:43.246454Z",
     "start_time": "2018-12-11T09:41:43.234917Z"
    }
   },
   "outputs": [
    {
     "data": {
      "text/html": [
       "<div>\n",
       "<style scoped>\n",
       "    .dataframe tbody tr th:only-of-type {\n",
       "        vertical-align: middle;\n",
       "    }\n",
       "\n",
       "    .dataframe tbody tr th {\n",
       "        vertical-align: top;\n",
       "    }\n",
       "\n",
       "    .dataframe thead th {\n",
       "        text-align: right;\n",
       "    }\n",
       "</style>\n",
       "<table border=\"1\" class=\"dataframe\">\n",
       "  <thead>\n",
       "    <tr style=\"text-align: right;\">\n",
       "      <th></th>\n",
       "      <th>All</th>\n",
       "      <th>index</th>\n",
       "    </tr>\n",
       "  </thead>\n",
       "  <tbody>\n",
       "    <tr>\n",
       "      <th>0</th>\n",
       "      <td>SUPPLIES nan PRIMARY GRADES PROGRAM  nan nan n...</td>\n",
       "      <td>330504</td>\n",
       "    </tr>\n",
       "    <tr>\n",
       "      <th>1</th>\n",
       "      <td>OTHER PERSONAL SERVICES        nan nan SUB TEA...</td>\n",
       "      <td>21870</td>\n",
       "    </tr>\n",
       "    <tr>\n",
       "      <th>2</th>\n",
       "      <td>Salaries And Wages For Substitute Professional...</td>\n",
       "      <td>18698</td>\n",
       "    </tr>\n",
       "    <tr>\n",
       "      <th>3</th>\n",
       "      <td>SUPPLIES                       nan nan TEACHER...</td>\n",
       "      <td>169454</td>\n",
       "    </tr>\n",
       "    <tr>\n",
       "      <th>4</th>\n",
       "      <td>Purchased Services nan Support Services--Pupil...</td>\n",
       "      <td>5614</td>\n",
       "    </tr>\n",
       "  </tbody>\n",
       "</table>\n",
       "</div>"
      ],
      "text/plain": [
       "                                                 All   index\n",
       "0  SUPPLIES nan PRIMARY GRADES PROGRAM  nan nan n...  330504\n",
       "1  OTHER PERSONAL SERVICES        nan nan SUB TEA...   21870\n",
       "2  Salaries And Wages For Substitute Professional...   18698\n",
       "3  SUPPLIES                       nan nan TEACHER...  169454\n",
       "4  Purchased Services nan Support Services--Pupil...    5614"
      ]
     },
     "execution_count": 71,
     "metadata": {},
     "output_type": "execute_result"
    }
   ],
   "source": [
    "train_imp.head()"
   ]
  },
  {
   "cell_type": "markdown",
   "metadata": {},
   "source": [
    "# Merge Numerical and Categorical Pipeline by merging"
   ]
  },
  {
   "cell_type": "markdown",
   "metadata": {},
   "source": [
    "## Train merge"
   ]
  },
  {
   "cell_type": "code",
   "execution_count": 72,
   "metadata": {
    "ExecuteTime": {
     "end_time": "2018-12-11T09:42:11.989304Z",
     "start_time": "2018-12-11T09:42:11.780730Z"
    }
   },
   "outputs": [
    {
     "data": {
      "text/html": [
       "<div>\n",
       "<style scoped>\n",
       "    .dataframe tbody tr th:only-of-type {\n",
       "        vertical-align: middle;\n",
       "    }\n",
       "\n",
       "    .dataframe tbody tr th {\n",
       "        vertical-align: top;\n",
       "    }\n",
       "\n",
       "    .dataframe thead th {\n",
       "        text-align: right;\n",
       "    }\n",
       "</style>\n",
       "<table border=\"1\" class=\"dataframe\">\n",
       "  <thead>\n",
       "    <tr style=\"text-align: right;\">\n",
       "      <th></th>\n",
       "      <th>FTE</th>\n",
       "      <th>Total</th>\n",
       "      <th>index</th>\n",
       "      <th>All</th>\n",
       "    </tr>\n",
       "  </thead>\n",
       "  <tbody>\n",
       "    <tr>\n",
       "      <th>0</th>\n",
       "      <td>0.589088</td>\n",
       "      <td>16.410000</td>\n",
       "      <td>330504</td>\n",
       "      <td>SUPPLIES nan PRIMARY GRADES PROGRAM  nan nan n...</td>\n",
       "    </tr>\n",
       "    <tr>\n",
       "      <th>1</th>\n",
       "      <td>0.000000</td>\n",
       "      <td>228.530000</td>\n",
       "      <td>21870</td>\n",
       "      <td>OTHER PERSONAL SERVICES        nan nan SUB TEA...</td>\n",
       "    </tr>\n",
       "    <tr>\n",
       "      <th>2</th>\n",
       "      <td>0.674647</td>\n",
       "      <td>94.357986</td>\n",
       "      <td>18698</td>\n",
       "      <td>Salaries And Wages For Substitute Professional...</td>\n",
       "    </tr>\n",
       "    <tr>\n",
       "      <th>3</th>\n",
       "      <td>0.543005</td>\n",
       "      <td>146.510000</td>\n",
       "      <td>169454</td>\n",
       "      <td>SUPPLIES                       nan nan TEACHER...</td>\n",
       "    </tr>\n",
       "    <tr>\n",
       "      <th>4</th>\n",
       "      <td>0.358658</td>\n",
       "      <td>550.310000</td>\n",
       "      <td>5614</td>\n",
       "      <td>Purchased Services nan Support Services--Pupil...</td>\n",
       "    </tr>\n",
       "  </tbody>\n",
       "</table>\n",
       "</div>"
      ],
      "text/plain": [
       "        FTE       Total   index  \\\n",
       "0  0.589088   16.410000  330504   \n",
       "1  0.000000  228.530000   21870   \n",
       "2  0.674647   94.357986   18698   \n",
       "3  0.543005  146.510000  169454   \n",
       "4  0.358658  550.310000    5614   \n",
       "\n",
       "                                                 All  \n",
       "0  SUPPLIES nan PRIMARY GRADES PROGRAM  nan nan n...  \n",
       "1  OTHER PERSONAL SERVICES        nan nan SUB TEA...  \n",
       "2  Salaries And Wages For Substitute Professional...  \n",
       "3  SUPPLIES                       nan nan TEACHER...  \n",
       "4  Purchased Services nan Support Services--Pupil...  "
      ]
     },
     "execution_count": 72,
     "metadata": {},
     "output_type": "execute_result"
    }
   ],
   "source": [
    "train_final = pd.merge(train_num_imp,train_imp, how='outer', on ='index')\n",
    "train_final.head()"
   ]
  },
  {
   "cell_type": "code",
   "execution_count": 73,
   "metadata": {
    "ExecuteTime": {
     "end_time": "2018-12-11T09:42:14.079754Z",
     "start_time": "2018-12-11T09:42:14.035635Z"
    },
    "scrolled": true
   },
   "outputs": [
    {
     "data": {
      "text/plain": [
       "(120084, 493)"
      ]
     },
     "execution_count": 73,
     "metadata": {},
     "output_type": "execute_result"
    }
   ],
   "source": [
    "prepared_data = pd.concat([train_num_imp, cat_tok], axis=1, join_axes=[cat_tok.index])\n",
    "prepared_data.shape"
   ]
  },
  {
   "cell_type": "code",
   "execution_count": 74,
   "metadata": {
    "ExecuteTime": {
     "end_time": "2018-12-11T09:42:32.270898Z",
     "start_time": "2018-12-11T09:42:32.096920Z"
    },
    "scrolled": false
   },
   "outputs": [
    {
     "data": {
      "text/html": [
       "<div>\n",
       "<style scoped>\n",
       "    .dataframe tbody tr th:only-of-type {\n",
       "        vertical-align: middle;\n",
       "    }\n",
       "\n",
       "    .dataframe tbody tr th {\n",
       "        vertical-align: top;\n",
       "    }\n",
       "\n",
       "    .dataframe thead th {\n",
       "        text-align: right;\n",
       "    }\n",
       "</style>\n",
       "<table border=\"1\" class=\"dataframe\">\n",
       "  <thead>\n",
       "    <tr style=\"text-align: right;\">\n",
       "      <th></th>\n",
       "      <th>FTE</th>\n",
       "      <th>Total</th>\n",
       "      <th>index</th>\n",
       "      <th>80hrs</th>\n",
       "      <th>acadmey</th>\n",
       "      <th>accident</th>\n",
       "      <th>accompanists</th>\n",
       "      <th>ad</th>\n",
       "      <th>adapted</th>\n",
       "      <th>addtn</th>\n",
       "      <th>...</th>\n",
       "      <th>wave</th>\n",
       "      <th>wf</th>\n",
       "      <th>williams</th>\n",
       "      <th>witness</th>\n",
       "      <th>xmas</th>\n",
       "      <th>years</th>\n",
       "      <th>yellow</th>\n",
       "      <th>young</th>\n",
       "      <th>zone</th>\n",
       "      <th>zoo</th>\n",
       "    </tr>\n",
       "  </thead>\n",
       "  <tbody>\n",
       "    <tr>\n",
       "      <th>0</th>\n",
       "      <td>0.589088</td>\n",
       "      <td>16.410000</td>\n",
       "      <td>330504</td>\n",
       "      <td>0.0</td>\n",
       "      <td>0.0</td>\n",
       "      <td>0.0</td>\n",
       "      <td>0.0</td>\n",
       "      <td>0.0</td>\n",
       "      <td>0.0</td>\n",
       "      <td>0.0</td>\n",
       "      <td>...</td>\n",
       "      <td>0.0</td>\n",
       "      <td>0.0</td>\n",
       "      <td>0.0</td>\n",
       "      <td>0.0</td>\n",
       "      <td>0.0</td>\n",
       "      <td>0.0</td>\n",
       "      <td>0.0</td>\n",
       "      <td>0.0</td>\n",
       "      <td>0.0</td>\n",
       "      <td>0.0</td>\n",
       "    </tr>\n",
       "    <tr>\n",
       "      <th>1</th>\n",
       "      <td>0.000000</td>\n",
       "      <td>228.530000</td>\n",
       "      <td>21870</td>\n",
       "      <td>0.0</td>\n",
       "      <td>0.0</td>\n",
       "      <td>0.0</td>\n",
       "      <td>0.0</td>\n",
       "      <td>0.0</td>\n",
       "      <td>0.0</td>\n",
       "      <td>0.0</td>\n",
       "      <td>...</td>\n",
       "      <td>0.0</td>\n",
       "      <td>0.0</td>\n",
       "      <td>0.0</td>\n",
       "      <td>0.0</td>\n",
       "      <td>0.0</td>\n",
       "      <td>0.0</td>\n",
       "      <td>0.0</td>\n",
       "      <td>0.0</td>\n",
       "      <td>0.0</td>\n",
       "      <td>0.0</td>\n",
       "    </tr>\n",
       "    <tr>\n",
       "      <th>2</th>\n",
       "      <td>0.674647</td>\n",
       "      <td>94.357986</td>\n",
       "      <td>18698</td>\n",
       "      <td>0.0</td>\n",
       "      <td>0.0</td>\n",
       "      <td>0.0</td>\n",
       "      <td>0.0</td>\n",
       "      <td>0.0</td>\n",
       "      <td>0.0</td>\n",
       "      <td>0.0</td>\n",
       "      <td>...</td>\n",
       "      <td>0.0</td>\n",
       "      <td>0.0</td>\n",
       "      <td>0.0</td>\n",
       "      <td>0.0</td>\n",
       "      <td>0.0</td>\n",
       "      <td>0.0</td>\n",
       "      <td>0.0</td>\n",
       "      <td>0.0</td>\n",
       "      <td>0.0</td>\n",
       "      <td>0.0</td>\n",
       "    </tr>\n",
       "    <tr>\n",
       "      <th>3</th>\n",
       "      <td>0.543005</td>\n",
       "      <td>146.510000</td>\n",
       "      <td>169454</td>\n",
       "      <td>0.0</td>\n",
       "      <td>0.0</td>\n",
       "      <td>0.0</td>\n",
       "      <td>0.0</td>\n",
       "      <td>0.0</td>\n",
       "      <td>0.0</td>\n",
       "      <td>0.0</td>\n",
       "      <td>...</td>\n",
       "      <td>0.0</td>\n",
       "      <td>0.0</td>\n",
       "      <td>0.0</td>\n",
       "      <td>0.0</td>\n",
       "      <td>0.0</td>\n",
       "      <td>0.0</td>\n",
       "      <td>0.0</td>\n",
       "      <td>0.0</td>\n",
       "      <td>0.0</td>\n",
       "      <td>0.0</td>\n",
       "    </tr>\n",
       "    <tr>\n",
       "      <th>4</th>\n",
       "      <td>0.358658</td>\n",
       "      <td>550.310000</td>\n",
       "      <td>5614</td>\n",
       "      <td>0.0</td>\n",
       "      <td>0.0</td>\n",
       "      <td>0.0</td>\n",
       "      <td>0.0</td>\n",
       "      <td>0.0</td>\n",
       "      <td>0.0</td>\n",
       "      <td>0.0</td>\n",
       "      <td>...</td>\n",
       "      <td>0.0</td>\n",
       "      <td>0.0</td>\n",
       "      <td>0.0</td>\n",
       "      <td>0.0</td>\n",
       "      <td>0.0</td>\n",
       "      <td>0.0</td>\n",
       "      <td>0.0</td>\n",
       "      <td>0.0</td>\n",
       "      <td>0.0</td>\n",
       "      <td>0.0</td>\n",
       "    </tr>\n",
       "  </tbody>\n",
       "</table>\n",
       "<p>5 rows × 493 columns</p>\n",
       "</div>"
      ],
      "text/plain": [
       "        FTE       Total   index  80hrs  acadmey  accident  accompanists   ad  \\\n",
       "0  0.589088   16.410000  330504    0.0      0.0       0.0           0.0  0.0   \n",
       "1  0.000000  228.530000   21870    0.0      0.0       0.0           0.0  0.0   \n",
       "2  0.674647   94.357986   18698    0.0      0.0       0.0           0.0  0.0   \n",
       "3  0.543005  146.510000  169454    0.0      0.0       0.0           0.0  0.0   \n",
       "4  0.358658  550.310000    5614    0.0      0.0       0.0           0.0  0.0   \n",
       "\n",
       "   adapted  addtn ...   wave   wf  williams  witness  xmas  years  yellow  \\\n",
       "0      0.0    0.0 ...    0.0  0.0       0.0      0.0   0.0    0.0     0.0   \n",
       "1      0.0    0.0 ...    0.0  0.0       0.0      0.0   0.0    0.0     0.0   \n",
       "2      0.0    0.0 ...    0.0  0.0       0.0      0.0   0.0    0.0     0.0   \n",
       "3      0.0    0.0 ...    0.0  0.0       0.0      0.0   0.0    0.0     0.0   \n",
       "4      0.0    0.0 ...    0.0  0.0       0.0      0.0   0.0    0.0     0.0   \n",
       "\n",
       "   young  zone  zoo  \n",
       "0    0.0   0.0  0.0  \n",
       "1    0.0   0.0  0.0  \n",
       "2    0.0   0.0  0.0  \n",
       "3    0.0   0.0  0.0  \n",
       "4    0.0   0.0  0.0  \n",
       "\n",
       "[5 rows x 493 columns]"
      ]
     },
     "execution_count": 74,
     "metadata": {},
     "output_type": "execute_result"
    }
   ],
   "source": [
    "prepared_data.head()"
   ]
  },
  {
   "cell_type": "markdown",
   "metadata": {},
   "source": [
    "## Test merge"
   ]
  },
  {
   "cell_type": "code",
   "execution_count": 75,
   "metadata": {
    "ExecuteTime": {
     "end_time": "2018-12-11T09:42:41.346338Z",
     "start_time": "2018-12-11T09:42:41.296698Z"
    }
   },
   "outputs": [
    {
     "data": {
      "text/plain": [
       "(140097, 493)"
      ]
     },
     "execution_count": 75,
     "metadata": {},
     "output_type": "execute_result"
    }
   ],
   "source": [
    "prepared_test_data = pd.concat([test_num_imp, cat_tok_test], axis=1, join_axes=[cat_tok_test.index])\n",
    "prepared_test_data.shape"
   ]
  },
  {
   "cell_type": "markdown",
   "metadata": {},
   "source": [
    "https://www.researchgate.net/post/Should_Indepenent_variables_be_more_than_the_dependent_variables\n"
   ]
  },
  {
   "cell_type": "markdown",
   "metadata": {},
   "source": [
    "# We will use prepared data as our imputed train data set which we will need to transform our test data set on, then train our model using imputed train data and then predict using our test data"
   ]
  },
  {
   "cell_type": "markdown",
   "metadata": {},
   "source": [
    "# Feature Importances"
   ]
  },
  {
   "cell_type": "markdown",
   "metadata": {},
   "source": [
    "Now we will look at feature importance for each of our features. For this we are using RandomForestClassifier from sklearn.ensemble. For this purpose, we are using unsplitted data set with independent features and also unsplitted labels."
   ]
  },
  {
   "cell_type": "code",
   "execution_count": 49,
   "metadata": {
    "ExecuteTime": {
     "end_time": "2018-12-07T08:30:18.622196Z",
     "start_time": "2018-12-07T08:30:17.863379Z"
    },
    "collapsed": true
   },
   "outputs": [
    {
     "ename": "ValueError",
     "evalue": "could not convert string to float: 'REGULAR INSTRUCTION'",
     "output_type": "error",
     "traceback": [
      "\u001b[0;31m---------------------------------------------------------------------------\u001b[0m",
      "\u001b[0;31mValueError\u001b[0m                                Traceback (most recent call last)",
      "\u001b[0;32m<ipython-input-49-1326e3fa2212>\u001b[0m in \u001b[0;36m<module>\u001b[0;34m()\u001b[0m\n\u001b[1;32m      1\u001b[0m \u001b[0;32mfrom\u001b[0m \u001b[0msklearn\u001b[0m\u001b[0;34m.\u001b[0m\u001b[0mensemble\u001b[0m \u001b[0;32mimport\u001b[0m \u001b[0mRandomForestClassifier\u001b[0m\u001b[0;34m\u001b[0m\u001b[0m\n\u001b[1;32m      2\u001b[0m \u001b[0mforest_regModel\u001b[0m \u001b[0;34m=\u001b[0m \u001b[0mRandomForestClassifier\u001b[0m\u001b[0;34m(\u001b[0m\u001b[0mrandom_state\u001b[0m\u001b[0;34m=\u001b[0m\u001b[0;36m42\u001b[0m\u001b[0;34m,\u001b[0m \u001b[0mmax_features\u001b[0m\u001b[0;34m=\u001b[0m\u001b[0;36m20\u001b[0m\u001b[0;34m)\u001b[0m\u001b[0;34m\u001b[0m\u001b[0m\n\u001b[0;32m----> 3\u001b[0;31m \u001b[0mforest_regModel\u001b[0m\u001b[0;34m.\u001b[0m\u001b[0mfit\u001b[0m\u001b[0;34m(\u001b[0m\u001b[0mX_train\u001b[0m\u001b[0;34m,\u001b[0m \u001b[0my_train\u001b[0m\u001b[0;34m)\u001b[0m\u001b[0;34m\u001b[0m\u001b[0m\n\u001b[0m",
      "\u001b[0;32m/opt/conda/lib/python3.5/site-packages/sklearn/ensemble/forest.py\u001b[0m in \u001b[0;36mfit\u001b[0;34m(self, X, y, sample_weight)\u001b[0m\n\u001b[1;32m    245\u001b[0m         \"\"\"\n\u001b[1;32m    246\u001b[0m         \u001b[0;31m# Validate or convert input data\u001b[0m\u001b[0;34m\u001b[0m\u001b[0;34m\u001b[0m\u001b[0m\n\u001b[0;32m--> 247\u001b[0;31m         \u001b[0mX\u001b[0m \u001b[0;34m=\u001b[0m \u001b[0mcheck_array\u001b[0m\u001b[0;34m(\u001b[0m\u001b[0mX\u001b[0m\u001b[0;34m,\u001b[0m \u001b[0maccept_sparse\u001b[0m\u001b[0;34m=\u001b[0m\u001b[0;34m\"csc\"\u001b[0m\u001b[0;34m,\u001b[0m \u001b[0mdtype\u001b[0m\u001b[0;34m=\u001b[0m\u001b[0mDTYPE\u001b[0m\u001b[0;34m)\u001b[0m\u001b[0;34m\u001b[0m\u001b[0m\n\u001b[0m\u001b[1;32m    248\u001b[0m         \u001b[0my\u001b[0m \u001b[0;34m=\u001b[0m \u001b[0mcheck_array\u001b[0m\u001b[0;34m(\u001b[0m\u001b[0my\u001b[0m\u001b[0;34m,\u001b[0m \u001b[0maccept_sparse\u001b[0m\u001b[0;34m=\u001b[0m\u001b[0;34m'csc'\u001b[0m\u001b[0;34m,\u001b[0m \u001b[0mensure_2d\u001b[0m\u001b[0;34m=\u001b[0m\u001b[0;32mFalse\u001b[0m\u001b[0;34m,\u001b[0m \u001b[0mdtype\u001b[0m\u001b[0;34m=\u001b[0m\u001b[0;32mNone\u001b[0m\u001b[0;34m)\u001b[0m\u001b[0;34m\u001b[0m\u001b[0m\n\u001b[1;32m    249\u001b[0m         \u001b[0;32mif\u001b[0m \u001b[0msample_weight\u001b[0m \u001b[0;32mis\u001b[0m \u001b[0;32mnot\u001b[0m \u001b[0;32mNone\u001b[0m\u001b[0;34m:\u001b[0m\u001b[0;34m\u001b[0m\u001b[0m\n",
      "\u001b[0;32m/opt/conda/lib/python3.5/site-packages/sklearn/utils/validation.py\u001b[0m in \u001b[0;36mcheck_array\u001b[0;34m(array, accept_sparse, dtype, order, copy, force_all_finite, ensure_2d, allow_nd, ensure_min_samples, ensure_min_features, warn_on_dtype, estimator)\u001b[0m\n\u001b[1;32m    431\u001b[0m                                       force_all_finite)\n\u001b[1;32m    432\u001b[0m     \u001b[0;32melse\u001b[0m\u001b[0;34m:\u001b[0m\u001b[0;34m\u001b[0m\u001b[0m\n\u001b[0;32m--> 433\u001b[0;31m         \u001b[0marray\u001b[0m \u001b[0;34m=\u001b[0m \u001b[0mnp\u001b[0m\u001b[0;34m.\u001b[0m\u001b[0marray\u001b[0m\u001b[0;34m(\u001b[0m\u001b[0marray\u001b[0m\u001b[0;34m,\u001b[0m \u001b[0mdtype\u001b[0m\u001b[0;34m=\u001b[0m\u001b[0mdtype\u001b[0m\u001b[0;34m,\u001b[0m \u001b[0morder\u001b[0m\u001b[0;34m=\u001b[0m\u001b[0morder\u001b[0m\u001b[0;34m,\u001b[0m \u001b[0mcopy\u001b[0m\u001b[0;34m=\u001b[0m\u001b[0mcopy\u001b[0m\u001b[0;34m)\u001b[0m\u001b[0;34m\u001b[0m\u001b[0m\n\u001b[0m\u001b[1;32m    434\u001b[0m \u001b[0;34m\u001b[0m\u001b[0m\n\u001b[1;32m    435\u001b[0m         \u001b[0;32mif\u001b[0m \u001b[0mensure_2d\u001b[0m\u001b[0;34m:\u001b[0m\u001b[0;34m\u001b[0m\u001b[0m\n",
      "\u001b[0;31mValueError\u001b[0m: could not convert string to float: 'REGULAR INSTRUCTION'"
     ]
    }
   ],
   "source": [
    "from sklearn.ensemble import RandomForestClassifier\n",
    "forest_regModel = RandomForestClassifier(random_state=42, max_features=20)\n",
    "forest_regModel.fit(X_train, y_train)"
   ]
  },
  {
   "cell_type": "code",
   "execution_count": null,
   "metadata": {
    "ExecuteTime": {
     "end_time": "2018-12-07T08:30:18.622196Z",
     "start_time": "2018-12-07T08:29:30.851Z"
    }
   },
   "outputs": [],
   "source": [
    "feature_importances = forest_regModel.feature_importances_\n",
    "feature_importances"
   ]
  },
  {
   "cell_type": "code",
   "execution_count": null,
   "metadata": {
    "ExecuteTime": {
     "end_time": "2018-12-07T08:30:18.622196Z",
     "start_time": "2018-12-07T08:29:30.865Z"
    }
   },
   "outputs": [],
   "source": [
    "attributes = ['Object_Description', 'Text_2', 'SubFund_Description','Job_Title_Description','Text_3',\n",
    "             'Text_4','Sub_Object_Description','Location_Description','FTE','Function_Description',\n",
    "             'Facility_or_Department','Position_Extra','Total','Program_Description','Fund_Description',\n",
    "             'Text_1']"
   ]
  },
  {
   "cell_type": "code",
   "execution_count": null,
   "metadata": {
    "ExecuteTime": {
     "end_time": "2018-12-07T08:30:18.622196Z",
     "start_time": "2018-12-07T08:29:30.876Z"
    }
   },
   "outputs": [],
   "source": [
    "sortedFeatures = sorted(zip(np.round(feature_importances,4), attributes), reverse=False)"
   ]
  },
  {
   "cell_type": "code",
   "execution_count": null,
   "metadata": {
    "ExecuteTime": {
     "end_time": "2018-12-07T08:30:18.626194Z",
     "start_time": "2018-12-07T08:29:30.888Z"
    }
   },
   "outputs": [],
   "source": [
    "## Plot feature importances\n",
    "\n",
    "%matplotlib inline\n",
    "import matplotlib\n",
    "import matplotlib.pyplot as plt\n",
    "plt.figure(figsize=(15,10)) \n",
    "plt.title(\"Feature importances\")\n",
    "sortedNames = np.array(sortedFeatures)[:, 1]\n",
    "sortedImportances = np.array(sortedFeatures)[:, 0]\n",
    "\n",
    "plt.title('Feature Importances', fontsize=16)\n",
    "plt.barh(range(len(sortedNames)), sortedImportances, color='b', align='center')\n",
    "plt.xticks(rotation='vertical', fontsize=14)\n",
    "plt.yticks(range(len(sortedNames)), sortedNames, fontsize=14)\n",
    "plt.xlabel('Relative Importance', fontsize=14)\n",
    "plt.grid()\n",
    "plt.show()"
   ]
  },
  {
   "cell_type": "markdown",
   "metadata": {},
   "source": [
    "Looking at the output of feature imporatnces and also barplot we can see that Job_Description has the highest coefficient( 0.244), followed by Location_Description, Object_description, Fund_description, Program_Description and so on. Facility or Department is the least important feature of all. "
   ]
  },
  {
   "cell_type": "code",
   "execution_count": null,
   "metadata": {},
   "outputs": [],
   "source": []
  },
  {
   "cell_type": "markdown",
   "metadata": {},
   "source": [
    "# Classification Model"
   ]
  },
  {
   "cell_type": "markdown",
   "metadata": {},
   "source": [
    "https://stackoverflow.com/questions/26018543/gridsearch-for-multi-label-classification-in-scikit-learn <br>\n",
    "http://lpis.csd.auth.gr/publications/sechidis-ecmlpkdd-2011.pdf\n"
   ]
  },
  {
   "cell_type": "markdown",
   "metadata": {},
   "source": [
    "## Logging the Result"
   ]
  },
  {
   "cell_type": "code",
   "execution_count": 76,
   "metadata": {
    "ExecuteTime": {
     "end_time": "2018-12-11T09:44:14.526158Z",
     "start_time": "2018-12-11T09:44:14.516105Z"
    }
   },
   "outputs": [],
   "source": [
    "results = pd.DataFrame(columns=[\"Model\", \"Parameters\",  \"Micro Precision\", \"Micro Recall\",\"Micro F1 Score\",\"Macro Precision\", \"Macro Recall\",\"Macro F1 Score\",\"Runtime\"])"
   ]
  },
  {
   "cell_type": "markdown",
   "metadata": {},
   "source": [
    "## MultiClass MultiLabel Classification Models"
   ]
  },
  {
   "cell_type": "markdown",
   "metadata": {},
   "source": [
    "### MultiOutput Linear SVC"
   ]
  },
  {
   "cell_type": "code",
   "execution_count": 102,
   "metadata": {
    "ExecuteTime": {
     "end_time": "2018-12-11T12:23:23.166774Z",
     "start_time": "2018-12-11T12:23:22.988284Z"
    }
   },
   "outputs": [],
   "source": [
    "from sklearn.multioutput import MultiOutputClassifier\n",
    "\n",
    "start = time.time()\n",
    "runtime = time.time()- start\n",
    "\n",
    "from sklearn.svm import LinearSVC\n",
    "svc_classifier = Pipeline([\n",
    "  #  ('tfidf', TfidfVectorizer(sublinear_tf=True, max_df=0.5, analyzer='word', stop_words='english')),\n",
    "  #  ('clf', MultiOutputClassifier(LinearSVC()))\n",
    "     ('clf', MultiOutputClassifier(LinearSVC()))\n",
    "      ])"
   ]
  },
  {
   "cell_type": "code",
   "execution_count": 103,
   "metadata": {
    "ExecuteTime": {
     "end_time": "2018-12-11T12:54:48.249397Z",
     "start_time": "2018-12-11T12:23:35.539874Z"
    },
    "scrolled": false
   },
   "outputs": [
    {
     "data": {
      "text/plain": [
       "Pipeline(memory=None,\n",
       "     steps=[('clf', MultiOutputClassifier(estimator=LinearSVC(C=1.0, class_weight=None, dual=True, fit_intercept=True,\n",
       "     intercept_scaling=1, loss='squared_hinge', max_iter=1000,\n",
       "     multi_class='ovr', penalty='l2', random_state=None, tol=0.0001,\n",
       "     verbose=0),\n",
       "           n_jobs=1))])"
      ]
     },
     "execution_count": 103,
     "metadata": {},
     "output_type": "execute_result"
    }
   ],
   "source": [
    "svc_classifier.fit(prepared_data, y_train)"
   ]
  },
  {
   "cell_type": "code",
   "execution_count": 104,
   "metadata": {
    "ExecuteTime": {
     "end_time": "2018-12-11T13:18:05.915320Z",
     "start_time": "2018-12-11T13:17:47.763276Z"
    }
   },
   "outputs": [],
   "source": [
    "predicted = svc_classifier.predict(prepared_test_data)"
   ]
  },
  {
   "cell_type": "code",
   "execution_count": 105,
   "metadata": {
    "ExecuteTime": {
     "end_time": "2018-12-11T13:18:22.325300Z",
     "start_time": "2018-12-11T13:18:13.168335Z"
    }
   },
   "outputs": [
    {
     "name": "stdout",
     "output_type": "stream",
     "text": [
      "Micro-average quality numbers\n",
      "Precision: 0.258, Recall: 0.484, F1-measure: 0.337\n",
      "Macro-average quality numbers\n",
      "Precision: 0.112, Recall: 0.167, F1-measure: 0.071\n"
     ]
    }
   ],
   "source": [
    "precision, recall,f1, macro_precision, macro_recall, macro_f1 = evaluate(y_test, predicted)"
   ]
  },
  {
   "cell_type": "code",
   "execution_count": 106,
   "metadata": {
    "ExecuteTime": {
     "end_time": "2018-12-11T13:18:34.895828Z",
     "start_time": "2018-12-11T13:18:33.800547Z"
    }
   },
   "outputs": [],
   "source": [
    "results.loc[len(results)] = [\"MultiOutputClassifier(LinearSVC)-run2\", \"alpha=0.0001,penalty=l2\",precision, recall,f1, macro_precision, macro_recall, macro_f1, np.round(runtime,4)]\n"
   ]
  },
  {
   "cell_type": "code",
   "execution_count": 107,
   "metadata": {
    "ExecuteTime": {
     "end_time": "2018-12-11T13:18:39.489213Z",
     "start_time": "2018-12-11T13:18:38.944247Z"
    }
   },
   "outputs": [
    {
     "data": {
      "text/html": [
       "<div>\n",
       "<style scoped>\n",
       "    .dataframe tbody tr th:only-of-type {\n",
       "        vertical-align: middle;\n",
       "    }\n",
       "\n",
       "    .dataframe tbody tr th {\n",
       "        vertical-align: top;\n",
       "    }\n",
       "\n",
       "    .dataframe thead th {\n",
       "        text-align: right;\n",
       "    }\n",
       "</style>\n",
       "<table border=\"1\" class=\"dataframe\">\n",
       "  <thead>\n",
       "    <tr style=\"text-align: right;\">\n",
       "      <th></th>\n",
       "      <th>Model</th>\n",
       "      <th>Parameters</th>\n",
       "      <th>Micro Precision</th>\n",
       "      <th>Micro Recall</th>\n",
       "      <th>Micro F1 Score</th>\n",
       "      <th>Macro Precision</th>\n",
       "      <th>Macro Recall</th>\n",
       "      <th>Macro F1 Score</th>\n",
       "      <th>Runtime</th>\n",
       "    </tr>\n",
       "  </thead>\n",
       "  <tbody>\n",
       "    <tr>\n",
       "      <th>0</th>\n",
       "      <td>MultiOutputClassifier(LinearSVC)</td>\n",
       "      <td>alpha=0.0001,penalty=l2</td>\n",
       "      <td>0.470</td>\n",
       "      <td>0.367</td>\n",
       "      <td>0.413</td>\n",
       "      <td>0.110</td>\n",
       "      <td>0.069</td>\n",
       "      <td>0.053</td>\n",
       "      <td>0.0</td>\n",
       "    </tr>\n",
       "    <tr>\n",
       "      <th>1</th>\n",
       "      <td>MultiOutputClassifier(LinearSVC)-run2</td>\n",
       "      <td>alpha=0.0001,penalty=l2</td>\n",
       "      <td>0.258</td>\n",
       "      <td>0.484</td>\n",
       "      <td>0.337</td>\n",
       "      <td>0.112</td>\n",
       "      <td>0.167</td>\n",
       "      <td>0.071</td>\n",
       "      <td>0.0</td>\n",
       "    </tr>\n",
       "  </tbody>\n",
       "</table>\n",
       "</div>"
      ],
      "text/plain": [
       "                                   Model               Parameters  \\\n",
       "0       MultiOutputClassifier(LinearSVC)  alpha=0.0001,penalty=l2   \n",
       "1  MultiOutputClassifier(LinearSVC)-run2  alpha=0.0001,penalty=l2   \n",
       "\n",
       "   Micro Precision  Micro Recall  Micro F1 Score  Macro Precision  \\\n",
       "0            0.470         0.367           0.413            0.110   \n",
       "1            0.258         0.484           0.337            0.112   \n",
       "\n",
       "   Macro Recall  Macro F1 Score  Runtime  \n",
       "0         0.069           0.053      0.0  \n",
       "1         0.167           0.071      0.0  "
      ]
     },
     "execution_count": 107,
     "metadata": {},
     "output_type": "execute_result"
    }
   ],
   "source": [
    "results"
   ]
  },
  {
   "cell_type": "code",
   "execution_count": 129,
   "metadata": {
    "ExecuteTime": {
     "end_time": "2018-12-11T13:38:16.854183Z",
     "start_time": "2018-12-11T13:38:16.816502Z"
    }
   },
   "outputs": [
    {
     "ename": "AttributeError",
     "evalue": "'numpy.ndarray' object has no attribute 'append'",
     "output_type": "error",
     "traceback": [
      "\u001b[1;31m---------------------------------------------------------------------------\u001b[0m",
      "\u001b[1;31mAttributeError\u001b[0m                            Traceback (most recent call last)",
      "\u001b[1;32m<ipython-input-129-a3ca218668aa>\u001b[0m in \u001b[0;36m<module>\u001b[1;34m()\u001b[0m\n\u001b[0;32m      6\u001b[0m \u001b[0mpredictprobs\u001b[0m \u001b[1;33m=\u001b[0m \u001b[0mnp\u001b[0m\u001b[1;33m.\u001b[0m\u001b[0mndarray\u001b[0m\u001b[1;33m(\u001b[0m\u001b[1;33m(\u001b[0m\u001b[1;36m104\u001b[0m\u001b[1;33m,\u001b[0m\u001b[1;36m490\u001b[0m\u001b[1;33m)\u001b[0m\u001b[1;33m)\u001b[0m\u001b[1;33m\u001b[0m\u001b[0m\n\u001b[0;32m      7\u001b[0m \u001b[1;32mfor\u001b[0m \u001b[0mest\u001b[0m \u001b[1;32min\u001b[0m \u001b[0mest_list\u001b[0m\u001b[1;33m:\u001b[0m\u001b[1;33m\u001b[0m\u001b[0m\n\u001b[1;32m----> 8\u001b[1;33m     \u001b[0mpredictprobs\u001b[0m\u001b[1;33m.\u001b[0m\u001b[0mappend\u001b[0m\u001b[1;33m(\u001b[0m\u001b[0mest\u001b[0m\u001b[1;33m.\u001b[0m\u001b[0mcoef_\u001b[0m\u001b[1;33m)\u001b[0m\u001b[1;33m\u001b[0m\u001b[0m\n\u001b[0m",
      "\u001b[1;31mAttributeError\u001b[0m: 'numpy.ndarray' object has no attribute 'append'"
     ]
    }
   ],
   "source": [
    "# In LinearSVC coeff has the predictions, predict_proba is not implemented\n",
    "\n",
    "#predict_prob = svc_classifier.predict_proba(prepared_test_data)\n",
    "est_list = svc_classifier.named_steps['clf'].estimators_\n",
    "len(est_list)\n",
    "predictprobs = np.ndarray((104,490))\n",
    "for est in est_list:\n",
    "    predictprobs.append(est.coef_)"
   ]
  },
  {
   "cell_type": "markdown",
   "metadata": {},
   "source": [
    "\n",
    "### model With SGDClassifier - think should remove this"
   ]
  },
  {
   "cell_type": "code",
   "execution_count": 86,
   "metadata": {
    "ExecuteTime": {
     "end_time": "2018-12-11T10:41:15.676421Z",
     "start_time": "2018-12-11T10:41:15.668400Z"
    },
    "scrolled": true
   },
   "outputs": [],
   "source": [
    "from sklearn.linear_model import SGDClassifier \n",
    "clf = SGDClassifier()\n",
    "sgd_pipeline = Pipeline([\n",
    "               # ('tfidf', TfidfVectorizer(stop_words=stop_words)),\n",
    "                ('clf', SGDClassifier()),\n",
    "            ])\n"
   ]
  },
  {
   "cell_type": "code",
   "execution_count": 87,
   "metadata": {
    "ExecuteTime": {
     "end_time": "2018-12-11T10:41:20.643647Z",
     "start_time": "2018-12-11T10:41:19.521440Z"
    }
   },
   "outputs": [
    {
     "ename": "ValueError",
     "evalue": "bad input shape (120084, 104)",
     "output_type": "error",
     "traceback": [
      "\u001b[1;31m---------------------------------------------------------------------------\u001b[0m",
      "\u001b[1;31mValueError\u001b[0m                                Traceback (most recent call last)",
      "\u001b[1;32m<ipython-input-87-0ca37ab33f44>\u001b[0m in \u001b[0;36m<module>\u001b[1;34m()\u001b[0m\n\u001b[1;32m----> 1\u001b[1;33m \u001b[0mclf\u001b[0m\u001b[1;33m.\u001b[0m\u001b[0mfit\u001b[0m\u001b[1;33m(\u001b[0m\u001b[0mprepared_data\u001b[0m\u001b[1;33m,\u001b[0m \u001b[0my_train\u001b[0m\u001b[1;33m)\u001b[0m\u001b[1;33m\u001b[0m\u001b[0m\n\u001b[0m",
      "\u001b[1;32m~\\AppData\\Local\\Continuum\\anaconda3\\lib\\site-packages\\sklearn\\linear_model\\stochastic_gradient.py\u001b[0m in \u001b[0;36mfit\u001b[1;34m(self, X, y, coef_init, intercept_init, sample_weight)\u001b[0m\n\u001b[0;32m    584\u001b[0m                          \u001b[0mloss\u001b[0m\u001b[1;33m=\u001b[0m\u001b[0mself\u001b[0m\u001b[1;33m.\u001b[0m\u001b[0mloss\u001b[0m\u001b[1;33m,\u001b[0m \u001b[0mlearning_rate\u001b[0m\u001b[1;33m=\u001b[0m\u001b[0mself\u001b[0m\u001b[1;33m.\u001b[0m\u001b[0mlearning_rate\u001b[0m\u001b[1;33m,\u001b[0m\u001b[1;33m\u001b[0m\u001b[0m\n\u001b[0;32m    585\u001b[0m                          \u001b[0mcoef_init\u001b[0m\u001b[1;33m=\u001b[0m\u001b[0mcoef_init\u001b[0m\u001b[1;33m,\u001b[0m \u001b[0mintercept_init\u001b[0m\u001b[1;33m=\u001b[0m\u001b[0mintercept_init\u001b[0m\u001b[1;33m,\u001b[0m\u001b[1;33m\u001b[0m\u001b[0m\n\u001b[1;32m--> 586\u001b[1;33m                          sample_weight=sample_weight)\n\u001b[0m\u001b[0;32m    587\u001b[0m \u001b[1;33m\u001b[0m\u001b[0m\n\u001b[0;32m    588\u001b[0m \u001b[1;33m\u001b[0m\u001b[0m\n",
      "\u001b[1;32m~\\AppData\\Local\\Continuum\\anaconda3\\lib\\site-packages\\sklearn\\linear_model\\stochastic_gradient.py\u001b[0m in \u001b[0;36m_fit\u001b[1;34m(self, X, y, alpha, C, loss, learning_rate, coef_init, intercept_init, sample_weight)\u001b[0m\n\u001b[0;32m    416\u001b[0m             \u001b[0mself\u001b[0m\u001b[1;33m.\u001b[0m\u001b[0mclasses_\u001b[0m \u001b[1;33m=\u001b[0m \u001b[1;32mNone\u001b[0m\u001b[1;33m\u001b[0m\u001b[0m\n\u001b[0;32m    417\u001b[0m \u001b[1;33m\u001b[0m\u001b[0m\n\u001b[1;32m--> 418\u001b[1;33m         \u001b[0mX\u001b[0m\u001b[1;33m,\u001b[0m \u001b[0my\u001b[0m \u001b[1;33m=\u001b[0m \u001b[0mcheck_X_y\u001b[0m\u001b[1;33m(\u001b[0m\u001b[0mX\u001b[0m\u001b[1;33m,\u001b[0m \u001b[0my\u001b[0m\u001b[1;33m,\u001b[0m \u001b[1;34m'csr'\u001b[0m\u001b[1;33m,\u001b[0m \u001b[0mdtype\u001b[0m\u001b[1;33m=\u001b[0m\u001b[0mnp\u001b[0m\u001b[1;33m.\u001b[0m\u001b[0mfloat64\u001b[0m\u001b[1;33m,\u001b[0m \u001b[0morder\u001b[0m\u001b[1;33m=\u001b[0m\u001b[1;34m\"C\"\u001b[0m\u001b[1;33m)\u001b[0m\u001b[1;33m\u001b[0m\u001b[0m\n\u001b[0m\u001b[0;32m    419\u001b[0m         \u001b[0mn_samples\u001b[0m\u001b[1;33m,\u001b[0m \u001b[0mn_features\u001b[0m \u001b[1;33m=\u001b[0m \u001b[0mX\u001b[0m\u001b[1;33m.\u001b[0m\u001b[0mshape\u001b[0m\u001b[1;33m\u001b[0m\u001b[0m\n\u001b[0;32m    420\u001b[0m \u001b[1;33m\u001b[0m\u001b[0m\n",
      "\u001b[1;32m~\\AppData\\Local\\Continuum\\anaconda3\\lib\\site-packages\\sklearn\\utils\\validation.py\u001b[0m in \u001b[0;36mcheck_X_y\u001b[1;34m(X, y, accept_sparse, dtype, order, copy, force_all_finite, ensure_2d, allow_nd, multi_output, ensure_min_samples, ensure_min_features, y_numeric, warn_on_dtype, estimator)\u001b[0m\n\u001b[0;32m    576\u001b[0m                         dtype=None)\n\u001b[0;32m    577\u001b[0m     \u001b[1;32melse\u001b[0m\u001b[1;33m:\u001b[0m\u001b[1;33m\u001b[0m\u001b[0m\n\u001b[1;32m--> 578\u001b[1;33m         \u001b[0my\u001b[0m \u001b[1;33m=\u001b[0m \u001b[0mcolumn_or_1d\u001b[0m\u001b[1;33m(\u001b[0m\u001b[0my\u001b[0m\u001b[1;33m,\u001b[0m \u001b[0mwarn\u001b[0m\u001b[1;33m=\u001b[0m\u001b[1;32mTrue\u001b[0m\u001b[1;33m)\u001b[0m\u001b[1;33m\u001b[0m\u001b[0m\n\u001b[0m\u001b[0;32m    579\u001b[0m         \u001b[0m_assert_all_finite\u001b[0m\u001b[1;33m(\u001b[0m\u001b[0my\u001b[0m\u001b[1;33m)\u001b[0m\u001b[1;33m\u001b[0m\u001b[0m\n\u001b[0;32m    580\u001b[0m     \u001b[1;32mif\u001b[0m \u001b[0my_numeric\u001b[0m \u001b[1;32mand\u001b[0m \u001b[0my\u001b[0m\u001b[1;33m.\u001b[0m\u001b[0mdtype\u001b[0m\u001b[1;33m.\u001b[0m\u001b[0mkind\u001b[0m \u001b[1;33m==\u001b[0m \u001b[1;34m'O'\u001b[0m\u001b[1;33m:\u001b[0m\u001b[1;33m\u001b[0m\u001b[0m\n",
      "\u001b[1;32m~\\AppData\\Local\\Continuum\\anaconda3\\lib\\site-packages\\sklearn\\utils\\validation.py\u001b[0m in \u001b[0;36mcolumn_or_1d\u001b[1;34m(y, warn)\u001b[0m\n\u001b[0;32m    612\u001b[0m         \u001b[1;32mreturn\u001b[0m \u001b[0mnp\u001b[0m\u001b[1;33m.\u001b[0m\u001b[0mravel\u001b[0m\u001b[1;33m(\u001b[0m\u001b[0my\u001b[0m\u001b[1;33m)\u001b[0m\u001b[1;33m\u001b[0m\u001b[0m\n\u001b[0;32m    613\u001b[0m \u001b[1;33m\u001b[0m\u001b[0m\n\u001b[1;32m--> 614\u001b[1;33m     \u001b[1;32mraise\u001b[0m \u001b[0mValueError\u001b[0m\u001b[1;33m(\u001b[0m\u001b[1;34m\"bad input shape {0}\"\u001b[0m\u001b[1;33m.\u001b[0m\u001b[0mformat\u001b[0m\u001b[1;33m(\u001b[0m\u001b[0mshape\u001b[0m\u001b[1;33m)\u001b[0m\u001b[1;33m)\u001b[0m\u001b[1;33m\u001b[0m\u001b[0m\n\u001b[0m\u001b[0;32m    615\u001b[0m \u001b[1;33m\u001b[0m\u001b[0m\n\u001b[0;32m    616\u001b[0m \u001b[1;33m\u001b[0m\u001b[0m\n",
      "\u001b[1;31mValueError\u001b[0m: bad input shape (120084, 104)"
     ]
    }
   ],
   "source": [
    "clf.fit(prepared_data, y_train)"
   ]
  },
  {
   "cell_type": "markdown",
   "metadata": {},
   "source": [
    "### MultiOutput with RandomForest Classifier"
   ]
  },
  {
   "cell_type": "code",
   "execution_count": 88,
   "metadata": {
    "ExecuteTime": {
     "end_time": "2018-12-11T10:41:40.939189Z",
     "start_time": "2018-12-11T10:41:40.278674Z"
    },
    "scrolled": true
   },
   "outputs": [],
   "source": [
    "from sklearn.multioutput import MultiOutputClassifier\n",
    "from sklearn.ensemble import RandomForestClassifier\n",
    "forest = RandomForestClassifier(n_estimators=100, random_state=1)\n",
    "multi_target_forest = MultiOutputClassifier(forest, n_jobs=-1)"
   ]
  },
  {
   "cell_type": "code",
   "execution_count": 89,
   "metadata": {
    "ExecuteTime": {
     "end_time": "2018-12-11T11:48:03.873517Z",
     "start_time": "2018-12-11T10:41:48.685946Z"
    }
   },
   "outputs": [],
   "source": [
    "fit_model = multi_target_forest.fit(prepared_data, y_train)"
   ]
  },
  {
   "cell_type": "code",
   "execution_count": 51,
   "metadata": {
    "ExecuteTime": {
     "end_time": "2018-12-10T23:24:08.485423Z",
     "start_time": "2018-12-10T23:23:54.068525Z"
    }
   },
   "outputs": [
    {
     "data": {
      "text/plain": [
       "['MO_randomForest.pkl']"
      ]
     },
     "execution_count": 51,
     "metadata": {},
     "output_type": "execute_result"
    }
   ],
   "source": [
    "from sklearn.externals import joblib\n",
    "joblib.dump(fit_model, 'MO_randomForest.pkl') "
   ]
  },
  {
   "cell_type": "code",
   "execution_count": null,
   "metadata": {},
   "outputs": [],
   "source": [
    " # in future\n",
    "    #clf = joblib.load('filename.pkl') "
   ]
  },
  {
   "cell_type": "code",
   "execution_count": 83,
   "metadata": {
    "ExecuteTime": {
     "end_time": "2018-12-11T00:40:03.264509Z",
     "start_time": "2018-12-11T00:31:58.975967Z"
    }
   },
   "outputs": [],
   "source": [
    "MO_randomForest_pred = fit_model.predict_proba(prepared_test_data)"
   ]
  },
  {
   "cell_type": "code",
   "execution_count": 194,
   "metadata": {
    "ExecuteTime": {
     "end_time": "2018-12-11T03:44:50.929505Z",
     "start_time": "2018-12-11T03:44:50.920778Z"
    }
   },
   "outputs": [
    {
     "name": "stdout",
     "output_type": "stream",
     "text": [
      "84058.0\n",
      "4167.25\n"
     ]
    },
    {
     "data": {
      "text/plain": [
       "array([1., 0.])"
      ]
     },
     "execution_count": 194,
     "metadata": {},
     "output_type": "execute_result"
    }
   ],
   "source": [
    "# print(np.sum(MO_randomForest_pred[:][1][:]))\n",
    "# for i in MO_randomForest_pred[:1]:\n",
    "#     print(np.ndarray.sum(i[:,1]))\n",
    "# #print(sum)\n",
    "# np_pred[:][1][1]"
   ]
  },
  {
   "cell_type": "code",
   "execution_count": 186,
   "metadata": {
    "ExecuteTime": {
     "end_time": "2018-12-11T03:43:18.492342Z",
     "start_time": "2018-12-11T03:43:18.394997Z"
    }
   },
   "outputs": [
    {
     "data": {
      "text/plain": [
       "3"
      ]
     },
     "execution_count": 186,
     "metadata": {},
     "output_type": "execute_result"
    }
   ],
   "source": [
    "np_pred = np.array(MO_randomForest_pred)\n",
    "np_pred.data.ndim"
   ]
  },
  {
   "cell_type": "code",
   "execution_count": 201,
   "metadata": {
    "ExecuteTime": {
     "end_time": "2018-12-11T03:45:55.859824Z",
     "start_time": "2018-12-11T03:45:55.852869Z"
    }
   },
   "outputs": [
    {
     "data": {
      "text/plain": [
       "0.0"
      ]
     },
     "execution_count": 201,
     "metadata": {},
     "output_type": "execute_result"
    }
   ],
   "source": [
    "np_pred[0][0][1]"
   ]
  },
  {
   "cell_type": "code",
   "execution_count": 213,
   "metadata": {
    "ExecuteTime": {
     "end_time": "2018-12-11T03:51:32.552004Z",
     "start_time": "2018-12-11T03:51:32.548637Z"
    }
   },
   "outputs": [],
   "source": [
    "np_pred_t = np_pred.T[1]"
   ]
  },
  {
   "cell_type": "code",
   "execution_count": null,
   "metadata": {},
   "outputs": [],
   "source": [
    "## write predict to write csv function for submission\n",
    "# para1 : nd_arr_pred \n",
    "# para2: csv file name"
   ]
  },
  {
   "cell_type": "code",
   "execution_count": 219,
   "metadata": {
    "ExecuteTime": {
     "end_time": "2018-12-11T03:55:57.261796Z",
     "start_time": "2018-12-11T03:55:57.257395Z"
    }
   },
   "outputs": [
    {
     "data": {
      "text/plain": [
       "numpy.ndarray"
      ]
     },
     "execution_count": 219,
     "metadata": {},
     "output_type": "execute_result"
    }
   ],
   "source": [
    "type(np_pred_t)"
   ]
  },
  {
   "cell_type": "code",
   "execution_count": 222,
   "metadata": {
    "ExecuteTime": {
     "end_time": "2018-12-11T04:00:45.737855Z",
     "start_time": "2018-12-11T04:00:39.996548Z"
    }
   },
   "outputs": [],
   "source": [
    "df = pd.DataFrame(np_pred_t)\n",
    "df.to_csv(\"submission.csv\",header=target_104_data.columns)"
   ]
  },
  {
   "cell_type": "code",
   "execution_count": 91,
   "metadata": {
    "ExecuteTime": {
     "end_time": "2018-12-10T19:15:03.367482Z",
     "start_time": "2018-12-10T19:15:03.289344Z"
    },
    "scrolled": false
   },
   "outputs": [
    {
     "data": {
      "text/html": [
       "<div>\n",
       "<style scoped>\n",
       "    .dataframe tbody tr th:only-of-type {\n",
       "        vertical-align: middle;\n",
       "    }\n",
       "\n",
       "    .dataframe tbody tr th {\n",
       "        vertical-align: top;\n",
       "    }\n",
       "\n",
       "    .dataframe thead th {\n",
       "        text-align: right;\n",
       "    }\n",
       "</style>\n",
       "<table border=\"1\" class=\"dataframe\">\n",
       "  <thead>\n",
       "    <tr style=\"text-align: right;\">\n",
       "      <th></th>\n",
       "      <th>Model</th>\n",
       "      <th>Hyper parameter tuning</th>\n",
       "      <th>Micro Precision</th>\n",
       "      <th>Micro Recall</th>\n",
       "      <th>Micro F1 Score</th>\n",
       "      <th>Macro Precision</th>\n",
       "      <th>Macro Recall</th>\n",
       "      <th>Macro F1 Score</th>\n",
       "      <th>Runtime</th>\n",
       "    </tr>\n",
       "  </thead>\n",
       "  <tbody>\n",
       "    <tr>\n",
       "      <th>0</th>\n",
       "      <td>MultiOutputClassifier - SGD(Log Loss)</td>\n",
       "      <td>alpha=0.0001,penalty=l2</td>\n",
       "      <td>0.4241</td>\n",
       "      <td>0.4596</td>\n",
       "      <td>0.4411</td>\n",
       "      <td>0.0969</td>\n",
       "      <td>0.0931</td>\n",
       "      <td>0.0594</td>\n",
       "      <td>7.08s</td>\n",
       "    </tr>\n",
       "  </tbody>\n",
       "</table>\n",
       "</div>"
      ],
      "text/plain": [
       "                                   Model   Hyper parameter tuning  \\\n",
       "0  MultiOutputClassifier - SGD(Log Loss)  alpha=0.0001,penalty=l2   \n",
       "\n",
       "   Micro Precision  Micro Recall  Micro F1 Score  Macro Precision  \\\n",
       "0           0.4241        0.4596          0.4411           0.0969   \n",
       "\n",
       "   Macro Recall  Macro F1 Score Runtime  \n",
       "0        0.0931          0.0594   7.08s  "
      ]
     },
     "execution_count": 91,
     "metadata": {},
     "output_type": "execute_result"
    }
   ],
   "source": [
    "results.loc[len(results)] = [\"MultiOutputClassifier(RandomForest)\", \"alpha=0.0001,penalty=l2\",precision, recall,f1, macro_precision, macro_recall, macro_f1, np.round(runtime,4)]"
   ]
  },
  {
   "cell_type": "markdown",
   "metadata": {},
   "source": [
    "### MultiOutputClassifier - SGD Classifier"
   ]
  },
  {
   "cell_type": "code",
   "execution_count": 80,
   "metadata": {
    "ExecuteTime": {
     "end_time": "2018-12-10T18:54:19.142506Z",
     "start_time": "2018-12-10T18:54:19.123866Z"
    }
   },
   "outputs": [],
   "source": [
    "from sklearn.multioutput import MultiOutputClassifier\n",
    "from sklearn.linear_model import SGDClassifier \n",
    "from sklearn.svm import LinearSVC\n",
    "classifier = Pipeline([\n",
    "  #  ('tfidf', TfidfVectorizer(sublinear_tf=True, max_df=0.5, analyzer='word', stop_words='english')),\n",
    "  #  ('clf', MultiOutputClassifier(LinearSVC()))\n",
    "    ('clf', MultiOutputClassifier(SGDClassifier(loss='log')))\n",
    "])"
   ]
  },
  {
   "cell_type": "code",
   "execution_count": 81,
   "metadata": {
    "ExecuteTime": {
     "end_time": "2018-12-10T18:57:00.852878Z",
     "start_time": "2018-12-10T18:54:23.843833Z"
    }
   },
   "outputs": [
    {
     "data": {
      "text/plain": [
       "Pipeline(memory=None,\n",
       "     steps=[('clf', MultiOutputClassifier(estimator=SGDClassifier(alpha=0.0001, average=False, class_weight=None, epsilon=0.1,\n",
       "       eta0=0.0, fit_intercept=True, l1_ratio=0.15,\n",
       "       learning_rate='optimal', loss='log', max_iter=None, n_iter=None,\n",
       "       n_jobs=1, penalty='l2', power_t=0.5, random_state=None,\n",
       "       shuffle=True, tol=None, verbose=0, warm_start=False),\n",
       "           n_jobs=1))])"
      ]
     },
     "execution_count": 81,
     "metadata": {},
     "output_type": "execute_result"
    }
   ],
   "source": [
    "#Run the pipeline\n",
    "classifier.fit(X_train, y_train)\n",
    "#predicted = classifier.predict(X_test)\n",
    "#print (\"Accuracy Score: \",evaluate(Y_test, predicted))"
   ]
  },
  {
   "cell_type": "code",
   "execution_count": 86,
   "metadata": {
    "ExecuteTime": {
     "end_time": "2018-12-10T19:00:23.052460Z",
     "start_time": "2018-12-10T19:00:15.973518Z"
    }
   },
   "outputs": [
    {
     "name": "stdout",
     "output_type": "stream",
     "text": [
      "Micro-average quality numbers\n",
      "Precision: 0.4241, Recall: 0.4596, F1-measure: 0.4411\n",
      "Macro-average quality numbers\n",
      "Precision: 0.0969, Recall: 0.0931, F1-measure: 0.0594\n",
      "Accuracy Score:  None\n"
     ]
    }
   ],
   "source": [
    "predicted = classifier.predict(X_test)\n",
    "\n",
    "print (\"Accuracy Score: \",evaluate(y_test, predicted))\n",
    "print(log_SGD_accuracy)"
   ]
  },
  {
   "cell_type": "code",
   "execution_count": null,
   "metadata": {},
   "outputs": [],
   "source": [
    "## we need it as a baseline accuracy for t-test\n",
    "baseline_modelscores = cross_val_score(classifier, x_train, y_train, cv=3)\n",
    "logit_score_train = baseline_modelscores.mean()\n",
    "train_time = np.round(time() - start, 4)"
   ]
  },
  {
   "cell_type": "code",
   "execution_count": 91,
   "metadata": {
    "ExecuteTime": {
     "end_time": "2018-12-10T19:15:03.367482Z",
     "start_time": "2018-12-10T19:15:03.289344Z"
    }
   },
   "outputs": [
    {
     "data": {
      "text/html": [
       "<div>\n",
       "<style scoped>\n",
       "    .dataframe tbody tr th:only-of-type {\n",
       "        vertical-align: middle;\n",
       "    }\n",
       "\n",
       "    .dataframe tbody tr th {\n",
       "        vertical-align: top;\n",
       "    }\n",
       "\n",
       "    .dataframe thead th {\n",
       "        text-align: right;\n",
       "    }\n",
       "</style>\n",
       "<table border=\"1\" class=\"dataframe\">\n",
       "  <thead>\n",
       "    <tr style=\"text-align: right;\">\n",
       "      <th></th>\n",
       "      <th>Model</th>\n",
       "      <th>Hyper parameter tuning</th>\n",
       "      <th>Micro Precision</th>\n",
       "      <th>Micro Recall</th>\n",
       "      <th>Micro F1 Score</th>\n",
       "      <th>Macro Precision</th>\n",
       "      <th>Macro Recall</th>\n",
       "      <th>Macro F1 Score</th>\n",
       "      <th>Runtime</th>\n",
       "    </tr>\n",
       "  </thead>\n",
       "  <tbody>\n",
       "    <tr>\n",
       "      <th>0</th>\n",
       "      <td>MultiOutputClassifier - SGD(Log Loss)</td>\n",
       "      <td>alpha=0.0001,penalty=l2</td>\n",
       "      <td>0.4241</td>\n",
       "      <td>0.4596</td>\n",
       "      <td>0.4411</td>\n",
       "      <td>0.0969</td>\n",
       "      <td>0.0931</td>\n",
       "      <td>0.0594</td>\n",
       "      <td>7.08s</td>\n",
       "    </tr>\n",
       "  </tbody>\n",
       "</table>\n",
       "</div>"
      ],
      "text/plain": [
       "                                   Model   Hyper parameter tuning  \\\n",
       "0  MultiOutputClassifier - SGD(Log Loss)  alpha=0.0001,penalty=l2   \n",
       "\n",
       "   Micro Precision  Micro Recall  Micro F1 Score  Macro Precision  \\\n",
       "0           0.4241        0.4596          0.4411           0.0969   \n",
       "\n",
       "   Macro Recall  Macro F1 Score Runtime  \n",
       "0        0.0931          0.0594   7.08s  "
      ]
     },
     "execution_count": 91,
     "metadata": {},
     "output_type": "execute_result"
    }
   ],
   "source": [
    "results.loc[len(results)] = [\"MultiOutputClassifier SGD(Log Loss)\", \"alpha=0.0001,penalty=l2\",precision, recall,f1, macro_precision, macro_recall, macro_f1, np.round(runtime,4)]\n",
    "results"
   ]
  },
  {
   "cell_type": "code",
   "execution_count": 88,
   "metadata": {
    "ExecuteTime": {
     "end_time": "2018-12-10T19:04:28.431796Z",
     "start_time": "2018-12-10T19:04:28.315882Z"
    },
    "scrolled": true
   },
   "outputs": [
    {
     "data": {
      "text/plain": [
       "array([[0, 0, 0, 0, 0, 0, 0, 0, 0, 0, 0, 0, 0, 0, 0, 0, 0, 0, 0, 0, 0, 0,\n",
       "        0, 0, 0, 0, 0, 0, 0, 0, 0, 0, 0, 0, 0, 0, 0, 0, 0, 0, 0, 1, 0, 0,\n",
       "        0, 0, 0, 1, 0, 0, 0, 0, 1, 0, 0, 0, 0, 0, 1, 0, 0, 1, 0, 0, 0, 0,\n",
       "        0, 0, 0, 0, 0, 0, 0, 0, 0, 0, 0, 0, 0, 0, 0, 0, 0, 0, 0, 1, 0, 0,\n",
       "        0, 0, 0, 0, 0, 0, 0, 0, 0, 0, 1, 0, 0, 0, 0, 1],\n",
       "       [0, 0, 0, 0, 0, 0, 0, 0, 0, 0, 0, 0, 0, 0, 0, 0, 0, 0, 0, 0, 0, 0,\n",
       "        0, 0, 0, 0, 0, 0, 0, 0, 0, 0, 0, 0, 1, 0, 0, 0, 0, 0, 0, 0, 0, 0,\n",
       "        0, 0, 0, 1, 0, 0, 1, 0, 1, 0, 0, 0, 0, 0, 1, 0, 0, 1, 0, 0, 0, 0,\n",
       "        0, 0, 0, 0, 0, 0, 0, 0, 0, 0, 0, 0, 0, 0, 0, 0, 0, 0, 0, 1, 0, 0,\n",
       "        0, 0, 0, 0, 0, 0, 0, 0, 0, 0, 1, 0, 0, 0, 0, 1],\n",
       "       [0, 0, 0, 0, 0, 0, 0, 0, 0, 0, 0, 0, 0, 0, 0, 0, 0, 0, 0, 0, 0, 0,\n",
       "        0, 0, 0, 0, 0, 0, 0, 0, 0, 0, 0, 0, 1, 0, 0, 0, 0, 0, 0, 0, 0, 0,\n",
       "        0, 0, 0, 1, 0, 0, 1, 0, 1, 0, 0, 0, 0, 0, 1, 0, 0, 1, 0, 0, 0, 0,\n",
       "        0, 0, 0, 0, 0, 0, 0, 0, 0, 0, 0, 0, 0, 0, 0, 0, 0, 0, 0, 1, 0, 0,\n",
       "        0, 0, 0, 0, 0, 0, 0, 0, 0, 0, 1, 0, 0, 0, 0, 1],\n",
       "       [0, 0, 0, 0, 0, 0, 0, 0, 0, 0, 0, 0, 0, 0, 0, 0, 0, 0, 0, 0, 0, 0,\n",
       "        0, 0, 0, 0, 0, 0, 0, 0, 0, 0, 0, 0, 1, 0, 0, 0, 0, 0, 0, 0, 0, 0,\n",
       "        0, 0, 0, 1, 0, 0, 1, 0, 1, 0, 0, 0, 0, 0, 1, 0, 1, 1, 0, 0, 0, 0,\n",
       "        0, 0, 0, 0, 0, 0, 0, 0, 0, 0, 0, 0, 0, 0, 0, 0, 0, 1, 0, 1, 0, 0,\n",
       "        0, 0, 0, 0, 0, 0, 0, 0, 0, 0, 1, 0, 0, 0, 0, 1],\n",
       "       [0, 0, 1, 0, 0, 0, 0, 0, 0, 0, 0, 0, 0, 0, 0, 0, 0, 0, 0, 0, 0, 0,\n",
       "        0, 1, 0, 0, 0, 0, 0, 1, 0, 0, 0, 0, 0, 0, 0, 0, 0, 1, 0, 1, 0, 0,\n",
       "        0, 0, 0, 1, 0, 0, 0, 0, 1, 0, 0, 0, 0, 0, 1, 0, 0, 1, 0, 0, 0, 0,\n",
       "        0, 0, 0, 0, 0, 0, 0, 0, 0, 0, 0, 0, 0, 0, 0, 0, 0, 0, 0, 1, 0, 0,\n",
       "        0, 0, 0, 0, 0, 0, 0, 0, 0, 0, 1, 0, 0, 0, 0, 1]], dtype=uint8)"
      ]
     },
     "execution_count": 88,
     "metadata": {},
     "output_type": "execute_result"
    }
   ],
   "source": [
    "predicted[:5]"
   ]
  },
  {
   "cell_type": "code",
   "execution_count": null,
   "metadata": {},
   "outputs": [],
   "source": []
  },
  {
   "cell_type": "code",
   "execution_count": 70,
   "metadata": {
    "collapsed": true
   },
   "outputs": [
    {
     "ename": "ValueError",
     "evalue": "could not convert string to float: 'Salaries And Wages For Substitute Professionals nan \"Title  Part A Improving Basic Programs\" TEACHER SUBSTITUTE POOL nan Multilingual Dist Prof Development Inservice Substitute Teachers Grant Funded School  Instruction Instruction And Curriculum CERTIFIED SUBSTITUTE Accelerated Education \"Title  Part A Improving Basic Programs\" MISCELLANEOUS '",
     "output_type": "error",
     "traceback": [
      "\u001b[0;31m---------------------------------------------------------------------------\u001b[0m",
      "\u001b[0;31mValueError\u001b[0m                                Traceback (most recent call last)",
      "\u001b[0;32m<ipython-input-70-707dc0f6fa03>\u001b[0m in \u001b[0;36m<module>\u001b[0;34m()\u001b[0m\n\u001b[1;32m     11\u001b[0m \u001b[0;32mfor\u001b[0m \u001b[0mk\u001b[0m \u001b[0;32min\u001b[0m \u001b[0mk_range\u001b[0m\u001b[0;34m:\u001b[0m\u001b[0;34m\u001b[0m\u001b[0m\n\u001b[1;32m     12\u001b[0m     \u001b[0mknn\u001b[0m \u001b[0;34m=\u001b[0m \u001b[0mKNeighborsClassifier\u001b[0m\u001b[0;34m(\u001b[0m\u001b[0mn_neighbors\u001b[0m\u001b[0;34m=\u001b[0m\u001b[0mk\u001b[0m\u001b[0;34m)\u001b[0m\u001b[0;34m\u001b[0m\u001b[0m\n\u001b[0;32m---> 13\u001b[0;31m     \u001b[0mscores\u001b[0m \u001b[0;34m=\u001b[0m \u001b[0mcross_val_score\u001b[0m\u001b[0;34m(\u001b[0m\u001b[0mknn\u001b[0m\u001b[0;34m,\u001b[0m \u001b[0mX_train\u001b[0m\u001b[0;34m,\u001b[0m \u001b[0my_train\u001b[0m\u001b[0;34m,\u001b[0m \u001b[0mcv\u001b[0m\u001b[0;34m=\u001b[0m\u001b[0;36m5\u001b[0m\u001b[0;34m,\u001b[0m \u001b[0mscoring\u001b[0m\u001b[0;34m=\u001b[0m\u001b[0;34m'accuracy'\u001b[0m\u001b[0;34m)\u001b[0m\u001b[0;34m\u001b[0m\u001b[0m\n\u001b[0m\u001b[1;32m     14\u001b[0m     \u001b[0mk_scores\u001b[0m\u001b[0;34m.\u001b[0m\u001b[0mappend\u001b[0m\u001b[0;34m(\u001b[0m\u001b[0mscores\u001b[0m\u001b[0;34m.\u001b[0m\u001b[0mmean\u001b[0m\u001b[0;34m(\u001b[0m\u001b[0;34m)\u001b[0m\u001b[0;34m)\u001b[0m\u001b[0;34m\u001b[0m\u001b[0m\n\u001b[1;32m     15\u001b[0m \u001b[0mprint\u001b[0m\u001b[0;34m(\u001b[0m\u001b[0mk_scores\u001b[0m\u001b[0;34m)\u001b[0m\u001b[0;34m\u001b[0m\u001b[0m\n",
      "\u001b[0;32m/opt/conda/lib/python3.5/site-packages/sklearn/model_selection/_validation.py\u001b[0m in \u001b[0;36mcross_val_score\u001b[0;34m(estimator, X, y, groups, scoring, cv, n_jobs, verbose, fit_params, pre_dispatch)\u001b[0m\n\u001b[1;32m    340\u001b[0m                                 \u001b[0mn_jobs\u001b[0m\u001b[0;34m=\u001b[0m\u001b[0mn_jobs\u001b[0m\u001b[0;34m,\u001b[0m \u001b[0mverbose\u001b[0m\u001b[0;34m=\u001b[0m\u001b[0mverbose\u001b[0m\u001b[0;34m,\u001b[0m\u001b[0;34m\u001b[0m\u001b[0m\n\u001b[1;32m    341\u001b[0m                                 \u001b[0mfit_params\u001b[0m\u001b[0;34m=\u001b[0m\u001b[0mfit_params\u001b[0m\u001b[0;34m,\u001b[0m\u001b[0;34m\u001b[0m\u001b[0m\n\u001b[0;32m--> 342\u001b[0;31m                                 pre_dispatch=pre_dispatch)\n\u001b[0m\u001b[1;32m    343\u001b[0m     \u001b[0;32mreturn\u001b[0m \u001b[0mcv_results\u001b[0m\u001b[0;34m[\u001b[0m\u001b[0;34m'test_score'\u001b[0m\u001b[0;34m]\u001b[0m\u001b[0;34m\u001b[0m\u001b[0m\n\u001b[1;32m    344\u001b[0m \u001b[0;34m\u001b[0m\u001b[0m\n",
      "\u001b[0;32m/opt/conda/lib/python3.5/site-packages/sklearn/model_selection/_validation.py\u001b[0m in \u001b[0;36mcross_validate\u001b[0;34m(estimator, X, y, groups, scoring, cv, n_jobs, verbose, fit_params, pre_dispatch, return_train_score)\u001b[0m\n\u001b[1;32m    204\u001b[0m             \u001b[0mfit_params\u001b[0m\u001b[0;34m,\u001b[0m \u001b[0mreturn_train_score\u001b[0m\u001b[0;34m=\u001b[0m\u001b[0mreturn_train_score\u001b[0m\u001b[0;34m,\u001b[0m\u001b[0;34m\u001b[0m\u001b[0m\n\u001b[1;32m    205\u001b[0m             return_times=True)\n\u001b[0;32m--> 206\u001b[0;31m         for train, test in cv.split(X, y, groups))\n\u001b[0m\u001b[1;32m    207\u001b[0m \u001b[0;34m\u001b[0m\u001b[0m\n\u001b[1;32m    208\u001b[0m     \u001b[0;32mif\u001b[0m \u001b[0mreturn_train_score\u001b[0m\u001b[0;34m:\u001b[0m\u001b[0;34m\u001b[0m\u001b[0m\n",
      "\u001b[0;32m/opt/conda/lib/python3.5/site-packages/sklearn/externals/joblib/parallel.py\u001b[0m in \u001b[0;36m__call__\u001b[0;34m(self, iterable)\u001b[0m\n\u001b[1;32m    777\u001b[0m             \u001b[0;31m# was dispatched. In particular this covers the edge\u001b[0m\u001b[0;34m\u001b[0m\u001b[0;34m\u001b[0m\u001b[0m\n\u001b[1;32m    778\u001b[0m             \u001b[0;31m# case of Parallel used with an exhausted iterator.\u001b[0m\u001b[0;34m\u001b[0m\u001b[0;34m\u001b[0m\u001b[0m\n\u001b[0;32m--> 779\u001b[0;31m             \u001b[0;32mwhile\u001b[0m \u001b[0mself\u001b[0m\u001b[0;34m.\u001b[0m\u001b[0mdispatch_one_batch\u001b[0m\u001b[0;34m(\u001b[0m\u001b[0miterator\u001b[0m\u001b[0;34m)\u001b[0m\u001b[0;34m:\u001b[0m\u001b[0;34m\u001b[0m\u001b[0m\n\u001b[0m\u001b[1;32m    780\u001b[0m                 \u001b[0mself\u001b[0m\u001b[0;34m.\u001b[0m\u001b[0m_iterating\u001b[0m \u001b[0;34m=\u001b[0m \u001b[0;32mTrue\u001b[0m\u001b[0;34m\u001b[0m\u001b[0m\n\u001b[1;32m    781\u001b[0m             \u001b[0;32melse\u001b[0m\u001b[0;34m:\u001b[0m\u001b[0;34m\u001b[0m\u001b[0m\n",
      "\u001b[0;32m/opt/conda/lib/python3.5/site-packages/sklearn/externals/joblib/parallel.py\u001b[0m in \u001b[0;36mdispatch_one_batch\u001b[0;34m(self, iterator)\u001b[0m\n\u001b[1;32m    623\u001b[0m                 \u001b[0;32mreturn\u001b[0m \u001b[0;32mFalse\u001b[0m\u001b[0;34m\u001b[0m\u001b[0m\n\u001b[1;32m    624\u001b[0m             \u001b[0;32melse\u001b[0m\u001b[0;34m:\u001b[0m\u001b[0;34m\u001b[0m\u001b[0m\n\u001b[0;32m--> 625\u001b[0;31m                 \u001b[0mself\u001b[0m\u001b[0;34m.\u001b[0m\u001b[0m_dispatch\u001b[0m\u001b[0;34m(\u001b[0m\u001b[0mtasks\u001b[0m\u001b[0;34m)\u001b[0m\u001b[0;34m\u001b[0m\u001b[0m\n\u001b[0m\u001b[1;32m    626\u001b[0m                 \u001b[0;32mreturn\u001b[0m \u001b[0;32mTrue\u001b[0m\u001b[0;34m\u001b[0m\u001b[0m\n\u001b[1;32m    627\u001b[0m \u001b[0;34m\u001b[0m\u001b[0m\n",
      "\u001b[0;32m/opt/conda/lib/python3.5/site-packages/sklearn/externals/joblib/parallel.py\u001b[0m in \u001b[0;36m_dispatch\u001b[0;34m(self, batch)\u001b[0m\n\u001b[1;32m    586\u001b[0m         \u001b[0mdispatch_timestamp\u001b[0m \u001b[0;34m=\u001b[0m \u001b[0mtime\u001b[0m\u001b[0;34m.\u001b[0m\u001b[0mtime\u001b[0m\u001b[0;34m(\u001b[0m\u001b[0;34m)\u001b[0m\u001b[0;34m\u001b[0m\u001b[0m\n\u001b[1;32m    587\u001b[0m         \u001b[0mcb\u001b[0m \u001b[0;34m=\u001b[0m \u001b[0mBatchCompletionCallBack\u001b[0m\u001b[0;34m(\u001b[0m\u001b[0mdispatch_timestamp\u001b[0m\u001b[0;34m,\u001b[0m \u001b[0mlen\u001b[0m\u001b[0;34m(\u001b[0m\u001b[0mbatch\u001b[0m\u001b[0;34m)\u001b[0m\u001b[0;34m,\u001b[0m \u001b[0mself\u001b[0m\u001b[0;34m)\u001b[0m\u001b[0;34m\u001b[0m\u001b[0m\n\u001b[0;32m--> 588\u001b[0;31m         \u001b[0mjob\u001b[0m \u001b[0;34m=\u001b[0m \u001b[0mself\u001b[0m\u001b[0;34m.\u001b[0m\u001b[0m_backend\u001b[0m\u001b[0;34m.\u001b[0m\u001b[0mapply_async\u001b[0m\u001b[0;34m(\u001b[0m\u001b[0mbatch\u001b[0m\u001b[0;34m,\u001b[0m \u001b[0mcallback\u001b[0m\u001b[0;34m=\u001b[0m\u001b[0mcb\u001b[0m\u001b[0;34m)\u001b[0m\u001b[0;34m\u001b[0m\u001b[0m\n\u001b[0m\u001b[1;32m    589\u001b[0m         \u001b[0mself\u001b[0m\u001b[0;34m.\u001b[0m\u001b[0m_jobs\u001b[0m\u001b[0;34m.\u001b[0m\u001b[0mappend\u001b[0m\u001b[0;34m(\u001b[0m\u001b[0mjob\u001b[0m\u001b[0;34m)\u001b[0m\u001b[0;34m\u001b[0m\u001b[0m\n\u001b[1;32m    590\u001b[0m \u001b[0;34m\u001b[0m\u001b[0m\n",
      "\u001b[0;32m/opt/conda/lib/python3.5/site-packages/sklearn/externals/joblib/_parallel_backends.py\u001b[0m in \u001b[0;36mapply_async\u001b[0;34m(self, func, callback)\u001b[0m\n\u001b[1;32m    109\u001b[0m     \u001b[0;32mdef\u001b[0m \u001b[0mapply_async\u001b[0m\u001b[0;34m(\u001b[0m\u001b[0mself\u001b[0m\u001b[0;34m,\u001b[0m \u001b[0mfunc\u001b[0m\u001b[0;34m,\u001b[0m \u001b[0mcallback\u001b[0m\u001b[0;34m=\u001b[0m\u001b[0;32mNone\u001b[0m\u001b[0;34m)\u001b[0m\u001b[0;34m:\u001b[0m\u001b[0;34m\u001b[0m\u001b[0m\n\u001b[1;32m    110\u001b[0m         \u001b[0;34m\"\"\"Schedule a func to be run\"\"\"\u001b[0m\u001b[0;34m\u001b[0m\u001b[0m\n\u001b[0;32m--> 111\u001b[0;31m         \u001b[0mresult\u001b[0m \u001b[0;34m=\u001b[0m \u001b[0mImmediateResult\u001b[0m\u001b[0;34m(\u001b[0m\u001b[0mfunc\u001b[0m\u001b[0;34m)\u001b[0m\u001b[0;34m\u001b[0m\u001b[0m\n\u001b[0m\u001b[1;32m    112\u001b[0m         \u001b[0;32mif\u001b[0m \u001b[0mcallback\u001b[0m\u001b[0;34m:\u001b[0m\u001b[0;34m\u001b[0m\u001b[0m\n\u001b[1;32m    113\u001b[0m             \u001b[0mcallback\u001b[0m\u001b[0;34m(\u001b[0m\u001b[0mresult\u001b[0m\u001b[0;34m)\u001b[0m\u001b[0;34m\u001b[0m\u001b[0m\n",
      "\u001b[0;32m/opt/conda/lib/python3.5/site-packages/sklearn/externals/joblib/_parallel_backends.py\u001b[0m in \u001b[0;36m__init__\u001b[0;34m(self, batch)\u001b[0m\n\u001b[1;32m    330\u001b[0m         \u001b[0;31m# Don't delay the application, to avoid keeping the input\u001b[0m\u001b[0;34m\u001b[0m\u001b[0;34m\u001b[0m\u001b[0m\n\u001b[1;32m    331\u001b[0m         \u001b[0;31m# arguments in memory\u001b[0m\u001b[0;34m\u001b[0m\u001b[0;34m\u001b[0m\u001b[0m\n\u001b[0;32m--> 332\u001b[0;31m         \u001b[0mself\u001b[0m\u001b[0;34m.\u001b[0m\u001b[0mresults\u001b[0m \u001b[0;34m=\u001b[0m \u001b[0mbatch\u001b[0m\u001b[0;34m(\u001b[0m\u001b[0;34m)\u001b[0m\u001b[0;34m\u001b[0m\u001b[0m\n\u001b[0m\u001b[1;32m    333\u001b[0m \u001b[0;34m\u001b[0m\u001b[0m\n\u001b[1;32m    334\u001b[0m     \u001b[0;32mdef\u001b[0m \u001b[0mget\u001b[0m\u001b[0;34m(\u001b[0m\u001b[0mself\u001b[0m\u001b[0;34m)\u001b[0m\u001b[0;34m:\u001b[0m\u001b[0;34m\u001b[0m\u001b[0m\n",
      "\u001b[0;32m/opt/conda/lib/python3.5/site-packages/sklearn/externals/joblib/parallel.py\u001b[0m in \u001b[0;36m__call__\u001b[0;34m(self)\u001b[0m\n\u001b[1;32m    129\u001b[0m \u001b[0;34m\u001b[0m\u001b[0m\n\u001b[1;32m    130\u001b[0m     \u001b[0;32mdef\u001b[0m \u001b[0m__call__\u001b[0m\u001b[0;34m(\u001b[0m\u001b[0mself\u001b[0m\u001b[0;34m)\u001b[0m\u001b[0;34m:\u001b[0m\u001b[0;34m\u001b[0m\u001b[0m\n\u001b[0;32m--> 131\u001b[0;31m         \u001b[0;32mreturn\u001b[0m \u001b[0;34m[\u001b[0m\u001b[0mfunc\u001b[0m\u001b[0;34m(\u001b[0m\u001b[0;34m*\u001b[0m\u001b[0margs\u001b[0m\u001b[0;34m,\u001b[0m \u001b[0;34m**\u001b[0m\u001b[0mkwargs\u001b[0m\u001b[0;34m)\u001b[0m \u001b[0;32mfor\u001b[0m \u001b[0mfunc\u001b[0m\u001b[0;34m,\u001b[0m \u001b[0margs\u001b[0m\u001b[0;34m,\u001b[0m \u001b[0mkwargs\u001b[0m \u001b[0;32min\u001b[0m \u001b[0mself\u001b[0m\u001b[0;34m.\u001b[0m\u001b[0mitems\u001b[0m\u001b[0;34m]\u001b[0m\u001b[0;34m\u001b[0m\u001b[0m\n\u001b[0m\u001b[1;32m    132\u001b[0m \u001b[0;34m\u001b[0m\u001b[0m\n\u001b[1;32m    133\u001b[0m     \u001b[0;32mdef\u001b[0m \u001b[0m__len__\u001b[0m\u001b[0;34m(\u001b[0m\u001b[0mself\u001b[0m\u001b[0;34m)\u001b[0m\u001b[0;34m:\u001b[0m\u001b[0;34m\u001b[0m\u001b[0m\n",
      "\u001b[0;32m/opt/conda/lib/python3.5/site-packages/sklearn/externals/joblib/parallel.py\u001b[0m in \u001b[0;36m<listcomp>\u001b[0;34m(.0)\u001b[0m\n\u001b[1;32m    129\u001b[0m \u001b[0;34m\u001b[0m\u001b[0m\n\u001b[1;32m    130\u001b[0m     \u001b[0;32mdef\u001b[0m \u001b[0m__call__\u001b[0m\u001b[0;34m(\u001b[0m\u001b[0mself\u001b[0m\u001b[0;34m)\u001b[0m\u001b[0;34m:\u001b[0m\u001b[0;34m\u001b[0m\u001b[0m\n\u001b[0;32m--> 131\u001b[0;31m         \u001b[0;32mreturn\u001b[0m \u001b[0;34m[\u001b[0m\u001b[0mfunc\u001b[0m\u001b[0;34m(\u001b[0m\u001b[0;34m*\u001b[0m\u001b[0margs\u001b[0m\u001b[0;34m,\u001b[0m \u001b[0;34m**\u001b[0m\u001b[0mkwargs\u001b[0m\u001b[0;34m)\u001b[0m \u001b[0;32mfor\u001b[0m \u001b[0mfunc\u001b[0m\u001b[0;34m,\u001b[0m \u001b[0margs\u001b[0m\u001b[0;34m,\u001b[0m \u001b[0mkwargs\u001b[0m \u001b[0;32min\u001b[0m \u001b[0mself\u001b[0m\u001b[0;34m.\u001b[0m\u001b[0mitems\u001b[0m\u001b[0;34m]\u001b[0m\u001b[0;34m\u001b[0m\u001b[0m\n\u001b[0m\u001b[1;32m    132\u001b[0m \u001b[0;34m\u001b[0m\u001b[0m\n\u001b[1;32m    133\u001b[0m     \u001b[0;32mdef\u001b[0m \u001b[0m__len__\u001b[0m\u001b[0;34m(\u001b[0m\u001b[0mself\u001b[0m\u001b[0;34m)\u001b[0m\u001b[0;34m:\u001b[0m\u001b[0;34m\u001b[0m\u001b[0m\n",
      "\u001b[0;32m/opt/conda/lib/python3.5/site-packages/sklearn/model_selection/_validation.py\u001b[0m in \u001b[0;36m_fit_and_score\u001b[0;34m(estimator, X, y, scorer, train, test, verbose, parameters, fit_params, return_train_score, return_parameters, return_n_test_samples, return_times, error_score)\u001b[0m\n\u001b[1;32m    456\u001b[0m             \u001b[0mestimator\u001b[0m\u001b[0;34m.\u001b[0m\u001b[0mfit\u001b[0m\u001b[0;34m(\u001b[0m\u001b[0mX_train\u001b[0m\u001b[0;34m,\u001b[0m \u001b[0;34m**\u001b[0m\u001b[0mfit_params\u001b[0m\u001b[0;34m)\u001b[0m\u001b[0;34m\u001b[0m\u001b[0m\n\u001b[1;32m    457\u001b[0m         \u001b[0;32melse\u001b[0m\u001b[0;34m:\u001b[0m\u001b[0;34m\u001b[0m\u001b[0m\n\u001b[0;32m--> 458\u001b[0;31m             \u001b[0mestimator\u001b[0m\u001b[0;34m.\u001b[0m\u001b[0mfit\u001b[0m\u001b[0;34m(\u001b[0m\u001b[0mX_train\u001b[0m\u001b[0;34m,\u001b[0m \u001b[0my_train\u001b[0m\u001b[0;34m,\u001b[0m \u001b[0;34m**\u001b[0m\u001b[0mfit_params\u001b[0m\u001b[0;34m)\u001b[0m\u001b[0;34m\u001b[0m\u001b[0m\n\u001b[0m\u001b[1;32m    459\u001b[0m \u001b[0;34m\u001b[0m\u001b[0m\n\u001b[1;32m    460\u001b[0m     \u001b[0;32mexcept\u001b[0m \u001b[0mException\u001b[0m \u001b[0;32mas\u001b[0m \u001b[0me\u001b[0m\u001b[0;34m:\u001b[0m\u001b[0;34m\u001b[0m\u001b[0m\n",
      "\u001b[0;32m/opt/conda/lib/python3.5/site-packages/sklearn/neighbors/base.py\u001b[0m in \u001b[0;36mfit\u001b[0;34m(self, X, y)\u001b[0m\n\u001b[1;32m    763\u001b[0m         \"\"\"\n\u001b[1;32m    764\u001b[0m         \u001b[0;32mif\u001b[0m \u001b[0;32mnot\u001b[0m \u001b[0misinstance\u001b[0m\u001b[0;34m(\u001b[0m\u001b[0mX\u001b[0m\u001b[0;34m,\u001b[0m \u001b[0;34m(\u001b[0m\u001b[0mKDTree\u001b[0m\u001b[0;34m,\u001b[0m \u001b[0mBallTree\u001b[0m\u001b[0;34m)\u001b[0m\u001b[0;34m)\u001b[0m\u001b[0;34m:\u001b[0m\u001b[0;34m\u001b[0m\u001b[0m\n\u001b[0;32m--> 765\u001b[0;31m             \u001b[0mX\u001b[0m\u001b[0;34m,\u001b[0m \u001b[0my\u001b[0m \u001b[0;34m=\u001b[0m \u001b[0mcheck_X_y\u001b[0m\u001b[0;34m(\u001b[0m\u001b[0mX\u001b[0m\u001b[0;34m,\u001b[0m \u001b[0my\u001b[0m\u001b[0;34m,\u001b[0m \u001b[0;34m\"csr\"\u001b[0m\u001b[0;34m,\u001b[0m \u001b[0mmulti_output\u001b[0m\u001b[0;34m=\u001b[0m\u001b[0;32mTrue\u001b[0m\u001b[0;34m)\u001b[0m\u001b[0;34m\u001b[0m\u001b[0m\n\u001b[0m\u001b[1;32m    766\u001b[0m \u001b[0;34m\u001b[0m\u001b[0m\n\u001b[1;32m    767\u001b[0m         \u001b[0;32mif\u001b[0m \u001b[0my\u001b[0m\u001b[0;34m.\u001b[0m\u001b[0mndim\u001b[0m \u001b[0;34m==\u001b[0m \u001b[0;36m1\u001b[0m \u001b[0;32mor\u001b[0m \u001b[0my\u001b[0m\u001b[0;34m.\u001b[0m\u001b[0mndim\u001b[0m \u001b[0;34m==\u001b[0m \u001b[0;36m2\u001b[0m \u001b[0;32mand\u001b[0m \u001b[0my\u001b[0m\u001b[0;34m.\u001b[0m\u001b[0mshape\u001b[0m\u001b[0;34m[\u001b[0m\u001b[0;36m1\u001b[0m\u001b[0;34m]\u001b[0m \u001b[0;34m==\u001b[0m \u001b[0;36m1\u001b[0m\u001b[0;34m:\u001b[0m\u001b[0;34m\u001b[0m\u001b[0m\n",
      "\u001b[0;32m/opt/conda/lib/python3.5/site-packages/sklearn/utils/validation.py\u001b[0m in \u001b[0;36mcheck_X_y\u001b[0;34m(X, y, accept_sparse, dtype, order, copy, force_all_finite, ensure_2d, allow_nd, multi_output, ensure_min_samples, ensure_min_features, y_numeric, warn_on_dtype, estimator)\u001b[0m\n\u001b[1;32m    571\u001b[0m     X = check_array(X, accept_sparse, dtype, order, copy, force_all_finite,\n\u001b[1;32m    572\u001b[0m                     \u001b[0mensure_2d\u001b[0m\u001b[0;34m,\u001b[0m \u001b[0mallow_nd\u001b[0m\u001b[0;34m,\u001b[0m \u001b[0mensure_min_samples\u001b[0m\u001b[0;34m,\u001b[0m\u001b[0;34m\u001b[0m\u001b[0m\n\u001b[0;32m--> 573\u001b[0;31m                     ensure_min_features, warn_on_dtype, estimator)\n\u001b[0m\u001b[1;32m    574\u001b[0m     \u001b[0;32mif\u001b[0m \u001b[0mmulti_output\u001b[0m\u001b[0;34m:\u001b[0m\u001b[0;34m\u001b[0m\u001b[0m\n\u001b[1;32m    575\u001b[0m         y = check_array(y, 'csr', force_all_finite=True, ensure_2d=False,\n",
      "\u001b[0;32m/opt/conda/lib/python3.5/site-packages/sklearn/utils/validation.py\u001b[0m in \u001b[0;36mcheck_array\u001b[0;34m(array, accept_sparse, dtype, order, copy, force_all_finite, ensure_2d, allow_nd, ensure_min_samples, ensure_min_features, warn_on_dtype, estimator)\u001b[0m\n\u001b[1;32m    446\u001b[0m         \u001b[0;31m# make sure we actually converted to numeric:\u001b[0m\u001b[0;34m\u001b[0m\u001b[0;34m\u001b[0m\u001b[0m\n\u001b[1;32m    447\u001b[0m         \u001b[0;32mif\u001b[0m \u001b[0mdtype_numeric\u001b[0m \u001b[0;32mand\u001b[0m \u001b[0marray\u001b[0m\u001b[0;34m.\u001b[0m\u001b[0mdtype\u001b[0m\u001b[0;34m.\u001b[0m\u001b[0mkind\u001b[0m \u001b[0;34m==\u001b[0m \u001b[0;34m\"O\"\u001b[0m\u001b[0;34m:\u001b[0m\u001b[0;34m\u001b[0m\u001b[0m\n\u001b[0;32m--> 448\u001b[0;31m             \u001b[0marray\u001b[0m \u001b[0;34m=\u001b[0m \u001b[0marray\u001b[0m\u001b[0;34m.\u001b[0m\u001b[0mastype\u001b[0m\u001b[0;34m(\u001b[0m\u001b[0mnp\u001b[0m\u001b[0;34m.\u001b[0m\u001b[0mfloat64\u001b[0m\u001b[0;34m)\u001b[0m\u001b[0;34m\u001b[0m\u001b[0m\n\u001b[0m\u001b[1;32m    449\u001b[0m         \u001b[0;32mif\u001b[0m \u001b[0;32mnot\u001b[0m \u001b[0mallow_nd\u001b[0m \u001b[0;32mand\u001b[0m \u001b[0marray\u001b[0m\u001b[0;34m.\u001b[0m\u001b[0mndim\u001b[0m \u001b[0;34m>=\u001b[0m \u001b[0;36m3\u001b[0m\u001b[0;34m:\u001b[0m\u001b[0;34m\u001b[0m\u001b[0m\n\u001b[1;32m    450\u001b[0m             raise ValueError(\"Found array with dim %d. %s expected <= 2.\"\n",
      "\u001b[0;31mValueError\u001b[0m: could not convert string to float: 'Salaries And Wages For Substitute Professionals nan \"Title  Part A Improving Basic Programs\" TEACHER SUBSTITUTE POOL nan Multilingual Dist Prof Development Inservice Substitute Teachers Grant Funded School  Instruction Instruction And Curriculum CERTIFIED SUBSTITUTE Accelerated Education \"Title  Part A Improving Basic Programs\" MISCELLANEOUS '"
     ]
    }
   ],
   "source": [
    "## Kfold cross validation  for best k -value\n",
    "from sklearn.neighbors import KNeighborsClassifier\n",
    "from sklearn.model_selection import cross_val_score\n",
    "from sklearn.model_selection import KFold\n",
    "\n",
    "kf = KFold(n_splits=5, shuffle=False)\n",
    "splits = kf.split(list(range(25)))\n",
    "# search for an optimal value of K for KNN\n",
    "k_range = list(range(1, 31))\n",
    "k_scores = []\n",
    "for k in k_range:\n",
    "    knn = KNeighborsClassifier(n_neighbors=k)\n",
    "    scores = cross_val_score(knn, X_train, y_train, cv=5, scoring='accuracy')\n",
    "    k_scores.append(scores.mean())\n",
    "print(k_scores)"
   ]
  },
  {
   "cell_type": "code",
   "execution_count": 200,
   "metadata": {
    "ExecuteTime": {
     "end_time": "2018-12-01T14:45:46.796011Z",
     "start_time": "2018-12-01T14:32:09.800439Z"
    }
   },
   "outputs": [
    {
     "name": "stdout",
     "output_type": "stream",
     "text": [
      "Category Function : Test accuracy is 0.95\n",
      "Category Use : Test accuracy is 0.96\n",
      "Category Sharing : Test accuracy is 0.96\n",
      "Category Reporting : Test accuracy is 0.97\n",
      "Category Student_Type : Test accuracy is 0.97\n",
      "Category Position_Type : Test accuracy is 0.97\n",
      "Category Object_Type : Test accuracy is 0.98\n",
      "Category Pre_K : Test accuracy is 0.99\n",
      "Category Operating_Status : Test accuracy is 0.98\n"
     ]
    }
   ],
   "source": [
    "for category in cat_list:\n",
    "    LR_pipeline.fit(df_train['all'], df_train[category])\n",
    "    prediction = LR_pipeline.predict(df_val['all'])\n",
    "    print('Category {} : Test accuracy is {}'.format(category, np.round(accuracy_score(df_val[category], prediction),2)))"
   ]
  },
  {
   "cell_type": "code",
   "execution_count": 205,
   "metadata": {
    "ExecuteTime": {
     "end_time": "2018-12-01T15:02:15.319139Z",
     "start_time": "2018-12-01T15:02:15.302092Z"
    },
    "collapsed": true
   },
   "outputs": [
    {
     "data": {
      "text/html": [
       "<div>\n",
       "<style scoped>\n",
       "    .dataframe tbody tr th:only-of-type {\n",
       "        vertical-align: middle;\n",
       "    }\n",
       "\n",
       "    .dataframe tbody tr th {\n",
       "        vertical-align: top;\n",
       "    }\n",
       "\n",
       "    .dataframe thead th {\n",
       "        text-align: right;\n",
       "    }\n",
       "</style>\n",
       "<table border=\"1\" class=\"dataframe\">\n",
       "  <thead>\n",
       "    <tr style=\"text-align: right;\">\n",
       "      <th></th>\n",
       "      <th>Model</th>\n",
       "      <th>Hyper parameter tuning</th>\n",
       "      <th>Test Accuracy</th>\n",
       "    </tr>\n",
       "  </thead>\n",
       "  <tbody>\n",
       "    <tr>\n",
       "      <th>0</th>\n",
       "      <td>OneVsRest(MultiNB) - for Function Category</td>\n",
       "      <td>default</td>\n",
       "      <td>0.854</td>\n",
       "    </tr>\n",
       "    <tr>\n",
       "      <th>1</th>\n",
       "      <td>OneVsRest(MultiNB) - Avg All Category</td>\n",
       "      <td>default</td>\n",
       "      <td>0.910</td>\n",
       "    </tr>\n",
       "    <tr>\n",
       "      <th>2</th>\n",
       "      <td>OneVsRest(LogisticRegression) - Avg All Category</td>\n",
       "      <td>default</td>\n",
       "      <td>0.970</td>\n",
       "    </tr>\n",
       "  </tbody>\n",
       "</table>\n",
       "</div>"
      ],
      "text/plain": [
       "                                              Model Hyper parameter tuning  \\\n",
       "0        OneVsRest(MultiNB) - for Function Category                default   \n",
       "1             OneVsRest(MultiNB) - Avg All Category                default   \n",
       "2  OneVsRest(LogisticRegression) - Avg All Category                default   \n",
       "\n",
       "   Test Accuracy  \n",
       "0          0.854  \n",
       "1          0.910  \n",
       "2          0.970  "
      ]
     },
     "execution_count": 205,
     "metadata": {},
     "output_type": "execute_result"
    }
   ],
   "source": [
    "results.loc[len(results)] = [\"OneVsRest(LogisticRegression) - Avg All Category\", \"default\", np.round(np.average((0.95,0.96,0.96,0.97,0.97,0.97,0.98,0.99,0.98)), 3)]\n",
    "results"
   ]
  },
  {
   "cell_type": "code",
   "execution_count": 216,
   "metadata": {
    "ExecuteTime": {
     "end_time": "2018-12-01T16:25:14.359690Z",
     "start_time": "2018-12-01T16:25:14.349662Z"
    }
   },
   "outputs": [
    {
     "data": {
      "text/plain": [
       "(3, 51938)"
      ]
     },
     "execution_count": 216,
     "metadata": {},
     "output_type": "execute_result"
    }
   ],
   "source": [
    "model = LR_pipeline.named_steps[\"clf\"]\n",
    "model.coef_.shape"
   ]
  },
  {
   "cell_type": "markdown",
   "metadata": {},
   "source": [
    "# Significant Testing"
   ]
  },
  {
   "cell_type": "code",
   "execution_count": 1,
   "metadata": {},
   "outputs": [],
   "source": [
    "## still need to work on this"
   ]
  },
  {
   "cell_type": "code",
   "execution_count": 52,
   "metadata": {
    "scrolled": true
   },
   "outputs": [
    {
     "ename": "NameError",
     "evalue": "name 'accuracy' is not defined",
     "output_type": "error",
     "traceback": [
      "\u001b[0;31m---------------------------------------------------------------------------\u001b[0m",
      "\u001b[0;31mNameError\u001b[0m                                 Traceback (most recent call last)",
      "\u001b[0;32m<ipython-input-52-eadf5bf60318>\u001b[0m in \u001b[0;36m<module>\u001b[0;34m()\u001b[0m\n\u001b[1;32m     25\u001b[0m     \u001b[0mprediction\u001b[0m \u001b[0;34m=\u001b[0m \u001b[0mLR_pipeline\u001b[0m\u001b[0;34m.\u001b[0m\u001b[0mpredict\u001b[0m\u001b[0;34m(\u001b[0m\u001b[0mdf_val\u001b[0m\u001b[0;34m[\u001b[0m\u001b[0;34m'All'\u001b[0m\u001b[0;34m]\u001b[0m\u001b[0;34m)\u001b[0m\u001b[0;34m\u001b[0m\u001b[0m\n\u001b[1;32m     26\u001b[0m     \u001b[0maccuracy1\u001b[0m \u001b[0;34m=\u001b[0m \u001b[0maccuracy_score\u001b[0m\u001b[0;34m(\u001b[0m\u001b[0mprediction\u001b[0m\u001b[0;34m,\u001b[0m \u001b[0mdf_val\u001b[0m\u001b[0;34m[\u001b[0m\u001b[0mcategory\u001b[0m\u001b[0;34m]\u001b[0m\u001b[0;34m)\u001b[0m\u001b[0;34m\u001b[0m\u001b[0m\n\u001b[0;32m---> 27\u001b[0;31m     \u001b[0mscores1\u001b[0m\u001b[0;34m.\u001b[0m\u001b[0mappend\u001b[0m\u001b[0;34m(\u001b[0m\u001b[0maccuracy\u001b[0m\u001b[0;34m)\u001b[0m\u001b[0;34m\u001b[0m\u001b[0m\n\u001b[0m\u001b[1;32m     28\u001b[0m \u001b[0;34m\u001b[0m\u001b[0m\n\u001b[1;32m     29\u001b[0m \u001b[0mcontrol\u001b[0m \u001b[0;34m=\u001b[0m \u001b[0maverage_accuracy1\u001b[0m \u001b[0;34m=\u001b[0m\u001b[0mscores\u001b[0m\u001b[0;34m.\u001b[0m\u001b[0mmean\u001b[0m\u001b[0;34m(\u001b[0m\u001b[0;34m)\u001b[0m\u001b[0;34m\u001b[0m\u001b[0m\n",
      "\u001b[0;31mNameError\u001b[0m: name 'accuracy' is not defined"
     ]
    }
   ],
   "source": [
    "from sklearn.model_selection import cross_val_score\n",
    "from sklearn.ensemble import RandomForestClassifier\n",
    "from sklearn.naive_bayes import MultinomialNB\n",
    "from sklearn.metrics import accuracy_score\n",
    "from sklearn.multiclass import OneVsRestClassifier\n",
    "\n",
    "def display_scores(scores):\n",
    "    print(\"Scores:\", scores)\n",
    "    print(\"Mean:\", scores.mean())\n",
    "    print(\"Standard deviation:\", scores.std())\n",
    "\n",
    "# A sampling based bakeoff using *K-fold cross-validation*: \n",
    "\n",
    "# this bakeoff framework can be used for regression or classification\n",
    "#Control system is a logistic Regression with OneVsClassifier\n",
    "scores1 =[]\n",
    "#kFolds=10\n",
    "#LR_clf = OneVsRestClassifier(LogisticRegression(solver='sag'), n_jobs=1)\n",
    "LR_pipeline = Pipeline([\n",
    "                ('tfidf', TfidfVectorizer(stop_words=stop_words)),\n",
    "                ('clf', OneVsRestClassifier(LogisticRegression(solver='sag'), n_jobs=1)),\n",
    "            ])\n",
    "for category in cat_list:\n",
    "    LR_pipeline.fit(df_train['All'], df_train[category])\n",
    "    prediction = LR_pipeline.predict(df_val['All'])\n",
    "    accuracy1 = accuracy_score(prediction, df_val[category])\n",
    "    scores1.append(accuracy1)   \n",
    "\n",
    "control = average_accuracy1 =scores.mean()\n",
    "display_scores(average_accuracy1)\n",
    "\n",
    "#Treatment system is a Random Forest Classifier based \n",
    "scores2\n",
    "#rf_clf = RandomForestRegressor(random_state=42)\n",
    "for category in cat_list:\n",
    "    NB_pipeline.fit(df_train['All'], df_train[category])\n",
    "    prediction = NB_pipeline.predict(df_val['All'])\n",
    "    accuracy2 = accuracy_score(prediction, df_val[category])\n",
    "    scores2.append(accuracy)   \n",
    "treatment = average_accuracy2 =scores2.mean()\n",
    "display_scores(average_accuracy2)\n",
    "\n",
    "#paired t-test; two-tailed p-value (aka two-sided)\n",
    "(t_score, p_value) = stats.ttest_rel(control, treatment)\n",
    "print(\"The p-value is %0.5f for a t-score of %0.5f.\" %(p_value, t_score))\n",
    "#\"The p-value is 0.00019 for a t-score of -4.28218.\" \n",
    "if pvalue > 0.05/2:  #Two sided \n",
    "    print('There is no significant difference between the two machine learning pipelines (Accept H0)')\n",
    "else:\n",
    "    print('The two machine learning pipelines are different (reject H0) \\n(t_score, p_value) = (%.2f, %.5f)'%(t_score, p_value) )\n",
    "    if t_score < 0.0:\n",
    "        print('Machine learning pipeline A is better than B')\n",
    "    else:\n",
    "        print('Machine learning pipeline B is better than A')"
   ]
  },
  {
   "cell_type": "markdown",
   "metadata": {},
   "source": [
    "# Hyperparamter Tuning \n",
    " (GRIDSEARCH)"
   ]
  },
  {
   "cell_type": "code",
   "execution_count": 57,
   "metadata": {
    "ExecuteTime": {
     "end_time": "2018-12-10T21:48:51.796531Z",
     "start_time": "2018-12-10T21:48:51.792642Z"
    }
   },
   "outputs": [],
   "source": [
    "from sklearn.pipeline import FeatureUnion\n",
    "\n",
    "full_pipeline = FeatureUnion(transformer_list=[\n",
    "        (\"num_pipeline\", num_impute_pipeline),\n",
    "        (\"cat_pipeline\", cat_pipeline),\n",
    "    ])"
   ]
  },
  {
   "cell_type": "code",
   "execution_count": null,
   "metadata": {},
   "outputs": [],
   "source": []
  },
  {
   "cell_type": "code",
   "execution_count": null,
   "metadata": {},
   "outputs": [],
   "source": [
    "# A Function to execute the grid search and record the results.\n",
    "def ConductGridSearch(X_train, y_train, i=0, prefix=''):\n",
    "    # Create a list of classifiers for our grid search experiment\n",
    "    #rf_clf = RandomForestClassifier(n_estimator = 10, random_state=1)\n",
    "    classifiers = [\n",
    "        ('MultiOutputSGD', MultiOutputClassifier(SGD()),   \n",
    "        ('MultiOutpuSupport Vector', MultiOutputClassifier(SVC())),        \n",
    "        ('MultiOutputRandomForest', MultiOutputClassifier(RandomForestClassifier())),\n",
    "    ]\n",
    "\n",
    "    # Arrange grid search parameters for each classifier\n",
    "    params_grid = {\n",
    "            'MultiOutputSGD':{\n",
    "            'clf__estimator__alpha': (0.001, 0.01),        ## access parameters for the estimator inside\n",
    "            'clf__estimator__penalty': ('l1'),  ## the MultioutputClassifier step by using\n",
    "            'clf__estimator__loss': ('log')        \n",
    "        },\n",
    "        \n",
    "        'MultiOutpuSupport Vector': {        \n",
    "            'clf__estimator__max_iter': (50, 100, 500),     \n",
    "            'clf__estimator__fit_intercept': ('True', 'False'),\n",
    "            'clf__estimator__C': (1, 0.1, 0.01),\n",
    "        },\n",
    "         \n",
    "        },\n",
    "        'MultiOutputRandomForest':  {\n",
    "            'clf__estimator__max_depth': [9, 15, 22, 26, 30],\n",
    "            'clf__estimator__max__features': [25,75,100,200],\n",
    "            'clf__estimator__min_samples_split': [5, 10, 15],\n",
    "            'clf__estimator__min_samples_leaf': [3, 5, 10],\n",
    "            #'bootstrap': [False],\n",
    "            'clf__estimator__n_estimators':[20, 80, 150, 200, 300]},\n",
    "    }\n",
    "    \n",
    "    for (name, classifier) in classifiers:\n",
    "        i += 1\n",
    "        # Print classifier and parameters\n",
    "        print('****** START',prefix, name,'*****')\n",
    "        parameters = params_grid[name]\n",
    "        print(\"Parameters:\")\n",
    "        for p in sorted(parameters.keys()):\n",
    "            print(\"\\t\"+str(p)+\": \"+ str(parameters[p]))\n",
    "        \n",
    "        # generate the pipeline\n",
    "        #full_pipeline_with_predictor = Pipeline([\n",
    "        (\"preparation\", full_pipeline),\n",
    "        (\"predictor\", classifier)\n",
    "        ])\n",
    "        \n",
    "        # Execute the grid search\n",
    "        params = {}\n",
    "        for p in parameters.keys():\n",
    "            pipe_key = 'predictor__'+str(p)\n",
    "            params[pipe_key] = parameters[p] \n",
    "            \n",
    "        grid_search = GridSearchCV(classifier, params, scoring='accuracy', cv=5, verbose=1)\n",
    "        grid_search.fit(X_train, y_train)\n",
    "                \n",
    "        # Best estimator score\n",
    "        best_train = pct(grid_search.best_score_)\n",
    "\n",
    "        # Best estimator fitting time\n",
    "        start = time()\n",
    "        grid_search.best_estimator_.fit(X_train, y_train)\n",
    "        train_time = round(time() - start, 4)\n",
    "\n",
    "        # Best estimator prediction time\n",
    "        start = time()\n",
    "        #best_test_accuracy = pct(grid_search.best_estimator_.score(X_test, y_test))\n",
    "        test_time = round(time() - start, 4)\n",
    "\n",
    "        # Generate 30 training accuracy scores with the best estimator and 30-split CV\n",
    "        best_train_scores = cross_val_score(grid_search.best_estimator_, X_train, y_train, cv=cv)\n",
    "        best_train_accuracy = pct(best_train_scores.mean())\n",
    "\n",
    "        # Conduct t-test with baseline logit (control) and best estimator (experiment)\n",
    "        (t_stat, p_value) = stats.ttest_rel(baseline_modelscores, best_train_scores)\n",
    "        \n",
    "        # Collect the best parameters found by the grid search\n",
    "        print(\"Best Parameters:\")\n",
    "        best_parameters = grid_search.best_estimator_.get_params()\n",
    "        param_dump = []\n",
    "        for param_name in sorted(params.keys()):\n",
    "            param_dump.append((param_name, best_parameters[param_name]))\n",
    "            print(\"\\t\"+str(param_name)+\": \" + str(best_parameters[param_name]))\n",
    "        print(\"****** FINISH\",prefix,name,\" *****\")\n",
    "        print(\"\")\n",
    "        \n",
    "        # Record the results\n",
    "        results.loc[i] = [prefix+name, best_train_accuracy, best_test_accuracy, round(p_value,3), train_time, test_time, json.dumps(param_dump)]"
   ]
  }
 ],
 "metadata": {
  "kernelspec": {
   "display_name": "Python 3",
   "language": "python",
   "name": "python3"
  },
  "language_info": {
   "codemirror_mode": {
    "name": "ipython",
    "version": 3
   },
   "file_extension": ".py",
   "mimetype": "text/x-python",
   "name": "python",
   "nbconvert_exporter": "python",
   "pygments_lexer": "ipython3",
   "version": "3.6.4"
  },
  "toc": {
   "base_numbering": 1,
   "nav_menu": {},
   "number_sections": true,
   "sideBar": true,
   "skip_h1_title": false,
   "title_cell": "Table of Contents",
   "title_sidebar": "Contents",
   "toc_cell": false,
   "toc_position": {
    "height": "calc(100% - 180px)",
    "left": "10px",
    "top": "150px",
    "width": "309px"
   },
   "toc_section_display": true,
   "toc_window_display": true
  }
 },
 "nbformat": 4,
 "nbformat_minor": 2
}
