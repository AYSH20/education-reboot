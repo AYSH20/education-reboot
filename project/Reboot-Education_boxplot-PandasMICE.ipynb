{
 "cells": [
  {
   "cell_type": "markdown",
   "metadata": {},
   "source": [
    "# Project Details:\n",
    "\n",
    "* Title: Reboot: Box-Plots for Education\n",
    "* Team Members: Ayesha Bhimdiwala, JanakiKhatiwada, Sunanda Unni"
   ]
  },
  {
   "cell_type": "markdown",
   "metadata": {},
   "source": [
    "# Introduction\n",
    "\n",
    "The **Reboot: Box-Plots for Education** is a data science challenge sponsored by the Education Resource Strategies (ERS). It is an on-going competition which will end in February. \n",
    "\n",
    "In this project, we plan to solve a **multi-class-multi-label classification problem** with the goal of attaching canonical labels to the freeform text in budget line items. These labels let ERS understand how schools are spending money and tailor their strategy recommendations to improve outcomes for students, teachers, and administrators.\n",
    "\n",
    "\n"
   ]
  },
  {
   "cell_type": "markdown",
   "metadata": {},
   "source": [
    "##  Project Problem\n",
    "\n",
    "Predict the probability that a certain label from each target category is attached to a budget line item."
   ]
  },
  {
   "cell_type": "markdown",
   "metadata": {},
   "source": [
    "## Data  Description\n",
    "\n",
    "Train data set, \"train.csv\" has 25 features. Out of these, 2 are numerical and rest are categorical. Also out of 25, 9 are target features.\n",
    "\n",
    "Following are the features that will be used for building model and predicting probabilities.\n",
    "\n",
    "  *  FTE float - If an employee, the percentage of full-time that the employee works.\n",
    "  *  Facility_or_Department - If expenditure is tied to a department/facility, that department/facility.\n",
    "  *  Function_Description - A description of the function the expenditure was serving.\n",
    "  *  Fund_Description - A description of the source of the funds.\n",
    "  *  Job_Title_Description - If this is an employee, a description of that employee's job title.\n",
    "  *  Location_Description - A description of where the funds were spent.\n",
    "  *  Object_Description - A description of what the funds were used for.\n",
    "  *  Position_Extra - Any extra information about the position that we have.\n",
    "  *  Program_Description - A description of the program that the funds were used for.\n",
    "  *  SubFund_Description - More detail on Fund_Description\n",
    "  *  Sub_Object_Description - More detail on Object_Description\n",
    "  *  Text_1 - Any additional text supplied by the district.\n",
    "  *  Text_2 - Any additional text supplied by the district.\n",
    "  *  Text_3 - Any additional text supplied by the district.\n",
    "  *  Text_4 - Any additional text supplied by the district.\n",
    "  *  Total float - The total cost of the expenditure.\n",
    "\n",
    "And these are target features we have to predict probability for labeling each row.\n",
    "\n",
    "  *  Function\n",
    "  *  Object_Type\n",
    "  *  Operating_Status\n",
    "  *  Position_Type\n",
    "  *  Pre-K\n",
    "  *  Reporting\n",
    "  *  Sharing\n",
    "  *  Student_type\n",
    "  *  Use\n"
   ]
  },
  {
   "cell_type": "markdown",
   "metadata": {},
   "source": [
    "# ETL Phase"
   ]
  },
  {
   "cell_type": "markdown",
   "metadata": {},
   "source": [
    "## Prepare the notebook"
   ]
  },
  {
   "cell_type": "code",
   "execution_count": 1,
   "metadata": {
    "ExecuteTime": {
     "end_time": "2018-12-02T01:36:05.883316Z",
     "start_time": "2018-12-02T01:36:05.823158Z"
    }
   },
   "outputs": [],
   "source": [
    "import matplotlib.pyplot as plt\n",
    "import numpy as np\n",
    "import os\n",
    "import pandas as pd\n",
    "import sys\n",
    "import seaborn as sns\n",
    "import warnings\n",
    "warnings.simplefilter('ignore')\n",
    "\n",
    "from collections import Counter\n",
    "from scipy import sparse, stats\n",
    "from sklearn import preprocessing as prep\n",
    "\n",
    "from sklearn.base import BaseEstimator, TransformerMixin\n",
    "from sklearn.model_selection import train_test_split, GridSearchCV, ShuffleSplit, StratifiedKFold\n",
    "\n",
    "from sklearn.feature_extraction.text import CountVectorizer\n",
    "from sklearn.feature_extraction.text import TfidfTransformer\n",
    "\n",
    "from sklearn.pipeline import FeatureUnion, Pipeline\n",
    "from sklearn.preprocessing import Imputer, LabelEncoder, StandardScaler, OneHotEncoder\n",
    "from sklearn.utils import check_array\n",
    "from time import time\n",
    "\n",
    "#from fancyimpute import MICE\n",
    "from statsmodels.imputation.mice import MICEData as md\n",
    "%matplotlib inline"
   ]
  },
  {
   "cell_type": "code",
   "execution_count": 2,
   "metadata": {
    "ExecuteTime": {
     "end_time": "2018-12-01T11:25:27.204396Z",
     "start_time": "2018-12-01T11:25:26.205743Z"
    }
   },
   "outputs": [],
   "source": [
    "from MICE import MiceImputer"
   ]
  },
  {
   "cell_type": "code",
   "execution_count": 3,
   "metadata": {
    "ExecuteTime": {
     "end_time": "2018-12-01T11:25:27.286616Z",
     "start_time": "2018-12-01T11:25:27.206404Z"
    }
   },
   "outputs": [
    {
     "name": "stdout",
     "output_type": "stream",
     "text": [
      "-rwxrwxrwx 1 1000 1000 124760056 Nov 10 22:05 \u001b[0m\u001b[01;32mdata/education_reboot/TrainingData.csv\u001b[0m*\r\n"
     ]
    }
   ],
   "source": [
    "%ls -l data/education_reboot/TrainingData.csv"
   ]
  },
  {
   "cell_type": "code",
   "execution_count": 4,
   "metadata": {
    "ExecuteTime": {
     "end_time": "2018-12-01T11:25:27.418968Z",
     "start_time": "2018-12-01T11:25:27.289622Z"
    }
   },
   "outputs": [
    {
     "data": {
      "text/plain": [
       "'data/education_reboot'"
      ]
     },
     "execution_count": 4,
     "metadata": {},
     "output_type": "execute_result"
    }
   ],
   "source": [
    "path = os.path.join('data','education_reboot') #make sure you have the same path in your parent directory\n",
    "path"
   ]
  },
  {
   "cell_type": "code",
   "execution_count": 5,
   "metadata": {
    "ExecuteTime": {
     "end_time": "2018-12-01T11:25:27.481132Z",
     "start_time": "2018-12-01T11:25:27.421977Z"
    }
   },
   "outputs": [],
   "source": [
    "def load_data(datapath,data):\n",
    "    csv_path = os.path.join(datapath,data)\n",
    "    df = pd.read_csv(csv_path,index_col=0)\n",
    "    print(df.info())\n",
    "    display(df.head())\n",
    "    print()\n",
    "    return df"
   ]
  },
  {
   "cell_type": "code",
   "execution_count": 6,
   "metadata": {
    "ExecuteTime": {
     "end_time": "2018-12-01T11:25:34.566271Z",
     "start_time": "2018-12-01T11:25:27.484140Z"
    },
    "scrolled": true
   },
   "outputs": [
    {
     "name": "stdout",
     "output_type": "stream",
     "text": [
      "<class 'pandas.core.frame.DataFrame'>\n",
      "Int64Index: 400277 entries, 134338 to 415831\n",
      "Data columns (total 25 columns):\n",
      "Function                  400277 non-null object\n",
      "Use                       400277 non-null object\n",
      "Sharing                   400277 non-null object\n",
      "Reporting                 400277 non-null object\n",
      "Student_Type              400277 non-null object\n",
      "Position_Type             400277 non-null object\n",
      "Object_Type               400277 non-null object\n",
      "Pre_K                     400277 non-null object\n",
      "Operating_Status          400277 non-null object\n",
      "Object_Description        375493 non-null object\n",
      "Text_2                    88217 non-null object\n",
      "SubFund_Description       306855 non-null object\n",
      "Job_Title_Description     292743 non-null object\n",
      "Text_3                    109152 non-null object\n",
      "Text_4                    53746 non-null object\n",
      "Sub_Object_Description    91603 non-null object\n",
      "Location_Description      162054 non-null object\n",
      "FTE                       126071 non-null float64\n",
      "Function_Description      342195 non-null object\n",
      "Facility_or_Department    53886 non-null object\n",
      "Position_Extra            264764 non-null object\n",
      "Total                     395722 non-null float64\n",
      "Program_Description       304660 non-null object\n",
      "Fund_Description          202877 non-null object\n",
      "Text_1                    292285 non-null object\n",
      "dtypes: float64(2), object(23)\n",
      "memory usage: 79.4+ MB\n",
      "None\n"
     ]
    },
    {
     "data": {
      "text/html": [
       "<div>\n",
       "<style scoped>\n",
       "    .dataframe tbody tr th:only-of-type {\n",
       "        vertical-align: middle;\n",
       "    }\n",
       "\n",
       "    .dataframe tbody tr th {\n",
       "        vertical-align: top;\n",
       "    }\n",
       "\n",
       "    .dataframe thead th {\n",
       "        text-align: right;\n",
       "    }\n",
       "</style>\n",
       "<table border=\"1\" class=\"dataframe\">\n",
       "  <thead>\n",
       "    <tr style=\"text-align: right;\">\n",
       "      <th></th>\n",
       "      <th>Function</th>\n",
       "      <th>Use</th>\n",
       "      <th>Sharing</th>\n",
       "      <th>Reporting</th>\n",
       "      <th>Student_Type</th>\n",
       "      <th>Position_Type</th>\n",
       "      <th>Object_Type</th>\n",
       "      <th>Pre_K</th>\n",
       "      <th>Operating_Status</th>\n",
       "      <th>Object_Description</th>\n",
       "      <th>...</th>\n",
       "      <th>Sub_Object_Description</th>\n",
       "      <th>Location_Description</th>\n",
       "      <th>FTE</th>\n",
       "      <th>Function_Description</th>\n",
       "      <th>Facility_or_Department</th>\n",
       "      <th>Position_Extra</th>\n",
       "      <th>Total</th>\n",
       "      <th>Program_Description</th>\n",
       "      <th>Fund_Description</th>\n",
       "      <th>Text_1</th>\n",
       "    </tr>\n",
       "  </thead>\n",
       "  <tbody>\n",
       "    <tr>\n",
       "      <th>134338</th>\n",
       "      <td>Teacher Compensation</td>\n",
       "      <td>Instruction</td>\n",
       "      <td>School Reported</td>\n",
       "      <td>School</td>\n",
       "      <td>NO_LABEL</td>\n",
       "      <td>Teacher</td>\n",
       "      <td>NO_LABEL</td>\n",
       "      <td>NO_LABEL</td>\n",
       "      <td>PreK-12 Operating</td>\n",
       "      <td>NaN</td>\n",
       "      <td>...</td>\n",
       "      <td>NaN</td>\n",
       "      <td>NaN</td>\n",
       "      <td>1.0</td>\n",
       "      <td>NaN</td>\n",
       "      <td>NaN</td>\n",
       "      <td>KINDERGARTEN</td>\n",
       "      <td>50471.810</td>\n",
       "      <td>KINDERGARTEN</td>\n",
       "      <td>General Fund</td>\n",
       "      <td>NaN</td>\n",
       "    </tr>\n",
       "    <tr>\n",
       "      <th>206341</th>\n",
       "      <td>NO_LABEL</td>\n",
       "      <td>NO_LABEL</td>\n",
       "      <td>NO_LABEL</td>\n",
       "      <td>NO_LABEL</td>\n",
       "      <td>NO_LABEL</td>\n",
       "      <td>NO_LABEL</td>\n",
       "      <td>NO_LABEL</td>\n",
       "      <td>NO_LABEL</td>\n",
       "      <td>Non-Operating</td>\n",
       "      <td>CONTRACTOR SERVICES</td>\n",
       "      <td>...</td>\n",
       "      <td>NaN</td>\n",
       "      <td>NaN</td>\n",
       "      <td>NaN</td>\n",
       "      <td>RGN  GOB</td>\n",
       "      <td>NaN</td>\n",
       "      <td>UNDESIGNATED</td>\n",
       "      <td>3477.860</td>\n",
       "      <td>BUILDING IMPROVEMENT SERVICES</td>\n",
       "      <td>NaN</td>\n",
       "      <td>BUILDING IMPROVEMENT SERVICES</td>\n",
       "    </tr>\n",
       "    <tr>\n",
       "      <th>326408</th>\n",
       "      <td>Teacher Compensation</td>\n",
       "      <td>Instruction</td>\n",
       "      <td>School Reported</td>\n",
       "      <td>School</td>\n",
       "      <td>Unspecified</td>\n",
       "      <td>Teacher</td>\n",
       "      <td>Base Salary/Compensation</td>\n",
       "      <td>Non PreK</td>\n",
       "      <td>PreK-12 Operating</td>\n",
       "      <td>Personal Services - Teachers</td>\n",
       "      <td>...</td>\n",
       "      <td>NaN</td>\n",
       "      <td>NaN</td>\n",
       "      <td>1.0</td>\n",
       "      <td>NaN</td>\n",
       "      <td>NaN</td>\n",
       "      <td>TEACHER</td>\n",
       "      <td>62237.130</td>\n",
       "      <td>Instruction - Regular</td>\n",
       "      <td>General Purpose School</td>\n",
       "      <td>NaN</td>\n",
       "    </tr>\n",
       "    <tr>\n",
       "      <th>364634</th>\n",
       "      <td>Substitute Compensation</td>\n",
       "      <td>Instruction</td>\n",
       "      <td>School Reported</td>\n",
       "      <td>School</td>\n",
       "      <td>Unspecified</td>\n",
       "      <td>Substitute</td>\n",
       "      <td>Benefits</td>\n",
       "      <td>NO_LABEL</td>\n",
       "      <td>PreK-12 Operating</td>\n",
       "      <td>EMPLOYEE BENEFITS</td>\n",
       "      <td>...</td>\n",
       "      <td>NaN</td>\n",
       "      <td>NaN</td>\n",
       "      <td>NaN</td>\n",
       "      <td>UNALLOC BUDGETS/SCHOOLS</td>\n",
       "      <td>NaN</td>\n",
       "      <td>PROFESSIONAL-INSTRUCTIONAL</td>\n",
       "      <td>22.300</td>\n",
       "      <td>GENERAL MIDDLE/JUNIOR HIGH SCH</td>\n",
       "      <td>NaN</td>\n",
       "      <td>REGULAR INSTRUCTION</td>\n",
       "    </tr>\n",
       "    <tr>\n",
       "      <th>47683</th>\n",
       "      <td>Substitute Compensation</td>\n",
       "      <td>Instruction</td>\n",
       "      <td>School Reported</td>\n",
       "      <td>School</td>\n",
       "      <td>Unspecified</td>\n",
       "      <td>Teacher</td>\n",
       "      <td>Substitute Compensation</td>\n",
       "      <td>NO_LABEL</td>\n",
       "      <td>PreK-12 Operating</td>\n",
       "      <td>TEACHER COVERAGE FOR TEACHER</td>\n",
       "      <td>...</td>\n",
       "      <td>NaN</td>\n",
       "      <td>NaN</td>\n",
       "      <td>NaN</td>\n",
       "      <td>NON-PROJECT</td>\n",
       "      <td>NaN</td>\n",
       "      <td>PROFESSIONAL-INSTRUCTIONAL</td>\n",
       "      <td>54.166</td>\n",
       "      <td>GENERAL HIGH SCHOOL EDUCATION</td>\n",
       "      <td>NaN</td>\n",
       "      <td>REGULAR INSTRUCTION</td>\n",
       "    </tr>\n",
       "  </tbody>\n",
       "</table>\n",
       "<p>5 rows × 25 columns</p>\n",
       "</div>"
      ],
      "text/plain": [
       "                       Function          Use          Sharing Reporting  \\\n",
       "134338     Teacher Compensation  Instruction  School Reported    School   \n",
       "206341                 NO_LABEL     NO_LABEL         NO_LABEL  NO_LABEL   \n",
       "326408     Teacher Compensation  Instruction  School Reported    School   \n",
       "364634  Substitute Compensation  Instruction  School Reported    School   \n",
       "47683   Substitute Compensation  Instruction  School Reported    School   \n",
       "\n",
       "       Student_Type Position_Type               Object_Type     Pre_K  \\\n",
       "134338     NO_LABEL       Teacher                  NO_LABEL  NO_LABEL   \n",
       "206341     NO_LABEL      NO_LABEL                  NO_LABEL  NO_LABEL   \n",
       "326408  Unspecified       Teacher  Base Salary/Compensation  Non PreK   \n",
       "364634  Unspecified    Substitute                  Benefits  NO_LABEL   \n",
       "47683   Unspecified       Teacher   Substitute Compensation  NO_LABEL   \n",
       "\n",
       "         Operating_Status            Object_Description  \\\n",
       "134338  PreK-12 Operating                           NaN   \n",
       "206341      Non-Operating           CONTRACTOR SERVICES   \n",
       "326408  PreK-12 Operating  Personal Services - Teachers   \n",
       "364634  PreK-12 Operating             EMPLOYEE BENEFITS   \n",
       "47683   PreK-12 Operating  TEACHER COVERAGE FOR TEACHER   \n",
       "\n",
       "                    ...               Sub_Object_Description  \\\n",
       "134338              ...                                  NaN   \n",
       "206341              ...                                  NaN   \n",
       "326408              ...                                  NaN   \n",
       "364634              ...                                  NaN   \n",
       "47683               ...                                  NaN   \n",
       "\n",
       "       Location_Description  FTE     Function_Description  \\\n",
       "134338                  NaN  1.0                      NaN   \n",
       "206341                  NaN  NaN                 RGN  GOB   \n",
       "326408                  NaN  1.0                      NaN   \n",
       "364634                  NaN  NaN  UNALLOC BUDGETS/SCHOOLS   \n",
       "47683                   NaN  NaN              NON-PROJECT   \n",
       "\n",
       "       Facility_or_Department              Position_Extra      Total  \\\n",
       "134338                    NaN               KINDERGARTEN   50471.810   \n",
       "206341                    NaN                UNDESIGNATED   3477.860   \n",
       "326408                    NaN                     TEACHER  62237.130   \n",
       "364634                    NaN  PROFESSIONAL-INSTRUCTIONAL     22.300   \n",
       "47683                     NaN  PROFESSIONAL-INSTRUCTIONAL     54.166   \n",
       "\n",
       "                   Program_Description        Fund_Description  \\\n",
       "134338                    KINDERGARTEN            General Fund   \n",
       "206341   BUILDING IMPROVEMENT SERVICES                     NaN   \n",
       "326408           Instruction - Regular  General Purpose School   \n",
       "364634  GENERAL MIDDLE/JUNIOR HIGH SCH                     NaN   \n",
       "47683    GENERAL HIGH SCHOOL EDUCATION                     NaN   \n",
       "\n",
       "                               Text_1  \n",
       "134338                            NaN  \n",
       "206341  BUILDING IMPROVEMENT SERVICES  \n",
       "326408                            NaN  \n",
       "364634            REGULAR INSTRUCTION  \n",
       "47683             REGULAR INSTRUCTION  \n",
       "\n",
       "[5 rows x 25 columns]"
      ]
     },
     "metadata": {},
     "output_type": "display_data"
    },
    {
     "name": "stdout",
     "output_type": "stream",
     "text": [
      "\n"
     ]
    }
   ],
   "source": [
    "train = load_data(path,\"TrainingData.csv\")"
   ]
  },
  {
   "cell_type": "markdown",
   "metadata": {},
   "source": [
    "Looking at the column names i.e. our features, we see there are **Two** numeric features, FTE and TOTAL.\n",
    "\n",
    "* FTE stands for full-time equivalent(0-100%). To elaborate, if a budget item is associated to an employee, then we have a value between 0 and 1. It tells us the percentage of full-time that the employee works. A value of 1 means the employee works full-time. A value close to 0 means the employee is working either part-time or on contract basis.\n",
    "\n",
    "* TOTAL stands for the total cost of the expenditure. It tells us how much the budget item costs.\n",
    "\n"
   ]
  },
  {
   "cell_type": "markdown",
   "metadata": {},
   "source": [
    "## Exploratory Data Analysis\n",
    "**Let's explore numeric variables further:**"
   ]
  },
  {
   "cell_type": "code",
   "execution_count": 9,
   "metadata": {
    "ExecuteTime": {
     "end_time": "2018-12-01T11:25:34.805908Z",
     "start_time": "2018-12-01T11:25:34.569280Z"
    }
   },
   "outputs": [
    {
     "data": {
      "text/html": [
       "<div>\n",
       "<style scoped>\n",
       "    .dataframe tbody tr th:only-of-type {\n",
       "        vertical-align: middle;\n",
       "    }\n",
       "\n",
       "    .dataframe tbody tr th {\n",
       "        vertical-align: top;\n",
       "    }\n",
       "\n",
       "    .dataframe thead th {\n",
       "        text-align: right;\n",
       "    }\n",
       "</style>\n",
       "<table border=\"1\" class=\"dataframe\">\n",
       "  <thead>\n",
       "    <tr style=\"text-align: right;\">\n",
       "      <th></th>\n",
       "      <th>FTE</th>\n",
       "      <th>Total</th>\n",
       "    </tr>\n",
       "  </thead>\n",
       "  <tbody>\n",
       "    <tr>\n",
       "      <th>count</th>\n",
       "      <td>126071.000000</td>\n",
       "      <td>3.957220e+05</td>\n",
       "    </tr>\n",
       "    <tr>\n",
       "      <th>mean</th>\n",
       "      <td>0.426794</td>\n",
       "      <td>1.310586e+04</td>\n",
       "    </tr>\n",
       "    <tr>\n",
       "      <th>std</th>\n",
       "      <td>0.573576</td>\n",
       "      <td>3.682254e+05</td>\n",
       "    </tr>\n",
       "    <tr>\n",
       "      <th>min</th>\n",
       "      <td>-0.087551</td>\n",
       "      <td>-8.746631e+07</td>\n",
       "    </tr>\n",
       "    <tr>\n",
       "      <th>25%</th>\n",
       "      <td>0.000792</td>\n",
       "      <td>7.379770e+01</td>\n",
       "    </tr>\n",
       "    <tr>\n",
       "      <th>50%</th>\n",
       "      <td>0.130927</td>\n",
       "      <td>4.612300e+02</td>\n",
       "    </tr>\n",
       "    <tr>\n",
       "      <th>75%</th>\n",
       "      <td>1.000000</td>\n",
       "      <td>3.652662e+03</td>\n",
       "    </tr>\n",
       "    <tr>\n",
       "      <th>max</th>\n",
       "      <td>46.800000</td>\n",
       "      <td>1.297000e+08</td>\n",
       "    </tr>\n",
       "  </tbody>\n",
       "</table>\n",
       "</div>"
      ],
      "text/plain": [
       "                 FTE         Total\n",
       "count  126071.000000  3.957220e+05\n",
       "mean        0.426794  1.310586e+04\n",
       "std         0.573576  3.682254e+05\n",
       "min        -0.087551 -8.746631e+07\n",
       "25%         0.000792  7.379770e+01\n",
       "50%         0.130927  4.612300e+02\n",
       "75%         1.000000  3.652662e+03\n",
       "max        46.800000  1.297000e+08"
      ]
     },
     "execution_count": 9,
     "metadata": {},
     "output_type": "execute_result"
    }
   ],
   "source": [
    "train.describe()"
   ]
  },
  {
   "cell_type": "markdown",
   "metadata": {},
   "source": [
    "We see there are some negative values in the the numeric features. We would have to impute such missing or incorrect values as we cannot have a negative value associated with the percentage of full-time that the employee works or total cost of the expenditure."
   ]
  },
  {
   "cell_type": "code",
   "execution_count": 10,
   "metadata": {
    "ExecuteTime": {
     "end_time": "2018-12-01T11:25:35.400589Z",
     "start_time": "2018-12-01T11:25:34.811924Z"
    }
   },
   "outputs": [
    {
     "data": {
      "image/png": "[encoded data removed]",
      "text/plain": [
       "<Figure size 432x288 with 1 Axes>"
      ]
     },
     "metadata": {},
     "output_type": "display_data"
    }
   ],
   "source": [
    "plt.hist(train['FTE'].dropna(),range=[-0.1,1])\n",
    "plt.title('Distribution of %full-time \\n employee works')\n",
    "plt.xlabel('% of full-time')\n",
    "plt.ylabel('num employees')\n",
    "plt.show()"
   ]
  },
  {
   "cell_type": "markdown",
   "metadata": {},
   "source": [
    "From the above plot, we can see that our budgets data favors part-time and contract-based employees as we have more contract employees than full-time employees. \n",
    "\n",
    "We have 50k records with negative FTE. Ideally it shouldn’t be negative. This shows that a lot of positions are getting changed and thus resulting in **negative** values. Our strategy would be to normalizing it to 0.\n",
    "\n",
    "We can assume that contract-based employees are hired for a short-term purpose and that is why they need certain items more frequent than full-time employees who would have such items easily accessible. (NEED to INFER something!)"
   ]
  },
  {
   "cell_type": "markdown",
   "metadata": {},
   "source": [
    "### Distribution of Categorical Features\n",
    "\n",
    "Since this data set primarily consists of categorical features, it is very important to look at their distribution. The table below show unique values, count of features, top feature and frequency of top subcategory under each category."
   ]
  },
  {
   "cell_type": "code",
   "execution_count": 11,
   "metadata": {
    "ExecuteTime": {
     "end_time": "2018-12-01T11:25:37.357946Z",
     "start_time": "2018-12-01T11:25:35.402595Z"
    }
   },
   "outputs": [
    {
     "data": {
      "text/html": [
       "<div>\n",
       "<style scoped>\n",
       "    .dataframe tbody tr th:only-of-type {\n",
       "        vertical-align: middle;\n",
       "    }\n",
       "\n",
       "    .dataframe tbody tr th {\n",
       "        vertical-align: top;\n",
       "    }\n",
       "\n",
       "    .dataframe thead th {\n",
       "        text-align: right;\n",
       "    }\n",
       "</style>\n",
       "<table border=\"1\" class=\"dataframe\">\n",
       "  <thead>\n",
       "    <tr style=\"text-align: right;\">\n",
       "      <th></th>\n",
       "      <th>Function</th>\n",
       "      <th>Use</th>\n",
       "      <th>Sharing</th>\n",
       "      <th>Reporting</th>\n",
       "      <th>Student_Type</th>\n",
       "      <th>Position_Type</th>\n",
       "      <th>Object_Type</th>\n",
       "      <th>Pre_K</th>\n",
       "      <th>Operating_Status</th>\n",
       "      <th>Object_Description</th>\n",
       "      <th>...</th>\n",
       "      <th>Text_3</th>\n",
       "      <th>Text_4</th>\n",
       "      <th>Sub_Object_Description</th>\n",
       "      <th>Location_Description</th>\n",
       "      <th>Function_Description</th>\n",
       "      <th>Facility_or_Department</th>\n",
       "      <th>Position_Extra</th>\n",
       "      <th>Program_Description</th>\n",
       "      <th>Fund_Description</th>\n",
       "      <th>Text_1</th>\n",
       "    </tr>\n",
       "  </thead>\n",
       "  <tbody>\n",
       "    <tr>\n",
       "      <th>count</th>\n",
       "      <td>400277</td>\n",
       "      <td>400277</td>\n",
       "      <td>400277</td>\n",
       "      <td>400277</td>\n",
       "      <td>400277</td>\n",
       "      <td>400277</td>\n",
       "      <td>400277</td>\n",
       "      <td>400277</td>\n",
       "      <td>400277</td>\n",
       "      <td>375493</td>\n",
       "      <td>...</td>\n",
       "      <td>109152</td>\n",
       "      <td>53746</td>\n",
       "      <td>91603</td>\n",
       "      <td>162054</td>\n",
       "      <td>342195</td>\n",
       "      <td>53886</td>\n",
       "      <td>264764</td>\n",
       "      <td>304660</td>\n",
       "      <td>202877</td>\n",
       "      <td>292285</td>\n",
       "    </tr>\n",
       "    <tr>\n",
       "      <th>unique</th>\n",
       "      <td>37</td>\n",
       "      <td>8</td>\n",
       "      <td>5</td>\n",
       "      <td>3</td>\n",
       "      <td>9</td>\n",
       "      <td>25</td>\n",
       "      <td>11</td>\n",
       "      <td>3</td>\n",
       "      <td>3</td>\n",
       "      <td>602</td>\n",
       "      <td>...</td>\n",
       "      <td>34</td>\n",
       "      <td>244</td>\n",
       "      <td>182</td>\n",
       "      <td>354</td>\n",
       "      <td>687</td>\n",
       "      <td>179</td>\n",
       "      <td>580</td>\n",
       "      <td>421</td>\n",
       "      <td>141</td>\n",
       "      <td>1423</td>\n",
       "    </tr>\n",
       "    <tr>\n",
       "      <th>top</th>\n",
       "      <td>Teacher Compensation</td>\n",
       "      <td>Instruction</td>\n",
       "      <td>School Reported</td>\n",
       "      <td>School</td>\n",
       "      <td>Unspecified</td>\n",
       "      <td>Teacher</td>\n",
       "      <td>Base Salary/Compensation</td>\n",
       "      <td>NO_LABEL</td>\n",
       "      <td>PreK-12 Operating</td>\n",
       "      <td>EMPLOYEE BENEFITS</td>\n",
       "      <td>...</td>\n",
       "      <td>Regular</td>\n",
       "      <td>Regular Instruction</td>\n",
       "      <td>Extra Duty Pay/Overtime For Support Personnel</td>\n",
       "      <td>School</td>\n",
       "      <td>NON-PROJECT</td>\n",
       "      <td>All Campus Payroll</td>\n",
       "      <td>PROFESSIONAL-INSTRUCTIONAL</td>\n",
       "      <td>GENERAL ELEMENTARY EDUCATION</td>\n",
       "      <td>General Operating Fund</td>\n",
       "      <td>REGULAR INSTRUCTION</td>\n",
       "    </tr>\n",
       "    <tr>\n",
       "      <th>freq</th>\n",
       "      <td>86354</td>\n",
       "      <td>203608</td>\n",
       "      <td>254433</td>\n",
       "      <td>257258</td>\n",
       "      <td>223026</td>\n",
       "      <td>102788</td>\n",
       "      <td>97670</td>\n",
       "      <td>306425</td>\n",
       "      <td>343578</td>\n",
       "      <td>47495</td>\n",
       "      <td>...</td>\n",
       "      <td>94462</td>\n",
       "      <td>10762</td>\n",
       "      <td>9159</td>\n",
       "      <td>65524</td>\n",
       "      <td>76890</td>\n",
       "      <td>17697</td>\n",
       "      <td>92136</td>\n",
       "      <td>32829</td>\n",
       "      <td>33467</td>\n",
       "      <td>64896</td>\n",
       "    </tr>\n",
       "  </tbody>\n",
       "</table>\n",
       "<p>4 rows × 23 columns</p>\n",
       "</div>"
      ],
      "text/plain": [
       "                    Function          Use          Sharing Reporting  \\\n",
       "count                 400277       400277           400277    400277   \n",
       "unique                    37            8                5         3   \n",
       "top     Teacher Compensation  Instruction  School Reported    School   \n",
       "freq                   86354       203608           254433    257258   \n",
       "\n",
       "       Student_Type Position_Type               Object_Type     Pre_K  \\\n",
       "count        400277        400277                    400277    400277   \n",
       "unique            9            25                        11         3   \n",
       "top     Unspecified       Teacher  Base Salary/Compensation  NO_LABEL   \n",
       "freq         223026        102788                     97670    306425   \n",
       "\n",
       "         Operating_Status Object_Description         ...            Text_3  \\\n",
       "count              400277             375493         ...            109152   \n",
       "unique                  3                602         ...                34   \n",
       "top     PreK-12 Operating  EMPLOYEE BENEFITS         ...           Regular   \n",
       "freq               343578              47495         ...             94462   \n",
       "\n",
       "                     Text_4                         Sub_Object_Description  \\\n",
       "count                 53746                                          91603   \n",
       "unique                  244                                            182   \n",
       "top     Regular Instruction  Extra Duty Pay/Overtime For Support Personnel   \n",
       "freq                  10762                                           9159   \n",
       "\n",
       "       Location_Description Function_Description Facility_or_Department  \\\n",
       "count                162054               342195                  53886   \n",
       "unique                  354                  687                    179   \n",
       "top                 School           NON-PROJECT     All Campus Payroll   \n",
       "freq                  65524                76890                  17697   \n",
       "\n",
       "                    Position_Extra           Program_Description  \\\n",
       "count                       264764                        304660   \n",
       "unique                         580                           421   \n",
       "top     PROFESSIONAL-INSTRUCTIONAL  GENERAL ELEMENTARY EDUCATION   \n",
       "freq                         92136                         32829   \n",
       "\n",
       "              Fund_Description               Text_1  \n",
       "count                   202877               292285  \n",
       "unique                     141                 1423  \n",
       "top     General Operating Fund  REGULAR INSTRUCTION  \n",
       "freq                     33467                64896  \n",
       "\n",
       "[4 rows x 23 columns]"
      ]
     },
     "execution_count": 11,
     "metadata": {},
     "output_type": "execute_result"
    }
   ],
   "source": [
    "train.describe(include=['O'])"
   ]
  },
  {
   "cell_type": "markdown",
   "metadata": {},
   "source": [
    " Let us look at null values under each category"
   ]
  },
  {
   "cell_type": "code",
   "execution_count": 12,
   "metadata": {
    "ExecuteTime": {
     "end_time": "2018-12-01T11:25:38.095906Z",
     "start_time": "2018-12-01T11:25:37.364965Z"
    }
   },
   "outputs": [
    {
     "name": "stdout",
     "output_type": "stream",
     "text": [
      "Function                       0\n",
      "Use                            0\n",
      "Sharing                        0\n",
      "Reporting                      0\n",
      "Student_Type                   0\n",
      "Position_Type                  0\n",
      "Object_Type                    0\n",
      "Pre_K                          0\n",
      "Operating_Status               0\n",
      "Object_Description         24784\n",
      "Text_2                    312060\n",
      "SubFund_Description        93422\n",
      "Job_Title_Description     107534\n",
      "Text_3                    291125\n",
      "Text_4                    346531\n",
      "Sub_Object_Description    308674\n",
      "Location_Description      238223\n",
      "FTE                       274206\n",
      "Function_Description       58082\n",
      "Facility_or_Department    346391\n",
      "Position_Extra            135513\n",
      "Total                       4555\n",
      "Program_Description        95617\n",
      "Fund_Description          197400\n",
      "Text_1                    107992\n",
      "dtype: int64\n"
     ]
    }
   ],
   "source": [
    "print(train.isnull().sum())"
   ]
  },
  {
   "cell_type": "markdown",
   "metadata": {
    "ExecuteTime": {
     "end_time": "2018-11-07T22:08:50.044335Z",
     "start_time": "2018-11-07T22:08:50.038746Z"
    }
   },
   "source": [
    "Converting our Categorical columns datatype from object to categorical, as this will help in the future for pipeline"
   ]
  },
  {
   "cell_type": "code",
   "execution_count": 7,
   "metadata": {
    "ExecuteTime": {
     "end_time": "2018-12-01T11:25:38.104932Z",
     "start_time": "2018-12-01T11:25:38.099916Z"
    }
   },
   "outputs": [],
   "source": [
    "cat_list = ['Function','Use','Sharing','Reporting','Student_Type','Position_Type','Object_Type',\n",
    "              'Pre_K','Operating_Status']"
   ]
  },
  {
   "cell_type": "code",
   "execution_count": 14,
   "metadata": {
    "ExecuteTime": {
     "end_time": "2018-12-01T11:25:38.204194Z",
     "start_time": "2018-12-01T11:25:38.109944Z"
    }
   },
   "outputs": [],
   "source": [
    "# cat_lab = lambda x: x.astype('category')\n",
    "\n",
    "# train[cat_list] = train[cat_list].apply(cat_lab,axis=0)\n",
    "\n",
    "# print(train.dtypes)"
   ]
  },
  {
   "cell_type": "code",
   "execution_count": 8,
   "metadata": {
    "ExecuteTime": {
     "end_time": "2018-12-01T11:25:38.338552Z",
     "start_time": "2018-12-01T11:25:38.221238Z"
    }
   },
   "outputs": [
    {
     "data": {
      "text/plain": [
       "8e-06"
      ]
     },
     "execution_count": 8,
     "metadata": {},
     "output_type": "execute_result"
    }
   ],
   "source": [
    "np.round(np.sum(train['Total'] < 0)/np.sum(train['Total']),6)"
   ]
  },
  {
   "cell_type": "markdown",
   "metadata": {},
   "source": [
    "So, we see that we have a small percent of negative budgets. Look’s good for now. Later we will impute them."
   ]
  },
  {
   "cell_type": "markdown",
   "metadata": {},
   "source": [
    "**Let's see the sub-categories of our target classes**"
   ]
  },
  {
   "cell_type": "code",
   "execution_count": 16,
   "metadata": {
    "ExecuteTime": {
     "end_time": "2018-12-01T11:25:39.005492Z",
     "start_time": "2018-12-01T11:25:38.345571Z"
    }
   },
   "outputs": [
    {
     "data": {
      "image/png": "[encoded data removed]",
      "text/plain": [
       "<Figure size 432x288 with 1 Axes>"
      ]
     },
     "metadata": {},
     "output_type": "display_data"
    }
   ],
   "source": [
    "import matplotlib.pyplot as plt\n",
    "\n",
    "uni_labels = train[cat_list].apply(pd.Series.nunique)\n",
    "\n",
    "uni_labels.plot(kind='bar')\n",
    "\n",
    "plt.xlabel('Labels')\n",
    "plt.ylabel('Number of unique values')\n",
    "plt.title('Number of sub-categories for each target class')\n",
    "\n",
    "plt.show()"
   ]
  },
  {
   "cell_type": "markdown",
   "metadata": {},
   "source": [
    "From the above plot, we see that Function and Position_Type have the highest number of sub-categories while the lowest number of sub-categories are 3 in Operating_Status, Pre_K, and Reporting."
   ]
  },
  {
   "cell_type": "code",
   "execution_count": 9,
   "metadata": {
    "ExecuteTime": {
     "end_time": "2018-12-01T11:25:39.186973Z",
     "start_time": "2018-12-01T11:25:39.008498Z"
    },
    "collapsed": true
   },
   "outputs": [
    {
     "data": {
      "text/html": [
       "<div>\n",
       "<style scoped>\n",
       "    .dataframe tbody tr th:only-of-type {\n",
       "        vertical-align: middle;\n",
       "    }\n",
       "\n",
       "    .dataframe tbody tr th {\n",
       "        vertical-align: top;\n",
       "    }\n",
       "\n",
       "    .dataframe thead th {\n",
       "        text-align: right;\n",
       "    }\n",
       "</style>\n",
       "<table border=\"1\" class=\"dataframe\">\n",
       "  <thead>\n",
       "    <tr style=\"text-align: right;\">\n",
       "      <th></th>\n",
       "      <th>Total</th>\n",
       "    </tr>\n",
       "    <tr>\n",
       "      <th>Job_Title_Description</th>\n",
       "      <th></th>\n",
       "    </tr>\n",
       "  </thead>\n",
       "  <tbody>\n",
       "    <tr>\n",
       "      <th>Dir, Library Media Svcs</th>\n",
       "      <td>-38.695000</td>\n",
       "    </tr>\n",
       "    <tr>\n",
       "      <th>TCHR, K-8 SUB DAY/DAY</th>\n",
       "      <td>-0.580000</td>\n",
       "    </tr>\n",
       "    <tr>\n",
       "      <th>INT TEMP EXEC SEC TO THE CEO</th>\n",
       "      <td>-0.550000</td>\n",
       "    </tr>\n",
       "    <tr>\n",
       "      <th>SUBSTITUTE GENERAL PREP</th>\n",
       "      <td>-0.330000</td>\n",
       "    </tr>\n",
       "    <tr>\n",
       "      <th>CLASSIFIED EDUC CONSUL II</th>\n",
       "      <td>-0.280000</td>\n",
       "    </tr>\n",
       "    <tr>\n",
       "      <th>EDUCATIONAL ASSISTANT, RETIREE</th>\n",
       "      <td>-0.280000</td>\n",
       "    </tr>\n",
       "    <tr>\n",
       "      <th>SECURITY OFFICER (EXTERNAL)</th>\n",
       "      <td>-0.247500</td>\n",
       "    </tr>\n",
       "    <tr>\n",
       "      <th>TCHR, K-8 LDBD TUTOR-HRLY</th>\n",
       "      <td>-0.162500</td>\n",
       "    </tr>\n",
       "    <tr>\n",
       "      <th>ASSOC STRATEGIC IMPLEM OFFICER</th>\n",
       "      <td>0.220000</td>\n",
       "    </tr>\n",
       "    <tr>\n",
       "      <th>CERT ED CONSLT II, RETIREE</th>\n",
       "      <td>0.285000</td>\n",
       "    </tr>\n",
       "    <tr>\n",
       "      <th>TCHR, SCNDY LDBD TUTOR-HRLY</th>\n",
       "      <td>0.545000</td>\n",
       "    </tr>\n",
       "    <tr>\n",
       "      <th>Sub Manager, Food Service</th>\n",
       "      <td>0.720000</td>\n",
       "    </tr>\n",
       "    <tr>\n",
       "      <th>Substitute School Resource Officer</th>\n",
       "      <td>21.680000</td>\n",
       "    </tr>\n",
       "    <tr>\n",
       "      <th>Data Assessment Partner</th>\n",
       "      <td>33.845000</td>\n",
       "    </tr>\n",
       "    <tr>\n",
       "      <th>LLI Coach</th>\n",
       "      <td>35.472000</td>\n",
       "    </tr>\n",
       "    <tr>\n",
       "      <th>Mild/Moderate/Comm Asst</th>\n",
       "      <td>44.025000</td>\n",
       "    </tr>\n",
       "    <tr>\n",
       "      <th>Middle School Athletics</th>\n",
       "      <td>46.979037</td>\n",
       "    </tr>\n",
       "    <tr>\n",
       "      <th>Business Process Coord</th>\n",
       "      <td>51.602658</td>\n",
       "    </tr>\n",
       "    <tr>\n",
       "      <th>AIDE (SP.ED.) EXTENDED YEAR</th>\n",
       "      <td>64.780000</td>\n",
       "    </tr>\n",
       "    <tr>\n",
       "      <th>TEACHER POOL, UNASSIGNED</th>\n",
       "      <td>83.013987</td>\n",
       "    </tr>\n",
       "    <tr>\n",
       "      <th>Summer Lunchroom Monitor</th>\n",
       "      <td>93.973416</td>\n",
       "    </tr>\n",
       "    <tr>\n",
       "      <th>Application Processing Rep</th>\n",
       "      <td>124.016400</td>\n",
       "    </tr>\n",
       "    <tr>\n",
       "      <th>Teacher, Short Term Sub</th>\n",
       "      <td>124.299042</td>\n",
       "    </tr>\n",
       "    <tr>\n",
       "      <th>School Counselor</th>\n",
       "      <td>178.646600</td>\n",
       "    </tr>\n",
       "    <tr>\n",
       "      <th>Teacher,Retrd Shrt Term Sub</th>\n",
       "      <td>182.909364</td>\n",
       "    </tr>\n",
       "    <tr>\n",
       "      <th>TUTOR,TEMPORARY</th>\n",
       "      <td>186.249304</td>\n",
       "    </tr>\n",
       "    <tr>\n",
       "      <th>CLERICAL, TEMPORARY</th>\n",
       "      <td>199.575415</td>\n",
       "    </tr>\n",
       "    <tr>\n",
       "      <th>Pre-School Aide</th>\n",
       "      <td>241.214182</td>\n",
       "    </tr>\n",
       "    <tr>\n",
       "      <th>SUB TEACHER-MIDDLE/HIGH</th>\n",
       "      <td>257.839355</td>\n",
       "    </tr>\n",
       "    <tr>\n",
       "      <th>TO BE DISCHARGED</th>\n",
       "      <td>263.268148</td>\n",
       "    </tr>\n",
       "    <tr>\n",
       "      <th>...</th>\n",
       "      <td>...</td>\n",
       "    </tr>\n",
       "    <tr>\n",
       "      <th>PRINCIPAL SECETARY</th>\n",
       "      <td>245487.666200</td>\n",
       "    </tr>\n",
       "    <tr>\n",
       "      <th>CHIEF FIN &amp; ADM OFFICER</th>\n",
       "      <td>251896.814500</td>\n",
       "    </tr>\n",
       "    <tr>\n",
       "      <th>CHIEF-FACILITIES/OPERATIONS</th>\n",
       "      <td>251898.146500</td>\n",
       "    </tr>\n",
       "    <tr>\n",
       "      <th>CHIEF ACADEMIC OFFICER</th>\n",
       "      <td>258191.449800</td>\n",
       "    </tr>\n",
       "    <tr>\n",
       "      <th>SUPERINTENDENT OF SCHOOLS</th>\n",
       "      <td>258355.610000</td>\n",
       "    </tr>\n",
       "    <tr>\n",
       "      <th>CHIEF EXECUTIVE OFFICER</th>\n",
       "      <td>294028.735800</td>\n",
       "    </tr>\n",
       "    <tr>\n",
       "      <th>CHANCELLOR</th>\n",
       "      <td>302521.742300</td>\n",
       "    </tr>\n",
       "    <tr>\n",
       "      <th>Superintendent</th>\n",
       "      <td>351758.185600</td>\n",
       "    </tr>\n",
       "    <tr>\n",
       "      <th>CLASSROOM TEACHERS - TITLE</th>\n",
       "      <td>411325.546800</td>\n",
       "    </tr>\n",
       "    <tr>\n",
       "      <th>TCHR, INTERVENTION SPEC (CC)</th>\n",
       "      <td>473920.944800</td>\n",
       "    </tr>\n",
       "    <tr>\n",
       "      <th>CLASSROOM TEACHERS - TITLE II A</th>\n",
       "      <td>514157.663500</td>\n",
       "    </tr>\n",
       "    <tr>\n",
       "      <th>EDUCATIONAL AIDE I - Preschool Supplemental</th>\n",
       "      <td>845835.712100</td>\n",
       "    </tr>\n",
       "    <tr>\n",
       "      <th>ACADMEY COORDINATOR</th>\n",
       "      <td>NaN</td>\n",
       "    </tr>\n",
       "    <tr>\n",
       "      <th>ADMIN. AIDE</th>\n",
       "      <td>NaN</td>\n",
       "    </tr>\n",
       "    <tr>\n",
       "      <th>ASBESTOS ABATEMENT SPEC</th>\n",
       "      <td>NaN</td>\n",
       "    </tr>\n",
       "    <tr>\n",
       "      <th>Budget Director</th>\n",
       "      <td>NaN</td>\n",
       "    </tr>\n",
       "    <tr>\n",
       "      <th>COORDINATOR, SPEC ED</th>\n",
       "      <td>NaN</td>\n",
       "    </tr>\n",
       "    <tr>\n",
       "      <th>Coordinator, Embsy Adopt Prog.</th>\n",
       "      <td>NaN</td>\n",
       "    </tr>\n",
       "    <tr>\n",
       "      <th>EDUCATIONAL AIDE HEADSTART</th>\n",
       "      <td>NaN</td>\n",
       "    </tr>\n",
       "    <tr>\n",
       "      <th>EDUCATIONAL AIDE, SPEC. ED.</th>\n",
       "      <td>NaN</td>\n",
       "    </tr>\n",
       "    <tr>\n",
       "      <th>EDUCATIONAL AIDE,80HS</th>\n",
       "      <td>NaN</td>\n",
       "    </tr>\n",
       "    <tr>\n",
       "      <th>FOUNDATION GRANTS SPECIALIST</th>\n",
       "      <td>NaN</td>\n",
       "    </tr>\n",
       "    <tr>\n",
       "      <th>Network Administrator</th>\n",
       "      <td>NaN</td>\n",
       "    </tr>\n",
       "    <tr>\n",
       "      <th>PIRNCIPAL, JHS</th>\n",
       "      <td>NaN</td>\n",
       "    </tr>\n",
       "    <tr>\n",
       "      <th>PRINCIPAL,EC</th>\n",
       "      <td>NaN</td>\n",
       "    </tr>\n",
       "    <tr>\n",
       "      <th>President Board Of Education</th>\n",
       "      <td>NaN</td>\n",
       "    </tr>\n",
       "    <tr>\n",
       "      <th>SPEC. EDUCATION COORDINATOR</th>\n",
       "      <td>NaN</td>\n",
       "    </tr>\n",
       "    <tr>\n",
       "      <th>SR. FINANCIAL SUPPORT ANALYST</th>\n",
       "      <td>NaN</td>\n",
       "    </tr>\n",
       "    <tr>\n",
       "      <th>STUDENT ATTENDANCE MANAGER</th>\n",
       "      <td>NaN</td>\n",
       "    </tr>\n",
       "    <tr>\n",
       "      <th>TCHR, FORNG LANG - CHINESE</th>\n",
       "      <td>NaN</td>\n",
       "    </tr>\n",
       "  </tbody>\n",
       "</table>\n",
       "<p>3516 rows × 1 columns</p>\n",
       "</div>"
      ],
      "text/plain": [
       "                                                     Total\n",
       "Job_Title_Description                                     \n",
       "Dir, Library Media Svcs                         -38.695000\n",
       "TCHR, K-8 SUB DAY/DAY                            -0.580000\n",
       "INT TEMP EXEC SEC TO THE CEO                     -0.550000\n",
       "SUBSTITUTE GENERAL PREP                          -0.330000\n",
       "CLASSIFIED EDUC CONSUL II                        -0.280000\n",
       "EDUCATIONAL ASSISTANT, RETIREE                   -0.280000\n",
       "SECURITY OFFICER (EXTERNAL)                      -0.247500\n",
       "TCHR, K-8 LDBD TUTOR-HRLY                        -0.162500\n",
       "ASSOC STRATEGIC IMPLEM OFFICER                    0.220000\n",
       "CERT ED CONSLT II, RETIREE                        0.285000\n",
       "TCHR, SCNDY LDBD TUTOR-HRLY                       0.545000\n",
       "Sub Manager, Food Service                         0.720000\n",
       "Substitute School Resource Officer               21.680000\n",
       "Data Assessment Partner                          33.845000\n",
       "LLI Coach                                        35.472000\n",
       "Mild/Moderate/Comm Asst                          44.025000\n",
       "Middle School Athletics                          46.979037\n",
       "Business Process Coord                           51.602658\n",
       "AIDE (SP.ED.) EXTENDED YEAR                      64.780000\n",
       "TEACHER POOL, UNASSIGNED                         83.013987\n",
       "Summer Lunchroom Monitor                         93.973416\n",
       "Application Processing Rep                      124.016400\n",
       "Teacher, Short Term Sub                         124.299042\n",
       "School Counselor                                178.646600\n",
       "Teacher,Retrd Shrt Term Sub                     182.909364\n",
       "TUTOR,TEMPORARY                                 186.249304\n",
       "CLERICAL, TEMPORARY                             199.575415\n",
       "Pre-School Aide                                 241.214182\n",
       "SUB TEACHER-MIDDLE/HIGH                         257.839355\n",
       "TO BE DISCHARGED                                263.268148\n",
       "...                                                    ...\n",
       "PRINCIPAL SECETARY                           245487.666200\n",
       "CHIEF FIN & ADM OFFICER                      251896.814500\n",
       "CHIEF-FACILITIES/OPERATIONS                  251898.146500\n",
       "CHIEF ACADEMIC OFFICER                       258191.449800\n",
       "SUPERINTENDENT OF SCHOOLS                    258355.610000\n",
       "CHIEF EXECUTIVE OFFICER                      294028.735800\n",
       "CHANCELLOR                                   302521.742300\n",
       "Superintendent                               351758.185600\n",
       "CLASSROOM TEACHERS - TITLE                   411325.546800\n",
       "TCHR, INTERVENTION SPEC (CC)                 473920.944800\n",
       "CLASSROOM TEACHERS - TITLE II A              514157.663500\n",
       "EDUCATIONAL AIDE I - Preschool Supplemental  845835.712100\n",
       "ACADMEY COORDINATOR                                    NaN\n",
       "ADMIN. AIDE                                            NaN\n",
       "ASBESTOS ABATEMENT SPEC                                NaN\n",
       "Budget Director                                        NaN\n",
       "COORDINATOR, SPEC ED                                   NaN\n",
       "Coordinator, Embsy Adopt Prog.                         NaN\n",
       "EDUCATIONAL AIDE HEADSTART                             NaN\n",
       "EDUCATIONAL AIDE, SPEC. ED.                            NaN\n",
       "EDUCATIONAL AIDE,80HS                                  NaN\n",
       "FOUNDATION GRANTS SPECIALIST                           NaN\n",
       "Network Administrator                                  NaN\n",
       "PIRNCIPAL, JHS                                         NaN\n",
       "PRINCIPAL,EC                                           NaN\n",
       "President Board Of Education                           NaN\n",
       "SPEC. EDUCATION COORDINATOR                            NaN\n",
       "SR. FINANCIAL SUPPORT ANALYST                          NaN\n",
       "STUDENT ATTENDANCE MANAGER                             NaN\n",
       "TCHR, FORNG LANG - CHINESE                             NaN\n",
       "\n",
       "[3516 rows x 1 columns]"
      ]
     },
     "execution_count": 9,
     "metadata": {},
     "output_type": "execute_result"
    }
   ],
   "source": [
    "## Let's see if missing Total can be computed based on Job_Title_Description\n",
    "average_total =train[['Total', 'Job_Title_Description']].groupby(['Job_Title_Description'], as_index = True).mean().sort_values(by = 'Total')\n",
    "average_total"
   ]
  },
  {
   "cell_type": "markdown",
   "metadata": {},
   "source": [
    "Let us further explore how the Budget is distributed among different target class"
   ]
  },
  {
   "cell_type": "code",
   "execution_count": 18,
   "metadata": {
    "ExecuteTime": {
     "end_time": "2018-12-01T11:25:39.565981Z",
     "start_time": "2018-12-01T11:25:39.189982Z"
    },
    "collapsed": true
   },
   "outputs": [
    {
     "data": {
      "text/plain": [
       "<function matplotlib.pyplot.show>"
      ]
     },
     "execution_count": 18,
     "metadata": {},
     "output_type": "execute_result"
    },
    {
     "data": {
      "image/png": "[encoded data removed]",
      "text/plain": [
       "<Figure size 720x576 with 1 Axes>"
      ]
     },
     "metadata": {},
     "output_type": "display_data"
    }
   ],
   "source": [
    "average_total=train[['Total', 'Operating_Status']].groupby(['Operating_Status'], as_index = True).mean().sort_values(by = 'Total')\n",
    "average_total.plot.bar(figsize = (10,8))\n",
    "plt.title('Distribution of Total along Operating_Status')\n",
    "plt.ylabel('Budget Spent')\n",
    "plt.show"
   ]
  },
  {
   "cell_type": "markdown",
   "metadata": {},
   "source": [
    "From the above plot we can see that our Budget is highly skewed to the Operating, Not PreK-12 sub-category compared to the rest of the sub-categories."
   ]
  },
  {
   "cell_type": "code",
   "execution_count": 19,
   "metadata": {
    "ExecuteTime": {
     "end_time": "2018-12-01T11:25:40.057289Z",
     "start_time": "2018-12-01T11:25:39.567987Z"
    },
    "collapsed": true
   },
   "outputs": [
    {
     "data": {
      "text/plain": [
       "<function matplotlib.pyplot.show>"
      ]
     },
     "execution_count": 19,
     "metadata": {},
     "output_type": "execute_result"
    },
    {
     "data": {
      "image/png": "[encoded data removed]",
      "text/plain": [
       "<Figure size 720x576 with 1 Axes>"
      ]
     },
     "metadata": {},
     "output_type": "display_data"
    }
   ],
   "source": [
    "average_total=train[['Total', 'Object_Type']].groupby(['Object_Type'], as_index = True).mean().sort_values(by = 'Total')\n",
    "average_total.plot.bar(figsize = (10,8))\n",
    "plt.title('Distribution of Budget along Object_Type')\n",
    "plt.ylabel('Total')\n",
    "plt.show"
   ]
  },
  {
   "cell_type": "code",
   "execution_count": 20,
   "metadata": {
    "ExecuteTime": {
     "end_time": "2018-12-01T11:25:40.829338Z",
     "start_time": "2018-12-01T11:25:40.062300Z"
    },
    "collapsed": true
   },
   "outputs": [
    {
     "data": {
      "text/plain": [
       "<function matplotlib.pyplot.show>"
      ]
     },
     "execution_count": 20,
     "metadata": {},
     "output_type": "execute_result"
    },
    {
     "data": {
      "image/png": "[encoded data removed]",
      "text/plain": [
       "<Figure size 720x576 with 1 Axes>"
      ]
     },
     "metadata": {},
     "output_type": "display_data"
    }
   ],
   "source": [
    "ave_total_func=train[['Total', 'Function']].groupby(['Function'], as_index = True).mean().sort_values(by = 'Total')\n",
    "ave_total_func.plot.bar(figsize= (10,8))\n",
    "plt.title('Distribution of Budget along Function')\n",
    "plt.ylabel('Total')\n",
    "plt.show"
   ]
  },
  {
   "cell_type": "markdown",
   "metadata": {},
   "source": [
    "From the above plot, we can see that most of the school budget is spent on the Insurance, Development & Fundraising, Utilities, and Legal activities. Among these, Utilities is the only one that may directly affect the student learning experience. We can see that curriculum development, extended time and tutoring have the least budget spent. \n",
    "ERS (our host), really needs to focus on guiding its financial partners to understand their budget spent. We say so, as our host wants to improve student and teacher outcomes as well. "
   ]
  },
  {
   "cell_type": "markdown",
   "metadata": {},
   "source": [
    "# Data Cleaning"
   ]
  },
  {
   "cell_type": "markdown",
   "metadata": {
    "ExecuteTime": {
     "end_time": "2018-11-18T00:52:36.074388Z",
     "start_time": "2018-11-18T00:52:36.070010Z"
    }
   },
   "source": [
    "* In this step, We are removing the white strips and capitalizing our categorical variables "
   ]
  },
  {
   "cell_type": "code",
   "execution_count": 10,
   "metadata": {
    "ExecuteTime": {
     "end_time": "2018-12-01T11:25:47.829949Z",
     "start_time": "2018-12-01T11:25:40.831343Z"
    },
    "collapsed": true
   },
   "outputs": [
    {
     "data": {
      "text/html": [
       "<div>\n",
       "<style scoped>\n",
       "    .dataframe tbody tr th:only-of-type {\n",
       "        vertical-align: middle;\n",
       "    }\n",
       "\n",
       "    .dataframe tbody tr th {\n",
       "        vertical-align: top;\n",
       "    }\n",
       "\n",
       "    .dataframe thead th {\n",
       "        text-align: right;\n",
       "    }\n",
       "</style>\n",
       "<table border=\"1\" class=\"dataframe\">\n",
       "  <thead>\n",
       "    <tr style=\"text-align: right;\">\n",
       "      <th></th>\n",
       "      <th>Function</th>\n",
       "      <th>Use</th>\n",
       "      <th>Sharing</th>\n",
       "      <th>Reporting</th>\n",
       "      <th>Student_Type</th>\n",
       "      <th>Position_Type</th>\n",
       "      <th>Object_Type</th>\n",
       "      <th>Pre_K</th>\n",
       "      <th>Operating_Status</th>\n",
       "      <th>Object_Description</th>\n",
       "      <th>...</th>\n",
       "      <th>Sub_Object_Description</th>\n",
       "      <th>Location_Description</th>\n",
       "      <th>FTE</th>\n",
       "      <th>Function_Description</th>\n",
       "      <th>Facility_or_Department</th>\n",
       "      <th>Position_Extra</th>\n",
       "      <th>Total</th>\n",
       "      <th>Program_Description</th>\n",
       "      <th>Fund_Description</th>\n",
       "      <th>Text_1</th>\n",
       "    </tr>\n",
       "  </thead>\n",
       "  <tbody>\n",
       "    <tr>\n",
       "      <th>134338</th>\n",
       "      <td>TEACHER COMPENSATION</td>\n",
       "      <td>INSTRUCTION</td>\n",
       "      <td>SCHOOL REPORTED</td>\n",
       "      <td>SCHOOL</td>\n",
       "      <td>NO_LABEL</td>\n",
       "      <td>TEACHER</td>\n",
       "      <td>NO_LABEL</td>\n",
       "      <td>NO_LABEL</td>\n",
       "      <td>PREK-12 OPERATING</td>\n",
       "      <td>NaN</td>\n",
       "      <td>...</td>\n",
       "      <td>NaN</td>\n",
       "      <td>NaN</td>\n",
       "      <td>1.0</td>\n",
       "      <td>NaN</td>\n",
       "      <td>NaN</td>\n",
       "      <td>KINDERGARTEN</td>\n",
       "      <td>50471.810</td>\n",
       "      <td>KINDERGARTEN</td>\n",
       "      <td>GENERAL FUND</td>\n",
       "      <td>NaN</td>\n",
       "    </tr>\n",
       "    <tr>\n",
       "      <th>206341</th>\n",
       "      <td>NO_LABEL</td>\n",
       "      <td>NO_LABEL</td>\n",
       "      <td>NO_LABEL</td>\n",
       "      <td>NO_LABEL</td>\n",
       "      <td>NO_LABEL</td>\n",
       "      <td>NO_LABEL</td>\n",
       "      <td>NO_LABEL</td>\n",
       "      <td>NO_LABEL</td>\n",
       "      <td>NON-OPERATING</td>\n",
       "      <td>CONTRACTOR SERVICES</td>\n",
       "      <td>...</td>\n",
       "      <td>NaN</td>\n",
       "      <td>NaN</td>\n",
       "      <td>NaN</td>\n",
       "      <td>RGN  GOB</td>\n",
       "      <td>NaN</td>\n",
       "      <td>UNDESIGNATED</td>\n",
       "      <td>3477.860</td>\n",
       "      <td>BUILDING IMPROVEMENT SERVICES</td>\n",
       "      <td>NaN</td>\n",
       "      <td>BUILDING IMPROVEMENT SERVICES</td>\n",
       "    </tr>\n",
       "    <tr>\n",
       "      <th>326408</th>\n",
       "      <td>TEACHER COMPENSATION</td>\n",
       "      <td>INSTRUCTION</td>\n",
       "      <td>SCHOOL REPORTED</td>\n",
       "      <td>SCHOOL</td>\n",
       "      <td>UNSPECIFIED</td>\n",
       "      <td>TEACHER</td>\n",
       "      <td>BASE SALARY/COMPENSATION</td>\n",
       "      <td>NON PREK</td>\n",
       "      <td>PREK-12 OPERATING</td>\n",
       "      <td>PERSONAL SERVICES - TEACHERS</td>\n",
       "      <td>...</td>\n",
       "      <td>NaN</td>\n",
       "      <td>NaN</td>\n",
       "      <td>1.0</td>\n",
       "      <td>NaN</td>\n",
       "      <td>NaN</td>\n",
       "      <td>TEACHER</td>\n",
       "      <td>62237.130</td>\n",
       "      <td>INSTRUCTION - REGULAR</td>\n",
       "      <td>GENERAL PURPOSE SCHOOL</td>\n",
       "      <td>NaN</td>\n",
       "    </tr>\n",
       "    <tr>\n",
       "      <th>364634</th>\n",
       "      <td>SUBSTITUTE COMPENSATION</td>\n",
       "      <td>INSTRUCTION</td>\n",
       "      <td>SCHOOL REPORTED</td>\n",
       "      <td>SCHOOL</td>\n",
       "      <td>UNSPECIFIED</td>\n",
       "      <td>SUBSTITUTE</td>\n",
       "      <td>BENEFITS</td>\n",
       "      <td>NO_LABEL</td>\n",
       "      <td>PREK-12 OPERATING</td>\n",
       "      <td>EMPLOYEE BENEFITS</td>\n",
       "      <td>...</td>\n",
       "      <td>NaN</td>\n",
       "      <td>NaN</td>\n",
       "      <td>NaN</td>\n",
       "      <td>UNALLOC BUDGETS/SCHOOLS</td>\n",
       "      <td>NaN</td>\n",
       "      <td>PROFESSIONAL-INSTRUCTIONAL</td>\n",
       "      <td>22.300</td>\n",
       "      <td>GENERAL MIDDLE/JUNIOR HIGH SCH</td>\n",
       "      <td>NaN</td>\n",
       "      <td>REGULAR INSTRUCTION</td>\n",
       "    </tr>\n",
       "    <tr>\n",
       "      <th>47683</th>\n",
       "      <td>SUBSTITUTE COMPENSATION</td>\n",
       "      <td>INSTRUCTION</td>\n",
       "      <td>SCHOOL REPORTED</td>\n",
       "      <td>SCHOOL</td>\n",
       "      <td>UNSPECIFIED</td>\n",
       "      <td>TEACHER</td>\n",
       "      <td>SUBSTITUTE COMPENSATION</td>\n",
       "      <td>NO_LABEL</td>\n",
       "      <td>PREK-12 OPERATING</td>\n",
       "      <td>TEACHER COVERAGE FOR TEACHER</td>\n",
       "      <td>...</td>\n",
       "      <td>NaN</td>\n",
       "      <td>NaN</td>\n",
       "      <td>NaN</td>\n",
       "      <td>NON-PROJECT</td>\n",
       "      <td>NaN</td>\n",
       "      <td>PROFESSIONAL-INSTRUCTIONAL</td>\n",
       "      <td>54.166</td>\n",
       "      <td>GENERAL HIGH SCHOOL EDUCATION</td>\n",
       "      <td>NaN</td>\n",
       "      <td>REGULAR INSTRUCTION</td>\n",
       "    </tr>\n",
       "  </tbody>\n",
       "</table>\n",
       "<p>5 rows × 25 columns</p>\n",
       "</div>"
      ],
      "text/plain": [
       "                       Function          Use          Sharing Reporting  \\\n",
       "134338     TEACHER COMPENSATION  INSTRUCTION  SCHOOL REPORTED    SCHOOL   \n",
       "206341                 NO_LABEL     NO_LABEL         NO_LABEL  NO_LABEL   \n",
       "326408     TEACHER COMPENSATION  INSTRUCTION  SCHOOL REPORTED    SCHOOL   \n",
       "364634  SUBSTITUTE COMPENSATION  INSTRUCTION  SCHOOL REPORTED    SCHOOL   \n",
       "47683   SUBSTITUTE COMPENSATION  INSTRUCTION  SCHOOL REPORTED    SCHOOL   \n",
       "\n",
       "       Student_Type Position_Type               Object_Type     Pre_K  \\\n",
       "134338     NO_LABEL       TEACHER                  NO_LABEL  NO_LABEL   \n",
       "206341     NO_LABEL      NO_LABEL                  NO_LABEL  NO_LABEL   \n",
       "326408  UNSPECIFIED       TEACHER  BASE SALARY/COMPENSATION  NON PREK   \n",
       "364634  UNSPECIFIED    SUBSTITUTE                  BENEFITS  NO_LABEL   \n",
       "47683   UNSPECIFIED       TEACHER   SUBSTITUTE COMPENSATION  NO_LABEL   \n",
       "\n",
       "         Operating_Status            Object_Description  \\\n",
       "134338  PREK-12 OPERATING                           NaN   \n",
       "206341      NON-OPERATING           CONTRACTOR SERVICES   \n",
       "326408  PREK-12 OPERATING  PERSONAL SERVICES - TEACHERS   \n",
       "364634  PREK-12 OPERATING             EMPLOYEE BENEFITS   \n",
       "47683   PREK-12 OPERATING  TEACHER COVERAGE FOR TEACHER   \n",
       "\n",
       "                    ...               Sub_Object_Description  \\\n",
       "134338              ...                                  NaN   \n",
       "206341              ...                                  NaN   \n",
       "326408              ...                                  NaN   \n",
       "364634              ...                                  NaN   \n",
       "47683               ...                                  NaN   \n",
       "\n",
       "       Location_Description  FTE     Function_Description  \\\n",
       "134338                  NaN  1.0                      NaN   \n",
       "206341                  NaN  NaN                 RGN  GOB   \n",
       "326408                  NaN  1.0                      NaN   \n",
       "364634                  NaN  NaN  UNALLOC BUDGETS/SCHOOLS   \n",
       "47683                   NaN  NaN              NON-PROJECT   \n",
       "\n",
       "       Facility_or_Department              Position_Extra      Total  \\\n",
       "134338                    NaN                KINDERGARTEN  50471.810   \n",
       "206341                    NaN                UNDESIGNATED   3477.860   \n",
       "326408                    NaN                     TEACHER  62237.130   \n",
       "364634                    NaN  PROFESSIONAL-INSTRUCTIONAL     22.300   \n",
       "47683                     NaN  PROFESSIONAL-INSTRUCTIONAL     54.166   \n",
       "\n",
       "                   Program_Description        Fund_Description  \\\n",
       "134338                    KINDERGARTEN            GENERAL FUND   \n",
       "206341   BUILDING IMPROVEMENT SERVICES                     NaN   \n",
       "326408           INSTRUCTION - REGULAR  GENERAL PURPOSE SCHOOL   \n",
       "364634  GENERAL MIDDLE/JUNIOR HIGH SCH                     NaN   \n",
       "47683    GENERAL HIGH SCHOOL EDUCATION                     NaN   \n",
       "\n",
       "                               Text_1  \n",
       "134338                            NaN  \n",
       "206341  BUILDING IMPROVEMENT SERVICES  \n",
       "326408                            NaN  \n",
       "364634            REGULAR INSTRUCTION  \n",
       "47683             REGULAR INSTRUCTION  \n",
       "\n",
       "[5 rows x 25 columns]"
      ]
     },
     "execution_count": 10,
     "metadata": {},
     "output_type": "execute_result"
    }
   ],
   "source": [
    "train_trimmed = train.apply(lambda x: x.str.strip() if x.dtype == \"object\" else x) #change to category if ran \n",
    "#the cell which changes object to category\n",
    "train_trimmed = train_trimmed.apply(lambda x: x.str.upper() if x.dtype == \"object\" else x)\n",
    "train_trimmed.head()"
   ]
  },
  {
   "cell_type": "code",
   "execution_count": 10,
   "metadata": {
    "ExecuteTime": {
     "end_time": "2018-12-01T11:25:48.017447Z",
     "start_time": "2018-12-01T11:25:47.835965Z"
    },
    "collapsed": true
   },
   "outputs": [
    {
     "data": {
      "text/html": [
       "<div>\n",
       "<style scoped>\n",
       "    .dataframe tbody tr th:only-of-type {\n",
       "        vertical-align: middle;\n",
       "    }\n",
       "\n",
       "    .dataframe tbody tr th {\n",
       "        vertical-align: top;\n",
       "    }\n",
       "\n",
       "    .dataframe thead th {\n",
       "        text-align: right;\n",
       "    }\n",
       "</style>\n",
       "<table border=\"1\" class=\"dataframe\">\n",
       "  <thead>\n",
       "    <tr style=\"text-align: right;\">\n",
       "      <th></th>\n",
       "      <th>Function</th>\n",
       "      <th>Use</th>\n",
       "      <th>Sharing</th>\n",
       "      <th>Reporting</th>\n",
       "      <th>Student_Type</th>\n",
       "      <th>Position_Type</th>\n",
       "      <th>Object_Type</th>\n",
       "      <th>Pre_K</th>\n",
       "      <th>Operating_Status</th>\n",
       "      <th>Object_Description</th>\n",
       "      <th>...</th>\n",
       "      <th>Sub_Object_Description</th>\n",
       "      <th>Location_Description</th>\n",
       "      <th>FTE</th>\n",
       "      <th>Function_Description</th>\n",
       "      <th>Facility_or_Department</th>\n",
       "      <th>Position_Extra</th>\n",
       "      <th>Total</th>\n",
       "      <th>Program_Description</th>\n",
       "      <th>Fund_Description</th>\n",
       "      <th>Text_1</th>\n",
       "    </tr>\n",
       "  </thead>\n",
       "  <tbody>\n",
       "    <tr>\n",
       "      <th>134338</th>\n",
       "      <td>TEACHER COMPENSATION</td>\n",
       "      <td>INSTRUCTION</td>\n",
       "      <td>SCHOOL REPORTED</td>\n",
       "      <td>SCHOOL</td>\n",
       "      <td>NO_LABEL</td>\n",
       "      <td>TEACHER</td>\n",
       "      <td>NO_LABEL</td>\n",
       "      <td>NO_LABEL</td>\n",
       "      <td>PREK-12 OPERATING</td>\n",
       "      <td>NaN</td>\n",
       "      <td>...</td>\n",
       "      <td>NaN</td>\n",
       "      <td>NaN</td>\n",
       "      <td>1.0</td>\n",
       "      <td>NaN</td>\n",
       "      <td>NaN</td>\n",
       "      <td>KINDERGARTEN</td>\n",
       "      <td>50471.810</td>\n",
       "      <td>KINDERGARTEN</td>\n",
       "      <td>GENERAL FUND</td>\n",
       "      <td>NaN</td>\n",
       "    </tr>\n",
       "    <tr>\n",
       "      <th>206341</th>\n",
       "      <td>NO_LABEL</td>\n",
       "      <td>NO_LABEL</td>\n",
       "      <td>NO_LABEL</td>\n",
       "      <td>NO_LABEL</td>\n",
       "      <td>NO_LABEL</td>\n",
       "      <td>NO_LABEL</td>\n",
       "      <td>NO_LABEL</td>\n",
       "      <td>NO_LABEL</td>\n",
       "      <td>NON-OPERATING</td>\n",
       "      <td>CONTRACTOR SERVICES</td>\n",
       "      <td>...</td>\n",
       "      <td>NaN</td>\n",
       "      <td>NaN</td>\n",
       "      <td>NaN</td>\n",
       "      <td>RGN  GOB</td>\n",
       "      <td>NaN</td>\n",
       "      <td>UNDESIGNATED</td>\n",
       "      <td>3477.860</td>\n",
       "      <td>BUILDING IMPROVEMENT SERVICES</td>\n",
       "      <td>NaN</td>\n",
       "      <td>BUILDING IMPROVEMENT SERVICES</td>\n",
       "    </tr>\n",
       "    <tr>\n",
       "      <th>326408</th>\n",
       "      <td>TEACHER COMPENSATION</td>\n",
       "      <td>INSTRUCTION</td>\n",
       "      <td>SCHOOL REPORTED</td>\n",
       "      <td>SCHOOL</td>\n",
       "      <td>UNSPECIFIED</td>\n",
       "      <td>TEACHER</td>\n",
       "      <td>BASE SALARY/COMPENSATION</td>\n",
       "      <td>NON PREK</td>\n",
       "      <td>PREK-12 OPERATING</td>\n",
       "      <td>PERSONAL SERVICES - TEACHERS</td>\n",
       "      <td>...</td>\n",
       "      <td>NaN</td>\n",
       "      <td>NaN</td>\n",
       "      <td>1.0</td>\n",
       "      <td>NaN</td>\n",
       "      <td>NaN</td>\n",
       "      <td>TEACHER</td>\n",
       "      <td>62237.130</td>\n",
       "      <td>INSTRUCTION - REGULAR</td>\n",
       "      <td>GENERAL PURPOSE SCHOOL</td>\n",
       "      <td>NaN</td>\n",
       "    </tr>\n",
       "    <tr>\n",
       "      <th>364634</th>\n",
       "      <td>SUBSTITUTE COMPENSATION</td>\n",
       "      <td>INSTRUCTION</td>\n",
       "      <td>SCHOOL REPORTED</td>\n",
       "      <td>SCHOOL</td>\n",
       "      <td>UNSPECIFIED</td>\n",
       "      <td>SUBSTITUTE</td>\n",
       "      <td>BENEFITS</td>\n",
       "      <td>NO_LABEL</td>\n",
       "      <td>PREK-12 OPERATING</td>\n",
       "      <td>EMPLOYEE BENEFITS</td>\n",
       "      <td>...</td>\n",
       "      <td>NaN</td>\n",
       "      <td>NaN</td>\n",
       "      <td>NaN</td>\n",
       "      <td>UNALLOC BUDGETS/SCHOOLS</td>\n",
       "      <td>NaN</td>\n",
       "      <td>PROFESSIONAL-INSTRUCTIONAL</td>\n",
       "      <td>22.300</td>\n",
       "      <td>GENERAL MIDDLE/JUNIOR HIGH SCH</td>\n",
       "      <td>NaN</td>\n",
       "      <td>REGULAR INSTRUCTION</td>\n",
       "    </tr>\n",
       "    <tr>\n",
       "      <th>47683</th>\n",
       "      <td>SUBSTITUTE COMPENSATION</td>\n",
       "      <td>INSTRUCTION</td>\n",
       "      <td>SCHOOL REPORTED</td>\n",
       "      <td>SCHOOL</td>\n",
       "      <td>UNSPECIFIED</td>\n",
       "      <td>TEACHER</td>\n",
       "      <td>SUBSTITUTE COMPENSATION</td>\n",
       "      <td>NO_LABEL</td>\n",
       "      <td>PREK-12 OPERATING</td>\n",
       "      <td>TEACHER COVERAGE FOR TEACHER</td>\n",
       "      <td>...</td>\n",
       "      <td>NaN</td>\n",
       "      <td>NaN</td>\n",
       "      <td>NaN</td>\n",
       "      <td>NON-PROJECT</td>\n",
       "      <td>NaN</td>\n",
       "      <td>PROFESSIONAL-INSTRUCTIONAL</td>\n",
       "      <td>54.166</td>\n",
       "      <td>GENERAL HIGH SCHOOL EDUCATION</td>\n",
       "      <td>NaN</td>\n",
       "      <td>REGULAR INSTRUCTION</td>\n",
       "    </tr>\n",
       "  </tbody>\n",
       "</table>\n",
       "<p>5 rows × 25 columns</p>\n",
       "</div>"
      ],
      "text/plain": [
       "                       Function          Use          Sharing Reporting  \\\n",
       "134338     TEACHER COMPENSATION  INSTRUCTION  SCHOOL REPORTED    SCHOOL   \n",
       "206341                 NO_LABEL     NO_LABEL         NO_LABEL  NO_LABEL   \n",
       "326408     TEACHER COMPENSATION  INSTRUCTION  SCHOOL REPORTED    SCHOOL   \n",
       "364634  SUBSTITUTE COMPENSATION  INSTRUCTION  SCHOOL REPORTED    SCHOOL   \n",
       "47683   SUBSTITUTE COMPENSATION  INSTRUCTION  SCHOOL REPORTED    SCHOOL   \n",
       "\n",
       "       Student_Type Position_Type               Object_Type     Pre_K  \\\n",
       "134338     NO_LABEL       TEACHER                  NO_LABEL  NO_LABEL   \n",
       "206341     NO_LABEL      NO_LABEL                  NO_LABEL  NO_LABEL   \n",
       "326408  UNSPECIFIED       TEACHER  BASE SALARY/COMPENSATION  NON PREK   \n",
       "364634  UNSPECIFIED    SUBSTITUTE                  BENEFITS  NO_LABEL   \n",
       "47683   UNSPECIFIED       TEACHER   SUBSTITUTE COMPENSATION  NO_LABEL   \n",
       "\n",
       "         Operating_Status            Object_Description  \\\n",
       "134338  PREK-12 OPERATING                           NaN   \n",
       "206341      NON-OPERATING           CONTRACTOR SERVICES   \n",
       "326408  PREK-12 OPERATING  PERSONAL SERVICES - TEACHERS   \n",
       "364634  PREK-12 OPERATING             EMPLOYEE BENEFITS   \n",
       "47683   PREK-12 OPERATING  TEACHER COVERAGE FOR TEACHER   \n",
       "\n",
       "                    ...               Sub_Object_Description  \\\n",
       "134338              ...                                  NaN   \n",
       "206341              ...                                  NaN   \n",
       "326408              ...                                  NaN   \n",
       "364634              ...                                  NaN   \n",
       "47683               ...                                  NaN   \n",
       "\n",
       "       Location_Description  FTE     Function_Description  \\\n",
       "134338                  NaN  1.0                      NaN   \n",
       "206341                  NaN  NaN                 RGN  GOB   \n",
       "326408                  NaN  1.0                      NaN   \n",
       "364634                  NaN  NaN  UNALLOC BUDGETS/SCHOOLS   \n",
       "47683                   NaN  NaN              NON-PROJECT   \n",
       "\n",
       "       Facility_or_Department              Position_Extra      Total  \\\n",
       "134338                    NaN                KINDERGARTEN  50471.810   \n",
       "206341                    NaN                UNDESIGNATED   3477.860   \n",
       "326408                    NaN                     TEACHER  62237.130   \n",
       "364634                    NaN  PROFESSIONAL-INSTRUCTIONAL     22.300   \n",
       "47683                     NaN  PROFESSIONAL-INSTRUCTIONAL     54.166   \n",
       "\n",
       "                   Program_Description        Fund_Description  \\\n",
       "134338                    KINDERGARTEN            GENERAL FUND   \n",
       "206341   BUILDING IMPROVEMENT SERVICES                     NaN   \n",
       "326408           INSTRUCTION - REGULAR  GENERAL PURPOSE SCHOOL   \n",
       "364634  GENERAL MIDDLE/JUNIOR HIGH SCH                     NaN   \n",
       "47683    GENERAL HIGH SCHOOL EDUCATION                     NaN   \n",
       "\n",
       "                               Text_1  \n",
       "134338                            NaN  \n",
       "206341  BUILDING IMPROVEMENT SERVICES  \n",
       "326408                            NaN  \n",
       "364634            REGULAR INSTRUCTION  \n",
       "47683             REGULAR INSTRUCTION  \n",
       "\n",
       "[5 rows x 25 columns]"
      ]
     },
     "execution_count": 10,
     "metadata": {},
     "output_type": "execute_result"
    }
   ],
   "source": [
    "train_trim_set = train_trimmed.copy()[:100]\n",
    "train_trim_set.head() #100 entries to work on"
   ]
  },
  {
   "cell_type": "markdown",
   "metadata": {},
   "source": [
    "# Let's impute the numeric data"
   ]
  },
  {
   "cell_type": "markdown",
   "metadata": {},
   "source": [
    "* To handle the null values in the numeric data, we had created a customized imputer function that was imputing the missing FTE and Total (Budget spent) based on sub-categories in our training set.\n",
    "* On some research, we found a code that is inspired by SKlearn statsmodel library, [MICE module](http://www.statsmodels.org/dev/imputation.html#).\n",
    "* [MICE.py](https://github.com/jeweinberg/Pandas-MICE) that we will implement in Phase 2 of our Final project."
   ]
  },
  {
   "cell_type": "markdown",
   "metadata": {},
   "source": [
    "MICE stands for Multiple Imputation with Chained Equations. We know that FTE and Total Budget are document specific, i.e. a full-time employee and a higher paid employee would not have the same role, designation, operation status, etc as a part-time employee hired on a contract basis. We cannot impute them by taking a mean or median of the entire dataset. Hence, we need a special imputation method that can use as much information as possible from the other features (independent variables) to impute depending on each document (employee) feature. "
   ]
  },
  {
   "cell_type": "markdown",
   "metadata": {},
   "source": [
    "## Using Pandas-MICE"
   ]
  },
  {
   "cell_type": "code",
   "execution_count": 11,
   "metadata": {
    "ExecuteTime": {
     "end_time": "2018-12-01T14:14:10.796305Z",
     "start_time": "2018-12-01T14:14:10.261882Z"
    },
    "collapsed": true
   },
   "outputs": [
    {
     "data": {
      "text/html": [
       "<div>\n",
       "<style scoped>\n",
       "    .dataframe tbody tr th:only-of-type {\n",
       "        vertical-align: middle;\n",
       "    }\n",
       "\n",
       "    .dataframe tbody tr th {\n",
       "        vertical-align: top;\n",
       "    }\n",
       "\n",
       "    .dataframe thead th {\n",
       "        text-align: right;\n",
       "    }\n",
       "</style>\n",
       "<table border=\"1\" class=\"dataframe\">\n",
       "  <thead>\n",
       "    <tr style=\"text-align: right;\">\n",
       "      <th></th>\n",
       "      <th>Object_Description</th>\n",
       "      <th>Text_2</th>\n",
       "      <th>SubFund_Description</th>\n",
       "      <th>Job_Title_Description</th>\n",
       "      <th>Text_3</th>\n",
       "      <th>Text_4</th>\n",
       "      <th>Sub_Object_Description</th>\n",
       "      <th>Location_Description</th>\n",
       "      <th>FTE</th>\n",
       "      <th>Function_Description</th>\n",
       "      <th>Facility_or_Department</th>\n",
       "      <th>Position_Extra</th>\n",
       "      <th>Total</th>\n",
       "      <th>Program_Description</th>\n",
       "      <th>Fund_Description</th>\n",
       "      <th>Text_1</th>\n",
       "    </tr>\n",
       "  </thead>\n",
       "  <tbody>\n",
       "    <tr>\n",
       "      <th>134338</th>\n",
       "      <td>NaN</td>\n",
       "      <td>NaN</td>\n",
       "      <td>NaN</td>\n",
       "      <td>TEACHER-ELEMENTARY</td>\n",
       "      <td>NaN</td>\n",
       "      <td>NaN</td>\n",
       "      <td>NaN</td>\n",
       "      <td>NaN</td>\n",
       "      <td>1.0</td>\n",
       "      <td>NaN</td>\n",
       "      <td>NaN</td>\n",
       "      <td>KINDERGARTEN</td>\n",
       "      <td>50471.810</td>\n",
       "      <td>KINDERGARTEN</td>\n",
       "      <td>GENERAL FUND</td>\n",
       "      <td>NaN</td>\n",
       "    </tr>\n",
       "    <tr>\n",
       "      <th>206341</th>\n",
       "      <td>CONTRACTOR SERVICES</td>\n",
       "      <td>BOND EXPENDITURES</td>\n",
       "      <td>BUILDING FUND</td>\n",
       "      <td>(BLANK)</td>\n",
       "      <td>REGULAR</td>\n",
       "      <td>NaN</td>\n",
       "      <td>NaN</td>\n",
       "      <td>NaN</td>\n",
       "      <td>NaN</td>\n",
       "      <td>RGN  GOB</td>\n",
       "      <td>NaN</td>\n",
       "      <td>UNDESIGNATED</td>\n",
       "      <td>3477.860</td>\n",
       "      <td>BUILDING IMPROVEMENT SERVICES</td>\n",
       "      <td>NaN</td>\n",
       "      <td>BUILDING IMPROVEMENT SERVICES</td>\n",
       "    </tr>\n",
       "    <tr>\n",
       "      <th>326408</th>\n",
       "      <td>PERSONAL SERVICES - TEACHERS</td>\n",
       "      <td>NaN</td>\n",
       "      <td>NaN</td>\n",
       "      <td>TCHER 2ND GRADE</td>\n",
       "      <td>NaN</td>\n",
       "      <td>REGULAR INSTRUCTION</td>\n",
       "      <td>NaN</td>\n",
       "      <td>NaN</td>\n",
       "      <td>1.0</td>\n",
       "      <td>NaN</td>\n",
       "      <td>NaN</td>\n",
       "      <td>TEACHER</td>\n",
       "      <td>62237.130</td>\n",
       "      <td>INSTRUCTION - REGULAR</td>\n",
       "      <td>GENERAL PURPOSE SCHOOL</td>\n",
       "      <td>NaN</td>\n",
       "    </tr>\n",
       "    <tr>\n",
       "      <th>364634</th>\n",
       "      <td>EMPLOYEE BENEFITS</td>\n",
       "      <td>TEACHER SUBS</td>\n",
       "      <td>GENERAL FUND</td>\n",
       "      <td>TEACHER, SHORT TERM SUB</td>\n",
       "      <td>REGULAR</td>\n",
       "      <td>NaN</td>\n",
       "      <td>NaN</td>\n",
       "      <td>NaN</td>\n",
       "      <td>NaN</td>\n",
       "      <td>UNALLOC BUDGETS/SCHOOLS</td>\n",
       "      <td>NaN</td>\n",
       "      <td>PROFESSIONAL-INSTRUCTIONAL</td>\n",
       "      <td>22.300</td>\n",
       "      <td>GENERAL MIDDLE/JUNIOR HIGH SCH</td>\n",
       "      <td>NaN</td>\n",
       "      <td>REGULAR INSTRUCTION</td>\n",
       "    </tr>\n",
       "    <tr>\n",
       "      <th>47683</th>\n",
       "      <td>TEACHER COVERAGE FOR TEACHER</td>\n",
       "      <td>TEACHER SUBS</td>\n",
       "      <td>GENERAL FUND</td>\n",
       "      <td>TEACHER, SECONDARY (HIGH)</td>\n",
       "      <td>ALTERNATIVE</td>\n",
       "      <td>NaN</td>\n",
       "      <td>NaN</td>\n",
       "      <td>NaN</td>\n",
       "      <td>NaN</td>\n",
       "      <td>NON-PROJECT</td>\n",
       "      <td>NaN</td>\n",
       "      <td>PROFESSIONAL-INSTRUCTIONAL</td>\n",
       "      <td>54.166</td>\n",
       "      <td>GENERAL HIGH SCHOOL EDUCATION</td>\n",
       "      <td>NaN</td>\n",
       "      <td>REGULAR INSTRUCTION</td>\n",
       "    </tr>\n",
       "  </tbody>\n",
       "</table>\n",
       "</div>"
      ],
      "text/plain": [
       "                  Object_Description             Text_2 SubFund_Description  \\\n",
       "134338                           NaN                NaN                 NaN   \n",
       "206341           CONTRACTOR SERVICES  BOND EXPENDITURES       BUILDING FUND   \n",
       "326408  PERSONAL SERVICES - TEACHERS                NaN                 NaN   \n",
       "364634             EMPLOYEE BENEFITS       TEACHER SUBS        GENERAL FUND   \n",
       "47683   TEACHER COVERAGE FOR TEACHER       TEACHER SUBS        GENERAL FUND   \n",
       "\n",
       "            Job_Title_Description       Text_3               Text_4  \\\n",
       "134338         TEACHER-ELEMENTARY          NaN                  NaN   \n",
       "206341                    (BLANK)      REGULAR                  NaN   \n",
       "326408            TCHER 2ND GRADE          NaN  REGULAR INSTRUCTION   \n",
       "364634    TEACHER, SHORT TERM SUB      REGULAR                  NaN   \n",
       "47683   TEACHER, SECONDARY (HIGH)  ALTERNATIVE                  NaN   \n",
       "\n",
       "       Sub_Object_Description Location_Description  FTE  \\\n",
       "134338                    NaN                  NaN  1.0   \n",
       "206341                    NaN                  NaN  NaN   \n",
       "326408                    NaN                  NaN  1.0   \n",
       "364634                    NaN                  NaN  NaN   \n",
       "47683                     NaN                  NaN  NaN   \n",
       "\n",
       "           Function_Description Facility_or_Department  \\\n",
       "134338                      NaN                    NaN   \n",
       "206341                 RGN  GOB                    NaN   \n",
       "326408                      NaN                    NaN   \n",
       "364634  UNALLOC BUDGETS/SCHOOLS                    NaN   \n",
       "47683               NON-PROJECT                    NaN   \n",
       "\n",
       "                    Position_Extra      Total             Program_Description  \\\n",
       "134338                KINDERGARTEN  50471.810                    KINDERGARTEN   \n",
       "206341                UNDESIGNATED   3477.860   BUILDING IMPROVEMENT SERVICES   \n",
       "326408                     TEACHER  62237.130           INSTRUCTION - REGULAR   \n",
       "364634  PROFESSIONAL-INSTRUCTIONAL     22.300  GENERAL MIDDLE/JUNIOR HIGH SCH   \n",
       "47683   PROFESSIONAL-INSTRUCTIONAL     54.166   GENERAL HIGH SCHOOL EDUCATION   \n",
       "\n",
       "              Fund_Description                         Text_1  \n",
       "134338            GENERAL FUND                            NaN  \n",
       "206341                     NaN  BUILDING IMPROVEMENT SERVICES  \n",
       "326408  GENERAL PURPOSE SCHOOL                            NaN  \n",
       "364634                     NaN            REGULAR INSTRUCTION  \n",
       "47683                      NaN            REGULAR INSTRUCTION  "
      ]
     },
     "execution_count": 11,
     "metadata": {},
     "output_type": "execute_result"
    }
   ],
   "source": [
    "train_imp = train_trimmed.drop(['Function', 'Use', 'Sharing', 'Reporting', 'Student_Type',\n",
    "       'Position_Type', 'Object_Type', 'Pre_K', 'Operating_Status'],axis=1)\n",
    "train_imp.head()"
   ]
  },
  {
   "cell_type": "code",
   "execution_count": 151,
   "metadata": {
    "ExecuteTime": {
     "end_time": "2018-12-01T14:14:20.447415Z",
     "start_time": "2018-12-01T14:14:20.016270Z"
    }
   },
   "outputs": [
    {
     "data": {
      "text/plain": [
       "Object_Description         24784\n",
       "Text_2                    312060\n",
       "SubFund_Description        93422\n",
       "Job_Title_Description     107534\n",
       "Text_3                    291125\n",
       "Text_4                    346531\n",
       "Sub_Object_Description    308674\n",
       "Location_Description      238223\n",
       "FTE                       274206\n",
       "Function_Description       58082\n",
       "Facility_or_Department    346391\n",
       "Position_Extra            135513\n",
       "Total                       4555\n",
       "Program_Description        95617\n",
       "Fund_Description          197400\n",
       "Text_1                    107992\n",
       "dtype: int64"
      ]
     },
     "execution_count": 151,
     "metadata": {},
     "output_type": "execute_result"
    }
   ],
   "source": [
    "train_imp.isnull().sum()"
   ]
  },
  {
   "cell_type": "code",
   "execution_count": 152,
   "metadata": {
    "ExecuteTime": {
     "end_time": "2018-12-01T14:14:22.451747Z",
     "start_time": "2018-12-01T14:14:22.446733Z"
    }
   },
   "outputs": [
    {
     "data": {
      "text/plain": [
       "(400277, 16)"
      ]
     },
     "execution_count": 152,
     "metadata": {},
     "output_type": "execute_result"
    }
   ],
   "source": [
    "train_imp.shape"
   ]
  },
  {
   "cell_type": "code",
   "execution_count": 12,
   "metadata": {
    "ExecuteTime": {
     "end_time": "2018-12-01T14:14:24.857080Z",
     "start_time": "2018-12-01T14:14:24.854072Z"
    }
   },
   "outputs": [],
   "source": [
    "mice_imp = MiceImputer(seed_strategy='most_frequent')"
   ]
  },
  {
   "cell_type": "code",
   "execution_count": 13,
   "metadata": {
    "ExecuteTime": {
     "end_time": "2018-12-01T14:14:46.629241Z",
     "start_time": "2018-12-01T14:14:27.495299Z"
    }
   },
   "outputs": [],
   "source": [
    "import re\n",
    "from sklearn import preprocessing\n",
    "le = preprocessing.LabelEncoder()\n",
    "for column_name in train_imp.columns:\n",
    "    if train_imp[column_name].dtype == object:\n",
    "      #  print(\"do_nothing\")\n",
    "        temp = train_imp[column_name].astype(str).map(lambda x: re.sub(r'\\W+', '', x))        \n",
    "        train_imp[column_name] = le.fit_transform(temp)\n",
    "    else:\n",
    "        pass"
   ]
  },
  {
   "cell_type": "code",
   "execution_count": 14,
   "metadata": {
    "ExecuteTime": {
     "end_time": "2018-12-01T14:14:52.406220Z",
     "start_time": "2018-12-01T14:14:52.383187Z"
    }
   },
   "outputs": [
    {
     "data": {
      "text/html": [
       "<div>\n",
       "<style scoped>\n",
       "    .dataframe tbody tr th:only-of-type {\n",
       "        vertical-align: middle;\n",
       "    }\n",
       "\n",
       "    .dataframe tbody tr th {\n",
       "        vertical-align: top;\n",
       "    }\n",
       "\n",
       "    .dataframe thead th {\n",
       "        text-align: right;\n",
       "    }\n",
       "</style>\n",
       "<table border=\"1\" class=\"dataframe\">\n",
       "  <thead>\n",
       "    <tr style=\"text-align: right;\">\n",
       "      <th></th>\n",
       "      <th>Object_Description</th>\n",
       "      <th>Text_2</th>\n",
       "      <th>SubFund_Description</th>\n",
       "      <th>Job_Title_Description</th>\n",
       "      <th>Text_3</th>\n",
       "      <th>Text_4</th>\n",
       "      <th>Sub_Object_Description</th>\n",
       "      <th>Location_Description</th>\n",
       "      <th>FTE</th>\n",
       "      <th>Function_Description</th>\n",
       "      <th>Facility_or_Department</th>\n",
       "      <th>Position_Extra</th>\n",
       "      <th>Total</th>\n",
       "      <th>Program_Description</th>\n",
       "      <th>Fund_Description</th>\n",
       "      <th>Text_1</th>\n",
       "    </tr>\n",
       "  </thead>\n",
       "  <tbody>\n",
       "    <tr>\n",
       "      <th>134338</th>\n",
       "      <td>560</td>\n",
       "      <td>280</td>\n",
       "      <td>266</td>\n",
       "      <td>2740</td>\n",
       "      <td>34</td>\n",
       "      <td>235</td>\n",
       "      <td>165</td>\n",
       "      <td>347</td>\n",
       "      <td>1.0</td>\n",
       "      <td>639</td>\n",
       "      <td>172</td>\n",
       "      <td>255</td>\n",
       "      <td>50471.810</td>\n",
       "      <td>191</td>\n",
       "      <td>41</td>\n",
       "      <td>1354</td>\n",
       "    </tr>\n",
       "    <tr>\n",
       "      <th>206341</th>\n",
       "      <td>72</td>\n",
       "      <td>18</td>\n",
       "      <td>17</td>\n",
       "      <td>291</td>\n",
       "      <td>24</td>\n",
       "      <td>235</td>\n",
       "      <td>165</td>\n",
       "      <td>347</td>\n",
       "      <td>NaN</td>\n",
       "      <td>457</td>\n",
       "      <td>172</td>\n",
       "      <td>472</td>\n",
       "      <td>3477.860</td>\n",
       "      <td>49</td>\n",
       "      <td>137</td>\n",
       "      <td>135</td>\n",
       "    </tr>\n",
       "    <tr>\n",
       "      <th>326408</th>\n",
       "      <td>347</td>\n",
       "      <td>280</td>\n",
       "      <td>266</td>\n",
       "      <td>2365</td>\n",
       "      <td>34</td>\n",
       "      <td>146</td>\n",
       "      <td>165</td>\n",
       "      <td>347</td>\n",
       "      <td>1.0</td>\n",
       "      <td>639</td>\n",
       "      <td>172</td>\n",
       "      <td>440</td>\n",
       "      <td>62237.130</td>\n",
       "      <td>159</td>\n",
       "      <td>43</td>\n",
       "      <td>1354</td>\n",
       "    </tr>\n",
       "    <tr>\n",
       "      <th>364634</th>\n",
       "      <td>110</td>\n",
       "      <td>254</td>\n",
       "      <td>79</td>\n",
       "      <td>2915</td>\n",
       "      <td>24</td>\n",
       "      <td>235</td>\n",
       "      <td>165</td>\n",
       "      <td>347</td>\n",
       "      <td>NaN</td>\n",
       "      <td>618</td>\n",
       "      <td>172</td>\n",
       "      <td>351</td>\n",
       "      <td>22.300</td>\n",
       "      <td>131</td>\n",
       "      <td>137</td>\n",
       "      <td>994</td>\n",
       "    </tr>\n",
       "    <tr>\n",
       "      <th>47683</th>\n",
       "      <td>492</td>\n",
       "      <td>254</td>\n",
       "      <td>79</td>\n",
       "      <td>2908</td>\n",
       "      <td>1</td>\n",
       "      <td>235</td>\n",
       "      <td>165</td>\n",
       "      <td>347</td>\n",
       "      <td>NaN</td>\n",
       "      <td>342</td>\n",
       "      <td>172</td>\n",
       "      <td>351</td>\n",
       "      <td>54.166</td>\n",
       "      <td>129</td>\n",
       "      <td>137</td>\n",
       "      <td>994</td>\n",
       "    </tr>\n",
       "  </tbody>\n",
       "</table>\n",
       "</div>"
      ],
      "text/plain": [
       "        Object_Description  Text_2  SubFund_Description  \\\n",
       "134338                 560     280                  266   \n",
       "206341                  72      18                   17   \n",
       "326408                 347     280                  266   \n",
       "364634                 110     254                   79   \n",
       "47683                  492     254                   79   \n",
       "\n",
       "        Job_Title_Description  Text_3  Text_4  Sub_Object_Description  \\\n",
       "134338                   2740      34     235                     165   \n",
       "206341                    291      24     235                     165   \n",
       "326408                   2365      34     146                     165   \n",
       "364634                   2915      24     235                     165   \n",
       "47683                    2908       1     235                     165   \n",
       "\n",
       "        Location_Description  FTE  Function_Description  \\\n",
       "134338                   347  1.0                   639   \n",
       "206341                   347  NaN                   457   \n",
       "326408                   347  1.0                   639   \n",
       "364634                   347  NaN                   618   \n",
       "47683                    347  NaN                   342   \n",
       "\n",
       "        Facility_or_Department  Position_Extra      Total  \\\n",
       "134338                     172             255  50471.810   \n",
       "206341                     172             472   3477.860   \n",
       "326408                     172             440  62237.130   \n",
       "364634                     172             351     22.300   \n",
       "47683                      172             351     54.166   \n",
       "\n",
       "        Program_Description  Fund_Description  Text_1  \n",
       "134338                  191                41    1354  \n",
       "206341                   49               137     135  \n",
       "326408                  159                43    1354  \n",
       "364634                  131               137     994  \n",
       "47683                   129               137     994  "
      ]
     },
     "execution_count": 14,
     "metadata": {},
     "output_type": "execute_result"
    }
   ],
   "source": [
    "train_imp.head()"
   ]
  },
  {
   "cell_type": "code",
   "execution_count": 15,
   "metadata": {
    "ExecuteTime": {
     "end_time": "2018-12-01T14:17:37.774778Z",
     "start_time": "2018-12-01T14:17:37.767760Z"
    }
   },
   "outputs": [],
   "source": [
    "input_cat_columns = []\n",
    "for column in train.columns:\n",
    "    if (column not in cat_list) & (column != 'FTE') & (column != 'Total'):\n",
    "        input_cat_columns.append(column)\n",
    "#input_cat_columns"
   ]
  },
  {
   "cell_type": "markdown",
   "metadata": {},
   "source": [
    "Problem faced :</n>\n",
    "The inverse_transform for labels do not work due to some new unmatched values in the encoded column(https://github.com/scikit-learn/scikit-learn/pull/9816)\n",
    "\n",
    "Hence will concat the imputed numerical columns with categorical columns from original dataset\n"
   ]
  },
  {
   "cell_type": "code",
   "execution_count": 157,
   "metadata": {
    "ExecuteTime": {
     "end_time": "2018-12-01T14:17:42.824991Z",
     "start_time": "2018-12-01T14:17:42.820979Z"
    }
   },
   "outputs": [],
   "source": [
    "#for column_name in input_cat_columns:\n",
    "#    print(column_name)\n",
    "#    le.inverse_transform(train_imp[column_name].astype(object).tolist)"
   ]
  },
  {
   "cell_type": "code",
   "execution_count": 16,
   "metadata": {
    "ExecuteTime": {
     "end_time": "2018-12-01T14:17:44.670877Z",
     "start_time": "2018-12-01T14:17:44.400158Z"
    }
   },
   "outputs": [
    {
     "name": "stdout",
     "output_type": "stream",
     "text": [
      "<class 'pandas.core.frame.DataFrame'>\n",
      "Int64Index: 400277 entries, 134338 to 415831\n",
      "Data columns (total 16 columns):\n",
      "Object_Description        400277 non-null int64\n",
      "Text_2                    400277 non-null int64\n",
      "SubFund_Description       400277 non-null int64\n",
      "Job_Title_Description     400277 non-null int64\n",
      "Text_3                    400277 non-null int64\n",
      "Text_4                    400277 non-null int64\n",
      "Sub_Object_Description    400277 non-null int64\n",
      "Location_Description      400277 non-null int64\n",
      "FTE                       126071 non-null float64\n",
      "Function_Description      400277 non-null int64\n",
      "Facility_or_Department    400277 non-null int64\n",
      "Position_Extra            400277 non-null int64\n",
      "Total                     395722 non-null float64\n",
      "Program_Description       400277 non-null int64\n",
      "Fund_Description          400277 non-null int64\n",
      "Text_1                    400277 non-null int64\n",
      "dtypes: float64(2), int64(14)\n",
      "memory usage: 51.9 MB\n"
     ]
    }
   ],
   "source": [
    "train_imp.info()"
   ]
  },
  {
   "cell_type": "code",
   "execution_count": 17,
   "metadata": {
    "ExecuteTime": {
     "end_time": "2018-12-01T14:17:47.445964Z",
     "start_time": "2018-12-01T14:17:46.773202Z"
    }
   },
   "outputs": [],
   "source": [
    "# from IPython.core.debugger import Pdb as pdb\n",
    "# #%pdb on\n",
    "# %debug\n",
    "\n",
    "fitted_val = mice_imp.fit(train_imp)"
   ]
  },
  {
   "cell_type": "code",
   "execution_count": 18,
   "metadata": {
    "ExecuteTime": {
     "end_time": "2018-12-01T14:17:52.563355Z",
     "start_time": "2018-12-01T14:17:51.953737Z"
    },
    "scrolled": true
   },
   "outputs": [],
   "source": [
    "miced_data = fitted_val.transform(train_imp)"
   ]
  },
  {
   "cell_type": "code",
   "execution_count": 19,
   "metadata": {
    "ExecuteTime": {
     "end_time": "2018-12-01T14:17:55.701371Z",
     "start_time": "2018-12-01T14:17:55.677308Z"
    }
   },
   "outputs": [
    {
     "data": {
      "text/html": [
       "<div>\n",
       "<style scoped>\n",
       "    .dataframe tbody tr th:only-of-type {\n",
       "        vertical-align: middle;\n",
       "    }\n",
       "\n",
       "    .dataframe tbody tr th {\n",
       "        vertical-align: top;\n",
       "    }\n",
       "\n",
       "    .dataframe thead th {\n",
       "        text-align: right;\n",
       "    }\n",
       "</style>\n",
       "<table border=\"1\" class=\"dataframe\">\n",
       "  <thead>\n",
       "    <tr style=\"text-align: right;\">\n",
       "      <th></th>\n",
       "      <th>Object_Description</th>\n",
       "      <th>Text_2</th>\n",
       "      <th>SubFund_Description</th>\n",
       "      <th>Job_Title_Description</th>\n",
       "      <th>Text_3</th>\n",
       "      <th>Text_4</th>\n",
       "      <th>Sub_Object_Description</th>\n",
       "      <th>Location_Description</th>\n",
       "      <th>FTE</th>\n",
       "      <th>Function_Description</th>\n",
       "      <th>Facility_or_Department</th>\n",
       "      <th>Position_Extra</th>\n",
       "      <th>Total</th>\n",
       "      <th>Program_Description</th>\n",
       "      <th>Fund_Description</th>\n",
       "      <th>Text_1</th>\n",
       "    </tr>\n",
       "  </thead>\n",
       "  <tbody>\n",
       "    <tr>\n",
       "      <th>2</th>\n",
       "      <td>344</td>\n",
       "      <td>280</td>\n",
       "      <td>266</td>\n",
       "      <td>3154</td>\n",
       "      <td>34</td>\n",
       "      <td>146</td>\n",
       "      <td>165</td>\n",
       "      <td>347</td>\n",
       "      <td>0.000000</td>\n",
       "      <td>639</td>\n",
       "      <td>172</td>\n",
       "      <td>432</td>\n",
       "      <td>141.57990</td>\n",
       "      <td>159</td>\n",
       "      <td>43</td>\n",
       "      <td>1354</td>\n",
       "    </tr>\n",
       "    <tr>\n",
       "      <th>3</th>\n",
       "      <td>336</td>\n",
       "      <td>280</td>\n",
       "      <td>266</td>\n",
       "      <td>3154</td>\n",
       "      <td>34</td>\n",
       "      <td>146</td>\n",
       "      <td>165</td>\n",
       "      <td>347</td>\n",
       "      <td>0.000000</td>\n",
       "      <td>639</td>\n",
       "      <td>172</td>\n",
       "      <td>80</td>\n",
       "      <td>1166.76000</td>\n",
       "      <td>159</td>\n",
       "      <td>43</td>\n",
       "      <td>1354</td>\n",
       "    </tr>\n",
       "    <tr>\n",
       "      <th>4</th>\n",
       "      <td>560</td>\n",
       "      <td>221</td>\n",
       "      <td>110</td>\n",
       "      <td>929</td>\n",
       "      <td>34</td>\n",
       "      <td>235</td>\n",
       "      <td>165</td>\n",
       "      <td>279</td>\n",
       "      <td>1.000000</td>\n",
       "      <td>639</td>\n",
       "      <td>172</td>\n",
       "      <td>481</td>\n",
       "      <td>33668.53737</td>\n",
       "      <td>416</td>\n",
       "      <td>137</td>\n",
       "      <td>1354</td>\n",
       "    </tr>\n",
       "    <tr>\n",
       "      <th>5</th>\n",
       "      <td>339</td>\n",
       "      <td>280</td>\n",
       "      <td>266</td>\n",
       "      <td>3154</td>\n",
       "      <td>34</td>\n",
       "      <td>123</td>\n",
       "      <td>165</td>\n",
       "      <td>78</td>\n",
       "      <td>0.000000</td>\n",
       "      <td>639</td>\n",
       "      <td>111</td>\n",
       "      <td>355</td>\n",
       "      <td>6285.45000</td>\n",
       "      <td>270</td>\n",
       "      <td>43</td>\n",
       "      <td>1354</td>\n",
       "    </tr>\n",
       "    <tr>\n",
       "      <th>8</th>\n",
       "      <td>395</td>\n",
       "      <td>280</td>\n",
       "      <td>41</td>\n",
       "      <td>3154</td>\n",
       "      <td>34</td>\n",
       "      <td>235</td>\n",
       "      <td>18</td>\n",
       "      <td>347</td>\n",
       "      <td>0.585395</td>\n",
       "      <td>343</td>\n",
       "      <td>172</td>\n",
       "      <td>481</td>\n",
       "      <td>-0.19000</td>\n",
       "      <td>416</td>\n",
       "      <td>113</td>\n",
       "      <td>134</td>\n",
       "    </tr>\n",
       "  </tbody>\n",
       "</table>\n",
       "</div>"
      ],
      "text/plain": [
       "   Object_Description  Text_2  SubFund_Description  Job_Title_Description  \\\n",
       "2                 344     280                  266                   3154   \n",
       "3                 336     280                  266                   3154   \n",
       "4                 560     221                  110                    929   \n",
       "5                 339     280                  266                   3154   \n",
       "8                 395     280                   41                   3154   \n",
       "\n",
       "   Text_3  Text_4  Sub_Object_Description  Location_Description       FTE  \\\n",
       "2      34     146                     165                   347  0.000000   \n",
       "3      34     146                     165                   347  0.000000   \n",
       "4      34     235                     165                   279  1.000000   \n",
       "5      34     123                     165                    78  0.000000   \n",
       "8      34     235                      18                   347  0.585395   \n",
       "\n",
       "   Function_Description  Facility_or_Department  Position_Extra        Total  \\\n",
       "2                   639                     172             432    141.57990   \n",
       "3                   639                     172              80   1166.76000   \n",
       "4                   639                     172             481  33668.53737   \n",
       "5                   639                     111             355   6285.45000   \n",
       "8                   343                     172             481     -0.19000   \n",
       "\n",
       "   Program_Description  Fund_Description  Text_1  \n",
       "2                  159                43    1354  \n",
       "3                  159                43    1354  \n",
       "4                  416               137    1354  \n",
       "5                  270                43    1354  \n",
       "8                  416               113     134  "
      ]
     },
     "execution_count": 19,
     "metadata": {},
     "output_type": "execute_result"
    }
   ],
   "source": [
    "miced_data.head()"
   ]
  },
  {
   "cell_type": "markdown",
   "metadata": {},
   "source": [
    "We see that our data has been imputed. Let's confirm we have no missing values after this."
   ]
  },
  {
   "cell_type": "code",
   "execution_count": 20,
   "metadata": {
    "ExecuteTime": {
     "end_time": "2018-12-02T02:11:26.119863Z",
     "start_time": "2018-12-02T02:11:25.687214Z"
    },
    "scrolled": true
   },
   "outputs": [
    {
     "data": {
      "text/plain": [
       "Object_Description        0\n",
       "Text_2                    0\n",
       "SubFund_Description       0\n",
       "Job_Title_Description     0\n",
       "Text_3                    0\n",
       "Text_4                    0\n",
       "Sub_Object_Description    0\n",
       "Location_Description      0\n",
       "FTE                       0\n",
       "Function_Description      0\n",
       "Facility_or_Department    0\n",
       "Position_Extra            0\n",
       "Total                     0\n",
       "Program_Description       0\n",
       "Fund_Description          0\n",
       "Text_1                    0\n",
       "dtype: int64"
      ]
     },
     "execution_count": 20,
     "metadata": {},
     "output_type": "execute_result"
    }
   ],
   "source": [
    "miced_data.isnull().sum()"
   ]
  },
  {
   "cell_type": "markdown",
   "metadata": {},
   "source": [
    "Looks great!"
   ]
  },
  {
   "cell_type": "markdown",
   "metadata": {},
   "source": [
    "# Feature Importances"
   ]
  },
  {
   "cell_type": "markdown",
   "metadata": {},
   "source": [
    "Now we will look at feature importance for each of our features. For this we are using RandomForestClassifier from sklearn.ensemble. For this purpose, we are using unsplitted data set with independent features and also unsplitted labels."
   ]
  },
  {
   "cell_type": "code",
   "execution_count": 45,
   "metadata": {},
   "outputs": [
    {
     "data": {
      "text/plain": [
       "RandomForestClassifier(bootstrap=True, class_weight=None, criterion='gini',\n",
       "            max_depth=None, max_features=None, max_leaf_nodes=None,\n",
       "            min_impurity_decrease=0.0, min_impurity_split=None,\n",
       "            min_samples_leaf=1, min_samples_split=2,\n",
       "            min_weight_fraction_leaf=0.0, n_estimators=10, n_jobs=1,\n",
       "            oob_score=False, random_state=42, verbose=0, warm_start=False)"
      ]
     },
     "execution_count": 45,
     "metadata": {},
     "output_type": "execute_result"
    }
   ],
   "source": [
    "from sklearn.ensemble import RandomForestClassifier\n",
    "forest_regModel = RandomForestClassifier(random_state=42, max_features=None)\n",
    "forest_regModel.fit(miced_data, dummies_lab)"
   ]
  },
  {
   "cell_type": "code",
   "execution_count": 46,
   "metadata": {},
   "outputs": [
    {
     "data": {
      "text/plain": [
       "array([0.09451328, 0.02109953, 0.06878391, 0.24434906, 0.01225903,\n",
       "       0.01166589, 0.0214847 , 0.13854621, 0.02771226, 0.04899829,\n",
       "       0.00533868, 0.05939656, 0.04840384, 0.08054876, 0.08577899,\n",
       "       0.03112102])"
      ]
     },
     "execution_count": 46,
     "metadata": {},
     "output_type": "execute_result"
    }
   ],
   "source": [
    "feature_importances = forest_regModel.feature_importances_\n",
    "feature_importances"
   ]
  },
  {
   "cell_type": "code",
   "execution_count": 50,
   "metadata": {},
   "outputs": [],
   "source": [
    "attributes = ['Object_Description', 'Text_2', 'SubFund_Description','Job_Title_Description','Text_3',\n",
    "             'Text_4','Sub_Object_Description','Location_Description','FTE','Function_Description',\n",
    "             'Facility_or_Department','Position_Extra','Total','Program_Description','Fund_Description',\n",
    "             'Text_1']"
   ]
  },
  {
   "cell_type": "code",
   "execution_count": 48,
   "metadata": {},
   "outputs": [],
   "source": [
    "sortedFeatures = sorted(zip(np.round(feature_importances,4), attributes), reverse=False)"
   ]
  },
  {
   "cell_type": "code",
   "execution_count": 49,
   "metadata": {},
   "outputs": [
    {
     "data": {
      "image/png": "[encoded data removed]",
      "text/plain": [
       "<Figure size 1080x720 with 1 Axes>"
      ]
     },
     "metadata": {},
     "output_type": "display_data"
    }
   ],
   "source": [
    "## Plot feature importances\n",
    "\n",
    "%matplotlib inline\n",
    "import matplotlib\n",
    "import matplotlib.pyplot as plt\n",
    "plt.figure(figsize=(15,10)) \n",
    "plt.title(\"Feature importances\")\n",
    "sortedNames = np.array(sortedFeatures)[:, 1]\n",
    "sortedImportances = np.array(sortedFeatures)[:, 0]\n",
    "\n",
    "plt.title('Feature Importances', fontsize=16)\n",
    "plt.barh(range(len(sortedNames)), sortedImportances, color='b', align='center')\n",
    "plt.xticks(rotation='vertical', fontsize=14)\n",
    "plt.yticks(range(len(sortedNames)), sortedNames, fontsize=14)\n",
    "plt.xlabel('Relative Importance', fontsize=14)\n",
    "plt.grid()\n",
    "plt.show()"
   ]
  },
  {
   "cell_type": "markdown",
   "metadata": {},
   "source": [
    "Looking at the output of feature imporatnces and also barplot we can see that Job_Description has the highest coefficient( 0.244), followed by Location_Description, Object_description, Fund_description, Program_Description and so on. Facility or Department is the least important feature of all. "
   ]
  },
  {
   "cell_type": "markdown",
   "metadata": {},
   "source": [
    "# Numerical pipeline "
   ]
  },
  {
   "cell_type": "markdown",
   "metadata": {},
   "source": [
    "Our numerical pipeline consists of FTE and Total. "
   ]
  },
  {
   "cell_type": "code",
   "execution_count": 21,
   "metadata": {
    "ExecuteTime": {
     "end_time": "2018-12-02T02:11:33.316265Z",
     "start_time": "2018-12-02T02:11:33.295209Z"
    }
   },
   "outputs": [
    {
     "data": {
      "text/html": [
       "<div>\n",
       "<style scoped>\n",
       "    .dataframe tbody tr th:only-of-type {\n",
       "        vertical-align: middle;\n",
       "    }\n",
       "\n",
       "    .dataframe tbody tr th {\n",
       "        vertical-align: top;\n",
       "    }\n",
       "\n",
       "    .dataframe thead th {\n",
       "        text-align: right;\n",
       "    }\n",
       "</style>\n",
       "<table border=\"1\" class=\"dataframe\">\n",
       "  <thead>\n",
       "    <tr style=\"text-align: right;\">\n",
       "      <th></th>\n",
       "      <th>FTE</th>\n",
       "      <th>Total</th>\n",
       "    </tr>\n",
       "  </thead>\n",
       "  <tbody>\n",
       "    <tr>\n",
       "      <th>2</th>\n",
       "      <td>0.000000</td>\n",
       "      <td>141.57990</td>\n",
       "    </tr>\n",
       "    <tr>\n",
       "      <th>3</th>\n",
       "      <td>0.000000</td>\n",
       "      <td>1166.76000</td>\n",
       "    </tr>\n",
       "    <tr>\n",
       "      <th>4</th>\n",
       "      <td>1.000000</td>\n",
       "      <td>33668.53737</td>\n",
       "    </tr>\n",
       "    <tr>\n",
       "      <th>5</th>\n",
       "      <td>0.000000</td>\n",
       "      <td>6285.45000</td>\n",
       "    </tr>\n",
       "    <tr>\n",
       "      <th>8</th>\n",
       "      <td>0.585395</td>\n",
       "      <td>-0.19000</td>\n",
       "    </tr>\n",
       "  </tbody>\n",
       "</table>\n",
       "</div>"
      ],
      "text/plain": [
       "        FTE        Total\n",
       "2  0.000000    141.57990\n",
       "3  0.000000   1166.76000\n",
       "4  1.000000  33668.53737\n",
       "5  0.000000   6285.45000\n",
       "8  0.585395     -0.19000"
      ]
     },
     "execution_count": 21,
     "metadata": {},
     "output_type": "execute_result"
    }
   ],
   "source": [
    "num_lab = ['FTE','Total']\n",
    "numeric_train = miced_data[num_lab]\n",
    "numeric_train.head()"
   ]
  },
  {
   "cell_type": "code",
   "execution_count": 22,
   "metadata": {
    "ExecuteTime": {
     "end_time": "2018-12-01T14:18:11.769308Z",
     "start_time": "2018-12-01T14:18:10.683422Z"
    },
    "scrolled": true
   },
   "outputs": [
    {
     "data": {
      "text/html": [
       "<div>\n",
       "<style scoped>\n",
       "    .dataframe tbody tr th:only-of-type {\n",
       "        vertical-align: middle;\n",
       "    }\n",
       "\n",
       "    .dataframe tbody tr th {\n",
       "        vertical-align: top;\n",
       "    }\n",
       "\n",
       "    .dataframe thead th {\n",
       "        text-align: right;\n",
       "    }\n",
       "</style>\n",
       "<table border=\"1\" class=\"dataframe\">\n",
       "  <thead>\n",
       "    <tr style=\"text-align: right;\">\n",
       "      <th></th>\n",
       "      <th>Function_Aides Compensation</th>\n",
       "      <th>Function_Career &amp; Academic Counseling</th>\n",
       "      <th>Function_Communications</th>\n",
       "      <th>Function_Curriculum Development</th>\n",
       "      <th>Function_Data Processing &amp; Information Services</th>\n",
       "      <th>Function_Development &amp; Fundraising</th>\n",
       "      <th>Function_Enrichment</th>\n",
       "      <th>Function_Extended Time &amp; Tutoring</th>\n",
       "      <th>Function_Facilities &amp; Maintenance</th>\n",
       "      <th>Function_Facilities Planning</th>\n",
       "      <th>...</th>\n",
       "      <th>Object_Type_Rent/Utilities</th>\n",
       "      <th>Object_Type_Substitute Compensation</th>\n",
       "      <th>Object_Type_Supplies/Materials</th>\n",
       "      <th>Object_Type_Travel &amp; Conferences</th>\n",
       "      <th>Pre_K_NO_LABEL</th>\n",
       "      <th>Pre_K_Non PreK</th>\n",
       "      <th>Pre_K_PreK</th>\n",
       "      <th>Operating_Status_Non-Operating</th>\n",
       "      <th>Operating_Status_Operating, Not PreK-12</th>\n",
       "      <th>Operating_Status_PreK-12 Operating</th>\n",
       "    </tr>\n",
       "  </thead>\n",
       "  <tbody>\n",
       "    <tr>\n",
       "      <th>2</th>\n",
       "      <td>0</td>\n",
       "      <td>0</td>\n",
       "      <td>0</td>\n",
       "      <td>0</td>\n",
       "      <td>0</td>\n",
       "      <td>0</td>\n",
       "      <td>0</td>\n",
       "      <td>0</td>\n",
       "      <td>0</td>\n",
       "      <td>0</td>\n",
       "      <td>...</td>\n",
       "      <td>0</td>\n",
       "      <td>1</td>\n",
       "      <td>0</td>\n",
       "      <td>0</td>\n",
       "      <td>0</td>\n",
       "      <td>1</td>\n",
       "      <td>0</td>\n",
       "      <td>0</td>\n",
       "      <td>0</td>\n",
       "      <td>1</td>\n",
       "    </tr>\n",
       "    <tr>\n",
       "      <th>3</th>\n",
       "      <td>0</td>\n",
       "      <td>0</td>\n",
       "      <td>0</td>\n",
       "      <td>0</td>\n",
       "      <td>0</td>\n",
       "      <td>0</td>\n",
       "      <td>0</td>\n",
       "      <td>0</td>\n",
       "      <td>0</td>\n",
       "      <td>0</td>\n",
       "      <td>...</td>\n",
       "      <td>0</td>\n",
       "      <td>0</td>\n",
       "      <td>0</td>\n",
       "      <td>0</td>\n",
       "      <td>0</td>\n",
       "      <td>1</td>\n",
       "      <td>0</td>\n",
       "      <td>0</td>\n",
       "      <td>0</td>\n",
       "      <td>1</td>\n",
       "    </tr>\n",
       "    <tr>\n",
       "      <th>4</th>\n",
       "      <td>1</td>\n",
       "      <td>0</td>\n",
       "      <td>0</td>\n",
       "      <td>0</td>\n",
       "      <td>0</td>\n",
       "      <td>0</td>\n",
       "      <td>0</td>\n",
       "      <td>0</td>\n",
       "      <td>0</td>\n",
       "      <td>0</td>\n",
       "      <td>...</td>\n",
       "      <td>0</td>\n",
       "      <td>0</td>\n",
       "      <td>0</td>\n",
       "      <td>0</td>\n",
       "      <td>1</td>\n",
       "      <td>0</td>\n",
       "      <td>0</td>\n",
       "      <td>0</td>\n",
       "      <td>0</td>\n",
       "      <td>1</td>\n",
       "    </tr>\n",
       "    <tr>\n",
       "      <th>5</th>\n",
       "      <td>0</td>\n",
       "      <td>0</td>\n",
       "      <td>0</td>\n",
       "      <td>0</td>\n",
       "      <td>0</td>\n",
       "      <td>0</td>\n",
       "      <td>0</td>\n",
       "      <td>0</td>\n",
       "      <td>0</td>\n",
       "      <td>0</td>\n",
       "      <td>...</td>\n",
       "      <td>0</td>\n",
       "      <td>0</td>\n",
       "      <td>0</td>\n",
       "      <td>0</td>\n",
       "      <td>0</td>\n",
       "      <td>1</td>\n",
       "      <td>0</td>\n",
       "      <td>0</td>\n",
       "      <td>0</td>\n",
       "      <td>1</td>\n",
       "    </tr>\n",
       "    <tr>\n",
       "      <th>8</th>\n",
       "      <td>0</td>\n",
       "      <td>0</td>\n",
       "      <td>0</td>\n",
       "      <td>0</td>\n",
       "      <td>0</td>\n",
       "      <td>0</td>\n",
       "      <td>0</td>\n",
       "      <td>0</td>\n",
       "      <td>0</td>\n",
       "      <td>0</td>\n",
       "      <td>...</td>\n",
       "      <td>0</td>\n",
       "      <td>0</td>\n",
       "      <td>0</td>\n",
       "      <td>0</td>\n",
       "      <td>1</td>\n",
       "      <td>0</td>\n",
       "      <td>0</td>\n",
       "      <td>1</td>\n",
       "      <td>0</td>\n",
       "      <td>0</td>\n",
       "    </tr>\n",
       "  </tbody>\n",
       "</table>\n",
       "<p>5 rows × 104 columns</p>\n",
       "</div>"
      ],
      "text/plain": [
       "   Function_Aides Compensation  Function_Career & Academic Counseling  \\\n",
       "2                            0                                      0   \n",
       "3                            0                                      0   \n",
       "4                            1                                      0   \n",
       "5                            0                                      0   \n",
       "8                            0                                      0   \n",
       "\n",
       "   Function_Communications  Function_Curriculum Development  \\\n",
       "2                        0                                0   \n",
       "3                        0                                0   \n",
       "4                        0                                0   \n",
       "5                        0                                0   \n",
       "8                        0                                0   \n",
       "\n",
       "   Function_Data Processing & Information Services  \\\n",
       "2                                                0   \n",
       "3                                                0   \n",
       "4                                                0   \n",
       "5                                                0   \n",
       "8                                                0   \n",
       "\n",
       "   Function_Development & Fundraising  Function_Enrichment  \\\n",
       "2                                   0                    0   \n",
       "3                                   0                    0   \n",
       "4                                   0                    0   \n",
       "5                                   0                    0   \n",
       "8                                   0                    0   \n",
       "\n",
       "   Function_Extended Time & Tutoring  Function_Facilities & Maintenance  \\\n",
       "2                                  0                                  0   \n",
       "3                                  0                                  0   \n",
       "4                                  0                                  0   \n",
       "5                                  0                                  0   \n",
       "8                                  0                                  0   \n",
       "\n",
       "   Function_Facilities Planning                 ...                  \\\n",
       "2                             0                 ...                   \n",
       "3                             0                 ...                   \n",
       "4                             0                 ...                   \n",
       "5                             0                 ...                   \n",
       "8                             0                 ...                   \n",
       "\n",
       "   Object_Type_Rent/Utilities  Object_Type_Substitute Compensation  \\\n",
       "2                           0                                    1   \n",
       "3                           0                                    0   \n",
       "4                           0                                    0   \n",
       "5                           0                                    0   \n",
       "8                           0                                    0   \n",
       "\n",
       "   Object_Type_Supplies/Materials  Object_Type_Travel & Conferences  \\\n",
       "2                               0                                 0   \n",
       "3                               0                                 0   \n",
       "4                               0                                 0   \n",
       "5                               0                                 0   \n",
       "8                               0                                 0   \n",
       "\n",
       "   Pre_K_NO_LABEL  Pre_K_Non PreK  Pre_K_PreK  Operating_Status_Non-Operating  \\\n",
       "2               0               1           0                               0   \n",
       "3               0               1           0                               0   \n",
       "4               1               0           0                               0   \n",
       "5               0               1           0                               0   \n",
       "8               1               0           0                               1   \n",
       "\n",
       "   Operating_Status_Operating, Not PreK-12  Operating_Status_PreK-12 Operating  \n",
       "2                                        0                                   1  \n",
       "3                                        0                                   1  \n",
       "4                                        0                                   1  \n",
       "5                                        0                                   1  \n",
       "8                                        0                                   0  \n",
       "\n",
       "[5 rows x 104 columns]"
      ]
     },
     "execution_count": 22,
     "metadata": {},
     "output_type": "execute_result"
    }
   ],
   "source": [
    "#create dummies of our targets\n",
    "dummies_lab1 = pd.get_dummies(train[cat_list])\n",
    "dummies_lab = dummies_lab1.sort_index()\n",
    "dummies_lab.head()"
   ]
  },
  {
   "cell_type": "markdown",
   "metadata": {},
   "source": [
    "Numerical split-\n",
    "numeric_train - X\n",
    "dummies_lab - Y"
   ]
  },
  {
   "cell_type": "code",
   "execution_count": 25,
   "metadata": {
    "ExecuteTime": {
     "end_time": "2018-12-01T14:18:14.024673Z",
     "start_time": "2018-12-01T14:18:12.056441Z"
    }
   },
   "outputs": [],
   "source": [
    "X_train, X_test, y_train, y_test = multilabel_train_test_split(numeric_train,dummies_lab,\n",
    "                                                               size=0.2,seed=143)"
   ]
  },
  {
   "cell_type": "code",
   "execution_count": 166,
   "metadata": {
    "ExecuteTime": {
     "end_time": "2018-12-01T14:18:15.740953Z",
     "start_time": "2018-12-01T14:18:15.715918Z"
    },
    "scrolled": true
   },
   "outputs": [
    {
     "data": {
      "text/plain": [
       "FTE      0\n",
       "Total    0\n",
       "dtype: int64"
      ]
     },
     "execution_count": 166,
     "metadata": {},
     "output_type": "execute_result"
    }
   ],
   "source": [
    "np.sum(X_train.isna())"
   ]
  },
  {
   "cell_type": "code",
   "execution_count": 167,
   "metadata": {
    "ExecuteTime": {
     "end_time": "2018-12-01T14:18:17.910297Z",
     "start_time": "2018-12-01T14:18:17.894253Z"
    }
   },
   "outputs": [
    {
     "name": "stdout",
     "output_type": "stream",
     "text": [
      "<class 'pandas.core.frame.DataFrame'>\n",
      "Int64Index: 320222 entries, 2 to 450340\n",
      "Columns: 104 entries, Function_Aides Compensation to Operating_Status_PreK-12 Operating\n",
      "dtypes: uint8(104)\n",
      "memory usage: 34.2 MB\n"
     ]
    }
   ],
   "source": [
    "y_train.info()"
   ]
  },
  {
   "cell_type": "code",
   "execution_count": 168,
   "metadata": {
    "ExecuteTime": {
     "end_time": "2018-12-01T14:18:21.224754Z",
     "start_time": "2018-12-01T14:18:20.437665Z"
    }
   },
   "outputs": [
    {
     "name": "stdout",
     "output_type": "stream",
     "text": [
      "<class 'pandas.core.frame.DataFrame'>\n",
      "Int64Index: 400277 entries, 134338 to 415831\n",
      "Data columns (total 25 columns):\n",
      "Function                  400277 non-null object\n",
      "Use                       400277 non-null object\n",
      "Sharing                   400277 non-null object\n",
      "Reporting                 400277 non-null object\n",
      "Student_Type              400277 non-null object\n",
      "Position_Type             400277 non-null object\n",
      "Object_Type               400277 non-null object\n",
      "Pre_K                     400277 non-null object\n",
      "Operating_Status          400277 non-null object\n",
      "Object_Description        375493 non-null object\n",
      "Text_2                    88217 non-null object\n",
      "SubFund_Description       306855 non-null object\n",
      "Job_Title_Description     292743 non-null object\n",
      "Text_3                    109152 non-null object\n",
      "Text_4                    53746 non-null object\n",
      "Sub_Object_Description    91603 non-null object\n",
      "Location_Description      162054 non-null object\n",
      "FTE                       126071 non-null float64\n",
      "Function_Description      342195 non-null object\n",
      "Facility_or_Department    53886 non-null object\n",
      "Position_Extra            264764 non-null object\n",
      "Total                     395722 non-null float64\n",
      "Program_Description       304660 non-null object\n",
      "Fund_Description          202877 non-null object\n",
      "Text_1                    292285 non-null object\n",
      "dtypes: float64(2), object(23)\n",
      "memory usage: 89.4+ MB\n"
     ]
    }
   ],
   "source": [
    "train.info() #Int64Index: 400277 entries, 134338 to 415831"
   ]
  },
  {
   "cell_type": "code",
   "execution_count": 38,
   "metadata": {
    "ExecuteTime": {
     "end_time": "2018-12-01T11:26:04.005767Z",
     "start_time": "2018-12-01T11:26:03.999751Z"
    },
    "scrolled": true
   },
   "outputs": [],
   "source": [
    "#from sklearn.linear_model import LogisticRegression\n",
    "#log_model = LogisticRegression()\n",
    "#fit_x = log_model.fit(X_train,y_train)"
   ]
  },
  {
   "cell_type": "code",
   "execution_count": 26,
   "metadata": {
    "ExecuteTime": {
     "end_time": "2018-12-01T14:18:25.643440Z",
     "start_time": "2018-12-01T14:18:25.634416Z"
    }
   },
   "outputs": [],
   "source": [
    "class DataFrameSelector(BaseEstimator, TransformerMixin):\n",
    "    def __init__(self, attribute_names):\n",
    "        self.attribute_names = attribute_names\n",
    "    def fit(self, X, y=None):\n",
    "        return self\n",
    "    def transform(self, X):\n",
    "        return X[self.attribute_names].values "
   ]
  },
  {
   "cell_type": "code",
   "execution_count": 27,
   "metadata": {
    "ExecuteTime": {
     "end_time": "2018-12-01T14:18:27.805099Z",
     "start_time": "2018-12-01T14:18:27.797080Z"
    }
   },
   "outputs": [],
   "source": [
    "#numeric pipeline\n",
    "from sklearn.preprocessing import MinMaxScaler\n",
    "from sklearn.multiclass import OneVsRestClassifier\n",
    "num_pipeline = Pipeline([\n",
    "        ('selector', DataFrameSelector(num_lab)),\n",
    "        #('imputer', Imputer(strategy=\"median\",missing_values=np.nan)),\n",
    "        ('std_scaler', MinMaxScaler()),\n",
    "    ])"
   ]
  },
  {
   "cell_type": "code",
   "execution_count": 28,
   "metadata": {
    "ExecuteTime": {
     "end_time": "2018-12-01T14:18:29.801406Z",
     "start_time": "2018-12-01T14:18:29.778349Z"
    }
   },
   "outputs": [
    {
     "data": {
      "text/plain": [
       "Pipeline(memory=None,\n",
       "     steps=[('selector', DataFrameSelector(attribute_names=['FTE', 'Total'])), ('std_scaler', MinMaxScaler(copy=True, feature_range=(0, 1)))])"
      ]
     },
     "execution_count": 28,
     "metadata": {},
     "output_type": "execute_result"
    }
   ],
   "source": [
    "num_pipeline.fit(X_train,y_train)"
   ]
  },
  {
   "cell_type": "markdown",
   "metadata": {},
   "source": [
    "Numerical pipeline is ready."
   ]
  },
  {
   "cell_type": "markdown",
   "metadata": {},
   "source": [
    "# Categorical pipeline"
   ]
  },
  {
   "cell_type": "code",
   "execution_count": 29,
   "metadata": {
    "ExecuteTime": {
     "end_time": "2018-12-02T02:27:50.972778Z",
     "start_time": "2018-12-02T02:27:50.960746Z"
    }
   },
   "outputs": [
    {
     "data": {
      "text/plain": [
       "(400277, 25)"
      ]
     },
     "execution_count": 29,
     "metadata": {},
     "output_type": "execute_result"
    }
   ],
   "source": [
    "train_trimmed.shape"
   ]
  },
  {
   "cell_type": "code",
   "execution_count": 30,
   "metadata": {
    "ExecuteTime": {
     "end_time": "2018-12-02T02:53:12.442252Z",
     "start_time": "2018-12-02T02:53:12.404652Z"
    }
   },
   "outputs": [],
   "source": [
    "from sklearn.base import BaseEstimator, TransformerMixin\n",
    "from sklearn.utils import check_array\n",
    "from sklearn.preprocessing import LabelEncoder\n",
    "from scipy import sparse\n",
    "\n",
    "class CategoricalImputer(BaseEstimator, TransformerMixin):\n",
    "    \n",
    "    def __init__(self):\n",
    "        return None\n",
    "    \n",
    "    def fit(self, X, y=None):\n",
    "        return self\n",
    "    \n",
    "    def transform(self, X, y=None):\n",
    "        All = X[X.columns].apply(lambda row: ' '.join(row.values.astype(str)), axis=1)\n",
    "        print(All.sort_index().head())\n",
    "        #return np.c_[All.sort_index()]\n",
    "        return All.sort_index()\n",
    "        \n",
    "        "
   ]
  },
  {
   "cell_type": "code",
   "execution_count": 31,
   "metadata": {
    "ExecuteTime": {
     "end_time": "2018-12-02T02:53:19.348034Z",
     "start_time": "2018-12-02T02:53:18.899842Z"
    }
   },
   "outputs": [
    {
     "data": {
      "text/html": [
       "<div>\n",
       "<style scoped>\n",
       "    .dataframe tbody tr th:only-of-type {\n",
       "        vertical-align: middle;\n",
       "    }\n",
       "\n",
       "    .dataframe tbody tr th {\n",
       "        vertical-align: top;\n",
       "    }\n",
       "\n",
       "    .dataframe thead th {\n",
       "        text-align: right;\n",
       "    }\n",
       "</style>\n",
       "<table border=\"1\" class=\"dataframe\">\n",
       "  <thead>\n",
       "    <tr style=\"text-align: right;\">\n",
       "      <th></th>\n",
       "      <th>Object_Description</th>\n",
       "      <th>Text_2</th>\n",
       "      <th>SubFund_Description</th>\n",
       "      <th>Job_Title_Description</th>\n",
       "      <th>Text_3</th>\n",
       "      <th>Text_4</th>\n",
       "      <th>Sub_Object_Description</th>\n",
       "      <th>Location_Description</th>\n",
       "      <th>Function_Description</th>\n",
       "      <th>Facility_or_Department</th>\n",
       "      <th>Position_Extra</th>\n",
       "      <th>Program_Description</th>\n",
       "      <th>Fund_Description</th>\n",
       "      <th>Text_1</th>\n",
       "    </tr>\n",
       "  </thead>\n",
       "  <tbody>\n",
       "    <tr>\n",
       "      <th>134338</th>\n",
       "      <td>NaN</td>\n",
       "      <td>NaN</td>\n",
       "      <td>NaN</td>\n",
       "      <td>TEACHER-ELEMENTARY</td>\n",
       "      <td>NaN</td>\n",
       "      <td>NaN</td>\n",
       "      <td>NaN</td>\n",
       "      <td>NaN</td>\n",
       "      <td>NaN</td>\n",
       "      <td>NaN</td>\n",
       "      <td>KINDERGARTEN</td>\n",
       "      <td>KINDERGARTEN</td>\n",
       "      <td>GENERAL FUND</td>\n",
       "      <td>NaN</td>\n",
       "    </tr>\n",
       "    <tr>\n",
       "      <th>206341</th>\n",
       "      <td>CONTRACTOR SERVICES</td>\n",
       "      <td>BOND EXPENDITURES</td>\n",
       "      <td>BUILDING FUND</td>\n",
       "      <td>(BLANK)</td>\n",
       "      <td>REGULAR</td>\n",
       "      <td>NaN</td>\n",
       "      <td>NaN</td>\n",
       "      <td>NaN</td>\n",
       "      <td>RGN  GOB</td>\n",
       "      <td>NaN</td>\n",
       "      <td>UNDESIGNATED</td>\n",
       "      <td>BUILDING IMPROVEMENT SERVICES</td>\n",
       "      <td>NaN</td>\n",
       "      <td>BUILDING IMPROVEMENT SERVICES</td>\n",
       "    </tr>\n",
       "    <tr>\n",
       "      <th>326408</th>\n",
       "      <td>PERSONAL SERVICES - TEACHERS</td>\n",
       "      <td>NaN</td>\n",
       "      <td>NaN</td>\n",
       "      <td>TCHER 2ND GRADE</td>\n",
       "      <td>NaN</td>\n",
       "      <td>REGULAR INSTRUCTION</td>\n",
       "      <td>NaN</td>\n",
       "      <td>NaN</td>\n",
       "      <td>NaN</td>\n",
       "      <td>NaN</td>\n",
       "      <td>TEACHER</td>\n",
       "      <td>INSTRUCTION - REGULAR</td>\n",
       "      <td>GENERAL PURPOSE SCHOOL</td>\n",
       "      <td>NaN</td>\n",
       "    </tr>\n",
       "    <tr>\n",
       "      <th>364634</th>\n",
       "      <td>EMPLOYEE BENEFITS</td>\n",
       "      <td>TEACHER SUBS</td>\n",
       "      <td>GENERAL FUND</td>\n",
       "      <td>TEACHER, SHORT TERM SUB</td>\n",
       "      <td>REGULAR</td>\n",
       "      <td>NaN</td>\n",
       "      <td>NaN</td>\n",
       "      <td>NaN</td>\n",
       "      <td>UNALLOC BUDGETS/SCHOOLS</td>\n",
       "      <td>NaN</td>\n",
       "      <td>PROFESSIONAL-INSTRUCTIONAL</td>\n",
       "      <td>GENERAL MIDDLE/JUNIOR HIGH SCH</td>\n",
       "      <td>NaN</td>\n",
       "      <td>REGULAR INSTRUCTION</td>\n",
       "    </tr>\n",
       "    <tr>\n",
       "      <th>47683</th>\n",
       "      <td>TEACHER COVERAGE FOR TEACHER</td>\n",
       "      <td>TEACHER SUBS</td>\n",
       "      <td>GENERAL FUND</td>\n",
       "      <td>TEACHER, SECONDARY (HIGH)</td>\n",
       "      <td>ALTERNATIVE</td>\n",
       "      <td>NaN</td>\n",
       "      <td>NaN</td>\n",
       "      <td>NaN</td>\n",
       "      <td>NON-PROJECT</td>\n",
       "      <td>NaN</td>\n",
       "      <td>PROFESSIONAL-INSTRUCTIONAL</td>\n",
       "      <td>GENERAL HIGH SCHOOL EDUCATION</td>\n",
       "      <td>NaN</td>\n",
       "      <td>REGULAR INSTRUCTION</td>\n",
       "    </tr>\n",
       "  </tbody>\n",
       "</table>\n",
       "</div>"
      ],
      "text/plain": [
       "                  Object_Description             Text_2 SubFund_Description  \\\n",
       "134338                           NaN                NaN                 NaN   \n",
       "206341           CONTRACTOR SERVICES  BOND EXPENDITURES       BUILDING FUND   \n",
       "326408  PERSONAL SERVICES - TEACHERS                NaN                 NaN   \n",
       "364634             EMPLOYEE BENEFITS       TEACHER SUBS        GENERAL FUND   \n",
       "47683   TEACHER COVERAGE FOR TEACHER       TEACHER SUBS        GENERAL FUND   \n",
       "\n",
       "            Job_Title_Description       Text_3               Text_4  \\\n",
       "134338         TEACHER-ELEMENTARY          NaN                  NaN   \n",
       "206341                    (BLANK)      REGULAR                  NaN   \n",
       "326408            TCHER 2ND GRADE          NaN  REGULAR INSTRUCTION   \n",
       "364634    TEACHER, SHORT TERM SUB      REGULAR                  NaN   \n",
       "47683   TEACHER, SECONDARY (HIGH)  ALTERNATIVE                  NaN   \n",
       "\n",
       "       Sub_Object_Description Location_Description     Function_Description  \\\n",
       "134338                    NaN                  NaN                      NaN   \n",
       "206341                    NaN                  NaN                 RGN  GOB   \n",
       "326408                    NaN                  NaN                      NaN   \n",
       "364634                    NaN                  NaN  UNALLOC BUDGETS/SCHOOLS   \n",
       "47683                     NaN                  NaN              NON-PROJECT   \n",
       "\n",
       "       Facility_or_Department              Position_Extra  \\\n",
       "134338                    NaN                KINDERGARTEN   \n",
       "206341                    NaN                UNDESIGNATED   \n",
       "326408                    NaN                     TEACHER   \n",
       "364634                    NaN  PROFESSIONAL-INSTRUCTIONAL   \n",
       "47683                     NaN  PROFESSIONAL-INSTRUCTIONAL   \n",
       "\n",
       "                   Program_Description        Fund_Description  \\\n",
       "134338                    KINDERGARTEN            GENERAL FUND   \n",
       "206341   BUILDING IMPROVEMENT SERVICES                     NaN   \n",
       "326408           INSTRUCTION - REGULAR  GENERAL PURPOSE SCHOOL   \n",
       "364634  GENERAL MIDDLE/JUNIOR HIGH SCH                     NaN   \n",
       "47683    GENERAL HIGH SCHOOL EDUCATION                     NaN   \n",
       "\n",
       "                               Text_1  \n",
       "134338                            NaN  \n",
       "206341  BUILDING IMPROVEMENT SERVICES  \n",
       "326408                            NaN  \n",
       "364634            REGULAR INSTRUCTION  \n",
       "47683             REGULAR INSTRUCTION  "
      ]
     },
     "execution_count": 31,
     "metadata": {},
     "output_type": "execute_result"
    }
   ],
   "source": [
    "cat_train = train_trimmed.drop(['FTE','Total'], axis=1).drop(['Function', 'Use', 'Sharing', 'Reporting', 'Student_Type',\n",
    "       'Position_Type', 'Object_Type', 'Pre_K', 'Operating_Status'],axis=1)\n",
    "cat_train.head()"
   ]
  },
  {
   "cell_type": "code",
   "execution_count": 32,
   "metadata": {
    "ExecuteTime": {
     "end_time": "2018-12-02T02:53:28.666693Z",
     "start_time": "2018-12-02T02:53:28.657668Z"
    }
   },
   "outputs": [
    {
     "data": {
      "text/plain": [
       "Index(['Object_Description', 'Text_2', 'SubFund_Description',\n",
       "       'Job_Title_Description', 'Text_3', 'Text_4', 'Sub_Object_Description',\n",
       "       'Location_Description', 'Function_Description',\n",
       "       'Facility_or_Department', 'Position_Extra', 'Program_Description',\n",
       "       'Fund_Description', 'Text_1'],\n",
       "      dtype='object')"
      ]
     },
     "execution_count": 32,
     "metadata": {},
     "output_type": "execute_result"
    }
   ],
   "source": [
    "cat_train_lab = cat_train.columns\n",
    "cat_train_lab"
   ]
  },
  {
   "cell_type": "code",
   "execution_count": 386,
   "metadata": {
    "ExecuteTime": {
     "end_time": "2018-12-02T01:55:52.266858Z",
     "start_time": "2018-12-02T01:55:52.259839Z"
    }
   },
   "outputs": [],
   "source": [
    "#cat_pipeline = Pipeline(\n",
    "          #  ('selector',DataFrameSelector(cat_train_lab)),\n",
    "            #('imputer', CategoricalImputer()),\n",
    " #           )"
   ]
  },
  {
   "cell_type": "code",
   "execution_count": 33,
   "metadata": {
    "ExecuteTime": {
     "end_time": "2018-12-02T02:53:32.877451Z",
     "start_time": "2018-12-02T02:53:32.871936Z"
    }
   },
   "outputs": [],
   "source": [
    "c = CategoricalImputer()"
   ]
  },
  {
   "cell_type": "code",
   "execution_count": 34,
   "metadata": {
    "ExecuteTime": {
     "end_time": "2018-12-02T02:54:00.387219Z",
     "start_time": "2018-12-02T02:53:46.165222Z"
    }
   },
   "outputs": [
    {
     "name": "stdout",
     "output_type": "stream",
     "text": [
      "2    PERSONAL SERVICES - SUBSTITUTE TEACHERS CERTIF...\n",
      "3    PERSONAL SERVICES - OTHER COMPENSATION nan nan...\n",
      "4    nan SPECIAL EDUCATION INSTRUCTION LOCAL EDUCAT...\n",
      "5    PERSONAL SERVICES - PSYCHOLOGISTS nan nan nan ...\n",
      "8    REGULAR * nan COMMUNITY SERVICES nan nan nan C...\n",
      "dtype: object\n"
     ]
    },
    {
     "data": {
      "text/html": [
       "<div>\n",
       "<style scoped>\n",
       "    .dataframe tbody tr th:only-of-type {\n",
       "        vertical-align: middle;\n",
       "    }\n",
       "\n",
       "    .dataframe tbody tr th {\n",
       "        vertical-align: top;\n",
       "    }\n",
       "\n",
       "    .dataframe thead th {\n",
       "        text-align: right;\n",
       "    }\n",
       "</style>\n",
       "<table border=\"1\" class=\"dataframe\">\n",
       "  <thead>\n",
       "    <tr style=\"text-align: right;\">\n",
       "      <th></th>\n",
       "      <th>Object_Description</th>\n",
       "      <th>Text_2</th>\n",
       "      <th>SubFund_Description</th>\n",
       "      <th>Job_Title_Description</th>\n",
       "      <th>Text_3</th>\n",
       "      <th>Text_4</th>\n",
       "      <th>Sub_Object_Description</th>\n",
       "      <th>Location_Description</th>\n",
       "      <th>Function_Description</th>\n",
       "      <th>Facility_or_Department</th>\n",
       "      <th>Position_Extra</th>\n",
       "      <th>Program_Description</th>\n",
       "      <th>Fund_Description</th>\n",
       "      <th>Text_1</th>\n",
       "      <th>All</th>\n",
       "    </tr>\n",
       "  </thead>\n",
       "  <tbody>\n",
       "    <tr>\n",
       "      <th>134338</th>\n",
       "      <td>NaN</td>\n",
       "      <td>NaN</td>\n",
       "      <td>NaN</td>\n",
       "      <td>TEACHER-ELEMENTARY</td>\n",
       "      <td>NaN</td>\n",
       "      <td>NaN</td>\n",
       "      <td>NaN</td>\n",
       "      <td>NaN</td>\n",
       "      <td>NaN</td>\n",
       "      <td>NaN</td>\n",
       "      <td>KINDERGARTEN</td>\n",
       "      <td>KINDERGARTEN</td>\n",
       "      <td>GENERAL FUND</td>\n",
       "      <td>NaN</td>\n",
       "      <td>nan nan nan TEACHER-ELEMENTARY nan nan nan nan...</td>\n",
       "    </tr>\n",
       "    <tr>\n",
       "      <th>206341</th>\n",
       "      <td>CONTRACTOR SERVICES</td>\n",
       "      <td>BOND EXPENDITURES</td>\n",
       "      <td>BUILDING FUND</td>\n",
       "      <td>(BLANK)</td>\n",
       "      <td>REGULAR</td>\n",
       "      <td>NaN</td>\n",
       "      <td>NaN</td>\n",
       "      <td>NaN</td>\n",
       "      <td>RGN  GOB</td>\n",
       "      <td>NaN</td>\n",
       "      <td>UNDESIGNATED</td>\n",
       "      <td>BUILDING IMPROVEMENT SERVICES</td>\n",
       "      <td>NaN</td>\n",
       "      <td>BUILDING IMPROVEMENT SERVICES</td>\n",
       "      <td>CONTRACTOR SERVICES BOND EXPENDITURES BUILDING...</td>\n",
       "    </tr>\n",
       "    <tr>\n",
       "      <th>326408</th>\n",
       "      <td>PERSONAL SERVICES - TEACHERS</td>\n",
       "      <td>NaN</td>\n",
       "      <td>NaN</td>\n",
       "      <td>TCHER 2ND GRADE</td>\n",
       "      <td>NaN</td>\n",
       "      <td>REGULAR INSTRUCTION</td>\n",
       "      <td>NaN</td>\n",
       "      <td>NaN</td>\n",
       "      <td>NaN</td>\n",
       "      <td>NaN</td>\n",
       "      <td>TEACHER</td>\n",
       "      <td>INSTRUCTION - REGULAR</td>\n",
       "      <td>GENERAL PURPOSE SCHOOL</td>\n",
       "      <td>NaN</td>\n",
       "      <td>PERSONAL SERVICES - TEACHERS nan nan TCHER 2ND...</td>\n",
       "    </tr>\n",
       "    <tr>\n",
       "      <th>364634</th>\n",
       "      <td>EMPLOYEE BENEFITS</td>\n",
       "      <td>TEACHER SUBS</td>\n",
       "      <td>GENERAL FUND</td>\n",
       "      <td>TEACHER, SHORT TERM SUB</td>\n",
       "      <td>REGULAR</td>\n",
       "      <td>NaN</td>\n",
       "      <td>NaN</td>\n",
       "      <td>NaN</td>\n",
       "      <td>UNALLOC BUDGETS/SCHOOLS</td>\n",
       "      <td>NaN</td>\n",
       "      <td>PROFESSIONAL-INSTRUCTIONAL</td>\n",
       "      <td>GENERAL MIDDLE/JUNIOR HIGH SCH</td>\n",
       "      <td>NaN</td>\n",
       "      <td>REGULAR INSTRUCTION</td>\n",
       "      <td>EMPLOYEE BENEFITS TEACHER SUBS GENERAL FUND TE...</td>\n",
       "    </tr>\n",
       "    <tr>\n",
       "      <th>47683</th>\n",
       "      <td>TEACHER COVERAGE FOR TEACHER</td>\n",
       "      <td>TEACHER SUBS</td>\n",
       "      <td>GENERAL FUND</td>\n",
       "      <td>TEACHER, SECONDARY (HIGH)</td>\n",
       "      <td>ALTERNATIVE</td>\n",
       "      <td>NaN</td>\n",
       "      <td>NaN</td>\n",
       "      <td>NaN</td>\n",
       "      <td>NON-PROJECT</td>\n",
       "      <td>NaN</td>\n",
       "      <td>PROFESSIONAL-INSTRUCTIONAL</td>\n",
       "      <td>GENERAL HIGH SCHOOL EDUCATION</td>\n",
       "      <td>NaN</td>\n",
       "      <td>REGULAR INSTRUCTION</td>\n",
       "      <td>TEACHER COVERAGE FOR TEACHER TEACHER SUBS GENE...</td>\n",
       "    </tr>\n",
       "  </tbody>\n",
       "</table>\n",
       "</div>"
      ],
      "text/plain": [
       "                  Object_Description             Text_2 SubFund_Description  \\\n",
       "134338                           NaN                NaN                 NaN   \n",
       "206341           CONTRACTOR SERVICES  BOND EXPENDITURES       BUILDING FUND   \n",
       "326408  PERSONAL SERVICES - TEACHERS                NaN                 NaN   \n",
       "364634             EMPLOYEE BENEFITS       TEACHER SUBS        GENERAL FUND   \n",
       "47683   TEACHER COVERAGE FOR TEACHER       TEACHER SUBS        GENERAL FUND   \n",
       "\n",
       "            Job_Title_Description       Text_3               Text_4  \\\n",
       "134338         TEACHER-ELEMENTARY          NaN                  NaN   \n",
       "206341                    (BLANK)      REGULAR                  NaN   \n",
       "326408            TCHER 2ND GRADE          NaN  REGULAR INSTRUCTION   \n",
       "364634    TEACHER, SHORT TERM SUB      REGULAR                  NaN   \n",
       "47683   TEACHER, SECONDARY (HIGH)  ALTERNATIVE                  NaN   \n",
       "\n",
       "       Sub_Object_Description Location_Description     Function_Description  \\\n",
       "134338                    NaN                  NaN                      NaN   \n",
       "206341                    NaN                  NaN                 RGN  GOB   \n",
       "326408                    NaN                  NaN                      NaN   \n",
       "364634                    NaN                  NaN  UNALLOC BUDGETS/SCHOOLS   \n",
       "47683                     NaN                  NaN              NON-PROJECT   \n",
       "\n",
       "       Facility_or_Department              Position_Extra  \\\n",
       "134338                    NaN                KINDERGARTEN   \n",
       "206341                    NaN                UNDESIGNATED   \n",
       "326408                    NaN                     TEACHER   \n",
       "364634                    NaN  PROFESSIONAL-INSTRUCTIONAL   \n",
       "47683                     NaN  PROFESSIONAL-INSTRUCTIONAL   \n",
       "\n",
       "                   Program_Description        Fund_Description  \\\n",
       "134338                    KINDERGARTEN            GENERAL FUND   \n",
       "206341   BUILDING IMPROVEMENT SERVICES                     NaN   \n",
       "326408           INSTRUCTION - REGULAR  GENERAL PURPOSE SCHOOL   \n",
       "364634  GENERAL MIDDLE/JUNIOR HIGH SCH                     NaN   \n",
       "47683    GENERAL HIGH SCHOOL EDUCATION                     NaN   \n",
       "\n",
       "                               Text_1  \\\n",
       "134338                            NaN   \n",
       "206341  BUILDING IMPROVEMENT SERVICES   \n",
       "326408                            NaN   \n",
       "364634            REGULAR INSTRUCTION   \n",
       "47683             REGULAR INSTRUCTION   \n",
       "\n",
       "                                                      All  \n",
       "134338  nan nan nan TEACHER-ELEMENTARY nan nan nan nan...  \n",
       "206341  CONTRACTOR SERVICES BOND EXPENDITURES BUILDING...  \n",
       "326408  PERSONAL SERVICES - TEACHERS nan nan TCHER 2ND...  \n",
       "364634  EMPLOYEE BENEFITS TEACHER SUBS GENERAL FUND TE...  \n",
       "47683   TEACHER COVERAGE FOR TEACHER TEACHER SUBS GENE...  "
      ]
     },
     "execution_count": 34,
     "metadata": {},
     "output_type": "execute_result"
    }
   ],
   "source": [
    "extra_columns = c.transform(cat_train)\n",
    "\n",
    "cat_train[\"All\"] = extra_columns\n",
    "cat_train.head()"
   ]
  },
  {
   "cell_type": "code",
   "execution_count": 464,
   "metadata": {
    "ExecuteTime": {
     "end_time": "2018-12-02T02:54:13.860270Z",
     "start_time": "2018-12-02T02:54:13.852250Z"
    }
   },
   "outputs": [
    {
     "data": {
      "text/plain": [
       "(400277, 15)"
      ]
     },
     "execution_count": 464,
     "metadata": {},
     "output_type": "execute_result"
    }
   ],
   "source": [
    "cat_train.shape"
   ]
  },
  {
   "cell_type": "code",
   "execution_count": 45,
   "metadata": {},
   "outputs": [
    {
     "data": {
      "text/plain": [
       "134338    nan nan nan TEACHER-ELEMENTARY nan nan nan nan...\n",
       "206341    CONTRACTOR SERVICES BOND EXPENDITURES BUILDING...\n",
       "326408    PERSONAL SERVICES - TEACHERS nan nan TCHER 2ND...\n",
       "364634    EMPLOYEE BENEFITS TEACHER SUBS GENERAL FUND TE...\n",
       "47683     TEACHER COVERAGE FOR TEACHER TEACHER SUBS GENE...\n",
       "Name: All, dtype: object"
      ]
     },
     "execution_count": 45,
     "metadata": {},
     "output_type": "execute_result"
    }
   ],
   "source": [
    "cat_train[\"All\"].head()"
   ]
  },
  {
   "cell_type": "markdown",
   "metadata": {},
   "source": [
    "# Splitting train and test\n"
   ]
  },
  {
   "cell_type": "markdown",
   "metadata": {},
   "source": [
    "Since we are dealing with a multilabel, multiclass situation, we are going to split our training data set in a multi-stratified way. By that we mean we want to make sure all of our sub-categories are present in train and test set. \n",
    "If we don't use this custom train-test-split, we may run into issues where our train data has never seen some of the sub-categories and we know that this cannot be the case because we are performing supervised learning."
   ]
  },
  {
   "cell_type": "code",
   "execution_count": 24,
   "metadata": {
    "ExecuteTime": {
     "end_time": "2018-12-01T11:25:18.504788Z",
     "start_time": "2018-12-01T11:25:18.228052Z"
    }
   },
   "outputs": [],
   "source": [
    "#source: https://github.com/drivendataorg/box-plots-sklearn/blob/master/src/data/multilabel.py\n",
    "from warnings import warn\n",
    "\n",
    "import numpy as np\n",
    "import pandas as pd\n",
    "\n",
    "def multilabel_sample(y, size=1000, min_count=5, seed=None):\n",
    "    \"\"\" Takes a matrix of binary labels `y` and returns\n",
    "        the indices for a sample of size `size` if\n",
    "        `size` > 1 or `size` * len(y) if size =< 1.\n",
    "        The sample is guaranteed to have > `min_count` of\n",
    "        each label.\n",
    "    \"\"\"\n",
    "    try:\n",
    "        if (np.unique(y).astype(int) != np.array([0, 1])).any():\n",
    "            raise ValueError()\n",
    "    except (TypeError, ValueError):\n",
    "        raise ValueError('multilabel_sample only works with binary indicator matrices')\n",
    "\n",
    "    if (y.sum(axis=0) < min_count).any():\n",
    "        raise ValueError('Some classes do not have enough examples. Change min_count if necessary.')\n",
    "\n",
    "    if size <= 1:\n",
    "        size = np.floor(y.shape[0] * size)\n",
    "\n",
    "    if y.shape[1] * min_count > size:\n",
    "        msg = \"Size less than number of columns * min_count, returning {} items instead of {}.\"\n",
    "        warn(msg.format(y.shape[1] * min_count, size))\n",
    "        size = y.shape[1] * min_count\n",
    "\n",
    "    rng = np.random.RandomState(seed if seed is not None else np.random.randint(1))\n",
    "\n",
    "    if isinstance(y, pd.DataFrame):\n",
    "        choices = y.index\n",
    "        y = y.values\n",
    "    else:\n",
    "        choices = np.arange(y.shape[0])\n",
    "\n",
    "    sample_idxs = np.array([], dtype=choices.dtype)\n",
    "\n",
    "    # first, guarantee > min_count of each label\n",
    "    for j in range(y.shape[1]):\n",
    "        label_choices = choices[y[:, j] == 1]\n",
    "        label_idxs_sampled = rng.choice(label_choices, size=min_count, replace=False)\n",
    "        sample_idxs = np.concatenate([label_idxs_sampled, sample_idxs])\n",
    "\n",
    "    sample_idxs = np.unique(sample_idxs)\n",
    "\n",
    "    # now that we have at least min_count of each, we can just random sample\n",
    "    sample_count = int(size - sample_idxs.shape[0])\n",
    "\n",
    "    # get sample_count indices from remaining choices\n",
    "    remaining_choices = np.setdiff1d(choices, sample_idxs)\n",
    "    remaining_sampled = rng.choice(remaining_choices,\n",
    "                                   size=sample_count,\n",
    "                                   replace=False)\n",
    "\n",
    "    return np.concatenate([sample_idxs, remaining_sampled])\n",
    "\n",
    "\n",
    "def multilabel_sample_dataframe(df, labels, size, min_count=5, seed=None):\n",
    "    \"\"\" Takes a dataframe `df` and returns a sample of size `size` where all\n",
    "        classes in the binary matrix `labels` are represented at\n",
    "        least `min_count` times.\n",
    "    \"\"\"\n",
    "    idxs = multilabel_sample(labels, size=size, min_count=min_count, seed=seed)\n",
    "    return df.loc[idxs]\n",
    "\n",
    "\n",
    "def multilabel_train_test_split(X, Y, size, min_count=5, seed=None):\n",
    "    \"\"\" Takes a features matrix `X` and a label matrix `Y` and\n",
    "        returns (X_train, X_test, Y_train, Y_test) where all\n",
    "        classes in Y are represented at least `min_count` times.\n",
    "    \"\"\"\n",
    "    index = Y.index if isinstance(Y, pd.DataFrame) else np.arange(Y.shape[0])\n",
    "\n",
    "    test_set_idxs = multilabel_sample(Y, size=size, min_count=min_count, seed=seed)\n",
    "    train_set_idxs = np.setdiff1d(index, test_set_idxs)\n",
    "\n",
    "    test_set_mask = index.isin(test_set_idxs)\n",
    "    train_set_mask = ~test_set_mask\n",
    "\n",
    "    return (X[train_set_mask], X[test_set_mask], Y[train_set_mask], Y[test_set_mask])\n"
   ]
  },
  {
   "cell_type": "markdown",
   "metadata": {},
   "source": [
    "# Classification Model"
   ]
  },
  {
   "cell_type": "markdown",
   "metadata": {},
   "source": [
    "## Logging the Result"
   ]
  },
  {
   "cell_type": "code",
   "execution_count": 35,
   "metadata": {
    "ExecuteTime": {
     "end_time": "2018-12-01T14:54:57.131940Z",
     "start_time": "2018-12-01T14:54:57.120914Z"
    }
   },
   "outputs": [],
   "source": [
    "results = pd.DataFrame(columns=[\"Model\", \"Hyper parameter tuning\", \"Test Accuracy\"])"
   ]
  },
  {
   "cell_type": "markdown",
   "metadata": {},
   "source": [
    "## Create complete dataset with imputed columns and added features"
   ]
  },
  {
   "cell_type": "code",
   "execution_count": 37,
   "metadata": {
    "ExecuteTime": {
     "end_time": "2018-12-02T02:12:39.496746Z",
     "start_time": "2018-12-02T02:12:39.478699Z"
    }
   },
   "outputs": [
    {
     "data": {
      "text/html": [
       "<div>\n",
       "<style scoped>\n",
       "    .dataframe tbody tr th:only-of-type {\n",
       "        vertical-align: middle;\n",
       "    }\n",
       "\n",
       "    .dataframe tbody tr th {\n",
       "        vertical-align: top;\n",
       "    }\n",
       "\n",
       "    .dataframe thead th {\n",
       "        text-align: right;\n",
       "    }\n",
       "</style>\n",
       "<table border=\"1\" class=\"dataframe\">\n",
       "  <thead>\n",
       "    <tr style=\"text-align: right;\">\n",
       "      <th></th>\n",
       "      <th>FTE</th>\n",
       "      <th>Total</th>\n",
       "    </tr>\n",
       "  </thead>\n",
       "  <tbody>\n",
       "    <tr>\n",
       "      <th>2</th>\n",
       "      <td>0.000000</td>\n",
       "      <td>141.57990</td>\n",
       "    </tr>\n",
       "    <tr>\n",
       "      <th>3</th>\n",
       "      <td>0.000000</td>\n",
       "      <td>1166.76000</td>\n",
       "    </tr>\n",
       "    <tr>\n",
       "      <th>4</th>\n",
       "      <td>1.000000</td>\n",
       "      <td>33668.53737</td>\n",
       "    </tr>\n",
       "    <tr>\n",
       "      <th>5</th>\n",
       "      <td>0.000000</td>\n",
       "      <td>6285.45000</td>\n",
       "    </tr>\n",
       "    <tr>\n",
       "      <th>8</th>\n",
       "      <td>0.585395</td>\n",
       "      <td>-0.19000</td>\n",
       "    </tr>\n",
       "  </tbody>\n",
       "</table>\n",
       "</div>"
      ],
      "text/plain": [
       "        FTE        Total\n",
       "2  0.000000    141.57990\n",
       "3  0.000000   1166.76000\n",
       "4  1.000000  33668.53737\n",
       "5  0.000000   6285.45000\n",
       "8  0.585395     -0.19000"
      ]
     },
     "execution_count": 37,
     "metadata": {},
     "output_type": "execute_result"
    }
   ],
   "source": [
    "numeric_train.head()"
   ]
  },
  {
   "cell_type": "code",
   "execution_count": 43,
   "metadata": {
    "ExecuteTime": {
     "end_time": "2018-12-02T02:00:45.099914Z",
     "start_time": "2018-12-02T02:00:45.084876Z"
    }
   },
   "outputs": [
    {
     "data": {
      "text/html": [
       "<div>\n",
       "<style scoped>\n",
       "    .dataframe tbody tr th:only-of-type {\n",
       "        vertical-align: middle;\n",
       "    }\n",
       "\n",
       "    .dataframe tbody tr th {\n",
       "        vertical-align: top;\n",
       "    }\n",
       "\n",
       "    .dataframe thead th {\n",
       "        text-align: right;\n",
       "    }\n",
       "</style>\n",
       "<table border=\"1\" class=\"dataframe\">\n",
       "  <thead>\n",
       "    <tr style=\"text-align: right;\">\n",
       "      <th></th>\n",
       "      <th>Object_Description</th>\n",
       "      <th>Text_2</th>\n",
       "      <th>SubFund_Description</th>\n",
       "      <th>Job_Title_Description</th>\n",
       "      <th>Text_3</th>\n",
       "      <th>Text_4</th>\n",
       "      <th>Sub_Object_Description</th>\n",
       "      <th>Location_Description</th>\n",
       "      <th>Function_Description</th>\n",
       "      <th>Facility_or_Department</th>\n",
       "      <th>Position_Extra</th>\n",
       "      <th>Program_Description</th>\n",
       "      <th>Fund_Description</th>\n",
       "      <th>Text_1</th>\n",
       "      <th>All</th>\n",
       "    </tr>\n",
       "  </thead>\n",
       "  <tbody>\n",
       "    <tr>\n",
       "      <th>134338</th>\n",
       "      <td>NaN</td>\n",
       "      <td>NaN</td>\n",
       "      <td>NaN</td>\n",
       "      <td>TEACHER-ELEMENTARY</td>\n",
       "      <td>NaN</td>\n",
       "      <td>NaN</td>\n",
       "      <td>NaN</td>\n",
       "      <td>NaN</td>\n",
       "      <td>NaN</td>\n",
       "      <td>NaN</td>\n",
       "      <td>KINDERGARTEN</td>\n",
       "      <td>KINDERGARTEN</td>\n",
       "      <td>GENERAL FUND</td>\n",
       "      <td>NaN</td>\n",
       "      <td>nan nan nan TEACHER-ELEMENTARY nan nan nan nan...</td>\n",
       "    </tr>\n",
       "    <tr>\n",
       "      <th>206341</th>\n",
       "      <td>CONTRACTOR SERVICES</td>\n",
       "      <td>BOND EXPENDITURES</td>\n",
       "      <td>BUILDING FUND</td>\n",
       "      <td>(BLANK)</td>\n",
       "      <td>REGULAR</td>\n",
       "      <td>NaN</td>\n",
       "      <td>NaN</td>\n",
       "      <td>NaN</td>\n",
       "      <td>RGN  GOB</td>\n",
       "      <td>NaN</td>\n",
       "      <td>UNDESIGNATED</td>\n",
       "      <td>BUILDING IMPROVEMENT SERVICES</td>\n",
       "      <td>NaN</td>\n",
       "      <td>BUILDING IMPROVEMENT SERVICES</td>\n",
       "      <td>CONTRACTOR SERVICES BOND EXPENDITURES BUILDING...</td>\n",
       "    </tr>\n",
       "    <tr>\n",
       "      <th>326408</th>\n",
       "      <td>PERSONAL SERVICES - TEACHERS</td>\n",
       "      <td>NaN</td>\n",
       "      <td>NaN</td>\n",
       "      <td>TCHER 2ND GRADE</td>\n",
       "      <td>NaN</td>\n",
       "      <td>REGULAR INSTRUCTION</td>\n",
       "      <td>NaN</td>\n",
       "      <td>NaN</td>\n",
       "      <td>NaN</td>\n",
       "      <td>NaN</td>\n",
       "      <td>TEACHER</td>\n",
       "      <td>INSTRUCTION - REGULAR</td>\n",
       "      <td>GENERAL PURPOSE SCHOOL</td>\n",
       "      <td>NaN</td>\n",
       "      <td>PERSONAL SERVICES - TEACHERS nan nan TCHER 2ND...</td>\n",
       "    </tr>\n",
       "    <tr>\n",
       "      <th>364634</th>\n",
       "      <td>EMPLOYEE BENEFITS</td>\n",
       "      <td>TEACHER SUBS</td>\n",
       "      <td>GENERAL FUND</td>\n",
       "      <td>TEACHER, SHORT TERM SUB</td>\n",
       "      <td>REGULAR</td>\n",
       "      <td>NaN</td>\n",
       "      <td>NaN</td>\n",
       "      <td>NaN</td>\n",
       "      <td>UNALLOC BUDGETS/SCHOOLS</td>\n",
       "      <td>NaN</td>\n",
       "      <td>PROFESSIONAL-INSTRUCTIONAL</td>\n",
       "      <td>GENERAL MIDDLE/JUNIOR HIGH SCH</td>\n",
       "      <td>NaN</td>\n",
       "      <td>REGULAR INSTRUCTION</td>\n",
       "      <td>EMPLOYEE BENEFITS TEACHER SUBS GENERAL FUND TE...</td>\n",
       "    </tr>\n",
       "    <tr>\n",
       "      <th>47683</th>\n",
       "      <td>TEACHER COVERAGE FOR TEACHER</td>\n",
       "      <td>TEACHER SUBS</td>\n",
       "      <td>GENERAL FUND</td>\n",
       "      <td>TEACHER, SECONDARY (HIGH)</td>\n",
       "      <td>ALTERNATIVE</td>\n",
       "      <td>NaN</td>\n",
       "      <td>NaN</td>\n",
       "      <td>NaN</td>\n",
       "      <td>NON-PROJECT</td>\n",
       "      <td>NaN</td>\n",
       "      <td>PROFESSIONAL-INSTRUCTIONAL</td>\n",
       "      <td>GENERAL HIGH SCHOOL EDUCATION</td>\n",
       "      <td>NaN</td>\n",
       "      <td>REGULAR INSTRUCTION</td>\n",
       "      <td>TEACHER COVERAGE FOR TEACHER TEACHER SUBS GENE...</td>\n",
       "    </tr>\n",
       "  </tbody>\n",
       "</table>\n",
       "</div>"
      ],
      "text/plain": [
       "                  Object_Description             Text_2 SubFund_Description  \\\n",
       "134338                           NaN                NaN                 NaN   \n",
       "206341           CONTRACTOR SERVICES  BOND EXPENDITURES       BUILDING FUND   \n",
       "326408  PERSONAL SERVICES - TEACHERS                NaN                 NaN   \n",
       "364634             EMPLOYEE BENEFITS       TEACHER SUBS        GENERAL FUND   \n",
       "47683   TEACHER COVERAGE FOR TEACHER       TEACHER SUBS        GENERAL FUND   \n",
       "\n",
       "            Job_Title_Description       Text_3               Text_4  \\\n",
       "134338         TEACHER-ELEMENTARY          NaN                  NaN   \n",
       "206341                    (BLANK)      REGULAR                  NaN   \n",
       "326408            TCHER 2ND GRADE          NaN  REGULAR INSTRUCTION   \n",
       "364634    TEACHER, SHORT TERM SUB      REGULAR                  NaN   \n",
       "47683   TEACHER, SECONDARY (HIGH)  ALTERNATIVE                  NaN   \n",
       "\n",
       "       Sub_Object_Description Location_Description     Function_Description  \\\n",
       "134338                    NaN                  NaN                      NaN   \n",
       "206341                    NaN                  NaN                 RGN  GOB   \n",
       "326408                    NaN                  NaN                      NaN   \n",
       "364634                    NaN                  NaN  UNALLOC BUDGETS/SCHOOLS   \n",
       "47683                     NaN                  NaN              NON-PROJECT   \n",
       "\n",
       "       Facility_or_Department              Position_Extra  \\\n",
       "134338                    NaN                KINDERGARTEN   \n",
       "206341                    NaN                UNDESIGNATED   \n",
       "326408                    NaN                     TEACHER   \n",
       "364634                    NaN  PROFESSIONAL-INSTRUCTIONAL   \n",
       "47683                     NaN  PROFESSIONAL-INSTRUCTIONAL   \n",
       "\n",
       "                   Program_Description        Fund_Description  \\\n",
       "134338                    KINDERGARTEN            GENERAL FUND   \n",
       "206341   BUILDING IMPROVEMENT SERVICES                     NaN   \n",
       "326408           INSTRUCTION - REGULAR  GENERAL PURPOSE SCHOOL   \n",
       "364634  GENERAL MIDDLE/JUNIOR HIGH SCH                     NaN   \n",
       "47683    GENERAL HIGH SCHOOL EDUCATION                     NaN   \n",
       "\n",
       "                               Text_1  \\\n",
       "134338                            NaN   \n",
       "206341  BUILDING IMPROVEMENT SERVICES   \n",
       "326408                            NaN   \n",
       "364634            REGULAR INSTRUCTION   \n",
       "47683             REGULAR INSTRUCTION   \n",
       "\n",
       "                                                      All  \n",
       "134338  nan nan nan TEACHER-ELEMENTARY nan nan nan nan...  \n",
       "206341  CONTRACTOR SERVICES BOND EXPENDITURES BUILDING...  \n",
       "326408  PERSONAL SERVICES - TEACHERS nan nan TCHER 2ND...  \n",
       "364634  EMPLOYEE BENEFITS TEACHER SUBS GENERAL FUND TE...  \n",
       "47683   TEACHER COVERAGE FOR TEACHER TEACHER SUBS GENE...  "
      ]
     },
     "execution_count": 43,
     "metadata": {},
     "output_type": "execute_result"
    }
   ],
   "source": [
    "cat_train.head()"
   ]
  },
  {
   "cell_type": "code",
   "execution_count": 38,
   "metadata": {
    "ExecuteTime": {
     "end_time": "2018-12-02T02:58:06.344572Z",
     "start_time": "2018-12-02T02:58:03.047809Z"
    },
    "collapsed": true
   },
   "outputs": [
    {
     "data": {
      "text/html": [
       "<div>\n",
       "<style scoped>\n",
       "    .dataframe tbody tr th:only-of-type {\n",
       "        vertical-align: middle;\n",
       "    }\n",
       "\n",
       "    .dataframe tbody tr th {\n",
       "        vertical-align: top;\n",
       "    }\n",
       "\n",
       "    .dataframe thead th {\n",
       "        text-align: right;\n",
       "    }\n",
       "</style>\n",
       "<table border=\"1\" class=\"dataframe\">\n",
       "  <thead>\n",
       "    <tr style=\"text-align: right;\">\n",
       "      <th></th>\n",
       "      <th>Function</th>\n",
       "      <th>Use</th>\n",
       "      <th>Sharing</th>\n",
       "      <th>Reporting</th>\n",
       "      <th>Student_Type</th>\n",
       "      <th>Position_Type</th>\n",
       "      <th>Object_Type</th>\n",
       "      <th>Pre_K</th>\n",
       "      <th>Operating_Status</th>\n",
       "      <th>Object_Description</th>\n",
       "      <th>...</th>\n",
       "      <th>Text_4</th>\n",
       "      <th>Sub_Object_Description</th>\n",
       "      <th>Location_Description</th>\n",
       "      <th>Function_Description</th>\n",
       "      <th>Facility_or_Department</th>\n",
       "      <th>Position_Extra</th>\n",
       "      <th>Program_Description</th>\n",
       "      <th>Fund_Description</th>\n",
       "      <th>Text_1</th>\n",
       "      <th>All</th>\n",
       "    </tr>\n",
       "  </thead>\n",
       "  <tbody>\n",
       "    <tr>\n",
       "      <th>2</th>\n",
       "      <td>SUBSTITUTE COMPENSATION</td>\n",
       "      <td>INSTRUCTION</td>\n",
       "      <td>SCHOOL REPORTED</td>\n",
       "      <td>SCHOOL</td>\n",
       "      <td>UNSPECIFIED</td>\n",
       "      <td>SUBSTITUTE</td>\n",
       "      <td>SUBSTITUTE COMPENSATION</td>\n",
       "      <td>NON PREK</td>\n",
       "      <td>PREK-12 OPERATING</td>\n",
       "      <td>PERSONAL SERVICES - SUBSTITUTE TEACHERS CERTIFIED</td>\n",
       "      <td>...</td>\n",
       "      <td>REGULAR INSTRUCTION</td>\n",
       "      <td>NaN</td>\n",
       "      <td>NaN</td>\n",
       "      <td>NaN</td>\n",
       "      <td>NaN</td>\n",
       "      <td>SUBSTITUTE TEACHER</td>\n",
       "      <td>INSTRUCTION - REGULAR</td>\n",
       "      <td>GENERAL PURPOSE SCHOOL</td>\n",
       "      <td>NaN</td>\n",
       "      <td>PERSONAL SERVICES - SUBSTITUTE TEACHERS CERTIF...</td>\n",
       "    </tr>\n",
       "    <tr>\n",
       "      <th>3</th>\n",
       "      <td>TEACHER COMPENSATION</td>\n",
       "      <td>INSTRUCTION</td>\n",
       "      <td>SCHOOL REPORTED</td>\n",
       "      <td>SCHOOL</td>\n",
       "      <td>UNSPECIFIED</td>\n",
       "      <td>TEACHER</td>\n",
       "      <td>OTHER COMPENSATION/STIPEND</td>\n",
       "      <td>NON PREK</td>\n",
       "      <td>PREK-12 OPERATING</td>\n",
       "      <td>PERSONAL SERVICES - OTHER COMPENSATION</td>\n",
       "      <td>...</td>\n",
       "      <td>REGULAR INSTRUCTION</td>\n",
       "      <td>NaN</td>\n",
       "      <td>NaN</td>\n",
       "      <td>NaN</td>\n",
       "      <td>NaN</td>\n",
       "      <td>CAREER LADDER I/EXT LEARNING</td>\n",
       "      <td>INSTRUCTION - REGULAR</td>\n",
       "      <td>GENERAL PURPOSE SCHOOL</td>\n",
       "      <td>NaN</td>\n",
       "      <td>PERSONAL SERVICES - OTHER COMPENSATION nan nan...</td>\n",
       "    </tr>\n",
       "    <tr>\n",
       "      <th>4</th>\n",
       "      <td>AIDES COMPENSATION</td>\n",
       "      <td>INSTRUCTION</td>\n",
       "      <td>SCHOOL ON CENTRAL BUDGETS</td>\n",
       "      <td>NON-SCHOOL</td>\n",
       "      <td>SPECIAL EDUCATION</td>\n",
       "      <td>TA</td>\n",
       "      <td>BASE SALARY/COMPENSATION</td>\n",
       "      <td>NO_LABEL</td>\n",
       "      <td>PREK-12 OPERATING</td>\n",
       "      <td>NaN</td>\n",
       "      <td>...</td>\n",
       "      <td>NaN</td>\n",
       "      <td>NaN</td>\n",
       "      <td>SCHOOL SUPPORT</td>\n",
       "      <td>NaN</td>\n",
       "      <td>NaN</td>\n",
       "      <td>NaN</td>\n",
       "      <td>NaN</td>\n",
       "      <td>NaN</td>\n",
       "      <td>NaN</td>\n",
       "      <td>nan SPECIAL EDUCATION INSTRUCTION LOCAL EDUCAT...</td>\n",
       "    </tr>\n",
       "    <tr>\n",
       "      <th>5</th>\n",
       "      <td>SOCIAL &amp; EMOTIONAL</td>\n",
       "      <td>PUPIL SERVICES &amp; ENRICHMENT</td>\n",
       "      <td>SCHOOL ON CENTRAL BUDGETS</td>\n",
       "      <td>NON-SCHOOL</td>\n",
       "      <td>UNSPECIFIED</td>\n",
       "      <td>PSYCHOLOGIST</td>\n",
       "      <td>BASE SALARY/COMPENSATION</td>\n",
       "      <td>NON PREK</td>\n",
       "      <td>PREK-12 OPERATING</td>\n",
       "      <td>PERSONAL SERVICES - PSYCHOLOGISTS</td>\n",
       "      <td>...</td>\n",
       "      <td>OTHER STUDENT SUPPORT</td>\n",
       "      <td>NaN</td>\n",
       "      <td>DISTRICT WIDE RESOURCES</td>\n",
       "      <td>NaN</td>\n",
       "      <td>PSYCHOLOGICAL SERVICES</td>\n",
       "      <td>PSYCHOLOGICAL</td>\n",
       "      <td>PRINCIPAL'S OFFICE</td>\n",
       "      <td>GENERAL PURPOSE SCHOOL</td>\n",
       "      <td>NaN</td>\n",
       "      <td>PERSONAL SERVICES - PSYCHOLOGISTS nan nan nan ...</td>\n",
       "    </tr>\n",
       "    <tr>\n",
       "      <th>8</th>\n",
       "      <td>NO_LABEL</td>\n",
       "      <td>NO_LABEL</td>\n",
       "      <td>NO_LABEL</td>\n",
       "      <td>NO_LABEL</td>\n",
       "      <td>NO_LABEL</td>\n",
       "      <td>NO_LABEL</td>\n",
       "      <td>NO_LABEL</td>\n",
       "      <td>NO_LABEL</td>\n",
       "      <td>NON-OPERATING</td>\n",
       "      <td>REGULAR *</td>\n",
       "      <td>...</td>\n",
       "      <td>NaN</td>\n",
       "      <td>CERTIFICATED EMPLOYEES SALARIES AND WAGES</td>\n",
       "      <td>NaN</td>\n",
       "      <td>NON-PUBLIC SCHOOL SERVICES *</td>\n",
       "      <td>NaN</td>\n",
       "      <td>NaN</td>\n",
       "      <td>NaN</td>\n",
       "      <td>TITLE I - DISADVANTAGED CHILDREN/TARGETED ASSI...</td>\n",
       "      <td>BUILDING ALLOCATIONS</td>\n",
       "      <td>REGULAR * nan COMMUNITY SERVICES nan nan nan C...</td>\n",
       "    </tr>\n",
       "  </tbody>\n",
       "</table>\n",
       "<p>5 rows × 40 columns</p>\n",
       "</div>"
      ],
      "text/plain": [
       "                  Function                          Use  \\\n",
       "2  SUBSTITUTE COMPENSATION                  INSTRUCTION   \n",
       "3     TEACHER COMPENSATION                  INSTRUCTION   \n",
       "4       AIDES COMPENSATION                  INSTRUCTION   \n",
       "5       SOCIAL & EMOTIONAL  PUPIL SERVICES & ENRICHMENT   \n",
       "8                 NO_LABEL                     NO_LABEL   \n",
       "\n",
       "                     Sharing   Reporting       Student_Type Position_Type  \\\n",
       "2            SCHOOL REPORTED      SCHOOL        UNSPECIFIED    SUBSTITUTE   \n",
       "3            SCHOOL REPORTED      SCHOOL        UNSPECIFIED       TEACHER   \n",
       "4  SCHOOL ON CENTRAL BUDGETS  NON-SCHOOL  SPECIAL EDUCATION            TA   \n",
       "5  SCHOOL ON CENTRAL BUDGETS  NON-SCHOOL        UNSPECIFIED  PSYCHOLOGIST   \n",
       "8                   NO_LABEL    NO_LABEL           NO_LABEL      NO_LABEL   \n",
       "\n",
       "                  Object_Type     Pre_K   Operating_Status  \\\n",
       "2     SUBSTITUTE COMPENSATION  NON PREK  PREK-12 OPERATING   \n",
       "3  OTHER COMPENSATION/STIPEND  NON PREK  PREK-12 OPERATING   \n",
       "4    BASE SALARY/COMPENSATION  NO_LABEL  PREK-12 OPERATING   \n",
       "5    BASE SALARY/COMPENSATION  NON PREK  PREK-12 OPERATING   \n",
       "8                    NO_LABEL  NO_LABEL      NON-OPERATING   \n",
       "\n",
       "                                  Object_Description  \\\n",
       "2  PERSONAL SERVICES - SUBSTITUTE TEACHERS CERTIFIED   \n",
       "3             PERSONAL SERVICES - OTHER COMPENSATION   \n",
       "4                                                NaN   \n",
       "5                  PERSONAL SERVICES - PSYCHOLOGISTS   \n",
       "8                                          REGULAR *   \n",
       "\n",
       "                         ...                                         Text_4  \\\n",
       "2                        ...                            REGULAR INSTRUCTION   \n",
       "3                        ...                            REGULAR INSTRUCTION   \n",
       "4                        ...                                            NaN   \n",
       "5                        ...                          OTHER STUDENT SUPPORT   \n",
       "8                        ...                                            NaN   \n",
       "\n",
       "                      Sub_Object_Description     Location_Description  \\\n",
       "2                                        NaN                      NaN   \n",
       "3                                        NaN                      NaN   \n",
       "4                                        NaN           SCHOOL SUPPORT   \n",
       "5                                        NaN  DISTRICT WIDE RESOURCES   \n",
       "8  CERTIFICATED EMPLOYEES SALARIES AND WAGES                      NaN   \n",
       "\n",
       "           Function_Description  Facility_or_Department  \\\n",
       "2                           NaN                     NaN   \n",
       "3                           NaN                     NaN   \n",
       "4                           NaN                     NaN   \n",
       "5                           NaN  PSYCHOLOGICAL SERVICES   \n",
       "8  NON-PUBLIC SCHOOL SERVICES *                     NaN   \n",
       "\n",
       "                 Position_Extra    Program_Description  \\\n",
       "2            SUBSTITUTE TEACHER  INSTRUCTION - REGULAR   \n",
       "3  CAREER LADDER I/EXT LEARNING  INSTRUCTION - REGULAR   \n",
       "4                           NaN                    NaN   \n",
       "5                 PSYCHOLOGICAL     PRINCIPAL'S OFFICE   \n",
       "8                           NaN                    NaN   \n",
       "\n",
       "                                    Fund_Description                Text_1  \\\n",
       "2                             GENERAL PURPOSE SCHOOL                   NaN   \n",
       "3                             GENERAL PURPOSE SCHOOL                   NaN   \n",
       "4                                                NaN                   NaN   \n",
       "5                             GENERAL PURPOSE SCHOOL                   NaN   \n",
       "8  TITLE I - DISADVANTAGED CHILDREN/TARGETED ASSI...  BUILDING ALLOCATIONS   \n",
       "\n",
       "                                                 All  \n",
       "2  PERSONAL SERVICES - SUBSTITUTE TEACHERS CERTIF...  \n",
       "3  PERSONAL SERVICES - OTHER COMPENSATION nan nan...  \n",
       "4  nan SPECIAL EDUCATION INSTRUCTION LOCAL EDUCAT...  \n",
       "5  PERSONAL SERVICES - PSYCHOLOGISTS nan nan nan ...  \n",
       "8  REGULAR * nan COMMUNITY SERVICES nan nan nan C...  \n",
       "\n",
       "[5 rows x 40 columns]"
      ]
     },
     "execution_count": 38,
     "metadata": {},
     "output_type": "execute_result"
    }
   ],
   "source": [
    "\n",
    "df1 = numeric_train.sort_index()  # Data from numeric pipeline\n",
    "df2 = cat_train.sort_index()      # Data from categoric pipeline\n",
    "df3 = train_trimmed.sort_index().drop(num_lab,axis=1) # Target columns\n",
    "miced_data_invtransform = pd.concat([df3,df1,df2], axis=1)\n",
    "miced_data_invtransform.head()"
   ]
  },
  {
   "cell_type": "code",
   "execution_count": 39,
   "metadata": {
    "ExecuteTime": {
     "end_time": "2018-12-02T02:59:26.455979Z",
     "start_time": "2018-12-02T02:59:26.448457Z"
    }
   },
   "outputs": [
    {
     "data": {
      "text/plain": [
       "(400277, 40)"
      ]
     },
     "execution_count": 39,
     "metadata": {},
     "output_type": "execute_result"
    }
   ],
   "source": [
    "miced_data_invtransform.shape"
   ]
  },
  {
   "cell_type": "code",
   "execution_count": 40,
   "metadata": {
    "ExecuteTime": {
     "end_time": "2018-12-02T02:58:48.504934Z",
     "start_time": "2018-12-02T02:58:44.976054Z"
    }
   },
   "outputs": [
    {
     "data": {
      "text/plain": [
       "Function                       0\n",
       "Use                            0\n",
       "Sharing                        0\n",
       "Reporting                      0\n",
       "Student_Type                   0\n",
       "Position_Type                  0\n",
       "Object_Type                    0\n",
       "Pre_K                          0\n",
       "Operating_Status               0\n",
       "Object_Description         24784\n",
       "Text_2                    312060\n",
       "SubFund_Description        93422\n",
       "Job_Title_Description     107534\n",
       "Text_3                    291125\n",
       "Text_4                    346531\n",
       "Sub_Object_Description    308674\n",
       "Location_Description      238223\n",
       "Function_Description       58082\n",
       "Facility_or_Department    346391\n",
       "Position_Extra            135513\n",
       "Program_Description        95617\n",
       "Fund_Description          197400\n",
       "Text_1                    107992\n",
       "FTE                            0\n",
       "Total                          0\n",
       "Object_Description         24784\n",
       "Text_2                    312060\n",
       "SubFund_Description        93422\n",
       "Job_Title_Description     107534\n",
       "Text_3                    291125\n",
       "Text_4                    346531\n",
       "Sub_Object_Description    308674\n",
       "Location_Description      238223\n",
       "Function_Description       58082\n",
       "Facility_or_Department    346391\n",
       "Position_Extra            135513\n",
       "Program_Description        95617\n",
       "Fund_Description          197400\n",
       "Text_1                    107992\n",
       "All                            0\n",
       "dtype: int64"
      ]
     },
     "execution_count": 40,
     "metadata": {},
     "output_type": "execute_result"
    }
   ],
   "source": [
    "miced_data_invtransform.isnull().sum()"
   ]
  },
  {
   "cell_type": "markdown",
   "metadata": {},
   "source": [
    "## Trials with predicting accuracy for One Label at a time"
   ]
  },
  {
   "cell_type": "code",
   "execution_count": 41,
   "metadata": {
    "ExecuteTime": {
     "end_time": "2018-12-01T14:27:06.304179Z",
     "start_time": "2018-12-01T14:27:06.292172Z"
    }
   },
   "outputs": [],
   "source": [
    "from sklearn.model_selection import train_test_split\n",
    "from sklearn.feature_extraction.text import TfidfVectorizer\n",
    "from sklearn.naive_bayes import MultinomialNB\n",
    "from sklearn.metrics import accuracy_score\n",
    "from sklearn.multiclass import OneVsRestClassifier\n",
    "from nltk.corpus import stopwords\n",
    "stop_words = set(stopwords.words('english'))\n",
    "from sklearn.svm import LinearSVC\n",
    "from sklearn.linear_model import LogisticRegression\n",
    "from sklearn.pipeline import Pipeline\n",
    "import seaborn as sns"
   ]
  },
  {
   "cell_type": "code",
   "execution_count": 42,
   "metadata": {
    "ExecuteTime": {
     "end_time": "2018-12-02T03:00:26.482540Z",
     "start_time": "2018-12-02T03:00:26.429901Z"
    }
   },
   "outputs": [
    {
     "data": {
      "text/plain": [
       "2    PERSONAL SERVICES - SUBSTITUTE TEACHERS CERTIF...\n",
       "3    PERSONAL SERVICES - OTHER COMPENSATION nan nan...\n",
       "4    nan SPECIAL EDUCATION INSTRUCTION LOCAL EDUCAT...\n",
       "5    PERSONAL SERVICES - PSYCHOLOGISTS nan nan nan ...\n",
       "8    REGULAR * nan COMMUNITY SERVICES nan nan nan C...\n",
       "Name: All, dtype: object"
      ]
     },
     "execution_count": 42,
     "metadata": {},
     "output_type": "execute_result"
    }
   ],
   "source": [
    "miced_data_invtransform['All'].head()"
   ]
  },
  {
   "cell_type": "code",
   "execution_count": 44,
   "metadata": {
    "ExecuteTime": {
     "end_time": "2018-12-02T03:22:32.214574Z",
     "start_time": "2018-12-02T03:22:30.120006Z"
    }
   },
   "outputs": [],
   "source": [
    "# split data into a trainin set (70%), validation set (15%) and blind (holdout) test set (15%)\n",
    "df_train, df_other = train_test_split(miced_data_invtransform, test_size=0.3, random_state=42)\n",
    "df_val, df_test = train_test_split(df_other, test_size=0.5, random_state=42)"
   ]
  },
  {
   "cell_type": "code",
   "execution_count": null,
   "metadata": {},
   "outputs": [],
   "source": []
  },
  {
   "cell_type": "markdown",
   "metadata": {},
   "source": [
    "### Using OneVsRestClassifier - MultinomialNB"
   ]
  },
  {
   "cell_type": "markdown",
   "metadata": {},
   "source": [
    "<u><b> OneVsRestClassifier </b></u>\n",
    "This algorithm compares every class with all the remaining classes, building a model for every class. If you have ten classes to guess, you have ten models. This approach relies on the OneVsRestClassifier class from Scikit-learn."
   ]
  },
  {
   "cell_type": "code",
   "execution_count": 194,
   "metadata": {
    "ExecuteTime": {
     "end_time": "2018-12-01T14:28:21.195638Z",
     "start_time": "2018-12-01T14:28:21.190623Z"
    }
   },
   "outputs": [],
   "source": [
    "NB_pipeline = Pipeline([\n",
    "                ('tfidf', TfidfVectorizer(stop_words=stop_words)),\n",
    "                ('clf', OneVsRestClassifier(MultinomialNB(\n",
    "                    fit_prior=True, class_prior=None))),\n",
    "            ])"
   ]
  },
  {
   "cell_type": "code",
   "execution_count": 195,
   "metadata": {
    "ExecuteTime": {
     "end_time": "2018-12-01T14:28:51.679877Z",
     "start_time": "2018-12-01T14:28:35.536314Z"
    }
   },
   "outputs": [
    {
     "data": {
      "text/plain": [
       "Pipeline(memory=None,\n",
       "     steps=[('tfidf', TfidfVectorizer(analyzer='word', binary=False, decode_error='strict',\n",
       "        dtype=<class 'numpy.int64'>, encoding='utf-8', input='content',\n",
       "        lowercase=True, max_df=1.0, max_features=None, min_df=1,\n",
       "        ngram_range=(1, 1), norm='l2', preprocessor=None, smooth_idf=True,\n",
       " ...assifier(estimator=MultinomialNB(alpha=1.0, class_prior=None, fit_prior=True),\n",
       "          n_jobs=1))])"
      ]
     },
     "execution_count": 195,
     "metadata": {},
     "output_type": "execute_result"
    }
   ],
   "source": [
    "NB_pipeline.fit(df_train['all'], df_train['Function'])"
   ]
  },
  {
   "cell_type": "code",
   "execution_count": 196,
   "metadata": {
    "ExecuteTime": {
     "end_time": "2018-12-01T14:29:00.826889Z",
     "start_time": "2018-12-01T14:28:57.842819Z"
    }
   },
   "outputs": [
    {
     "name": "stdout",
     "output_type": "stream",
     "text": [
      "Test accuracy is 0.853719063322341\n"
     ]
    }
   ],
   "source": [
    "prediction = NB_pipeline.predict(df_val['all'])\n",
    "print('Test accuracy is {}'.format( accuracy_score(df_val['Function'], prediction)))"
   ]
  },
  {
   "cell_type": "code",
   "execution_count": 203,
   "metadata": {
    "ExecuteTime": {
     "end_time": "2018-12-01T14:57:48.050841Z",
     "start_time": "2018-12-01T14:57:48.029785Z"
    }
   },
   "outputs": [
    {
     "data": {
      "text/html": [
       "<div>\n",
       "<style scoped>\n",
       "    .dataframe tbody tr th:only-of-type {\n",
       "        vertical-align: middle;\n",
       "    }\n",
       "\n",
       "    .dataframe tbody tr th {\n",
       "        vertical-align: top;\n",
       "    }\n",
       "\n",
       "    .dataframe thead th {\n",
       "        text-align: right;\n",
       "    }\n",
       "</style>\n",
       "<table border=\"1\" class=\"dataframe\">\n",
       "  <thead>\n",
       "    <tr style=\"text-align: right;\">\n",
       "      <th></th>\n",
       "      <th>Model</th>\n",
       "      <th>Hyper parameter tuning</th>\n",
       "      <th>Test Accuracy</th>\n",
       "    </tr>\n",
       "  </thead>\n",
       "  <tbody>\n",
       "    <tr>\n",
       "      <th>0</th>\n",
       "      <td>OneVsRest(MultiNB) - for Function Category</td>\n",
       "      <td>default</td>\n",
       "      <td>0.854</td>\n",
       "    </tr>\n",
       "  </tbody>\n",
       "</table>\n",
       "</div>"
      ],
      "text/plain": [
       "                                        Model Hyper parameter tuning  \\\n",
       "0  OneVsRest(MultiNB) - for Function Category                default   \n",
       "\n",
       "   Test Accuracy  \n",
       "0          0.854  "
      ]
     },
     "execution_count": 203,
     "metadata": {},
     "output_type": "execute_result"
    }
   ],
   "source": [
    "results.loc[len(results)] = [\"OneVsRest(MultiNB) - for Function Category\", \"default\", np.round(0.853719063322341, 3)]\n",
    "results"
   ]
  },
  {
   "cell_type": "code",
   "execution_count": 197,
   "metadata": {
    "ExecuteTime": {
     "end_time": "2018-12-01T14:29:11.990934Z",
     "start_time": "2018-12-01T14:29:11.982915Z"
    }
   },
   "outputs": [
    {
     "data": {
      "text/plain": [
       "array(['TEACHER COMPENSATION', 'INSTRUCTIONAL MATERIALS & SUPPLIES',\n",
       "       'STUDENT TRANSPORTATION', ..., 'TEACHER COMPENSATION',\n",
       "       'SCHOOL ADMINISTRATION', 'INSTRUCTIONAL MATERIALS & SUPPLIES'],\n",
       "      dtype='<U47')"
      ]
     },
     "execution_count": 197,
     "metadata": {},
     "output_type": "execute_result"
    }
   ],
   "source": [
    "prediction"
   ]
  },
  {
   "cell_type": "markdown",
   "metadata": {},
   "source": [
    "### Accuracy for all categories"
   ]
  },
  {
   "cell_type": "code",
   "execution_count": 198,
   "metadata": {
    "ExecuteTime": {
     "end_time": "2018-12-01T14:32:09.788407Z",
     "start_time": "2018-12-01T14:29:40.738898Z"
    }
   },
   "outputs": [
    {
     "name": "stdout",
     "output_type": "stream",
     "text": [
      "Category Function : Test accuracy is 0.85\n",
      "Category Use : Test accuracy is 0.89\n",
      "Category Sharing : Test accuracy is 0.89\n",
      "Category Reporting : Test accuracy is 0.92\n",
      "Category Student_Type : Test accuracy is 0.91\n",
      "Category Position_Type : Test accuracy is 0.88\n",
      "Category Object_Type : Test accuracy is 0.92\n",
      "Category Pre_K : Test accuracy is 0.97\n",
      "Category Operating_Status : Test accuracy is 0.96\n"
     ]
    }
   ],
   "source": [
    "for category in cat_list:\n",
    "    NB_pipeline.fit(df_train['all'], df_train[category])\n",
    "    prediction = NB_pipeline.predict(df_val['all'])\n",
    "    print('Category {} : Test accuracy is {}'.format(category, np.round(accuracy_score(df_val[category], prediction),2)))"
   ]
  },
  {
   "cell_type": "code",
   "execution_count": 204,
   "metadata": {
    "ExecuteTime": {
     "end_time": "2018-12-01T15:00:29.064565Z",
     "start_time": "2018-12-01T15:00:29.028466Z"
    }
   },
   "outputs": [
    {
     "data": {
      "text/html": [
       "<div>\n",
       "<style scoped>\n",
       "    .dataframe tbody tr th:only-of-type {\n",
       "        vertical-align: middle;\n",
       "    }\n",
       "\n",
       "    .dataframe tbody tr th {\n",
       "        vertical-align: top;\n",
       "    }\n",
       "\n",
       "    .dataframe thead th {\n",
       "        text-align: right;\n",
       "    }\n",
       "</style>\n",
       "<table border=\"1\" class=\"dataframe\">\n",
       "  <thead>\n",
       "    <tr style=\"text-align: right;\">\n",
       "      <th></th>\n",
       "      <th>Model</th>\n",
       "      <th>Hyper parameter tuning</th>\n",
       "      <th>Test Accuracy</th>\n",
       "    </tr>\n",
       "  </thead>\n",
       "  <tbody>\n",
       "    <tr>\n",
       "      <th>0</th>\n",
       "      <td>OneVsRest(MultiNB) - for Function Category</td>\n",
       "      <td>default</td>\n",
       "      <td>0.854</td>\n",
       "    </tr>\n",
       "    <tr>\n",
       "      <th>1</th>\n",
       "      <td>OneVsRest(MultiNB) - Avg All Category</td>\n",
       "      <td>default</td>\n",
       "      <td>0.910</td>\n",
       "    </tr>\n",
       "  </tbody>\n",
       "</table>\n",
       "</div>"
      ],
      "text/plain": [
       "                                        Model Hyper parameter tuning  \\\n",
       "0  OneVsRest(MultiNB) - for Function Category                default   \n",
       "1       OneVsRest(MultiNB) - Avg All Category                default   \n",
       "\n",
       "   Test Accuracy  \n",
       "0          0.854  \n",
       "1          0.910  "
      ]
     },
     "execution_count": 204,
     "metadata": {},
     "output_type": "execute_result"
    }
   ],
   "source": [
    "results.loc[len(results)] = [\"OneVsRest(MultiNB) - Avg All Category\", \"default\", np.round(np.average((0.85,0.89,0.89,0.92,0.91,0.88,0.92,0.97,0.96)), 3)]\n",
    "results"
   ]
  },
  {
   "cell_type": "markdown",
   "metadata": {},
   "source": [
    "### Using OneVsRestClassifier - Logistic Regression"
   ]
  },
  {
   "cell_type": "code",
   "execution_count": 199,
   "metadata": {
    "ExecuteTime": {
     "end_time": "2018-12-01T14:32:09.797431Z",
     "start_time": "2018-12-01T14:32:09.791415Z"
    }
   },
   "outputs": [],
   "source": [
    "LR_pipeline = Pipeline([\n",
    "                ('tfidf', TfidfVectorizer(stop_words=stop_words)),\n",
    "                ('clf', OneVsRestClassifier(LogisticRegression(solver='sag'), n_jobs=1)),\n",
    "            ])"
   ]
  },
  {
   "cell_type": "code",
   "execution_count": 200,
   "metadata": {
    "ExecuteTime": {
     "end_time": "2018-12-01T14:45:46.796011Z",
     "start_time": "2018-12-01T14:32:09.800439Z"
    }
   },
   "outputs": [
    {
     "name": "stdout",
     "output_type": "stream",
     "text": [
      "Category Function : Test accuracy is 0.95\n",
      "Category Use : Test accuracy is 0.96\n",
      "Category Sharing : Test accuracy is 0.96\n",
      "Category Reporting : Test accuracy is 0.97\n",
      "Category Student_Type : Test accuracy is 0.97\n",
      "Category Position_Type : Test accuracy is 0.97\n",
      "Category Object_Type : Test accuracy is 0.98\n",
      "Category Pre_K : Test accuracy is 0.99\n",
      "Category Operating_Status : Test accuracy is 0.98\n"
     ]
    }
   ],
   "source": [
    "for category in cat_list:\n",
    "    LR_pipeline.fit(df_train['all'], df_train[category])\n",
    "    prediction = LR_pipeline.predict(df_val['all'])\n",
    "    print('Category {} : Test accuracy is {}'.format(category, np.round(accuracy_score(df_val[category], prediction),2)))"
   ]
  },
  {
   "cell_type": "code",
   "execution_count": 205,
   "metadata": {
    "ExecuteTime": {
     "end_time": "2018-12-01T15:02:15.319139Z",
     "start_time": "2018-12-01T15:02:15.302092Z"
    }
   },
   "outputs": [
    {
     "data": {
      "text/html": [
       "<div>\n",
       "<style scoped>\n",
       "    .dataframe tbody tr th:only-of-type {\n",
       "        vertical-align: middle;\n",
       "    }\n",
       "\n",
       "    .dataframe tbody tr th {\n",
       "        vertical-align: top;\n",
       "    }\n",
       "\n",
       "    .dataframe thead th {\n",
       "        text-align: right;\n",
       "    }\n",
       "</style>\n",
       "<table border=\"1\" class=\"dataframe\">\n",
       "  <thead>\n",
       "    <tr style=\"text-align: right;\">\n",
       "      <th></th>\n",
       "      <th>Model</th>\n",
       "      <th>Hyper parameter tuning</th>\n",
       "      <th>Test Accuracy</th>\n",
       "    </tr>\n",
       "  </thead>\n",
       "  <tbody>\n",
       "    <tr>\n",
       "      <th>0</th>\n",
       "      <td>OneVsRest(MultiNB) - for Function Category</td>\n",
       "      <td>default</td>\n",
       "      <td>0.854</td>\n",
       "    </tr>\n",
       "    <tr>\n",
       "      <th>1</th>\n",
       "      <td>OneVsRest(MultiNB) - Avg All Category</td>\n",
       "      <td>default</td>\n",
       "      <td>0.910</td>\n",
       "    </tr>\n",
       "    <tr>\n",
       "      <th>2</th>\n",
       "      <td>OneVsRest(LogisticRegression) - Avg All Category</td>\n",
       "      <td>default</td>\n",
       "      <td>0.970</td>\n",
       "    </tr>\n",
       "  </tbody>\n",
       "</table>\n",
       "</div>"
      ],
      "text/plain": [
       "                                              Model Hyper parameter tuning  \\\n",
       "0        OneVsRest(MultiNB) - for Function Category                default   \n",
       "1             OneVsRest(MultiNB) - Avg All Category                default   \n",
       "2  OneVsRest(LogisticRegression) - Avg All Category                default   \n",
       "\n",
       "   Test Accuracy  \n",
       "0          0.854  \n",
       "1          0.910  \n",
       "2          0.970  "
      ]
     },
     "execution_count": 205,
     "metadata": {},
     "output_type": "execute_result"
    }
   ],
   "source": [
    "results.loc[len(results)] = [\"OneVsRest(LogisticRegression) - Avg All Category\", \"default\", np.round(np.average((0.95,0.96,0.96,0.97,0.97,0.97,0.98,0.99,0.98)), 3)]\n",
    "results"
   ]
  },
  {
   "cell_type": "code",
   "execution_count": 216,
   "metadata": {
    "ExecuteTime": {
     "end_time": "2018-12-01T16:25:14.359690Z",
     "start_time": "2018-12-01T16:25:14.349662Z"
    }
   },
   "outputs": [
    {
     "data": {
      "text/plain": [
       "(3, 51938)"
      ]
     },
     "execution_count": 216,
     "metadata": {},
     "output_type": "execute_result"
    }
   ],
   "source": [
    "model = LR_pipeline.named_steps[\"clf\"]\n",
    "model.coef_.shape"
   ]
  },
  {
   "cell_type": "markdown",
   "metadata": {},
   "source": [
    "# Significant Testing"
   ]
  },
  {
   "cell_type": "code",
   "execution_count": 1,
   "metadata": {},
   "outputs": [],
   "source": [
    "## still need to work on this"
   ]
  },
  {
   "cell_type": "code",
   "execution_count": null,
   "metadata": {},
   "outputs": [],
   "source": [
    "from sklearn.model_selection import cross_val_score\n",
    "from sklearn.ensemble import RandomForestClassifier\n",
    "from sklearn.naive_bayes import MultinomialNB\n",
    "from sklearn.metrics import accuracy_score\n",
    "from sklearn.multiclass import OneVsRestClassifier\n",
    "\n",
    "def display_scores(scores):\n",
    "    print(\"Scores:\", scores)\n",
    "    print(\"Mean:\", scores.mean())\n",
    "    print(\"Standard deviation:\", scores.std())\n",
    "\n",
    "# A sampling based bakeoff using *K-fold cross-validation*: \n",
    "\n",
    "# this bakeoff framework can be used for regression or classification\n",
    "#Control system is a logistic Regression with OneVsClassifier\n",
    "scores1 =[]\n",
    "#kFolds=10\n",
    "LR_clf = OneVsRestClassifier(LogisticRegression(solver='sag'), n_jobs=1)\n",
    "for category in cat_list:\n",
    "    LR_clf.fit(df_train['all'], df_train[category])\n",
    "    prediction = LR_clf.predict(df_val['all'])\n",
    "    accuracy1 = accuracy_score(prediction, df_val[category])\n",
    "    scores1.append(accuracy)   \n",
    "\n",
    "control = average_accuracy1 =scores.mean()\n",
    "display_scores(average_accuracy)\n",
    "\n",
    "#Treatment system is a Random Forest Classifier based \n",
    "scores2\n",
    "rf_clf = RandomForestRegressor(random_state=42)\n",
    "for category in cat_list:\n",
    "    LR_pipeline.fit(df_train['all'], df_train[category])\n",
    "    prediction = LR_clf.predict(df_val['all'])\n",
    "    accuracy2 = accuracy_score(prediction, df_val[category])\n",
    "    scores2.append(accuracy)   \n",
    "treatment = average_accuracy2 =scores2.mean()\n",
    "display_scores(average_accuracy2)\n",
    "\n",
    "#paired t-test; two-tailed p-value (aka two-sided)\n",
    "(t_score, p_value) = stats.ttest_rel(control, treatment)\n",
    "print(\"The p-value is %0.5f for a t-score of %0.5f.\" %(p_value, t_score))\n",
    "#\"The p-value is 0.00019 for a t-score of -4.28218.\" \n",
    "if pvalue > 0.05/2:  #Two sided \n",
    "    print('There is no significant difference between the two machine learning pipelines (Accept H0)')\n",
    "else:\n",
    "    print('The two machine learning pipelines are different (reject H0) \\n(t_score, p_value) = (%.2f, %.5f)'%(t_score, p_value) )\n",
    "    if t_score < 0.0:\n",
    "        print('Machine learning pipeline A is better than B')\n",
    "    else:\n",
    "        print('Machine learning pipeline B is better than A')"
   ]
  },
  {
   "cell_type": "markdown",
   "metadata": {},
   "source": [
    "# Hyperparamter Tuning \n",
    " (GRIDSEARCH)"
   ]
  },
  {
   "cell_type": "code",
   "execution_count": null,
   "metadata": {},
   "outputs": [],
   "source": []
  }
 ],
 "metadata": {
  "kernelspec": {
   "display_name": "Python 3",
   "language": "python",
   "name": "python3"
  },
  "language_info": {
   "codemirror_mode": {
    "name": "ipython",
    "version": 3
   },
   "file_extension": ".py",
   "mimetype": "text/x-python",
   "name": "python",
   "nbconvert_exporter": "python",
   "pygments_lexer": "ipython3",
   "version": "3.5.5"
  },
  "toc": {
   "base_numbering": 1,
   "nav_menu": {},
   "number_sections": true,
   "sideBar": true,
   "skip_h1_title": false,
   "title_cell": "Table of Contents",
   "title_sidebar": "Contents",
   "toc_cell": false,
   "toc_position": {
    "height": "calc(100% - 180px)",
    "left": "10px",
    "top": "150px",
    "width": "256px"
   },
   "toc_section_display": true,
   "toc_window_display": true
  }
 },
 "nbformat": 4,
 "nbformat_minor": 2
}
